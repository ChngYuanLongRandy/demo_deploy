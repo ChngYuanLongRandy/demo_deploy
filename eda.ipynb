{
 "cells": [
  {
   "cell_type": "markdown",
   "id": "af5233db-9edd-4002-8767-c8ac4d205af2",
   "metadata": {
    "tags": []
   },
   "source": [
    "# Objective"
   ]
  },
  {
   "cell_type": "markdown",
   "id": "0c70dd30-92c4-4de0-9a71-51af307f8f83",
   "metadata": {},
   "source": [
    "Our task is to predict survival of patients suffering from coronary artery disease(s) from the dataset given."
   ]
  },
  {
   "cell_type": "markdown",
   "id": "ede8c788-f2e6-4e81-bfe1-c1e89681a24e",
   "metadata": {},
   "source": [
    "I will explore the dataset to check\n",
    "- Features and the Target\n",
    "- Distribution of the data\n",
    "- Null/missing data (explicit or implicit)\n",
    "\n",
    "For our pipeline to work on future unseen data, it will need to be able to handle a variety of possible inputs. Knowing the training data will allow us to put in the transformation and imputations in order to preprocess the input data to be fed into the model for it to generate good predictions."
   ]
  },
  {
   "cell_type": "markdown",
   "id": "da00f6b3-a7a5-432b-afd1-ee17b40d3742",
   "metadata": {},
   "source": [
    "Having a good sense of the data given I will do the following based on what I understand about the data\n",
    "- feature engineering\n",
    "- feature selection\n",
    "\n",
    "Having too many features is not a good thing for a variety of reasons like overfitting on the data, training time and possibly performance of the model. I will try to see if I am able to reduce the dimensions of the features and select features to be in our model."
   ]
  },
  {
   "cell_type": "markdown",
   "id": "372a6a44-f36b-4026-a97a-c0e58f072080",
   "metadata": {},
   "source": [
    "Lastly I will \n",
    "- create pipelines that reflect the changes made (cleaning, feature engineering,etc) and scale numerical values and encode categorical values\n",
    "- come up with preliminary models \n",
    "- shortlist 2 from 5 models against validation data\n",
    "- attempt to reduce dimension of the dataset\n",
    "- hyper parameter tunning for shortlisted models"
   ]
  },
  {
   "cell_type": "markdown",
   "id": "609b133b-7991-44c1-9fd8-5a87c0b7760e",
   "metadata": {},
   "source": [
    "Out of the 2 I will choose 1 model to be deployed in production"
   ]
  },
  {
   "cell_type": "markdown",
   "id": "2b1fa754-4368-4220-a02c-5fcd616d8021",
   "metadata": {
    "tags": []
   },
   "source": [
    "# Imports"
   ]
  },
  {
   "cell_type": "code",
   "execution_count": 1,
   "id": "b68a2aad-138d-49bb-b6cf-c98f3adf8124",
   "metadata": {},
   "outputs": [],
   "source": [
    "# Imports\n",
    "import sqlite3 as sq3\n",
    "import numpy as np\n",
    "import pandas as pd\n",
    "import matplotlib.pyplot as plt\n",
    "import seaborn as sns\n",
    "\n",
    "# Setting constants here\n",
    "RANDOM_SEED = 42\n",
    "CV = 5\n",
    "TEST_RATIO = 0.5\n",
    "VAL_RATIO = 0.2\n",
    "DB_PATH = \"Data/survive.db\""
   ]
  },
  {
   "cell_type": "code",
   "execution_count": 2,
   "id": "325bc4cb-d0e9-4c32-9c7e-e68b959a412d",
   "metadata": {},
   "outputs": [],
   "source": [
    "# Reading from database\n",
    "con = sq3.Connection(DB_PATH)\n",
    "query = \"\"\"SELECT * FROM SURVIVE\"\"\"\n",
    "df = pd.read_sql(query, con)"
   ]
  },
  {
   "cell_type": "markdown",
   "id": "15d0c496-dee5-4b6d-b4d1-8223af79caad",
   "metadata": {
    "tags": []
   },
   "source": [
    "# EDA"
   ]
  },
  {
   "cell_type": "markdown",
   "id": "9ff161d5-2c80-486c-b8d8-d86b5d6ac7a5",
   "metadata": {},
   "source": [
    "| Feature | Description | Expected Value Type | Expected Example | \n",
    "| --- | --- | --- | --- |\n",
    "|ID|\tUnique ID for each patient| (int) | 1245 |\n",
    "|Survive\t| Whether Patient Survives, 0= No, 1=Yes| (int/boolean) | 0,1,Yes,No |\n",
    "| Diabetes | Diabetes condition of patient | (int/boolean) | yes, No| \n",
    "|Gender\t|Gender\t|  (int/boolean) | 0,1,M,F |\n",
    "|Smoke\t|Smoker\t| (int/boolean) | 0,1,Yes,No |\n",
    "|Age\t|Age of patient\t| (int) | 32 | \n",
    "|Ejection Fraction\t| Strength of heart\t| (float) | 0.5 to 0.75, bounded[0,1] |  \n",
    "|Sodium\t|level of sodium in blood serum (mg/dL)\t| (int) | 135-145 millimoles per litre (mmol/L) | \n",
    "|Creatinine\t|level of Creatinine in blood serum (md/dL)\t|  (int) | For adult men, 0.74 to 1.35 mg/dL , For adult women, 0.59 to 1.04 mg/dL |\n",
    "|Pletelets\t|Number of platelets in the blood serum (kilo-platelets/mL)\t| (int) | 150K to 450K platelets per microliter of blood |\n",
    "|Creatinine Phosphokinase|\tlevel of the enzyme in the blood (mcg/L)| (int) |  10 to 120 micrograms per liter (mcg/L)\n",
    "|Blood Pressure | level of blood pressure(mmHG) | (int) | systolic pressure of less than 120 and a diastolic pressure of less than 80 |\n",
    "|Hemoglobin| level of hemoglobin in blood (g/dL) | (float) | For men, 13.5 to 17.5 grams per deciliter. For women, 12.0 to 15.5 grams per deciliter|\n",
    "|Height| height of patient (cm)| (float) | 166cm |\n",
    "|Weight| weight of patient (kg) | (float) | 58kg |\n",
    "|Favourite Color | Patient's Favourite Color | (str) | blue | "
   ]
  },
  {
   "cell_type": "markdown",
   "id": "91c46939-040c-4f75-8a62-d00cc49f4290",
   "metadata": {},
   "source": [
    "Some research was needed to form some expected values and types of the features I am going to look at. This is important because some values can be invalid without some domain knowledge. For example in a HDB dataset, a land area can be entered as square feet when it is supposed to be in square meters. Only if you are aware of the typical HDB flat size will one be able to know if the land area has issues. So as much as I can, I will need to be able to detect them and impute them as best as I can. Expected value / sensible range for features like Creatinine and other medical terms can be found in google. However as the information gathered from the internet are for normal range of values whereas the dataset consist of data from patients (possibly abnormal range), the range of values can differ."
   ]
  },
  {
   "cell_type": "code",
   "execution_count": 3,
   "id": "efa0cecd-0c06-40bb-8658-a7bec0103e1c",
   "metadata": {},
   "outputs": [],
   "source": [
    "# making copy of dataframe just in case\n",
    "df_ori = df.copy()"
   ]
  },
  {
   "cell_type": "markdown",
   "id": "70b620b5-2dc9-41e3-a853-0d879895e4e5",
   "metadata": {},
   "source": [
    "Certain features like ID and favourite color has no bearing on the outcome of the patient's survivability so these will be dropped immediately.\n",
    "\n",
    "I am assuming here that the ID does not contain valuable information in it like how our NRIC is able to inform us the year of birth.\n",
    "\n",
    "On the color it is reasonable to assume it has no influence on survival."
   ]
  },
  {
   "cell_type": "code",
   "execution_count": 4,
   "id": "0bd03314-3f22-4845-b7cf-0216842308e1",
   "metadata": {},
   "outputs": [],
   "source": [
    "df.drop(columns=[\"ID\", \"Favorite color\"], inplace=True)"
   ]
  },
  {
   "cell_type": "code",
   "execution_count": 5,
   "id": "da80c34a-9ac9-4638-bc58-23ff57f6e3fa",
   "metadata": {},
   "outputs": [
    {
     "name": "stdout",
     "output_type": "stream",
     "text": [
      "<class 'pandas.core.frame.DataFrame'>\n",
      "RangeIndex: 15000 entries, 0 to 14999\n",
      "Data columns (total 14 columns):\n",
      " #   Column                    Non-Null Count  Dtype  \n",
      "---  ------                    --------------  -----  \n",
      " 0   Survive                   15000 non-null  object \n",
      " 1   Gender                    15000 non-null  object \n",
      " 2   Smoke                     15000 non-null  object \n",
      " 3   Diabetes                  15000 non-null  object \n",
      " 4   Age                       15000 non-null  int64  \n",
      " 5   Ejection Fraction         15000 non-null  object \n",
      " 6   Sodium                    15000 non-null  int64  \n",
      " 7   Creatinine                14501 non-null  float64\n",
      " 8   Pletelets                 15000 non-null  float64\n",
      " 9   Creatinine phosphokinase  15000 non-null  int64  \n",
      " 10  Blood Pressure            15000 non-null  int64  \n",
      " 11  Hemoglobin                15000 non-null  float64\n",
      " 12  Height                    15000 non-null  int64  \n",
      " 13  Weight                    15000 non-null  int64  \n",
      "dtypes: float64(3), int64(6), object(5)\n",
      "memory usage: 1.6+ MB\n"
     ]
    }
   ],
   "source": [
    "# Checking the dtype of features\n",
    "df.info()"
   ]
  },
  {
   "cell_type": "markdown",
   "id": "9c9c635b-1b6a-4e25-ad74-b9f5ef904d26",
   "metadata": {},
   "source": [
    "Survive is the target, we have a bunch of features that are strings, some are integers and a couple of floats. We can see that feature 'Creainine' already has some explicit null values. We will check later to see if there are any implicit null values."
   ]
  },
  {
   "cell_type": "code",
   "execution_count": 6,
   "id": "4e5446a7-6e8c-4aef-8e9c-46e77e4bde89",
   "metadata": {},
   "outputs": [
    {
     "data": {
      "text/html": [
       "<div>\n",
       "<style scoped>\n",
       "    .dataframe tbody tr th:only-of-type {\n",
       "        vertical-align: middle;\n",
       "    }\n",
       "\n",
       "    .dataframe tbody tr th {\n",
       "        vertical-align: top;\n",
       "    }\n",
       "\n",
       "    .dataframe thead th {\n",
       "        text-align: right;\n",
       "    }\n",
       "</style>\n",
       "<table border=\"1\" class=\"dataframe\">\n",
       "  <thead>\n",
       "    <tr style=\"text-align: right;\">\n",
       "      <th></th>\n",
       "      <th>count</th>\n",
       "      <th>mean</th>\n",
       "      <th>std</th>\n",
       "      <th>min</th>\n",
       "      <th>25%</th>\n",
       "      <th>50%</th>\n",
       "      <th>75%</th>\n",
       "      <th>max</th>\n",
       "    </tr>\n",
       "  </thead>\n",
       "  <tbody>\n",
       "    <tr>\n",
       "      <th>Age</th>\n",
       "      <td>15000.0</td>\n",
       "      <td>57.428467</td>\n",
       "      <td>23.411173</td>\n",
       "      <td>-95.0</td>\n",
       "      <td>50.0</td>\n",
       "      <td>60.0</td>\n",
       "      <td>70.0</td>\n",
       "      <td>95.0</td>\n",
       "    </tr>\n",
       "    <tr>\n",
       "      <th>Sodium</th>\n",
       "      <td>15000.0</td>\n",
       "      <td>136.604267</td>\n",
       "      <td>4.364890</td>\n",
       "      <td>113.0</td>\n",
       "      <td>134.0</td>\n",
       "      <td>137.0</td>\n",
       "      <td>140.0</td>\n",
       "      <td>148.0</td>\n",
       "    </tr>\n",
       "    <tr>\n",
       "      <th>Creatinine</th>\n",
       "      <td>14501.0</td>\n",
       "      <td>1.410195</td>\n",
       "      <td>1.044535</td>\n",
       "      <td>0.5</td>\n",
       "      <td>0.9</td>\n",
       "      <td>1.1</td>\n",
       "      <td>1.4</td>\n",
       "      <td>9.4</td>\n",
       "    </tr>\n",
       "    <tr>\n",
       "      <th>Pletelets</th>\n",
       "      <td>15000.0</td>\n",
       "      <td>263096.016490</td>\n",
       "      <td>98056.330340</td>\n",
       "      <td>25100.0</td>\n",
       "      <td>211000.0</td>\n",
       "      <td>262000.0</td>\n",
       "      <td>304000.0</td>\n",
       "      <td>850000.0</td>\n",
       "    </tr>\n",
       "    <tr>\n",
       "      <th>Creatinine phosphokinase</th>\n",
       "      <td>15000.0</td>\n",
       "      <td>580.151800</td>\n",
       "      <td>955.418765</td>\n",
       "      <td>23.0</td>\n",
       "      <td>115.0</td>\n",
       "      <td>250.0</td>\n",
       "      <td>582.0</td>\n",
       "      <td>7861.0</td>\n",
       "    </tr>\n",
       "    <tr>\n",
       "      <th>Blood Pressure</th>\n",
       "      <td>15000.0</td>\n",
       "      <td>103.676667</td>\n",
       "      <td>39.700138</td>\n",
       "      <td>40.0</td>\n",
       "      <td>70.0</td>\n",
       "      <td>100.0</td>\n",
       "      <td>137.0</td>\n",
       "      <td>179.0</td>\n",
       "    </tr>\n",
       "    <tr>\n",
       "      <th>Hemoglobin</th>\n",
       "      <td>15000.0</td>\n",
       "      <td>12.910667</td>\n",
       "      <td>2.500152</td>\n",
       "      <td>9.0</td>\n",
       "      <td>10.7</td>\n",
       "      <td>12.7</td>\n",
       "      <td>15.1</td>\n",
       "      <td>17.5</td>\n",
       "    </tr>\n",
       "    <tr>\n",
       "      <th>Height</th>\n",
       "      <td>15000.0</td>\n",
       "      <td>159.475200</td>\n",
       "      <td>17.344439</td>\n",
       "      <td>130.0</td>\n",
       "      <td>144.0</td>\n",
       "      <td>160.0</td>\n",
       "      <td>174.0</td>\n",
       "      <td>189.0</td>\n",
       "    </tr>\n",
       "    <tr>\n",
       "      <th>Weight</th>\n",
       "      <td>15000.0</td>\n",
       "      <td>69.340467</td>\n",
       "      <td>25.298287</td>\n",
       "      <td>19.0</td>\n",
       "      <td>50.0</td>\n",
       "      <td>66.0</td>\n",
       "      <td>87.0</td>\n",
       "      <td>141.0</td>\n",
       "    </tr>\n",
       "  </tbody>\n",
       "</table>\n",
       "</div>"
      ],
      "text/plain": [
       "                            count           mean           std      min  \\\n",
       "Age                       15000.0      57.428467     23.411173    -95.0   \n",
       "Sodium                    15000.0     136.604267      4.364890    113.0   \n",
       "Creatinine                14501.0       1.410195      1.044535      0.5   \n",
       "Pletelets                 15000.0  263096.016490  98056.330340  25100.0   \n",
       "Creatinine phosphokinase  15000.0     580.151800    955.418765     23.0   \n",
       "Blood Pressure            15000.0     103.676667     39.700138     40.0   \n",
       "Hemoglobin                15000.0      12.910667      2.500152      9.0   \n",
       "Height                    15000.0     159.475200     17.344439    130.0   \n",
       "Weight                    15000.0      69.340467     25.298287     19.0   \n",
       "\n",
       "                               25%       50%       75%       max  \n",
       "Age                           50.0      60.0      70.0      95.0  \n",
       "Sodium                       134.0     137.0     140.0     148.0  \n",
       "Creatinine                     0.9       1.1       1.4       9.4  \n",
       "Pletelets                 211000.0  262000.0  304000.0  850000.0  \n",
       "Creatinine phosphokinase     115.0     250.0     582.0    7861.0  \n",
       "Blood Pressure                70.0     100.0     137.0     179.0  \n",
       "Hemoglobin                    10.7      12.7      15.1      17.5  \n",
       "Height                       144.0     160.0     174.0     189.0  \n",
       "Weight                        50.0      66.0      87.0     141.0  "
      ]
     },
     "execution_count": 6,
     "metadata": {},
     "output_type": "execute_result"
    }
   ],
   "source": [
    "df.describe().T"
   ]
  },
  {
   "cell_type": "markdown",
   "id": "dd3ba552-1d9f-4864-a3ca-b4d5ddc2e750",
   "metadata": {},
   "source": [
    "Some values already seem suspect like the height and weight. We can also see that age has negative values which is impossible. We will look at the distributions later and some sample values later."
   ]
  },
  {
   "cell_type": "code",
   "execution_count": 7,
   "id": "2d981b07-39ea-4988-a357-ca43463264fd",
   "metadata": {},
   "outputs": [
    {
     "data": {
      "text/html": [
       "<div>\n",
       "<style scoped>\n",
       "    .dataframe tbody tr th:only-of-type {\n",
       "        vertical-align: middle;\n",
       "    }\n",
       "\n",
       "    .dataframe tbody tr th {\n",
       "        vertical-align: top;\n",
       "    }\n",
       "\n",
       "    .dataframe thead th {\n",
       "        text-align: right;\n",
       "    }\n",
       "</style>\n",
       "<table border=\"1\" class=\"dataframe\">\n",
       "  <thead>\n",
       "    <tr style=\"text-align: right;\">\n",
       "      <th></th>\n",
       "      <th>count</th>\n",
       "      <th>unique</th>\n",
       "      <th>top</th>\n",
       "      <th>freq</th>\n",
       "    </tr>\n",
       "  </thead>\n",
       "  <tbody>\n",
       "    <tr>\n",
       "      <th>Survive</th>\n",
       "      <td>15000</td>\n",
       "      <td>4</td>\n",
       "      <td>0</td>\n",
       "      <td>9581</td>\n",
       "    </tr>\n",
       "    <tr>\n",
       "      <th>Gender</th>\n",
       "      <td>15000</td>\n",
       "      <td>2</td>\n",
       "      <td>Male</td>\n",
       "      <td>9757</td>\n",
       "    </tr>\n",
       "    <tr>\n",
       "      <th>Smoke</th>\n",
       "      <td>15000</td>\n",
       "      <td>4</td>\n",
       "      <td>No</td>\n",
       "      <td>9710</td>\n",
       "    </tr>\n",
       "    <tr>\n",
       "      <th>Diabetes</th>\n",
       "      <td>15000</td>\n",
       "      <td>3</td>\n",
       "      <td>Normal</td>\n",
       "      <td>8789</td>\n",
       "    </tr>\n",
       "    <tr>\n",
       "      <th>Ejection Fraction</th>\n",
       "      <td>15000</td>\n",
       "      <td>5</td>\n",
       "      <td>Low</td>\n",
       "      <td>12734</td>\n",
       "    </tr>\n",
       "  </tbody>\n",
       "</table>\n",
       "</div>"
      ],
      "text/plain": [
       "                   count unique     top   freq\n",
       "Survive            15000      4       0   9581\n",
       "Gender             15000      2    Male   9757\n",
       "Smoke              15000      4      No   9710\n",
       "Diabetes           15000      3  Normal   8789\n",
       "Ejection Fraction  15000      5     Low  12734"
      ]
     },
     "execution_count": 7,
     "metadata": {},
     "output_type": "execute_result"
    }
   ],
   "source": [
    "df.select_dtypes(include=\"object\").describe().T"
   ]
  },
  {
   "cell_type": "markdown",
   "id": "c855befb-80a4-46ce-9ae6-063682adb656",
   "metadata": {},
   "source": [
    "Looking at categorical values now, survive is our target variable and it has 4 unique values which is not what we are expecting. Smoke has similar quality. Ejection fraction was expected as a float but was given as a categorical. We will need to inspect them further."
   ]
  },
  {
   "cell_type": "code",
   "execution_count": 8,
   "id": "0875f371-5ea7-4860-b62b-119edbbe97cf",
   "metadata": {
    "tags": []
   },
   "outputs": [
    {
     "data": {
      "text/html": [
       "<div>\n",
       "<style scoped>\n",
       "    .dataframe tbody tr th:only-of-type {\n",
       "        vertical-align: middle;\n",
       "    }\n",
       "\n",
       "    .dataframe tbody tr th {\n",
       "        vertical-align: top;\n",
       "    }\n",
       "\n",
       "    .dataframe thead th {\n",
       "        text-align: right;\n",
       "    }\n",
       "</style>\n",
       "<table border=\"1\" class=\"dataframe\">\n",
       "  <thead>\n",
       "    <tr style=\"text-align: right;\">\n",
       "      <th></th>\n",
       "      <th>Survive</th>\n",
       "      <th>Gender</th>\n",
       "      <th>Smoke</th>\n",
       "      <th>Diabetes</th>\n",
       "      <th>Age</th>\n",
       "      <th>Ejection Fraction</th>\n",
       "      <th>Sodium</th>\n",
       "      <th>Creatinine</th>\n",
       "      <th>Pletelets</th>\n",
       "      <th>Creatinine phosphokinase</th>\n",
       "      <th>Blood Pressure</th>\n",
       "      <th>Hemoglobin</th>\n",
       "      <th>Height</th>\n",
       "      <th>Weight</th>\n",
       "    </tr>\n",
       "  </thead>\n",
       "  <tbody>\n",
       "    <tr>\n",
       "      <th>0</th>\n",
       "      <td>0</td>\n",
       "      <td>Male</td>\n",
       "      <td>Yes</td>\n",
       "      <td>Normal</td>\n",
       "      <td>50</td>\n",
       "      <td>Low</td>\n",
       "      <td>141</td>\n",
       "      <td>0.70</td>\n",
       "      <td>266000.0</td>\n",
       "      <td>185</td>\n",
       "      <td>105</td>\n",
       "      <td>12.3</td>\n",
       "      <td>180</td>\n",
       "      <td>93</td>\n",
       "    </tr>\n",
       "    <tr>\n",
       "      <th>1</th>\n",
       "      <td>1</td>\n",
       "      <td>Male</td>\n",
       "      <td>No</td>\n",
       "      <td>Normal</td>\n",
       "      <td>75</td>\n",
       "      <td>Low</td>\n",
       "      <td>134</td>\n",
       "      <td>2.50</td>\n",
       "      <td>224000.0</td>\n",
       "      <td>99</td>\n",
       "      <td>162</td>\n",
       "      <td>13.0</td>\n",
       "      <td>140</td>\n",
       "      <td>47</td>\n",
       "    </tr>\n",
       "    <tr>\n",
       "      <th>2</th>\n",
       "      <td>1</td>\n",
       "      <td>Female</td>\n",
       "      <td>No</td>\n",
       "      <td>Pre-diabetes</td>\n",
       "      <td>80</td>\n",
       "      <td>Low</td>\n",
       "      <td>135</td>\n",
       "      <td>1.30</td>\n",
       "      <td>192000.0</td>\n",
       "      <td>776</td>\n",
       "      <td>179</td>\n",
       "      <td>12.4</td>\n",
       "      <td>150</td>\n",
       "      <td>61</td>\n",
       "    </tr>\n",
       "    <tr>\n",
       "      <th>3</th>\n",
       "      <td>0</td>\n",
       "      <td>Male</td>\n",
       "      <td>No</td>\n",
       "      <td>Normal</td>\n",
       "      <td>-60</td>\n",
       "      <td>Low</td>\n",
       "      <td>136</td>\n",
       "      <td>0.90</td>\n",
       "      <td>228000.0</td>\n",
       "      <td>2261</td>\n",
       "      <td>136</td>\n",
       "      <td>15.3</td>\n",
       "      <td>130</td>\n",
       "      <td>48</td>\n",
       "    </tr>\n",
       "    <tr>\n",
       "      <th>4</th>\n",
       "      <td>0</td>\n",
       "      <td>Female</td>\n",
       "      <td>No</td>\n",
       "      <td>Normal</td>\n",
       "      <td>70</td>\n",
       "      <td>Low</td>\n",
       "      <td>141</td>\n",
       "      <td>0.90</td>\n",
       "      <td>358000.0</td>\n",
       "      <td>1202</td>\n",
       "      <td>171</td>\n",
       "      <td>13.3</td>\n",
       "      <td>177</td>\n",
       "      <td>64</td>\n",
       "    </tr>\n",
       "    <tr>\n",
       "      <th>5</th>\n",
       "      <td>1</td>\n",
       "      <td>Male</td>\n",
       "      <td>No</td>\n",
       "      <td>Normal</td>\n",
       "      <td>55</td>\n",
       "      <td>Low</td>\n",
       "      <td>138</td>\n",
       "      <td>1.10</td>\n",
       "      <td>314000.0</td>\n",
       "      <td>2017</td>\n",
       "      <td>88</td>\n",
       "      <td>16.5</td>\n",
       "      <td>176</td>\n",
       "      <td>58</td>\n",
       "    </tr>\n",
       "    <tr>\n",
       "      <th>6</th>\n",
       "      <td>1</td>\n",
       "      <td>Male</td>\n",
       "      <td>No</td>\n",
       "      <td>Normal</td>\n",
       "      <td>75</td>\n",
       "      <td>Low</td>\n",
       "      <td>134</td>\n",
       "      <td>2.50</td>\n",
       "      <td>224000.0</td>\n",
       "      <td>99</td>\n",
       "      <td>164</td>\n",
       "      <td>16.3</td>\n",
       "      <td>172</td>\n",
       "      <td>70</td>\n",
       "    </tr>\n",
       "    <tr>\n",
       "      <th>7</th>\n",
       "      <td>0</td>\n",
       "      <td>Female</td>\n",
       "      <td>No</td>\n",
       "      <td>Normal</td>\n",
       "      <td>65</td>\n",
       "      <td>Low</td>\n",
       "      <td>139</td>\n",
       "      <td>1.70</td>\n",
       "      <td>294000.0</td>\n",
       "      <td>326</td>\n",
       "      <td>82</td>\n",
       "      <td>14.1</td>\n",
       "      <td>167</td>\n",
       "      <td>50</td>\n",
       "    </tr>\n",
       "    <tr>\n",
       "      <th>8</th>\n",
       "      <td>No</td>\n",
       "      <td>Female</td>\n",
       "      <td>No</td>\n",
       "      <td>Pre-diabetes</td>\n",
       "      <td>60</td>\n",
       "      <td>Low</td>\n",
       "      <td>140</td>\n",
       "      <td>0.75</td>\n",
       "      <td>228000.0</td>\n",
       "      <td>96</td>\n",
       "      <td>83</td>\n",
       "      <td>15.5</td>\n",
       "      <td>176</td>\n",
       "      <td>94</td>\n",
       "    </tr>\n",
       "    <tr>\n",
       "      <th>9</th>\n",
       "      <td>1</td>\n",
       "      <td>Female</td>\n",
       "      <td>No</td>\n",
       "      <td>Normal</td>\n",
       "      <td>60</td>\n",
       "      <td>Low</td>\n",
       "      <td>127</td>\n",
       "      <td>1.70</td>\n",
       "      <td>62000.0</td>\n",
       "      <td>166</td>\n",
       "      <td>59</td>\n",
       "      <td>12.3</td>\n",
       "      <td>156</td>\n",
       "      <td>47</td>\n",
       "    </tr>\n",
       "  </tbody>\n",
       "</table>\n",
       "</div>"
      ],
      "text/plain": [
       "  Survive  Gender Smoke      Diabetes  Age Ejection Fraction  Sodium  \\\n",
       "0       0    Male   Yes        Normal   50               Low     141   \n",
       "1       1    Male    No        Normal   75               Low     134   \n",
       "2       1  Female    No  Pre-diabetes   80               Low     135   \n",
       "3       0    Male    No        Normal  -60               Low     136   \n",
       "4       0  Female    No        Normal   70               Low     141   \n",
       "5       1    Male    No        Normal   55               Low     138   \n",
       "6       1    Male    No        Normal   75               Low     134   \n",
       "7       0  Female    No        Normal   65               Low     139   \n",
       "8      No  Female    No  Pre-diabetes   60               Low     140   \n",
       "9       1  Female    No        Normal   60               Low     127   \n",
       "\n",
       "   Creatinine  Pletelets  Creatinine phosphokinase  Blood Pressure  \\\n",
       "0        0.70   266000.0                       185             105   \n",
       "1        2.50   224000.0                        99             162   \n",
       "2        1.30   192000.0                       776             179   \n",
       "3        0.90   228000.0                      2261             136   \n",
       "4        0.90   358000.0                      1202             171   \n",
       "5        1.10   314000.0                      2017              88   \n",
       "6        2.50   224000.0                        99             164   \n",
       "7        1.70   294000.0                       326              82   \n",
       "8        0.75   228000.0                        96              83   \n",
       "9        1.70    62000.0                       166              59   \n",
       "\n",
       "   Hemoglobin  Height  Weight  \n",
       "0        12.3     180      93  \n",
       "1        13.0     140      47  \n",
       "2        12.4     150      61  \n",
       "3        15.3     130      48  \n",
       "4        13.3     177      64  \n",
       "5        16.5     176      58  \n",
       "6        16.3     172      70  \n",
       "7        14.1     167      50  \n",
       "8        15.5     176      94  \n",
       "9        12.3     156      47  "
      ]
     },
     "execution_count": 8,
     "metadata": {},
     "output_type": "execute_result"
    }
   ],
   "source": [
    "df.head(10)"
   ]
  },
  {
   "cell_type": "markdown",
   "id": "51ce3d50-b040-4277-8c85-d565575f388b",
   "metadata": {},
   "source": [
    "We see age containing negatives which was already spotted earlier."
   ]
  },
  {
   "cell_type": "code",
   "execution_count": 9,
   "id": "1086f5de-4b2b-4b83-bbdd-a4258124f0b0",
   "metadata": {},
   "outputs": [
    {
     "data": {
      "image/png": "[encoded data removed]",
      "text/plain": [
       "<Figure size 432x288 with 1 Axes>"
      ]
     },
     "metadata": {
      "needs_background": "light"
     },
     "output_type": "display_data"
    },
    {
     "data": {
      "image/png": "[encoded data removed]",
      "text/plain": [
       "<Figure size 432x288 with 1 Axes>"
      ]
     },
     "metadata": {
      "needs_background": "light"
     },
     "output_type": "display_data"
    },
    {
     "data": {
      "image/png": "[encoded data removed]",
      "text/plain": [
       "<Figure size 432x288 with 1 Axes>"
      ]
     },
     "metadata": {
      "needs_background": "light"
     },
     "output_type": "display_data"
    },
    {
     "data": {
      "image/png": "[encoded data removed]",
      "text/plain": [
       "<Figure size 432x288 with 1 Axes>"
      ]
     },
     "metadata": {
      "needs_background": "light"
     },
     "output_type": "display_data"
    },
    {
     "data": {
      "image/png": "[encoded data removed]",
      "text/plain": [
       "<Figure size 432x288 with 1 Axes>"
      ]
     },
     "metadata": {
      "needs_background": "light"
     },
     "output_type": "display_data"
    }
   ],
   "source": [
    "for col in df.select_dtypes(include=\"object\"):\n",
    "    df[col].value_counts().plot(kind=\"bar\")\n",
    "    df[col].value_counts()\n",
    "    plt.title(col)\n",
    "    plt.show()"
   ]
  },
  {
   "cell_type": "markdown",
   "id": "5d516fd1-9133-4090-8e2b-46bdd64524a5",
   "metadata": {},
   "source": [
    "We have a closer look at the categorical features. Our target feature is still binary, we just need to transform the string into numbers. The same can be done to smoke. Ejection fraction will also need some cleaning. At least our target is not severely imbalanced, which is a good thing. Otherwise I may need to oversample or undersample depending on the results."
   ]
  },
  {
   "cell_type": "code",
   "execution_count": 10,
   "id": "2bef4dd8-e316-4e82-a60e-437120cd950b",
   "metadata": {},
   "outputs": [
    {
     "data": {
      "text/plain": [
       "array([[<AxesSubplot:title={'center':'Age'}>,\n",
       "        <AxesSubplot:title={'center':'Sodium'}>,\n",
       "        <AxesSubplot:title={'center':'Creatinine'}>],\n",
       "       [<AxesSubplot:title={'center':'Pletelets'}>,\n",
       "        <AxesSubplot:title={'center':'Creatinine phosphokinase'}>,\n",
       "        <AxesSubplot:title={'center':'Blood Pressure'}>],\n",
       "       [<AxesSubplot:title={'center':'Hemoglobin'}>,\n",
       "        <AxesSubplot:title={'center':'Height'}>,\n",
       "        <AxesSubplot:title={'center':'Weight'}>]], dtype=object)"
      ]
     },
     "execution_count": 10,
     "metadata": {},
     "output_type": "execute_result"
    },
    {
     "data": {
      "image/png": "[encoded data removed]",
      "text/plain": [
       "<Figure size 1440x1440 with 9 Axes>"
      ]
     },
     "metadata": {
      "needs_background": "light"
     },
     "output_type": "display_data"
    }
   ],
   "source": [
    "df.hist(figsize=(20, 20))"
   ]
  },
  {
   "cell_type": "markdown",
   "id": "8fa98302-c495-4a2b-8d90-fb084c1546cd",
   "metadata": {},
   "source": [
    "Looking at numerical features now, we have already seen that the age has some invalid values. My assumption here is that the value is correct but the sign is flipped. Some of the features look normal/guassian but others are tail heavy. Height and BP has a uniform distribution"
   ]
  },
  {
   "cell_type": "code",
   "execution_count": 11,
   "id": "62662b82-38e9-49e1-a77e-e4836d0791d8",
   "metadata": {},
   "outputs": [
    {
     "data": {
      "text/plain": [
       "['ID',\n",
       " 'Survive',\n",
       " 'Gender',\n",
       " 'Smoke',\n",
       " 'Diabetes',\n",
       " 'Age',\n",
       " 'Ejection Fraction',\n",
       " 'Sodium',\n",
       " 'Creatinine',\n",
       " 'Pletelets',\n",
       " 'Creatinine phosphokinase',\n",
       " 'Blood Pressure',\n",
       " 'Hemoglobin',\n",
       " 'Height',\n",
       " 'Weight',\n",
       " 'Favorite color']"
      ]
     },
     "execution_count": 11,
     "metadata": {},
     "output_type": "execute_result"
    }
   ],
   "source": [
    "df_ori.columns.to_list()"
   ]
  },
  {
   "cell_type": "markdown",
   "id": "5da21461-0376-4654-82c4-bc2b40dfa5c8",
   "metadata": {},
   "source": [
    "| Feature | Observations | \n",
    "| --- | --- | \n",
    "|Survive |\tmixed types present : 0,1, yes , no| \n",
    "|Gender | Seems okay|\n",
    "|Smoke | inconsistent case e.g:No vs NO|\n",
    "|Diabetes|Seems okay|\n",
    "|Age| Some values of age appears to be invalid (min -95?).I will assume that the negative sign is a typo or some calculation error but the value is correct|\n",
    "|Ejection Fraction|Categories are inconsistent|\n",
    "|Sodium|Sodium appears to be in range, with some outliers|\n",
    "|Creatinine| Outliers, only feature with explicit na values|\n",
    "|Pletelets |Seems okay|\n",
    "|Creatinine phosphokinase (CK)| Some outliers|\n",
    "|Blood Pressure(BP)|Blood pressure is typically measured with 2 set of values, I'll assume it is measuring one consistently|\n",
    "|Hemoglobin|Seems okay|\n",
    "|Height|Lower end of height appears to be low considering age of patients|\n",
    "|Weight|Some values of weight appears to be invalid (min 19kg?)|"
   ]
  },
  {
   "cell_type": "markdown",
   "id": "c85c716b-5d38-43f5-97c1-05bd4e406986",
   "metadata": {
    "tags": []
   },
   "source": [
    "# Cleaning up the dataset"
   ]
  },
  {
   "cell_type": "markdown",
   "id": "df66123d-2de6-4285-be2f-bad83b5a6a80",
   "metadata": {},
   "source": [
    "Based on the observations above, we will clean up the features one by one in the sequence they appear in the columns starting with the target."
   ]
  },
  {
   "cell_type": "markdown",
   "id": "2bb51fbc-52a1-4953-8ab5-c9a017ad1469",
   "metadata": {
    "tags": []
   },
   "source": [
    "## Target - Survive"
   ]
  },
  {
   "cell_type": "markdown",
   "id": "144972ae-a530-4462-9b42-3c2aa37b4f35",
   "metadata": {},
   "source": [
    "Problems\n",
    "- mixed types present : 0,1, yes , no"
   ]
  },
  {
   "cell_type": "markdown",
   "id": "d88a5135-445e-4604-b8b7-379461bfd413",
   "metadata": {},
   "source": [
    "For survive it is stated that if the patient survives: 0 = No , 1 = Yes, hence we will replace No to 0 and Yes to 1 instead of 0 to No and 1 to Yes since we will encode them to numbers anyway"
   ]
  },
  {
   "cell_type": "code",
   "execution_count": 12,
   "id": "07f55f47-b07d-4347-8198-480c4ff704f5",
   "metadata": {},
   "outputs": [
    {
     "data": {
      "text/plain": [
       "0      9581\n",
       "1      4552\n",
       "No      604\n",
       "Yes     263\n",
       "Name: Survive, dtype: int64"
      ]
     },
     "execution_count": 12,
     "metadata": {},
     "output_type": "execute_result"
    }
   ],
   "source": [
    "df.Survive.value_counts()"
   ]
  },
  {
   "cell_type": "code",
   "execution_count": 13,
   "id": "beaee161-744b-42ed-9f66-ae9255c97444",
   "metadata": {},
   "outputs": [],
   "source": [
    "df.Survive = df.Survive.str.replace(\"No\", \"0\").replace(\"Yes\", \"1\")"
   ]
  },
  {
   "cell_type": "code",
   "execution_count": 14,
   "id": "849fe07b-b8ef-43dd-a30b-dc4c6a4b7dbd",
   "metadata": {},
   "outputs": [
    {
     "data": {
      "text/plain": [
       "0    0.679\n",
       "1    0.321\n",
       "Name: Survive, dtype: float64"
      ]
     },
     "execution_count": 14,
     "metadata": {},
     "output_type": "execute_result"
    }
   ],
   "source": [
    "df.Survive.value_counts(normalize=True)"
   ]
  },
  {
   "cell_type": "code",
   "execution_count": 15,
   "id": "3506abbb-a389-4c0b-9c85-916b055f7e9d",
   "metadata": {},
   "outputs": [],
   "source": [
    "# Convert them to integer\n",
    "df.Survive = df.Survive.astype(\"int\")"
   ]
  },
  {
   "cell_type": "markdown",
   "id": "e0505ca8-f596-4b66-8958-e1f6f873427c",
   "metadata": {},
   "source": [
    "The Dataset is not too imbalanced like 0.9 against 0.1."
   ]
  },
  {
   "cell_type": "markdown",
   "id": "bb35f437-1374-48c9-8718-7f49abab3b63",
   "metadata": {
    "tags": []
   },
   "source": [
    "## Gender"
   ]
  },
  {
   "cell_type": "markdown",
   "id": "a962cea8-42cb-42ca-8830-f454bf3fdda8",
   "metadata": {},
   "source": [
    "Gender seems okay"
   ]
  },
  {
   "cell_type": "code",
   "execution_count": 16,
   "id": "52ed5f42-690a-4184-a255-3bdf138f03a6",
   "metadata": {},
   "outputs": [
    {
     "data": {
      "text/plain": [
       "Male      0.650467\n",
       "Female    0.349533\n",
       "Name: Gender, dtype: float64"
      ]
     },
     "execution_count": 16,
     "metadata": {},
     "output_type": "execute_result"
    }
   ],
   "source": [
    "df.Gender.value_counts(normalize=True)"
   ]
  },
  {
   "cell_type": "markdown",
   "id": "f01d5155-7987-4df6-8110-ce4a594435fb",
   "metadata": {
    "tags": []
   },
   "source": [
    "## Smoker"
   ]
  },
  {
   "cell_type": "markdown",
   "id": "c0324fe0-f06d-4dd6-8dc7-863413c164f9",
   "metadata": {},
   "source": [
    "Problem: inconsistent case No vs NO"
   ]
  },
  {
   "cell_type": "code",
   "execution_count": 17,
   "id": "6871c859-05e7-46a8-b66b-f5cd6e38891f",
   "metadata": {},
   "outputs": [
    {
     "data": {
      "text/plain": [
       "No     9710\n",
       "Yes    4707\n",
       "NO      399\n",
       "YES     184\n",
       "Name: Smoke, dtype: int64"
      ]
     },
     "execution_count": 17,
     "metadata": {},
     "output_type": "execute_result"
    }
   ],
   "source": [
    "df.Smoke.value_counts()"
   ]
  },
  {
   "cell_type": "code",
   "execution_count": 18,
   "id": "9f984ea9-1d43-4e50-8f32-b08d2490b555",
   "metadata": {},
   "outputs": [],
   "source": [
    "df.Smoke = df.Smoke.replace(\"NO\", \"No\").replace(\"YES\", \"Yes\")"
   ]
  },
  {
   "cell_type": "code",
   "execution_count": 19,
   "id": "2cb75ab5-d924-4767-9a14-599b04339163",
   "metadata": {},
   "outputs": [
    {
     "data": {
      "text/plain": [
       "No     0.673933\n",
       "Yes    0.326067\n",
       "Name: Smoke, dtype: float64"
      ]
     },
     "execution_count": 19,
     "metadata": {},
     "output_type": "execute_result"
    }
   ],
   "source": [
    "df.Smoke.value_counts(normalize=True)"
   ]
  },
  {
   "cell_type": "markdown",
   "id": "6b6550c2-8e33-4ad1-8164-c0f07d4b284b",
   "metadata": {
    "tags": []
   },
   "source": [
    "## Diabetes"
   ]
  },
  {
   "cell_type": "markdown",
   "id": "a4b84827-a528-46a1-8b21-7e85822ea701",
   "metadata": {},
   "source": [
    "Seems fine as well"
   ]
  },
  {
   "cell_type": "code",
   "execution_count": 20,
   "id": "eb4a976f-a5fb-44bb-ac75-0c1129c4fde6",
   "metadata": {},
   "outputs": [
    {
     "data": {
      "text/plain": [
       "Normal          0.585933\n",
       "Pre-diabetes    0.208267\n",
       "Diabetes        0.205800\n",
       "Name: Diabetes, dtype: float64"
      ]
     },
     "execution_count": 20,
     "metadata": {},
     "output_type": "execute_result"
    }
   ],
   "source": [
    "df.Diabetes.value_counts(normalize=True)"
   ]
  },
  {
   "cell_type": "markdown",
   "id": "e45e5647-194a-4c17-8381-c19568fa3701",
   "metadata": {
    "tags": []
   },
   "source": [
    "## Age\n",
    "Problem: Some values of age appears to be invalid (min -95?), could possibly be 95 instead of -95"
   ]
  },
  {
   "cell_type": "code",
   "execution_count": 21,
   "id": "12cdb329-7239-4818-8dc5-b0cc5d91dcf1",
   "metadata": {},
   "outputs": [
    {
     "data": {
      "text/html": [
       "<div>\n",
       "<style scoped>\n",
       "    .dataframe tbody tr th:only-of-type {\n",
       "        vertical-align: middle;\n",
       "    }\n",
       "\n",
       "    .dataframe tbody tr th {\n",
       "        vertical-align: top;\n",
       "    }\n",
       "\n",
       "    .dataframe thead th {\n",
       "        text-align: right;\n",
       "    }\n",
       "</style>\n",
       "<table border=\"1\" class=\"dataframe\">\n",
       "  <thead>\n",
       "    <tr style=\"text-align: right;\">\n",
       "      <th></th>\n",
       "      <th>Survive</th>\n",
       "      <th>Gender</th>\n",
       "      <th>Smoke</th>\n",
       "      <th>Diabetes</th>\n",
       "      <th>Age</th>\n",
       "      <th>Ejection Fraction</th>\n",
       "      <th>Sodium</th>\n",
       "      <th>Creatinine</th>\n",
       "      <th>Pletelets</th>\n",
       "      <th>Creatinine phosphokinase</th>\n",
       "      <th>Blood Pressure</th>\n",
       "      <th>Hemoglobin</th>\n",
       "      <th>Height</th>\n",
       "      <th>Weight</th>\n",
       "    </tr>\n",
       "  </thead>\n",
       "  <tbody>\n",
       "    <tr>\n",
       "      <th>3</th>\n",
       "      <td>0</td>\n",
       "      <td>Male</td>\n",
       "      <td>No</td>\n",
       "      <td>Normal</td>\n",
       "      <td>-60</td>\n",
       "      <td>Low</td>\n",
       "      <td>136</td>\n",
       "      <td>0.90</td>\n",
       "      <td>228000.00</td>\n",
       "      <td>2261</td>\n",
       "      <td>136</td>\n",
       "      <td>15.3</td>\n",
       "      <td>130</td>\n",
       "      <td>48</td>\n",
       "    </tr>\n",
       "    <tr>\n",
       "      <th>14</th>\n",
       "      <td>0</td>\n",
       "      <td>Male</td>\n",
       "      <td>No</td>\n",
       "      <td>Normal</td>\n",
       "      <td>-40</td>\n",
       "      <td>Low</td>\n",
       "      <td>137</td>\n",
       "      <td>0.90</td>\n",
       "      <td>255000.00</td>\n",
       "      <td>129</td>\n",
       "      <td>82</td>\n",
       "      <td>9.1</td>\n",
       "      <td>140</td>\n",
       "      <td>37</td>\n",
       "    </tr>\n",
       "    <tr>\n",
       "      <th>24</th>\n",
       "      <td>1</td>\n",
       "      <td>Male</td>\n",
       "      <td>Yes</td>\n",
       "      <td>Normal</td>\n",
       "      <td>-85</td>\n",
       "      <td>Low</td>\n",
       "      <td>132</td>\n",
       "      <td>1.00</td>\n",
       "      <td>243000.00</td>\n",
       "      <td>5882</td>\n",
       "      <td>79</td>\n",
       "      <td>15.2</td>\n",
       "      <td>160</td>\n",
       "      <td>84</td>\n",
       "    </tr>\n",
       "    <tr>\n",
       "      <th>112</th>\n",
       "      <td>1</td>\n",
       "      <td>Male</td>\n",
       "      <td>No</td>\n",
       "      <td>Normal</td>\n",
       "      <td>-45</td>\n",
       "      <td>Low</td>\n",
       "      <td>135</td>\n",
       "      <td>1.60</td>\n",
       "      <td>126000.00</td>\n",
       "      <td>582</td>\n",
       "      <td>130</td>\n",
       "      <td>12.7</td>\n",
       "      <td>177</td>\n",
       "      <td>69</td>\n",
       "    </tr>\n",
       "    <tr>\n",
       "      <th>119</th>\n",
       "      <td>0</td>\n",
       "      <td>Female</td>\n",
       "      <td>No</td>\n",
       "      <td>Diabetes</td>\n",
       "      <td>-58</td>\n",
       "      <td>Normal</td>\n",
       "      <td>137</td>\n",
       "      <td>0.80</td>\n",
       "      <td>300000.00</td>\n",
       "      <td>200</td>\n",
       "      <td>53</td>\n",
       "      <td>9.1</td>\n",
       "      <td>155</td>\n",
       "      <td>71</td>\n",
       "    </tr>\n",
       "    <tr>\n",
       "      <th>...</th>\n",
       "      <td>...</td>\n",
       "      <td>...</td>\n",
       "      <td>...</td>\n",
       "      <td>...</td>\n",
       "      <td>...</td>\n",
       "      <td>...</td>\n",
       "      <td>...</td>\n",
       "      <td>...</td>\n",
       "      <td>...</td>\n",
       "      <td>...</td>\n",
       "      <td>...</td>\n",
       "      <td>...</td>\n",
       "      <td>...</td>\n",
       "      <td>...</td>\n",
       "    </tr>\n",
       "    <tr>\n",
       "      <th>14937</th>\n",
       "      <td>1</td>\n",
       "      <td>Female</td>\n",
       "      <td>No</td>\n",
       "      <td>Normal</td>\n",
       "      <td>-86</td>\n",
       "      <td>Low</td>\n",
       "      <td>134</td>\n",
       "      <td>1.83</td>\n",
       "      <td>263358.03</td>\n",
       "      <td>582</td>\n",
       "      <td>58</td>\n",
       "      <td>12.8</td>\n",
       "      <td>137</td>\n",
       "      <td>57</td>\n",
       "    </tr>\n",
       "    <tr>\n",
       "      <th>14959</th>\n",
       "      <td>0</td>\n",
       "      <td>Male</td>\n",
       "      <td>Yes</td>\n",
       "      <td>Normal</td>\n",
       "      <td>-50</td>\n",
       "      <td>Normal</td>\n",
       "      <td>140</td>\n",
       "      <td>NaN</td>\n",
       "      <td>147000.00</td>\n",
       "      <td>582</td>\n",
       "      <td>129</td>\n",
       "      <td>14.2</td>\n",
       "      <td>143</td>\n",
       "      <td>43</td>\n",
       "    </tr>\n",
       "    <tr>\n",
       "      <th>14961</th>\n",
       "      <td>0</td>\n",
       "      <td>Female</td>\n",
       "      <td>No</td>\n",
       "      <td>Diabetes</td>\n",
       "      <td>-50</td>\n",
       "      <td>Low</td>\n",
       "      <td>134</td>\n",
       "      <td>1.00</td>\n",
       "      <td>279000.00</td>\n",
       "      <td>582</td>\n",
       "      <td>135</td>\n",
       "      <td>9.3</td>\n",
       "      <td>171</td>\n",
       "      <td>63</td>\n",
       "    </tr>\n",
       "    <tr>\n",
       "      <th>14987</th>\n",
       "      <td>0</td>\n",
       "      <td>Female</td>\n",
       "      <td>Yes</td>\n",
       "      <td>Normal</td>\n",
       "      <td>-70</td>\n",
       "      <td>Normal</td>\n",
       "      <td>140</td>\n",
       "      <td>0.80</td>\n",
       "      <td>317000.00</td>\n",
       "      <td>92</td>\n",
       "      <td>165</td>\n",
       "      <td>16.0</td>\n",
       "      <td>168</td>\n",
       "      <td>92</td>\n",
       "    </tr>\n",
       "    <tr>\n",
       "      <th>14994</th>\n",
       "      <td>1</td>\n",
       "      <td>Male</td>\n",
       "      <td>Yes</td>\n",
       "      <td>Pre-diabetes</td>\n",
       "      <td>-72</td>\n",
       "      <td>Low</td>\n",
       "      <td>136</td>\n",
       "      <td>1.30</td>\n",
       "      <td>254000.00</td>\n",
       "      <td>364</td>\n",
       "      <td>162</td>\n",
       "      <td>16.6</td>\n",
       "      <td>177</td>\n",
       "      <td>107</td>\n",
       "    </tr>\n",
       "  </tbody>\n",
       "</table>\n",
       "<p>430 rows × 14 columns</p>\n",
       "</div>"
      ],
      "text/plain": [
       "       Survive  Gender Smoke      Diabetes  Age Ejection Fraction  Sodium  \\\n",
       "3            0    Male    No        Normal  -60               Low     136   \n",
       "14           0    Male    No        Normal  -40               Low     137   \n",
       "24           1    Male   Yes        Normal  -85               Low     132   \n",
       "112          1    Male    No        Normal  -45               Low     135   \n",
       "119          0  Female    No      Diabetes  -58            Normal     137   \n",
       "...        ...     ...   ...           ...  ...               ...     ...   \n",
       "14937        1  Female    No        Normal  -86               Low     134   \n",
       "14959        0    Male   Yes        Normal  -50            Normal     140   \n",
       "14961        0  Female    No      Diabetes  -50               Low     134   \n",
       "14987        0  Female   Yes        Normal  -70            Normal     140   \n",
       "14994        1    Male   Yes  Pre-diabetes  -72               Low     136   \n",
       "\n",
       "       Creatinine  Pletelets  Creatinine phosphokinase  Blood Pressure  \\\n",
       "3            0.90  228000.00                      2261             136   \n",
       "14           0.90  255000.00                       129              82   \n",
       "24           1.00  243000.00                      5882              79   \n",
       "112          1.60  126000.00                       582             130   \n",
       "119          0.80  300000.00                       200              53   \n",
       "...           ...        ...                       ...             ...   \n",
       "14937        1.83  263358.03                       582              58   \n",
       "14959         NaN  147000.00                       582             129   \n",
       "14961        1.00  279000.00                       582             135   \n",
       "14987        0.80  317000.00                        92             165   \n",
       "14994        1.30  254000.00                       364             162   \n",
       "\n",
       "       Hemoglobin  Height  Weight  \n",
       "3            15.3     130      48  \n",
       "14            9.1     140      37  \n",
       "24           15.2     160      84  \n",
       "112          12.7     177      69  \n",
       "119           9.1     155      71  \n",
       "...           ...     ...     ...  \n",
       "14937        12.8     137      57  \n",
       "14959        14.2     143      43  \n",
       "14961         9.3     171      63  \n",
       "14987        16.0     168      92  \n",
       "14994        16.6     177     107  \n",
       "\n",
       "[430 rows x 14 columns]"
      ]
     },
     "execution_count": 21,
     "metadata": {},
     "output_type": "execute_result"
    }
   ],
   "source": [
    "df[df.Age < 0]"
   ]
  },
  {
   "cell_type": "markdown",
   "id": "b3bb939d-fa5f-44f1-871b-4e3c1343f758",
   "metadata": {},
   "source": [
    "We have 430 rows where age is negative. I think its highly likely that they age could be positive instead without changing the value, lets see if it makes sense"
   ]
  },
  {
   "cell_type": "code",
   "execution_count": 22,
   "id": "3546ad0f-2bf2-4832-ac8a-f584ffc1b821",
   "metadata": {},
   "outputs": [
    {
     "data": {
      "text/plain": [
       "<AxesSubplot:>"
      ]
     },
     "execution_count": 22,
     "metadata": {},
     "output_type": "execute_result"
    },
    {
     "data": {
      "image/png": "[encoded data removed]",
      "text/plain": [
       "<Figure size 432x288 with 1 Axes>"
      ]
     },
     "metadata": {
      "needs_background": "light"
     },
     "output_type": "display_data"
    }
   ],
   "source": [
    "df[df.Age < 0].loc[:, \"Age\"].plot()"
   ]
  },
  {
   "cell_type": "markdown",
   "id": "1d494f3d-485e-4aff-815c-a4ad72e8d0eb",
   "metadata": {},
   "source": [
    "Their values appear to be within normal range, between 40 to 90 and not like 200 or 0. We will flip the sign."
   ]
  },
  {
   "cell_type": "code",
   "execution_count": 23,
   "id": "288d46f1-5ae3-4b3d-9867-95ffe6f26882",
   "metadata": {},
   "outputs": [],
   "source": [
    "# Flipping the sign if they are negative, else leave them be\n",
    "df.Age = np.where(df.Age < 0, -df.Age, df.Age)"
   ]
  },
  {
   "cell_type": "code",
   "execution_count": 24,
   "id": "0be06709-7b5f-4e80-bd51-16cdad4439fc",
   "metadata": {},
   "outputs": [
    {
     "data": {
      "text/html": [
       "<div>\n",
       "<style scoped>\n",
       "    .dataframe tbody tr th:only-of-type {\n",
       "        vertical-align: middle;\n",
       "    }\n",
       "\n",
       "    .dataframe tbody tr th {\n",
       "        vertical-align: top;\n",
       "    }\n",
       "\n",
       "    .dataframe thead th {\n",
       "        text-align: right;\n",
       "    }\n",
       "</style>\n",
       "<table border=\"1\" class=\"dataframe\">\n",
       "  <thead>\n",
       "    <tr style=\"text-align: right;\">\n",
       "      <th></th>\n",
       "      <th>Survive</th>\n",
       "      <th>Gender</th>\n",
       "      <th>Smoke</th>\n",
       "      <th>Diabetes</th>\n",
       "      <th>Age</th>\n",
       "      <th>Ejection Fraction</th>\n",
       "      <th>Sodium</th>\n",
       "      <th>Creatinine</th>\n",
       "      <th>Pletelets</th>\n",
       "      <th>Creatinine phosphokinase</th>\n",
       "      <th>Blood Pressure</th>\n",
       "      <th>Hemoglobin</th>\n",
       "      <th>Height</th>\n",
       "      <th>Weight</th>\n",
       "    </tr>\n",
       "  </thead>\n",
       "  <tbody>\n",
       "  </tbody>\n",
       "</table>\n",
       "</div>"
      ],
      "text/plain": [
       "Empty DataFrame\n",
       "Columns: [Survive, Gender, Smoke, Diabetes, Age, Ejection Fraction, Sodium, Creatinine, Pletelets, Creatinine phosphokinase, Blood Pressure, Hemoglobin, Height, Weight]\n",
       "Index: []"
      ]
     },
     "execution_count": 24,
     "metadata": {},
     "output_type": "execute_result"
    }
   ],
   "source": [
    "# check if our code is correct, it should leave no age that are negative\n",
    "df[df.Age < 0]"
   ]
  },
  {
   "cell_type": "code",
   "execution_count": 25,
   "id": "a67dceaf-dc35-4771-b2ab-5e9752c2c37b",
   "metadata": {},
   "outputs": [
    {
     "data": {
      "text/plain": [
       "<AxesSubplot:>"
      ]
     },
     "execution_count": 25,
     "metadata": {},
     "output_type": "execute_result"
    },
    {
     "data": {
      "image/png": "[encoded data removed]",
      "text/plain": [
       "<Figure size 432x288 with 1 Axes>"
      ]
     },
     "metadata": {
      "needs_background": "light"
     },
     "output_type": "display_data"
    }
   ],
   "source": [
    "# Seems okay\n",
    "df.Age.hist()"
   ]
  },
  {
   "cell_type": "markdown",
   "id": "3883ad91-818e-417c-8eb7-f4848fcd8893",
   "metadata": {
    "tags": []
   },
   "source": [
    "## Ejection Fraction\n",
    "Problem : Categories are inconsistent"
   ]
  },
  {
   "cell_type": "code",
   "execution_count": 26,
   "id": "6f211fd2-ca40-4cfd-bb0a-9c8826f4f5b7",
   "metadata": {},
   "outputs": [
    {
     "data": {
      "text/plain": [
       "Low       12734\n",
       "Normal     1658\n",
       "L           482\n",
       "N            66\n",
       "High         60\n",
       "Name: Ejection Fraction, dtype: int64"
      ]
     },
     "execution_count": 26,
     "metadata": {},
     "output_type": "execute_result"
    }
   ],
   "source": [
    "df[\"Ejection Fraction\"].value_counts()"
   ]
  },
  {
   "cell_type": "markdown",
   "id": "93338a44-7063-470b-8250-f3b6b8d0bc87",
   "metadata": {},
   "source": [
    "N should be normal, L should be L and high should remain. "
   ]
  },
  {
   "cell_type": "code",
   "execution_count": 27,
   "id": "dba8b4ba-848e-4e46-84df-c522629025f1",
   "metadata": {},
   "outputs": [],
   "source": [
    "df[\"Ejection Fraction\"] = (\n",
    "    df[\"Ejection Fraction\"].replace(\"L\", \"Low\").replace(\"N\", \"Normal\")\n",
    ")"
   ]
  },
  {
   "cell_type": "code",
   "execution_count": 28,
   "id": "215de5f4-6308-4096-94fc-5d6903f4e547",
   "metadata": {},
   "outputs": [
    {
     "data": {
      "text/plain": [
       "Low       0.881067\n",
       "Normal    0.114933\n",
       "High      0.004000\n",
       "Name: Ejection Fraction, dtype: float64"
      ]
     },
     "execution_count": 28,
     "metadata": {},
     "output_type": "execute_result"
    }
   ],
   "source": [
    "df[\"Ejection Fraction\"].value_counts(normalize=True)"
   ]
  },
  {
   "cell_type": "markdown",
   "id": "380a083c-802a-429c-8206-899cff114106",
   "metadata": {},
   "source": [
    "High has too little count (0.004% ) to make a difference and will be merged together with Normal to become normal. To reflect this change I will rename Normal to Normal-High"
   ]
  },
  {
   "cell_type": "code",
   "execution_count": 29,
   "id": "c26deec3-5fad-4326-adb7-5478000ef31b",
   "metadata": {},
   "outputs": [],
   "source": [
    "df[\"Ejection Fraction\"] = (\n",
    "    df[\"Ejection Fraction\"].replace(\"High\", \"Normal\").replace(\"Normal\", \"Normal-High\")\n",
    ")"
   ]
  },
  {
   "cell_type": "code",
   "execution_count": 30,
   "id": "9b8c418a-4d0f-48a8-95b7-4860b3e110ba",
   "metadata": {},
   "outputs": [
    {
     "data": {
      "text/plain": [
       "Low            0.881067\n",
       "Normal-High    0.118933\n",
       "Name: Ejection Fraction, dtype: float64"
      ]
     },
     "execution_count": 30,
     "metadata": {},
     "output_type": "execute_result"
    }
   ],
   "source": [
    "df[\"Ejection Fraction\"].value_counts(normalize=True)"
   ]
  },
  {
   "cell_type": "markdown",
   "id": "05f6379f-09ad-450d-97e1-33affb656d26",
   "metadata": {
    "tags": []
   },
   "source": [
    "## Sodium\n",
    "Problem: Sodium appears to be in range, with some outliers"
   ]
  },
  {
   "cell_type": "code",
   "execution_count": 31,
   "id": "682ea0b4-a11d-41c3-9eec-6fea9f8a9d2e",
   "metadata": {},
   "outputs": [
    {
     "data": {
      "text/plain": [
       "<AxesSubplot:>"
      ]
     },
     "execution_count": 31,
     "metadata": {},
     "output_type": "execute_result"
    },
    {
     "data": {
      "image/png": "[encoded data removed]",
      "text/plain": [
       "<Figure size 720x720 with 1 Axes>"
      ]
     },
     "metadata": {
      "needs_background": "light"
     },
     "output_type": "display_data"
    }
   ],
   "source": [
    "df.Sodium.hist(figsize=(10, 10))"
   ]
  },
  {
   "cell_type": "code",
   "execution_count": 32,
   "id": "d376ff37-5c63-4fa3-9535-c830d91a1f03",
   "metadata": {},
   "outputs": [
    {
     "data": {
      "text/plain": [
       "count    15000.000000\n",
       "mean       136.604267\n",
       "std          4.364890\n",
       "min        113.000000\n",
       "25%        134.000000\n",
       "50%        137.000000\n",
       "75%        140.000000\n",
       "max        148.000000\n",
       "Name: Sodium, dtype: float64"
      ]
     },
     "execution_count": 32,
     "metadata": {},
     "output_type": "execute_result"
    }
   ],
   "source": [
    "df.Sodium.describe().T"
   ]
  },
  {
   "cell_type": "code",
   "execution_count": 33,
   "id": "d915458b-99be-4cec-8900-b54060b5e664",
   "metadata": {},
   "outputs": [
    {
     "name": "stderr",
     "output_type": "stream",
     "text": [
      "C:\\Users\\Randy\\Venv\\aiap\\lib\\site-packages\\seaborn\\_decorators.py:36: FutureWarning: Pass the following variable as a keyword arg: x. From version 0.12, the only valid positional argument will be `data`, and passing other arguments without an explicit keyword will result in an error or misinterpretation.\n",
      "  warnings.warn(\n"
     ]
    },
    {
     "data": {
      "text/plain": [
       "<AxesSubplot:xlabel='Sodium'>"
      ]
     },
     "execution_count": 33,
     "metadata": {},
     "output_type": "execute_result"
    },
    {
     "data": {
      "image/png": "[encoded data removed]",
      "text/plain": [
       "<Figure size 432x288 with 1 Axes>"
      ]
     },
     "metadata": {
      "needs_background": "light"
     },
     "output_type": "display_data"
    }
   ],
   "source": [
    "sns.boxplot(df.Sodium)"
   ]
  },
  {
   "cell_type": "markdown",
   "id": "c0575350-9235-418d-8261-1d8dae4618e3",
   "metadata": {},
   "source": [
    "We have some outliers and they appear to only have 4 unqiue values. Lets eyeball them"
   ]
  },
  {
   "cell_type": "code",
   "execution_count": 34,
   "id": "ec599756-819a-4126-9dca-a4cb5df4558c",
   "metadata": {},
   "outputs": [
    {
     "data": {
      "text/html": [
       "<div>\n",
       "<style scoped>\n",
       "    .dataframe tbody tr th:only-of-type {\n",
       "        vertical-align: middle;\n",
       "    }\n",
       "\n",
       "    .dataframe tbody tr th {\n",
       "        vertical-align: top;\n",
       "    }\n",
       "\n",
       "    .dataframe thead th {\n",
       "        text-align: right;\n",
       "    }\n",
       "</style>\n",
       "<table border=\"1\" class=\"dataframe\">\n",
       "  <thead>\n",
       "    <tr style=\"text-align: right;\">\n",
       "      <th></th>\n",
       "      <th>Survive</th>\n",
       "      <th>Gender</th>\n",
       "      <th>Smoke</th>\n",
       "      <th>Diabetes</th>\n",
       "      <th>Age</th>\n",
       "      <th>Ejection Fraction</th>\n",
       "      <th>Sodium</th>\n",
       "      <th>Creatinine</th>\n",
       "      <th>Pletelets</th>\n",
       "      <th>Creatinine phosphokinase</th>\n",
       "      <th>Blood Pressure</th>\n",
       "      <th>Hemoglobin</th>\n",
       "      <th>Height</th>\n",
       "      <th>Weight</th>\n",
       "    </tr>\n",
       "  </thead>\n",
       "  <tbody>\n",
       "    <tr>\n",
       "      <th>106</th>\n",
       "      <td>1</td>\n",
       "      <td>Female</td>\n",
       "      <td>No</td>\n",
       "      <td>Diabetes</td>\n",
       "      <td>65</td>\n",
       "      <td>Low</td>\n",
       "      <td>116</td>\n",
       "      <td>2.7</td>\n",
       "      <td>327000.00</td>\n",
       "      <td>160</td>\n",
       "      <td>72</td>\n",
       "      <td>9.8</td>\n",
       "      <td>135</td>\n",
       "      <td>71</td>\n",
       "    </tr>\n",
       "    <tr>\n",
       "      <th>107</th>\n",
       "      <td>1</td>\n",
       "      <td>Female</td>\n",
       "      <td>No</td>\n",
       "      <td>Pre-diabetes</td>\n",
       "      <td>48</td>\n",
       "      <td>Low</td>\n",
       "      <td>121</td>\n",
       "      <td>1.9</td>\n",
       "      <td>87000.00</td>\n",
       "      <td>582</td>\n",
       "      <td>67</td>\n",
       "      <td>9.9</td>\n",
       "      <td>155</td>\n",
       "      <td>92</td>\n",
       "    </tr>\n",
       "    <tr>\n",
       "      <th>149</th>\n",
       "      <td>1</td>\n",
       "      <td>Female</td>\n",
       "      <td>No</td>\n",
       "      <td>Pre-diabetes</td>\n",
       "      <td>65</td>\n",
       "      <td>Low</td>\n",
       "      <td>116</td>\n",
       "      <td>2.7</td>\n",
       "      <td>327000.00</td>\n",
       "      <td>160</td>\n",
       "      <td>53</td>\n",
       "      <td>9.6</td>\n",
       "      <td>139</td>\n",
       "      <td>76</td>\n",
       "    </tr>\n",
       "    <tr>\n",
       "      <th>224</th>\n",
       "      <td>1</td>\n",
       "      <td>Female</td>\n",
       "      <td>No</td>\n",
       "      <td>Pre-diabetes</td>\n",
       "      <td>65</td>\n",
       "      <td>Low</td>\n",
       "      <td>116</td>\n",
       "      <td>2.7</td>\n",
       "      <td>327000.00</td>\n",
       "      <td>160</td>\n",
       "      <td>106</td>\n",
       "      <td>9.6</td>\n",
       "      <td>166</td>\n",
       "      <td>108</td>\n",
       "    </tr>\n",
       "    <tr>\n",
       "      <th>263</th>\n",
       "      <td>1</td>\n",
       "      <td>Female</td>\n",
       "      <td>No</td>\n",
       "      <td>Diabetes</td>\n",
       "      <td>65</td>\n",
       "      <td>Low</td>\n",
       "      <td>116</td>\n",
       "      <td>2.7</td>\n",
       "      <td>327000.00</td>\n",
       "      <td>160</td>\n",
       "      <td>54</td>\n",
       "      <td>10.9</td>\n",
       "      <td>137</td>\n",
       "      <td>74</td>\n",
       "    </tr>\n",
       "    <tr>\n",
       "      <th>...</th>\n",
       "      <td>...</td>\n",
       "      <td>...</td>\n",
       "      <td>...</td>\n",
       "      <td>...</td>\n",
       "      <td>...</td>\n",
       "      <td>...</td>\n",
       "      <td>...</td>\n",
       "      <td>...</td>\n",
       "      <td>...</td>\n",
       "      <td>...</td>\n",
       "      <td>...</td>\n",
       "      <td>...</td>\n",
       "      <td>...</td>\n",
       "      <td>...</td>\n",
       "    </tr>\n",
       "    <tr>\n",
       "      <th>14509</th>\n",
       "      <td>1</td>\n",
       "      <td>Female</td>\n",
       "      <td>No</td>\n",
       "      <td>Diabetes</td>\n",
       "      <td>65</td>\n",
       "      <td>Low</td>\n",
       "      <td>116</td>\n",
       "      <td>2.7</td>\n",
       "      <td>327000.00</td>\n",
       "      <td>160</td>\n",
       "      <td>63</td>\n",
       "      <td>9.5</td>\n",
       "      <td>149</td>\n",
       "      <td>87</td>\n",
       "    </tr>\n",
       "    <tr>\n",
       "      <th>14636</th>\n",
       "      <td>0</td>\n",
       "      <td>Male</td>\n",
       "      <td>Yes</td>\n",
       "      <td>Diabetes</td>\n",
       "      <td>60</td>\n",
       "      <td>Low</td>\n",
       "      <td>113</td>\n",
       "      <td>1.8</td>\n",
       "      <td>263358.03</td>\n",
       "      <td>1211</td>\n",
       "      <td>59</td>\n",
       "      <td>14.3</td>\n",
       "      <td>134</td>\n",
       "      <td>38</td>\n",
       "    </tr>\n",
       "    <tr>\n",
       "      <th>14637</th>\n",
       "      <td>1</td>\n",
       "      <td>Female</td>\n",
       "      <td>No</td>\n",
       "      <td>Pre-diabetes</td>\n",
       "      <td>65</td>\n",
       "      <td>Low</td>\n",
       "      <td>116</td>\n",
       "      <td>2.7</td>\n",
       "      <td>327000.00</td>\n",
       "      <td>160</td>\n",
       "      <td>109</td>\n",
       "      <td>11.5</td>\n",
       "      <td>148</td>\n",
       "      <td>86</td>\n",
       "    </tr>\n",
       "    <tr>\n",
       "      <th>14819</th>\n",
       "      <td>1</td>\n",
       "      <td>Female</td>\n",
       "      <td>No</td>\n",
       "      <td>Diabetes</td>\n",
       "      <td>48</td>\n",
       "      <td>Low</td>\n",
       "      <td>121</td>\n",
       "      <td>1.9</td>\n",
       "      <td>87000.00</td>\n",
       "      <td>582</td>\n",
       "      <td>96</td>\n",
       "      <td>11.1</td>\n",
       "      <td>168</td>\n",
       "      <td>109</td>\n",
       "    </tr>\n",
       "    <tr>\n",
       "      <th>14922</th>\n",
       "      <td>1</td>\n",
       "      <td>Female</td>\n",
       "      <td>No</td>\n",
       "      <td>Pre-diabetes</td>\n",
       "      <td>48</td>\n",
       "      <td>Low</td>\n",
       "      <td>121</td>\n",
       "      <td>1.9</td>\n",
       "      <td>87000.00</td>\n",
       "      <td>582</td>\n",
       "      <td>67</td>\n",
       "      <td>10.3</td>\n",
       "      <td>139</td>\n",
       "      <td>74</td>\n",
       "    </tr>\n",
       "  </tbody>\n",
       "</table>\n",
       "<p>185 rows × 14 columns</p>\n",
       "</div>"
      ],
      "text/plain": [
       "       Survive  Gender Smoke      Diabetes  Age Ejection Fraction  Sodium  \\\n",
       "106          1  Female    No      Diabetes   65               Low     116   \n",
       "107          1  Female    No  Pre-diabetes   48               Low     121   \n",
       "149          1  Female    No  Pre-diabetes   65               Low     116   \n",
       "224          1  Female    No  Pre-diabetes   65               Low     116   \n",
       "263          1  Female    No      Diabetes   65               Low     116   \n",
       "...        ...     ...   ...           ...  ...               ...     ...   \n",
       "14509        1  Female    No      Diabetes   65               Low     116   \n",
       "14636        0    Male   Yes      Diabetes   60               Low     113   \n",
       "14637        1  Female    No  Pre-diabetes   65               Low     116   \n",
       "14819        1  Female    No      Diabetes   48               Low     121   \n",
       "14922        1  Female    No  Pre-diabetes   48               Low     121   \n",
       "\n",
       "       Creatinine  Pletelets  Creatinine phosphokinase  Blood Pressure  \\\n",
       "106           2.7  327000.00                       160              72   \n",
       "107           1.9   87000.00                       582              67   \n",
       "149           2.7  327000.00                       160              53   \n",
       "224           2.7  327000.00                       160             106   \n",
       "263           2.7  327000.00                       160              54   \n",
       "...           ...        ...                       ...             ...   \n",
       "14509         2.7  327000.00                       160              63   \n",
       "14636         1.8  263358.03                      1211              59   \n",
       "14637         2.7  327000.00                       160             109   \n",
       "14819         1.9   87000.00                       582              96   \n",
       "14922         1.9   87000.00                       582              67   \n",
       "\n",
       "       Hemoglobin  Height  Weight  \n",
       "106           9.8     135      71  \n",
       "107           9.9     155      92  \n",
       "149           9.6     139      76  \n",
       "224           9.6     166     108  \n",
       "263          10.9     137      74  \n",
       "...           ...     ...     ...  \n",
       "14509         9.5     149      87  \n",
       "14636        14.3     134      38  \n",
       "14637        11.5     148      86  \n",
       "14819        11.1     168     109  \n",
       "14922        10.3     139      74  \n",
       "\n",
       "[185 rows x 14 columns]"
      ]
     },
     "execution_count": 34,
     "metadata": {},
     "output_type": "execute_result"
    }
   ],
   "source": [
    "df[df.Sodium < 125]"
   ]
  },
  {
   "cell_type": "code",
   "execution_count": 35,
   "id": "500a51bc-e6c5-47c5-af83-153196e7ccd2",
   "metadata": {},
   "outputs": [
    {
     "data": {
      "text/plain": [
       "121    55\n",
       "116    53\n",
       "113    41\n",
       "124    36\n",
       "Name: Sodium, dtype: int64"
      ]
     },
     "execution_count": 35,
     "metadata": {},
     "output_type": "execute_result"
    }
   ],
   "source": [
    "df[df.Sodium < 125][\"Sodium\"].value_counts()"
   ]
  },
  {
   "cell_type": "markdown",
   "id": "ecf7fa2d-02a4-4761-99da-8ea1d3f7851b",
   "metadata": {},
   "source": [
    "When it comes to outliers, I will either discard them row wise, or if the feature consists of a constant value or quasi-constant (i.e 99% of the values are the same) I will remove the entire column.\n",
    "\n",
    "However if there are many observations that have outliers it is unwise to delete them row wise. For example in our case we have 150K observations and this outliers only represent less than 1 percent of observation, I would think that deleting them is fine as well.\n",
    "\n",
    "Regardless I will still inspect them to see if the outliers are the result of some typo or some operation that has gone awry. In this notebook I will adopt the method of limiting them to the min and the max of the boxplot."
   ]
  },
  {
   "cell_type": "markdown",
   "id": "b204ce92-9b63-4b84-8e73-d92f03816c15",
   "metadata": {},
   "source": [
    "For this feature I'm not sure why the outliers occupy 4 unique values. But I am unable to discern any insights from these outliers. I will cap them at the minimum value. Let me define some helper functions to be consistent with my treatment of outliers unless I have other reason to deviate from this."
   ]
  },
  {
   "cell_type": "code",
   "execution_count": 36,
   "id": "0df340ab-d436-4dc4-9368-c19de6c099e6",
   "metadata": {},
   "outputs": [],
   "source": [
    "def return_min_max_boxplot(df, col, min_or_max):\n",
    "    \"\"\"\n",
    "    Return upper(3rd quartile-1.5 of inter-quartile range) or lower(1rd quartile+1.5 of inter-quartile range).\n",
    "\n",
    "    :param df : dataframe\n",
    "    :param col: the col of the dataframe\n",
    "    :param min_or_max : the upper(max) or lower(min) of the inner fence boxplot value\n",
    "    :return: (float) upper(max) or lower(min) of the inner fence boxplot value\n",
    "    \"\"\"\n",
    "    df_col_q1 = np.quantile(df[col], 0.25, method=\"midpoint\")\n",
    "    df_col_q3 = np.quantile(df[col], 0.75, method=\"midpoint\")\n",
    "    df_col_itr = df_col_q3 - df_col_q1\n",
    "    df_col_min_cap = df_col_q1 - (1.5 * df_col_itr)\n",
    "    df_col_max_cap = df_col_q3 + (1.5 * df_col_itr)\n",
    "    if \"min\" in min_or_max:\n",
    "        return df_col_min_cap\n",
    "    else:\n",
    "        return df_col_max_cap"
   ]
  },
  {
   "cell_type": "code",
   "execution_count": 37,
   "id": "5d34c629-79a7-485e-8702-7e00ed604fac",
   "metadata": {},
   "outputs": [],
   "source": [
    "def inspect_outliers(df, col):\n",
    "    \"\"\"\n",
    "    inspects the outliers of the col of the dataframe provided,\n",
    "    displaying in dataframe format of the values considered outliers\n",
    "    which are beyond the inner fence boxplot values (1.5 times the inter-\n",
    "    quartile range of either 1st quartile or 3rd quartile)\n",
    "\n",
    "    :param df : dataframe\n",
    "    :param col: the col of the dataframe\n",
    "\n",
    "    :return: none\n",
    "    \"\"\"\n",
    "    df_col_max = return_min_max_boxplot(df, col, \"max\")\n",
    "    df_col_min = return_min_max_boxplot(df, col, \"min\")\n",
    "    print(\"Values > Outer Fence \\n\")\n",
    "    display(df[df[col] >= df_col_max])\n",
    "    print(\"\\nValue Counts\")\n",
    "    print(df[df[col] >= df_col_max][col].value_counts())\n",
    "    print(\"\\nValues < Outer Fence \\n\")\n",
    "    display(df[df[col] <= df_col_min])\n",
    "    print(\"\\nValue Counts\")\n",
    "    print(df[df[col] <= df_col_min][col].value_counts())\n",
    "    print(\"\\nDescribe\")\n",
    "    print(df[col].describe().T)\n",
    "    sns.boxplot(df[col])"
   ]
  },
  {
   "cell_type": "code",
   "execution_count": 38,
   "id": "1372e526-2ff9-4d5e-9ff3-9d9550793fef",
   "metadata": {},
   "outputs": [],
   "source": [
    "def bound_outliers(df, col, boxplot=True):\n",
    "    \"\"\"\n",
    "    Squeezes outliers to within the boxplot inner fences.\n",
    "\n",
    "    :param df: dataframe\n",
    "    :param col: the col of the dataframe\n",
    "    :return: None\n",
    "    \"\"\"\n",
    "    df_col_max = return_min_max_boxplot(df, col, \"max\")\n",
    "    df_col_min = return_min_max_boxplot(df, col, \"min\")\n",
    "    # For outliers, cap them at the max or min of the boxplot inner fences.\n",
    "    df[col] = np.where(df[col] >= df_col_max, df_col_max, df[col])\n",
    "    df[col] = np.where(df[col] <= df_col_min, df_col_min, df[col])\n",
    "    if boxplot:\n",
    "        sns.boxplot(df[col])"
   ]
  },
  {
   "cell_type": "code",
   "execution_count": 39,
   "id": "8e28cfe6-f844-47c3-9a35-10f6932182b9",
   "metadata": {},
   "outputs": [
    {
     "name": "stderr",
     "output_type": "stream",
     "text": [
      "C:\\Users\\Randy\\Venv\\aiap\\lib\\site-packages\\seaborn\\_decorators.py:36: FutureWarning: Pass the following variable as a keyword arg: x. From version 0.12, the only valid positional argument will be `data`, and passing other arguments without an explicit keyword will result in an error or misinterpretation.\n",
      "  warnings.warn(\n"
     ]
    },
    {
     "data": {
      "image/png": "[encoded data removed]",
      "text/plain": [
       "<Figure size 432x288 with 1 Axes>"
      ]
     },
     "metadata": {
      "needs_background": "light"
     },
     "output_type": "display_data"
    }
   ],
   "source": [
    "# bound outliers and displays outcome\n",
    "bound_outliers(df, \"Sodium\")"
   ]
  },
  {
   "cell_type": "markdown",
   "id": "bcff4990-57a5-4bd3-ab79-696bd190d56c",
   "metadata": {
    "tags": []
   },
   "source": [
    "## Creatinine"
   ]
  },
  {
   "cell_type": "markdown",
   "id": "598360ba-0511-45dd-8bd1-9c56ee5709d3",
   "metadata": {},
   "source": [
    "Problems\n",
    "- Some outliers (max 9.4?)\n",
    "- only feature with explicit na values"
   ]
  },
  {
   "cell_type": "code",
   "execution_count": 40,
   "id": "87e2a3b8-e70e-4be0-aa37-d31557d22597",
   "metadata": {},
   "outputs": [
    {
     "data": {
      "text/plain": [
       "499"
      ]
     },
     "execution_count": 40,
     "metadata": {},
     "output_type": "execute_result"
    }
   ],
   "source": [
    "df[\"Creatinine\"].isna().sum()"
   ]
  },
  {
   "cell_type": "code",
   "execution_count": 41,
   "id": "0200724e-88df-4db7-857c-45ba3f1d85e1",
   "metadata": {},
   "outputs": [
    {
     "data": {
      "text/html": [
       "<div>\n",
       "<style scoped>\n",
       "    .dataframe tbody tr th:only-of-type {\n",
       "        vertical-align: middle;\n",
       "    }\n",
       "\n",
       "    .dataframe tbody tr th {\n",
       "        vertical-align: top;\n",
       "    }\n",
       "\n",
       "    .dataframe thead th {\n",
       "        text-align: right;\n",
       "    }\n",
       "</style>\n",
       "<table border=\"1\" class=\"dataframe\">\n",
       "  <thead>\n",
       "    <tr style=\"text-align: right;\">\n",
       "      <th></th>\n",
       "      <th>Survive</th>\n",
       "      <th>Gender</th>\n",
       "      <th>Smoke</th>\n",
       "      <th>Diabetes</th>\n",
       "      <th>Age</th>\n",
       "      <th>Ejection Fraction</th>\n",
       "      <th>Sodium</th>\n",
       "      <th>Creatinine</th>\n",
       "      <th>Pletelets</th>\n",
       "      <th>Creatinine phosphokinase</th>\n",
       "      <th>Blood Pressure</th>\n",
       "      <th>Hemoglobin</th>\n",
       "      <th>Height</th>\n",
       "      <th>Weight</th>\n",
       "    </tr>\n",
       "  </thead>\n",
       "  <tbody>\n",
       "    <tr>\n",
       "      <th>23</th>\n",
       "      <td>0</td>\n",
       "      <td>Male</td>\n",
       "      <td>No</td>\n",
       "      <td>Normal</td>\n",
       "      <td>85</td>\n",
       "      <td>Low</td>\n",
       "      <td>134.0</td>\n",
       "      <td>NaN</td>\n",
       "      <td>235000.0</td>\n",
       "      <td>910</td>\n",
       "      <td>41</td>\n",
       "      <td>11.8</td>\n",
       "      <td>160</td>\n",
       "      <td>71</td>\n",
       "    </tr>\n",
       "    <tr>\n",
       "      <th>42</th>\n",
       "      <td>0</td>\n",
       "      <td>Male</td>\n",
       "      <td>No</td>\n",
       "      <td>Normal</td>\n",
       "      <td>70</td>\n",
       "      <td>Low</td>\n",
       "      <td>132.0</td>\n",
       "      <td>NaN</td>\n",
       "      <td>173000.0</td>\n",
       "      <td>232</td>\n",
       "      <td>87</td>\n",
       "      <td>15.1</td>\n",
       "      <td>181</td>\n",
       "      <td>62</td>\n",
       "    </tr>\n",
       "    <tr>\n",
       "      <th>66</th>\n",
       "      <td>0</td>\n",
       "      <td>Male</td>\n",
       "      <td>No</td>\n",
       "      <td>Pre-diabetes</td>\n",
       "      <td>70</td>\n",
       "      <td>Low</td>\n",
       "      <td>137.0</td>\n",
       "      <td>NaN</td>\n",
       "      <td>241000.0</td>\n",
       "      <td>2695</td>\n",
       "      <td>77</td>\n",
       "      <td>13.9</td>\n",
       "      <td>160</td>\n",
       "      <td>39</td>\n",
       "    </tr>\n",
       "    <tr>\n",
       "      <th>187</th>\n",
       "      <td>0</td>\n",
       "      <td>Female</td>\n",
       "      <td>No</td>\n",
       "      <td>Normal</td>\n",
       "      <td>65</td>\n",
       "      <td>Low</td>\n",
       "      <td>139.0</td>\n",
       "      <td>NaN</td>\n",
       "      <td>294000.0</td>\n",
       "      <td>326</td>\n",
       "      <td>49</td>\n",
       "      <td>14.0</td>\n",
       "      <td>174</td>\n",
       "      <td>54</td>\n",
       "    </tr>\n",
       "    <tr>\n",
       "      <th>220</th>\n",
       "      <td>0</td>\n",
       "      <td>Male</td>\n",
       "      <td>No</td>\n",
       "      <td>Diabetes</td>\n",
       "      <td>55</td>\n",
       "      <td>Low</td>\n",
       "      <td>135.0</td>\n",
       "      <td>NaN</td>\n",
       "      <td>336000.0</td>\n",
       "      <td>170</td>\n",
       "      <td>90</td>\n",
       "      <td>10.0</td>\n",
       "      <td>137</td>\n",
       "      <td>28</td>\n",
       "    </tr>\n",
       "    <tr>\n",
       "      <th>...</th>\n",
       "      <td>...</td>\n",
       "      <td>...</td>\n",
       "      <td>...</td>\n",
       "      <td>...</td>\n",
       "      <td>...</td>\n",
       "      <td>...</td>\n",
       "      <td>...</td>\n",
       "      <td>...</td>\n",
       "      <td>...</td>\n",
       "      <td>...</td>\n",
       "      <td>...</td>\n",
       "      <td>...</td>\n",
       "      <td>...</td>\n",
       "      <td>...</td>\n",
       "    </tr>\n",
       "    <tr>\n",
       "      <th>14913</th>\n",
       "      <td>0</td>\n",
       "      <td>Male</td>\n",
       "      <td>Yes</td>\n",
       "      <td>Normal</td>\n",
       "      <td>69</td>\n",
       "      <td>Low</td>\n",
       "      <td>135.0</td>\n",
       "      <td>NaN</td>\n",
       "      <td>105000.0</td>\n",
       "      <td>1419</td>\n",
       "      <td>118</td>\n",
       "      <td>16.2</td>\n",
       "      <td>189</td>\n",
       "      <td>90</td>\n",
       "    </tr>\n",
       "    <tr>\n",
       "      <th>14935</th>\n",
       "      <td>0</td>\n",
       "      <td>Male</td>\n",
       "      <td>Yes</td>\n",
       "      <td>Normal</td>\n",
       "      <td>50</td>\n",
       "      <td>Low</td>\n",
       "      <td>136.0</td>\n",
       "      <td>NaN</td>\n",
       "      <td>395000.0</td>\n",
       "      <td>196</td>\n",
       "      <td>118</td>\n",
       "      <td>12.4</td>\n",
       "      <td>187</td>\n",
       "      <td>40</td>\n",
       "    </tr>\n",
       "    <tr>\n",
       "      <th>14959</th>\n",
       "      <td>0</td>\n",
       "      <td>Male</td>\n",
       "      <td>Yes</td>\n",
       "      <td>Normal</td>\n",
       "      <td>50</td>\n",
       "      <td>Normal-High</td>\n",
       "      <td>140.0</td>\n",
       "      <td>NaN</td>\n",
       "      <td>147000.0</td>\n",
       "      <td>582</td>\n",
       "      <td>129</td>\n",
       "      <td>14.2</td>\n",
       "      <td>143</td>\n",
       "      <td>43</td>\n",
       "    </tr>\n",
       "    <tr>\n",
       "      <th>14963</th>\n",
       "      <td>0</td>\n",
       "      <td>Male</td>\n",
       "      <td>Yes</td>\n",
       "      <td>Normal</td>\n",
       "      <td>53</td>\n",
       "      <td>Normal-High</td>\n",
       "      <td>133.0</td>\n",
       "      <td>NaN</td>\n",
       "      <td>220000.0</td>\n",
       "      <td>196</td>\n",
       "      <td>75</td>\n",
       "      <td>15.5</td>\n",
       "      <td>174</td>\n",
       "      <td>81</td>\n",
       "    </tr>\n",
       "    <tr>\n",
       "      <th>14969</th>\n",
       "      <td>0</td>\n",
       "      <td>Female</td>\n",
       "      <td>No</td>\n",
       "      <td>Normal</td>\n",
       "      <td>70</td>\n",
       "      <td>Normal-High</td>\n",
       "      <td>136.0</td>\n",
       "      <td>NaN</td>\n",
       "      <td>255000.0</td>\n",
       "      <td>59</td>\n",
       "      <td>93</td>\n",
       "      <td>11.5</td>\n",
       "      <td>171</td>\n",
       "      <td>92</td>\n",
       "    </tr>\n",
       "  </tbody>\n",
       "</table>\n",
       "<p>499 rows × 14 columns</p>\n",
       "</div>"
      ],
      "text/plain": [
       "       Survive  Gender Smoke      Diabetes  Age Ejection Fraction  Sodium  \\\n",
       "23           0    Male    No        Normal   85               Low   134.0   \n",
       "42           0    Male    No        Normal   70               Low   132.0   \n",
       "66           0    Male    No  Pre-diabetes   70               Low   137.0   \n",
       "187          0  Female    No        Normal   65               Low   139.0   \n",
       "220          0    Male    No      Diabetes   55               Low   135.0   \n",
       "...        ...     ...   ...           ...  ...               ...     ...   \n",
       "14913        0    Male   Yes        Normal   69               Low   135.0   \n",
       "14935        0    Male   Yes        Normal   50               Low   136.0   \n",
       "14959        0    Male   Yes        Normal   50       Normal-High   140.0   \n",
       "14963        0    Male   Yes        Normal   53       Normal-High   133.0   \n",
       "14969        0  Female    No        Normal   70       Normal-High   136.0   \n",
       "\n",
       "       Creatinine  Pletelets  Creatinine phosphokinase  Blood Pressure  \\\n",
       "23            NaN   235000.0                       910              41   \n",
       "42            NaN   173000.0                       232              87   \n",
       "66            NaN   241000.0                      2695              77   \n",
       "187           NaN   294000.0                       326              49   \n",
       "220           NaN   336000.0                       170              90   \n",
       "...           ...        ...                       ...             ...   \n",
       "14913         NaN   105000.0                      1419             118   \n",
       "14935         NaN   395000.0                       196             118   \n",
       "14959         NaN   147000.0                       582             129   \n",
       "14963         NaN   220000.0                       196              75   \n",
       "14969         NaN   255000.0                        59              93   \n",
       "\n",
       "       Hemoglobin  Height  Weight  \n",
       "23           11.8     160      71  \n",
       "42           15.1     181      62  \n",
       "66           13.9     160      39  \n",
       "187          14.0     174      54  \n",
       "220          10.0     137      28  \n",
       "...           ...     ...     ...  \n",
       "14913        16.2     189      90  \n",
       "14935        12.4     187      40  \n",
       "14959        14.2     143      43  \n",
       "14963        15.5     174      81  \n",
       "14969        11.5     171      92  \n",
       "\n",
       "[499 rows x 14 columns]"
      ]
     },
     "execution_count": 41,
     "metadata": {},
     "output_type": "execute_result"
    }
   ],
   "source": [
    "df[df[\"Creatinine\"].isna()]"
   ]
  },
  {
   "cell_type": "markdown",
   "id": "58601113-fc8b-463e-ad78-86a8e3faa67e",
   "metadata": {},
   "source": [
    "We have 499 na values. We will imput them with median value of Creatinine as mean will be weighted unevenly by outliers"
   ]
  },
  {
   "cell_type": "code",
   "execution_count": 42,
   "id": "30fbcd10-b66e-4e24-bfa5-fe78b02843d8",
   "metadata": {},
   "outputs": [
    {
     "data": {
      "text/html": [
       "<div>\n",
       "<style scoped>\n",
       "    .dataframe tbody tr th:only-of-type {\n",
       "        vertical-align: middle;\n",
       "    }\n",
       "\n",
       "    .dataframe tbody tr th {\n",
       "        vertical-align: top;\n",
       "    }\n",
       "\n",
       "    .dataframe thead th {\n",
       "        text-align: right;\n",
       "    }\n",
       "</style>\n",
       "<table border=\"1\" class=\"dataframe\">\n",
       "  <thead>\n",
       "    <tr style=\"text-align: right;\">\n",
       "      <th></th>\n",
       "      <th>Survive</th>\n",
       "      <th>Gender</th>\n",
       "      <th>Smoke</th>\n",
       "      <th>Diabetes</th>\n",
       "      <th>Age</th>\n",
       "      <th>Ejection Fraction</th>\n",
       "      <th>Sodium</th>\n",
       "      <th>Creatinine</th>\n",
       "      <th>Pletelets</th>\n",
       "      <th>Creatinine phosphokinase</th>\n",
       "      <th>Blood Pressure</th>\n",
       "      <th>Hemoglobin</th>\n",
       "      <th>Height</th>\n",
       "      <th>Weight</th>\n",
       "    </tr>\n",
       "  </thead>\n",
       "  <tbody>\n",
       "  </tbody>\n",
       "</table>\n",
       "</div>"
      ],
      "text/plain": [
       "Empty DataFrame\n",
       "Columns: [Survive, Gender, Smoke, Diabetes, Age, Ejection Fraction, Sodium, Creatinine, Pletelets, Creatinine phosphokinase, Blood Pressure, Hemoglobin, Height, Weight]\n",
       "Index: []"
      ]
     },
     "execution_count": 42,
     "metadata": {},
     "output_type": "execute_result"
    }
   ],
   "source": [
    "Creatinine_median = df[\"Creatinine\"].median()\n",
    "df[\"Creatinine\"].fillna(Creatinine_median, inplace=True)\n",
    "# checking na values\n",
    "df[df[\"Creatinine\"].isna()]"
   ]
  },
  {
   "cell_type": "code",
   "execution_count": 43,
   "id": "e1a4fb0c-c957-4fe6-8ee8-cf827a22d43d",
   "metadata": {},
   "outputs": [
    {
     "name": "stdout",
     "output_type": "stream",
     "text": [
      "Values > Outer Fence \n",
      "\n"
     ]
    },
    {
     "data": {
      "text/html": [
       "<div>\n",
       "<style scoped>\n",
       "    .dataframe tbody tr th:only-of-type {\n",
       "        vertical-align: middle;\n",
       "    }\n",
       "\n",
       "    .dataframe tbody tr th {\n",
       "        vertical-align: top;\n",
       "    }\n",
       "\n",
       "    .dataframe thead th {\n",
       "        text-align: right;\n",
       "    }\n",
       "</style>\n",
       "<table border=\"1\" class=\"dataframe\">\n",
       "  <thead>\n",
       "    <tr style=\"text-align: right;\">\n",
       "      <th></th>\n",
       "      <th>Survive</th>\n",
       "      <th>Gender</th>\n",
       "      <th>Smoke</th>\n",
       "      <th>Diabetes</th>\n",
       "      <th>Age</th>\n",
       "      <th>Ejection Fraction</th>\n",
       "      <th>Sodium</th>\n",
       "      <th>Creatinine</th>\n",
       "      <th>Pletelets</th>\n",
       "      <th>Creatinine phosphokinase</th>\n",
       "      <th>Blood Pressure</th>\n",
       "      <th>Hemoglobin</th>\n",
       "      <th>Height</th>\n",
       "      <th>Weight</th>\n",
       "    </tr>\n",
       "  </thead>\n",
       "  <tbody>\n",
       "    <tr>\n",
       "      <th>1</th>\n",
       "      <td>1</td>\n",
       "      <td>Male</td>\n",
       "      <td>No</td>\n",
       "      <td>Normal</td>\n",
       "      <td>75</td>\n",
       "      <td>Low</td>\n",
       "      <td>134.0</td>\n",
       "      <td>2.5</td>\n",
       "      <td>224000.0</td>\n",
       "      <td>99</td>\n",
       "      <td>162</td>\n",
       "      <td>13.0</td>\n",
       "      <td>140</td>\n",
       "      <td>47</td>\n",
       "    </tr>\n",
       "    <tr>\n",
       "      <th>6</th>\n",
       "      <td>1</td>\n",
       "      <td>Male</td>\n",
       "      <td>No</td>\n",
       "      <td>Normal</td>\n",
       "      <td>75</td>\n",
       "      <td>Low</td>\n",
       "      <td>134.0</td>\n",
       "      <td>2.5</td>\n",
       "      <td>224000.0</td>\n",
       "      <td>99</td>\n",
       "      <td>164</td>\n",
       "      <td>16.3</td>\n",
       "      <td>172</td>\n",
       "      <td>70</td>\n",
       "    </tr>\n",
       "    <tr>\n",
       "      <th>25</th>\n",
       "      <td>0</td>\n",
       "      <td>Male</td>\n",
       "      <td>No</td>\n",
       "      <td>Diabetes</td>\n",
       "      <td>60</td>\n",
       "      <td>Low</td>\n",
       "      <td>137.0</td>\n",
       "      <td>2.3</td>\n",
       "      <td>305000.0</td>\n",
       "      <td>2656</td>\n",
       "      <td>76</td>\n",
       "      <td>12.8</td>\n",
       "      <td>186</td>\n",
       "      <td>128</td>\n",
       "    </tr>\n",
       "    <tr>\n",
       "      <th>54</th>\n",
       "      <td>1</td>\n",
       "      <td>Female</td>\n",
       "      <td>No</td>\n",
       "      <td>Diabetes</td>\n",
       "      <td>60</td>\n",
       "      <td>Low</td>\n",
       "      <td>132.0</td>\n",
       "      <td>2.5</td>\n",
       "      <td>196000.0</td>\n",
       "      <td>76</td>\n",
       "      <td>115</td>\n",
       "      <td>10.5</td>\n",
       "      <td>179</td>\n",
       "      <td>103</td>\n",
       "    </tr>\n",
       "    <tr>\n",
       "      <th>59</th>\n",
       "      <td>0</td>\n",
       "      <td>Male</td>\n",
       "      <td>No</td>\n",
       "      <td>Pre-diabetes</td>\n",
       "      <td>60</td>\n",
       "      <td>Low</td>\n",
       "      <td>137.0</td>\n",
       "      <td>2.3</td>\n",
       "      <td>305000.0</td>\n",
       "      <td>2656</td>\n",
       "      <td>85</td>\n",
       "      <td>14.2</td>\n",
       "      <td>175</td>\n",
       "      <td>113</td>\n",
       "    </tr>\n",
       "    <tr>\n",
       "      <th>...</th>\n",
       "      <td>...</td>\n",
       "      <td>...</td>\n",
       "      <td>...</td>\n",
       "      <td>...</td>\n",
       "      <td>...</td>\n",
       "      <td>...</td>\n",
       "      <td>...</td>\n",
       "      <td>...</td>\n",
       "      <td>...</td>\n",
       "      <td>...</td>\n",
       "      <td>...</td>\n",
       "      <td>...</td>\n",
       "      <td>...</td>\n",
       "      <td>...</td>\n",
       "    </tr>\n",
       "    <tr>\n",
       "      <th>14957</th>\n",
       "      <td>1</td>\n",
       "      <td>Female</td>\n",
       "      <td>No</td>\n",
       "      <td>Normal</td>\n",
       "      <td>72</td>\n",
       "      <td>Low</td>\n",
       "      <td>135.0</td>\n",
       "      <td>2.5</td>\n",
       "      <td>235000.0</td>\n",
       "      <td>233</td>\n",
       "      <td>150</td>\n",
       "      <td>14.6</td>\n",
       "      <td>158</td>\n",
       "      <td>71</td>\n",
       "    </tr>\n",
       "    <tr>\n",
       "      <th>14965</th>\n",
       "      <td>0</td>\n",
       "      <td>Male</td>\n",
       "      <td>No</td>\n",
       "      <td>Normal</td>\n",
       "      <td>64</td>\n",
       "      <td>Low</td>\n",
       "      <td>135.0</td>\n",
       "      <td>2.4</td>\n",
       "      <td>246000.0</td>\n",
       "      <td>143</td>\n",
       "      <td>49</td>\n",
       "      <td>14.5</td>\n",
       "      <td>187</td>\n",
       "      <td>65</td>\n",
       "    </tr>\n",
       "    <tr>\n",
       "      <th>14966</th>\n",
       "      <td>1</td>\n",
       "      <td>Male</td>\n",
       "      <td>No</td>\n",
       "      <td>Normal</td>\n",
       "      <td>75</td>\n",
       "      <td>Low</td>\n",
       "      <td>134.0</td>\n",
       "      <td>2.5</td>\n",
       "      <td>224000.0</td>\n",
       "      <td>99</td>\n",
       "      <td>128</td>\n",
       "      <td>17.2</td>\n",
       "      <td>163</td>\n",
       "      <td>63</td>\n",
       "    </tr>\n",
       "    <tr>\n",
       "      <th>14967</th>\n",
       "      <td>1</td>\n",
       "      <td>Male</td>\n",
       "      <td>No</td>\n",
       "      <td>Normal</td>\n",
       "      <td>85</td>\n",
       "      <td>Low</td>\n",
       "      <td>132.0</td>\n",
       "      <td>3.0</td>\n",
       "      <td>360000.0</td>\n",
       "      <td>23</td>\n",
       "      <td>105</td>\n",
       "      <td>14.4</td>\n",
       "      <td>162</td>\n",
       "      <td>98</td>\n",
       "    </tr>\n",
       "    <tr>\n",
       "      <th>14974</th>\n",
       "      <td>1</td>\n",
       "      <td>Male</td>\n",
       "      <td>No</td>\n",
       "      <td>Pre-diabetes</td>\n",
       "      <td>59</td>\n",
       "      <td>Low</td>\n",
       "      <td>134.0</td>\n",
       "      <td>2.4</td>\n",
       "      <td>70000.0</td>\n",
       "      <td>66</td>\n",
       "      <td>55</td>\n",
       "      <td>12.7</td>\n",
       "      <td>179</td>\n",
       "      <td>85</td>\n",
       "    </tr>\n",
       "  </tbody>\n",
       "</table>\n",
       "<p>1513 rows × 14 columns</p>\n",
       "</div>"
      ],
      "text/plain": [
       "       Survive  Gender Smoke      Diabetes  Age Ejection Fraction  Sodium  \\\n",
       "1            1    Male    No        Normal   75               Low   134.0   \n",
       "6            1    Male    No        Normal   75               Low   134.0   \n",
       "25           0    Male    No      Diabetes   60               Low   137.0   \n",
       "54           1  Female    No      Diabetes   60               Low   132.0   \n",
       "59           0    Male    No  Pre-diabetes   60               Low   137.0   \n",
       "...        ...     ...   ...           ...  ...               ...     ...   \n",
       "14957        1  Female    No        Normal   72               Low   135.0   \n",
       "14965        0    Male    No        Normal   64               Low   135.0   \n",
       "14966        1    Male    No        Normal   75               Low   134.0   \n",
       "14967        1    Male    No        Normal   85               Low   132.0   \n",
       "14974        1    Male    No  Pre-diabetes   59               Low   134.0   \n",
       "\n",
       "       Creatinine  Pletelets  Creatinine phosphokinase  Blood Pressure  \\\n",
       "1             2.5   224000.0                        99             162   \n",
       "6             2.5   224000.0                        99             164   \n",
       "25            2.3   305000.0                      2656              76   \n",
       "54            2.5   196000.0                        76             115   \n",
       "59            2.3   305000.0                      2656              85   \n",
       "...           ...        ...                       ...             ...   \n",
       "14957         2.5   235000.0                       233             150   \n",
       "14965         2.4   246000.0                       143              49   \n",
       "14966         2.5   224000.0                        99             128   \n",
       "14967         3.0   360000.0                        23             105   \n",
       "14974         2.4    70000.0                        66              55   \n",
       "\n",
       "       Hemoglobin  Height  Weight  \n",
       "1            13.0     140      47  \n",
       "6            16.3     172      70  \n",
       "25           12.8     186     128  \n",
       "54           10.5     179     103  \n",
       "59           14.2     175     113  \n",
       "...           ...     ...     ...  \n",
       "14957        14.6     158      71  \n",
       "14965        14.5     187      65  \n",
       "14966        17.2     163      63  \n",
       "14967        14.4     162      98  \n",
       "14974        12.7     179      85  \n",
       "\n",
       "[1513 rows x 14 columns]"
      ]
     },
     "metadata": {},
     "output_type": "display_data"
    },
    {
     "name": "stdout",
     "output_type": "stream",
     "text": [
      "\n",
      "Value Counts\n",
      "2.5    179\n",
      "2.3    161\n",
      "2.7    145\n",
      "2.4    108\n",
      "3.5    103\n",
      "3.0     93\n",
      "5.8     67\n",
      "2.2     65\n",
      "2.9     63\n",
      "3.2     54\n",
      "3.4     52\n",
      "3.7     52\n",
      "9.4     50\n",
      "4.0     49\n",
      "5.0     49\n",
      "6.1     49\n",
      "4.4     47\n",
      "9.0     47\n",
      "6.8     46\n",
      "3.8     34\n",
      "Name: Creatinine, dtype: int64\n",
      "\n",
      "Values < Outer Fence \n",
      "\n"
     ]
    },
    {
     "data": {
      "text/html": [
       "<div>\n",
       "<style scoped>\n",
       "    .dataframe tbody tr th:only-of-type {\n",
       "        vertical-align: middle;\n",
       "    }\n",
       "\n",
       "    .dataframe tbody tr th {\n",
       "        vertical-align: top;\n",
       "    }\n",
       "\n",
       "    .dataframe thead th {\n",
       "        text-align: right;\n",
       "    }\n",
       "</style>\n",
       "<table border=\"1\" class=\"dataframe\">\n",
       "  <thead>\n",
       "    <tr style=\"text-align: right;\">\n",
       "      <th></th>\n",
       "      <th>Survive</th>\n",
       "      <th>Gender</th>\n",
       "      <th>Smoke</th>\n",
       "      <th>Diabetes</th>\n",
       "      <th>Age</th>\n",
       "      <th>Ejection Fraction</th>\n",
       "      <th>Sodium</th>\n",
       "      <th>Creatinine</th>\n",
       "      <th>Pletelets</th>\n",
       "      <th>Creatinine phosphokinase</th>\n",
       "      <th>Blood Pressure</th>\n",
       "      <th>Hemoglobin</th>\n",
       "      <th>Height</th>\n",
       "      <th>Weight</th>\n",
       "    </tr>\n",
       "  </thead>\n",
       "  <tbody>\n",
       "  </tbody>\n",
       "</table>\n",
       "</div>"
      ],
      "text/plain": [
       "Empty DataFrame\n",
       "Columns: [Survive, Gender, Smoke, Diabetes, Age, Ejection Fraction, Sodium, Creatinine, Pletelets, Creatinine phosphokinase, Blood Pressure, Hemoglobin, Height, Weight]\n",
       "Index: []"
      ]
     },
     "metadata": {},
     "output_type": "display_data"
    },
    {
     "name": "stdout",
     "output_type": "stream",
     "text": [
      "\n",
      "Value Counts\n",
      "Series([], Name: Creatinine, dtype: int64)\n",
      "\n",
      "Describe\n",
      "count    15000.000000\n",
      "mean         1.399876\n",
      "std          1.028518\n",
      "min          0.500000\n",
      "25%          0.900000\n",
      "50%          1.100000\n",
      "75%          1.400000\n",
      "max          9.400000\n",
      "Name: Creatinine, dtype: float64\n"
     ]
    },
    {
     "name": "stderr",
     "output_type": "stream",
     "text": [
      "C:\\Users\\Randy\\Venv\\aiap\\lib\\site-packages\\seaborn\\_decorators.py:36: FutureWarning: Pass the following variable as a keyword arg: x. From version 0.12, the only valid positional argument will be `data`, and passing other arguments without an explicit keyword will result in an error or misinterpretation.\n",
      "  warnings.warn(\n"
     ]
    },
    {
     "data": {
      "image/png": "[encoded data removed]",
      "text/plain": [
       "<Figure size 432x288 with 1 Axes>"
      ]
     },
     "metadata": {
      "needs_background": "light"
     },
     "output_type": "display_data"
    }
   ],
   "source": [
    "inspect_outliers(df, \"Creatinine\")"
   ]
  },
  {
   "cell_type": "markdown",
   "id": "edada6e4-1819-4cdc-811b-4efebedc6405",
   "metadata": {},
   "source": [
    "We have 1.5K plus outliers"
   ]
  },
  {
   "cell_type": "markdown",
   "id": "e8a7b583-1835-4ff3-8ecd-6c8bbdb34d28",
   "metadata": {},
   "source": [
    "According to https://www.emedicinehealth.com/creatinine_blood_tests/article_em.htm, 2 and above indicate abnormal readings with 5 indicating severe kidney damage. While we can assume if most of them have a pattern of entries like 9.4 which can be typos (0.94), it does not seem to be the case here. These can be actual readings without errors. I will cap them at the maximum"
   ]
  },
  {
   "cell_type": "code",
   "execution_count": 44,
   "id": "0b6612e7-0878-4b25-9b33-6e9a367a3fbd",
   "metadata": {},
   "outputs": [
    {
     "name": "stderr",
     "output_type": "stream",
     "text": [
      "C:\\Users\\Randy\\Venv\\aiap\\lib\\site-packages\\seaborn\\_decorators.py:36: FutureWarning: Pass the following variable as a keyword arg: x. From version 0.12, the only valid positional argument will be `data`, and passing other arguments without an explicit keyword will result in an error or misinterpretation.\n",
      "  warnings.warn(\n"
     ]
    },
    {
     "data": {
      "image/png": "[encoded data removed]",
      "text/plain": [
       "<Figure size 432x288 with 1 Axes>"
      ]
     },
     "metadata": {
      "needs_background": "light"
     },
     "output_type": "display_data"
    }
   ],
   "source": [
    "bound_outliers(df, \"Creatinine\")"
   ]
  },
  {
   "cell_type": "markdown",
   "id": "d5aacc6f-3133-47ff-b9c9-4a744c0eed3c",
   "metadata": {
    "tags": []
   },
   "source": [
    "## Pletelets"
   ]
  },
  {
   "cell_type": "code",
   "execution_count": 45,
   "id": "2efa2236-bc57-460f-9658-78b454d8cc38",
   "metadata": {},
   "outputs": [
    {
     "name": "stdout",
     "output_type": "stream",
     "text": [
      "Values > Outer Fence \n",
      "\n"
     ]
    },
    {
     "data": {
      "text/html": [
       "<div>\n",
       "<style scoped>\n",
       "    .dataframe tbody tr th:only-of-type {\n",
       "        vertical-align: middle;\n",
       "    }\n",
       "\n",
       "    .dataframe tbody tr th {\n",
       "        vertical-align: top;\n",
       "    }\n",
       "\n",
       "    .dataframe thead th {\n",
       "        text-align: right;\n",
       "    }\n",
       "</style>\n",
       "<table border=\"1\" class=\"dataframe\">\n",
       "  <thead>\n",
       "    <tr style=\"text-align: right;\">\n",
       "      <th></th>\n",
       "      <th>Survive</th>\n",
       "      <th>Gender</th>\n",
       "      <th>Smoke</th>\n",
       "      <th>Diabetes</th>\n",
       "      <th>Age</th>\n",
       "      <th>Ejection Fraction</th>\n",
       "      <th>Sodium</th>\n",
       "      <th>Creatinine</th>\n",
       "      <th>Pletelets</th>\n",
       "      <th>Creatinine phosphokinase</th>\n",
       "      <th>Blood Pressure</th>\n",
       "      <th>Hemoglobin</th>\n",
       "      <th>Height</th>\n",
       "      <th>Weight</th>\n",
       "    </tr>\n",
       "  </thead>\n",
       "  <tbody>\n",
       "    <tr>\n",
       "      <th>16</th>\n",
       "      <td>0</td>\n",
       "      <td>Female</td>\n",
       "      <td>No</td>\n",
       "      <td>Diabetes</td>\n",
       "      <td>70</td>\n",
       "      <td>Low</td>\n",
       "      <td>139.0</td>\n",
       "      <td>1.3</td>\n",
       "      <td>533000.0</td>\n",
       "      <td>81</td>\n",
       "      <td>145</td>\n",
       "      <td>16.0</td>\n",
       "      <td>157</td>\n",
       "      <td>46</td>\n",
       "    </tr>\n",
       "    <tr>\n",
       "      <th>33</th>\n",
       "      <td>0</td>\n",
       "      <td>Female</td>\n",
       "      <td>No</td>\n",
       "      <td>Diabetes</td>\n",
       "      <td>45</td>\n",
       "      <td>Low</td>\n",
       "      <td>132.0</td>\n",
       "      <td>1.0</td>\n",
       "      <td>543000.0</td>\n",
       "      <td>582</td>\n",
       "      <td>73</td>\n",
       "      <td>13.7</td>\n",
       "      <td>168</td>\n",
       "      <td>42</td>\n",
       "    </tr>\n",
       "    <tr>\n",
       "      <th>69</th>\n",
       "      <td>0</td>\n",
       "      <td>Female</td>\n",
       "      <td>No</td>\n",
       "      <td>Pre-diabetes</td>\n",
       "      <td>45</td>\n",
       "      <td>Normal-High</td>\n",
       "      <td>138.0</td>\n",
       "      <td>0.8</td>\n",
       "      <td>742000.0</td>\n",
       "      <td>2060</td>\n",
       "      <td>118</td>\n",
       "      <td>17.5</td>\n",
       "      <td>175</td>\n",
       "      <td>37</td>\n",
       "    </tr>\n",
       "    <tr>\n",
       "      <th>82</th>\n",
       "      <td>0</td>\n",
       "      <td>Male</td>\n",
       "      <td>Yes</td>\n",
       "      <td>Normal</td>\n",
       "      <td>78</td>\n",
       "      <td>Low</td>\n",
       "      <td>138.0</td>\n",
       "      <td>1.4</td>\n",
       "      <td>481000.0</td>\n",
       "      <td>224</td>\n",
       "      <td>41</td>\n",
       "      <td>15.0</td>\n",
       "      <td>133</td>\n",
       "      <td>37</td>\n",
       "    </tr>\n",
       "    <tr>\n",
       "      <th>100</th>\n",
       "      <td>1</td>\n",
       "      <td>Male</td>\n",
       "      <td>No</td>\n",
       "      <td>Normal</td>\n",
       "      <td>95</td>\n",
       "      <td>Low</td>\n",
       "      <td>132.0</td>\n",
       "      <td>2.0</td>\n",
       "      <td>461000.0</td>\n",
       "      <td>371</td>\n",
       "      <td>118</td>\n",
       "      <td>9.3</td>\n",
       "      <td>189</td>\n",
       "      <td>125</td>\n",
       "    </tr>\n",
       "    <tr>\n",
       "      <th>...</th>\n",
       "      <td>...</td>\n",
       "      <td>...</td>\n",
       "      <td>...</td>\n",
       "      <td>...</td>\n",
       "      <td>...</td>\n",
       "      <td>...</td>\n",
       "      <td>...</td>\n",
       "      <td>...</td>\n",
       "      <td>...</td>\n",
       "      <td>...</td>\n",
       "      <td>...</td>\n",
       "      <td>...</td>\n",
       "      <td>...</td>\n",
       "      <td>...</td>\n",
       "    </tr>\n",
       "    <tr>\n",
       "      <th>14903</th>\n",
       "      <td>0</td>\n",
       "      <td>Male</td>\n",
       "      <td>Yes</td>\n",
       "      <td>Normal</td>\n",
       "      <td>78</td>\n",
       "      <td>Low</td>\n",
       "      <td>138.0</td>\n",
       "      <td>1.1</td>\n",
       "      <td>481000.0</td>\n",
       "      <td>224</td>\n",
       "      <td>70</td>\n",
       "      <td>15.9</td>\n",
       "      <td>159</td>\n",
       "      <td>53</td>\n",
       "    </tr>\n",
       "    <tr>\n",
       "      <th>14909</th>\n",
       "      <td>0</td>\n",
       "      <td>Female</td>\n",
       "      <td>No</td>\n",
       "      <td>Diabetes</td>\n",
       "      <td>70</td>\n",
       "      <td>Low</td>\n",
       "      <td>139.0</td>\n",
       "      <td>1.3</td>\n",
       "      <td>533000.0</td>\n",
       "      <td>81</td>\n",
       "      <td>156</td>\n",
       "      <td>12.2</td>\n",
       "      <td>135</td>\n",
       "      <td>34</td>\n",
       "    </tr>\n",
       "    <tr>\n",
       "      <th>14917</th>\n",
       "      <td>0</td>\n",
       "      <td>Male</td>\n",
       "      <td>Yes</td>\n",
       "      <td>Normal</td>\n",
       "      <td>78</td>\n",
       "      <td>Low</td>\n",
       "      <td>138.0</td>\n",
       "      <td>1.4</td>\n",
       "      <td>481000.0</td>\n",
       "      <td>224</td>\n",
       "      <td>111</td>\n",
       "      <td>12.2</td>\n",
       "      <td>164</td>\n",
       "      <td>56</td>\n",
       "    </tr>\n",
       "    <tr>\n",
       "      <th>14977</th>\n",
       "      <td>0</td>\n",
       "      <td>Male</td>\n",
       "      <td>Yes</td>\n",
       "      <td>Normal</td>\n",
       "      <td>78</td>\n",
       "      <td>Low</td>\n",
       "      <td>138.0</td>\n",
       "      <td>1.4</td>\n",
       "      <td>481000.0</td>\n",
       "      <td>224</td>\n",
       "      <td>61</td>\n",
       "      <td>13.0</td>\n",
       "      <td>156</td>\n",
       "      <td>51</td>\n",
       "    </tr>\n",
       "    <tr>\n",
       "      <th>14980</th>\n",
       "      <td>1</td>\n",
       "      <td>Male</td>\n",
       "      <td>Yes</td>\n",
       "      <td>Pre-diabetes</td>\n",
       "      <td>60</td>\n",
       "      <td>Normal-High</td>\n",
       "      <td>131.0</td>\n",
       "      <td>1.1</td>\n",
       "      <td>454000.0</td>\n",
       "      <td>315</td>\n",
       "      <td>66</td>\n",
       "      <td>10.4</td>\n",
       "      <td>131</td>\n",
       "      <td>67</td>\n",
       "    </tr>\n",
       "  </tbody>\n",
       "</table>\n",
       "<p>694 rows × 14 columns</p>\n",
       "</div>"
      ],
      "text/plain": [
       "       Survive  Gender Smoke      Diabetes  Age Ejection Fraction  Sodium  \\\n",
       "16           0  Female    No      Diabetes   70               Low   139.0   \n",
       "33           0  Female    No      Diabetes   45               Low   132.0   \n",
       "69           0  Female    No  Pre-diabetes   45       Normal-High   138.0   \n",
       "82           0    Male   Yes        Normal   78               Low   138.0   \n",
       "100          1    Male    No        Normal   95               Low   132.0   \n",
       "...        ...     ...   ...           ...  ...               ...     ...   \n",
       "14903        0    Male   Yes        Normal   78               Low   138.0   \n",
       "14909        0  Female    No      Diabetes   70               Low   139.0   \n",
       "14917        0    Male   Yes        Normal   78               Low   138.0   \n",
       "14977        0    Male   Yes        Normal   78               Low   138.0   \n",
       "14980        1    Male   Yes  Pre-diabetes   60       Normal-High   131.0   \n",
       "\n",
       "       Creatinine  Pletelets  Creatinine phosphokinase  Blood Pressure  \\\n",
       "16            1.3   533000.0                        81             145   \n",
       "33            1.0   543000.0                       582              73   \n",
       "69            0.8   742000.0                      2060             118   \n",
       "82            1.4   481000.0                       224              41   \n",
       "100           2.0   461000.0                       371             118   \n",
       "...           ...        ...                       ...             ...   \n",
       "14903         1.1   481000.0                       224              70   \n",
       "14909         1.3   533000.0                        81             156   \n",
       "14917         1.4   481000.0                       224             111   \n",
       "14977         1.4   481000.0                       224              61   \n",
       "14980         1.1   454000.0                       315              66   \n",
       "\n",
       "       Hemoglobin  Height  Weight  \n",
       "16           16.0     157      46  \n",
       "33           13.7     168      42  \n",
       "69           17.5     175      37  \n",
       "82           15.0     133      37  \n",
       "100           9.3     189     125  \n",
       "...           ...     ...     ...  \n",
       "14903        15.9     159      53  \n",
       "14909        12.2     135      34  \n",
       "14917        12.2     164      56  \n",
       "14977        13.0     156      51  \n",
       "14980        10.4     131      67  \n",
       "\n",
       "[694 rows x 14 columns]"
      ]
     },
     "metadata": {},
     "output_type": "display_data"
    },
    {
     "name": "stdout",
     "output_type": "stream",
     "text": [
      "\n",
      "Value Counts\n",
      "451000.0    93\n",
      "543000.0    61\n",
      "481000.0    57\n",
      "621000.0    56\n",
      "850000.0    55\n",
      "507000.0    55\n",
      "454000.0    53\n",
      "497000.0    50\n",
      "504000.0    47\n",
      "742000.0    46\n",
      "448000.0    44\n",
      "533000.0    43\n",
      "461000.0    34\n",
      "Name: Pletelets, dtype: int64\n",
      "\n",
      "Values < Outer Fence \n",
      "\n"
     ]
    },
    {
     "data": {
      "text/html": [
       "<div>\n",
       "<style scoped>\n",
       "    .dataframe tbody tr th:only-of-type {\n",
       "        vertical-align: middle;\n",
       "    }\n",
       "\n",
       "    .dataframe tbody tr th {\n",
       "        vertical-align: top;\n",
       "    }\n",
       "\n",
       "    .dataframe thead th {\n",
       "        text-align: right;\n",
       "    }\n",
       "</style>\n",
       "<table border=\"1\" class=\"dataframe\">\n",
       "  <thead>\n",
       "    <tr style=\"text-align: right;\">\n",
       "      <th></th>\n",
       "      <th>Survive</th>\n",
       "      <th>Gender</th>\n",
       "      <th>Smoke</th>\n",
       "      <th>Diabetes</th>\n",
       "      <th>Age</th>\n",
       "      <th>Ejection Fraction</th>\n",
       "      <th>Sodium</th>\n",
       "      <th>Creatinine</th>\n",
       "      <th>Pletelets</th>\n",
       "      <th>Creatinine phosphokinase</th>\n",
       "      <th>Blood Pressure</th>\n",
       "      <th>Hemoglobin</th>\n",
       "      <th>Height</th>\n",
       "      <th>Weight</th>\n",
       "    </tr>\n",
       "  </thead>\n",
       "  <tbody>\n",
       "    <tr>\n",
       "      <th>9</th>\n",
       "      <td>1</td>\n",
       "      <td>Female</td>\n",
       "      <td>No</td>\n",
       "      <td>Normal</td>\n",
       "      <td>60</td>\n",
       "      <td>Low</td>\n",
       "      <td>127.0</td>\n",
       "      <td>1.70</td>\n",
       "      <td>62000.0</td>\n",
       "      <td>166</td>\n",
       "      <td>59</td>\n",
       "      <td>12.3</td>\n",
       "      <td>156</td>\n",
       "      <td>47</td>\n",
       "    </tr>\n",
       "    <tr>\n",
       "      <th>108</th>\n",
       "      <td>0</td>\n",
       "      <td>Male</td>\n",
       "      <td>No</td>\n",
       "      <td>Diabetes</td>\n",
       "      <td>70</td>\n",
       "      <td>Low</td>\n",
       "      <td>140.0</td>\n",
       "      <td>1.10</td>\n",
       "      <td>25100.0</td>\n",
       "      <td>582</td>\n",
       "      <td>116</td>\n",
       "      <td>13.3</td>\n",
       "      <td>153</td>\n",
       "      <td>36</td>\n",
       "    </tr>\n",
       "    <tr>\n",
       "      <th>145</th>\n",
       "      <td>0</td>\n",
       "      <td>Male</td>\n",
       "      <td>Yes</td>\n",
       "      <td>Normal</td>\n",
       "      <td>70</td>\n",
       "      <td>Low</td>\n",
       "      <td>136.0</td>\n",
       "      <td>2.15</td>\n",
       "      <td>51000.0</td>\n",
       "      <td>582</td>\n",
       "      <td>105</td>\n",
       "      <td>12.9</td>\n",
       "      <td>169</td>\n",
       "      <td>43</td>\n",
       "    </tr>\n",
       "    <tr>\n",
       "      <th>154</th>\n",
       "      <td>1</td>\n",
       "      <td>Female</td>\n",
       "      <td>No</td>\n",
       "      <td>Normal</td>\n",
       "      <td>60</td>\n",
       "      <td>Low</td>\n",
       "      <td>127.0</td>\n",
       "      <td>1.70</td>\n",
       "      <td>62000.0</td>\n",
       "      <td>166</td>\n",
       "      <td>119</td>\n",
       "      <td>16.3</td>\n",
       "      <td>145</td>\n",
       "      <td>41</td>\n",
       "    </tr>\n",
       "    <tr>\n",
       "      <th>252</th>\n",
       "      <td>1</td>\n",
       "      <td>Female</td>\n",
       "      <td>No</td>\n",
       "      <td>Normal</td>\n",
       "      <td>60</td>\n",
       "      <td>Low</td>\n",
       "      <td>127.0</td>\n",
       "      <td>1.70</td>\n",
       "      <td>62000.0</td>\n",
       "      <td>166</td>\n",
       "      <td>115</td>\n",
       "      <td>13.6</td>\n",
       "      <td>182</td>\n",
       "      <td>64</td>\n",
       "    </tr>\n",
       "    <tr>\n",
       "      <th>...</th>\n",
       "      <td>...</td>\n",
       "      <td>...</td>\n",
       "      <td>...</td>\n",
       "      <td>...</td>\n",
       "      <td>...</td>\n",
       "      <td>...</td>\n",
       "      <td>...</td>\n",
       "      <td>...</td>\n",
       "      <td>...</td>\n",
       "      <td>...</td>\n",
       "      <td>...</td>\n",
       "      <td>...</td>\n",
       "      <td>...</td>\n",
       "      <td>...</td>\n",
       "    </tr>\n",
       "    <tr>\n",
       "      <th>14808</th>\n",
       "      <td>0</td>\n",
       "      <td>Male</td>\n",
       "      <td>Yes</td>\n",
       "      <td>Normal</td>\n",
       "      <td>70</td>\n",
       "      <td>Low</td>\n",
       "      <td>136.0</td>\n",
       "      <td>2.15</td>\n",
       "      <td>51000.0</td>\n",
       "      <td>582</td>\n",
       "      <td>116</td>\n",
       "      <td>13.0</td>\n",
       "      <td>179</td>\n",
       "      <td>48</td>\n",
       "    </tr>\n",
       "    <tr>\n",
       "      <th>14821</th>\n",
       "      <td>1</td>\n",
       "      <td>Female</td>\n",
       "      <td>No</td>\n",
       "      <td>Normal</td>\n",
       "      <td>60</td>\n",
       "      <td>Low</td>\n",
       "      <td>127.0</td>\n",
       "      <td>1.70</td>\n",
       "      <td>62000.0</td>\n",
       "      <td>166</td>\n",
       "      <td>45</td>\n",
       "      <td>15.3</td>\n",
       "      <td>130</td>\n",
       "      <td>33</td>\n",
       "    </tr>\n",
       "    <tr>\n",
       "      <th>14853</th>\n",
       "      <td>0</td>\n",
       "      <td>Male</td>\n",
       "      <td>Yes</td>\n",
       "      <td>Normal</td>\n",
       "      <td>70</td>\n",
       "      <td>Low</td>\n",
       "      <td>136.0</td>\n",
       "      <td>2.15</td>\n",
       "      <td>51000.0</td>\n",
       "      <td>582</td>\n",
       "      <td>67</td>\n",
       "      <td>14.1</td>\n",
       "      <td>138</td>\n",
       "      <td>29</td>\n",
       "    </tr>\n",
       "    <tr>\n",
       "      <th>14876</th>\n",
       "      <td>1</td>\n",
       "      <td>Female</td>\n",
       "      <td>No</td>\n",
       "      <td>Normal</td>\n",
       "      <td>60</td>\n",
       "      <td>Low</td>\n",
       "      <td>127.0</td>\n",
       "      <td>1.70</td>\n",
       "      <td>62000.0</td>\n",
       "      <td>166</td>\n",
       "      <td>68</td>\n",
       "      <td>15.8</td>\n",
       "      <td>184</td>\n",
       "      <td>65</td>\n",
       "    </tr>\n",
       "    <tr>\n",
       "      <th>14974</th>\n",
       "      <td>1</td>\n",
       "      <td>Male</td>\n",
       "      <td>No</td>\n",
       "      <td>Pre-diabetes</td>\n",
       "      <td>59</td>\n",
       "      <td>Low</td>\n",
       "      <td>134.0</td>\n",
       "      <td>2.15</td>\n",
       "      <td>70000.0</td>\n",
       "      <td>66</td>\n",
       "      <td>55</td>\n",
       "      <td>12.7</td>\n",
       "      <td>179</td>\n",
       "      <td>85</td>\n",
       "    </tr>\n",
       "  </tbody>\n",
       "</table>\n",
       "<p>247 rows × 14 columns</p>\n",
       "</div>"
      ],
      "text/plain": [
       "       Survive  Gender Smoke      Diabetes  Age Ejection Fraction  Sodium  \\\n",
       "9            1  Female    No        Normal   60               Low   127.0   \n",
       "108          0    Male    No      Diabetes   70               Low   140.0   \n",
       "145          0    Male   Yes        Normal   70               Low   136.0   \n",
       "154          1  Female    No        Normal   60               Low   127.0   \n",
       "252          1  Female    No        Normal   60               Low   127.0   \n",
       "...        ...     ...   ...           ...  ...               ...     ...   \n",
       "14808        0    Male   Yes        Normal   70               Low   136.0   \n",
       "14821        1  Female    No        Normal   60               Low   127.0   \n",
       "14853        0    Male   Yes        Normal   70               Low   136.0   \n",
       "14876        1  Female    No        Normal   60               Low   127.0   \n",
       "14974        1    Male    No  Pre-diabetes   59               Low   134.0   \n",
       "\n",
       "       Creatinine  Pletelets  Creatinine phosphokinase  Blood Pressure  \\\n",
       "9            1.70    62000.0                       166              59   \n",
       "108          1.10    25100.0                       582             116   \n",
       "145          2.15    51000.0                       582             105   \n",
       "154          1.70    62000.0                       166             119   \n",
       "252          1.70    62000.0                       166             115   \n",
       "...           ...        ...                       ...             ...   \n",
       "14808        2.15    51000.0                       582             116   \n",
       "14821        1.70    62000.0                       166              45   \n",
       "14853        2.15    51000.0                       582              67   \n",
       "14876        1.70    62000.0                       166              68   \n",
       "14974        2.15    70000.0                        66              55   \n",
       "\n",
       "       Hemoglobin  Height  Weight  \n",
       "9            12.3     156      47  \n",
       "108          13.3     153      36  \n",
       "145          12.9     169      43  \n",
       "154          16.3     145      41  \n",
       "252          13.6     182      64  \n",
       "...           ...     ...     ...  \n",
       "14808        13.0     179      48  \n",
       "14821        15.3     130      33  \n",
       "14853        14.1     138      29  \n",
       "14876        15.8     184      65  \n",
       "14974        12.7     179      85  \n",
       "\n",
       "[247 rows x 14 columns]"
      ]
     },
     "metadata": {},
     "output_type": "display_data"
    },
    {
     "name": "stderr",
     "output_type": "stream",
     "text": [
      "C:\\Users\\Randy\\Venv\\aiap\\lib\\site-packages\\seaborn\\_decorators.py:36: FutureWarning: Pass the following variable as a keyword arg: x. From version 0.12, the only valid positional argument will be `data`, and passing other arguments without an explicit keyword will result in an error or misinterpretation.\n",
      "  warnings.warn(\n"
     ]
    },
    {
     "name": "stdout",
     "output_type": "stream",
     "text": [
      "\n",
      "Value Counts\n",
      "62000.0    60\n",
      "70000.0    55\n",
      "25100.0    45\n",
      "51000.0    44\n",
      "47000.0    43\n",
      "Name: Pletelets, dtype: int64\n",
      "\n",
      "Describe\n",
      "count     15000.00000\n",
      "mean     263096.01649\n",
      "std       98056.33034\n",
      "min       25100.00000\n",
      "25%      211000.00000\n",
      "50%      262000.00000\n",
      "75%      304000.00000\n",
      "max      850000.00000\n",
      "Name: Pletelets, dtype: float64\n"
     ]
    },
    {
     "data": {
      "image/png": "[encoded data removed]",
      "text/plain": [
       "<Figure size 432x288 with 1 Axes>"
      ]
     },
     "metadata": {
      "needs_background": "light"
     },
     "output_type": "display_data"
    }
   ],
   "source": [
    "inspect_outliers(df, \"Pletelets\")"
   ]
  },
  {
   "cell_type": "markdown",
   "id": "f1c7b744-eb5d-4db3-b964-93ca9c1f0f60",
   "metadata": {},
   "source": [
    "Once again, I am unable to discern any pattern and I will cap the min and max with the consistent approach."
   ]
  },
  {
   "cell_type": "code",
   "execution_count": 46,
   "id": "c2746033-11f3-4a11-8e97-2d4c4d45d090",
   "metadata": {},
   "outputs": [
    {
     "name": "stderr",
     "output_type": "stream",
     "text": [
      "C:\\Users\\Randy\\Venv\\aiap\\lib\\site-packages\\seaborn\\_decorators.py:36: FutureWarning: Pass the following variable as a keyword arg: x. From version 0.12, the only valid positional argument will be `data`, and passing other arguments without an explicit keyword will result in an error or misinterpretation.\n",
      "  warnings.warn(\n"
     ]
    },
    {
     "data": {
      "image/png": "[encoded data removed]",
      "text/plain": [
       "<Figure size 432x288 with 1 Axes>"
      ]
     },
     "metadata": {
      "needs_background": "light"
     },
     "output_type": "display_data"
    }
   ],
   "source": [
    "bound_outliers(df, \"Pletelets\")"
   ]
  },
  {
   "cell_type": "markdown",
   "id": "eff732c3-8951-45ed-92b1-c1322d26eb8f",
   "metadata": {},
   "source": [
    "## Creatinine phosphokinase"
   ]
  },
  {
   "cell_type": "code",
   "execution_count": 47,
   "id": "2508b38f-837d-4018-b176-aeeea3b7b68a",
   "metadata": {},
   "outputs": [
    {
     "name": "stdout",
     "output_type": "stream",
     "text": [
      "Values > Outer Fence \n",
      "\n"
     ]
    },
    {
     "data": {
      "text/html": [
       "<div>\n",
       "<style scoped>\n",
       "    .dataframe tbody tr th:only-of-type {\n",
       "        vertical-align: middle;\n",
       "    }\n",
       "\n",
       "    .dataframe tbody tr th {\n",
       "        vertical-align: top;\n",
       "    }\n",
       "\n",
       "    .dataframe thead th {\n",
       "        text-align: right;\n",
       "    }\n",
       "</style>\n",
       "<table border=\"1\" class=\"dataframe\">\n",
       "  <thead>\n",
       "    <tr style=\"text-align: right;\">\n",
       "      <th></th>\n",
       "      <th>Survive</th>\n",
       "      <th>Gender</th>\n",
       "      <th>Smoke</th>\n",
       "      <th>Diabetes</th>\n",
       "      <th>Age</th>\n",
       "      <th>Ejection Fraction</th>\n",
       "      <th>Sodium</th>\n",
       "      <th>Creatinine</th>\n",
       "      <th>Pletelets</th>\n",
       "      <th>Creatinine phosphokinase</th>\n",
       "      <th>Blood Pressure</th>\n",
       "      <th>Hemoglobin</th>\n",
       "      <th>Height</th>\n",
       "      <th>Weight</th>\n",
       "    </tr>\n",
       "  </thead>\n",
       "  <tbody>\n",
       "    <tr>\n",
       "      <th>3</th>\n",
       "      <td>0</td>\n",
       "      <td>Male</td>\n",
       "      <td>No</td>\n",
       "      <td>Normal</td>\n",
       "      <td>60</td>\n",
       "      <td>Low</td>\n",
       "      <td>136.0</td>\n",
       "      <td>0.90</td>\n",
       "      <td>228000.0</td>\n",
       "      <td>2261</td>\n",
       "      <td>136</td>\n",
       "      <td>15.3</td>\n",
       "      <td>130</td>\n",
       "      <td>48</td>\n",
       "    </tr>\n",
       "    <tr>\n",
       "      <th>5</th>\n",
       "      <td>1</td>\n",
       "      <td>Male</td>\n",
       "      <td>No</td>\n",
       "      <td>Normal</td>\n",
       "      <td>55</td>\n",
       "      <td>Low</td>\n",
       "      <td>138.0</td>\n",
       "      <td>1.10</td>\n",
       "      <td>314000.0</td>\n",
       "      <td>2017</td>\n",
       "      <td>88</td>\n",
       "      <td>16.5</td>\n",
       "      <td>176</td>\n",
       "      <td>58</td>\n",
       "    </tr>\n",
       "    <tr>\n",
       "      <th>24</th>\n",
       "      <td>1</td>\n",
       "      <td>Male</td>\n",
       "      <td>Yes</td>\n",
       "      <td>Normal</td>\n",
       "      <td>85</td>\n",
       "      <td>Low</td>\n",
       "      <td>132.0</td>\n",
       "      <td>1.00</td>\n",
       "      <td>243000.0</td>\n",
       "      <td>5882</td>\n",
       "      <td>79</td>\n",
       "      <td>15.2</td>\n",
       "      <td>160</td>\n",
       "      <td>84</td>\n",
       "    </tr>\n",
       "    <tr>\n",
       "      <th>25</th>\n",
       "      <td>0</td>\n",
       "      <td>Male</td>\n",
       "      <td>No</td>\n",
       "      <td>Diabetes</td>\n",
       "      <td>60</td>\n",
       "      <td>Low</td>\n",
       "      <td>137.0</td>\n",
       "      <td>2.15</td>\n",
       "      <td>305000.0</td>\n",
       "      <td>2656</td>\n",
       "      <td>76</td>\n",
       "      <td>12.8</td>\n",
       "      <td>186</td>\n",
       "      <td>128</td>\n",
       "    </tr>\n",
       "    <tr>\n",
       "      <th>27</th>\n",
       "      <td>0</td>\n",
       "      <td>Male</td>\n",
       "      <td>Yes</td>\n",
       "      <td>Normal</td>\n",
       "      <td>45</td>\n",
       "      <td>Low</td>\n",
       "      <td>140.0</td>\n",
       "      <td>1.40</td>\n",
       "      <td>140000.0</td>\n",
       "      <td>2413</td>\n",
       "      <td>108</td>\n",
       "      <td>15.3</td>\n",
       "      <td>134</td>\n",
       "      <td>22</td>\n",
       "    </tr>\n",
       "    <tr>\n",
       "      <th>...</th>\n",
       "      <td>...</td>\n",
       "      <td>...</td>\n",
       "      <td>...</td>\n",
       "      <td>...</td>\n",
       "      <td>...</td>\n",
       "      <td>...</td>\n",
       "      <td>...</td>\n",
       "      <td>...</td>\n",
       "      <td>...</td>\n",
       "      <td>...</td>\n",
       "      <td>...</td>\n",
       "      <td>...</td>\n",
       "      <td>...</td>\n",
       "      <td>...</td>\n",
       "    </tr>\n",
       "    <tr>\n",
       "      <th>14925</th>\n",
       "      <td>0</td>\n",
       "      <td>Female</td>\n",
       "      <td>No</td>\n",
       "      <td>Normal</td>\n",
       "      <td>55</td>\n",
       "      <td>Low</td>\n",
       "      <td>139.0</td>\n",
       "      <td>1.20</td>\n",
       "      <td>270000.0</td>\n",
       "      <td>1820</td>\n",
       "      <td>95</td>\n",
       "      <td>15.2</td>\n",
       "      <td>140</td>\n",
       "      <td>25</td>\n",
       "    </tr>\n",
       "    <tr>\n",
       "      <th>14932</th>\n",
       "      <td>0</td>\n",
       "      <td>Male</td>\n",
       "      <td>No</td>\n",
       "      <td>Pre-diabetes</td>\n",
       "      <td>60</td>\n",
       "      <td>Low</td>\n",
       "      <td>137.0</td>\n",
       "      <td>2.15</td>\n",
       "      <td>305000.0</td>\n",
       "      <td>2656</td>\n",
       "      <td>78</td>\n",
       "      <td>12.1</td>\n",
       "      <td>151</td>\n",
       "      <td>84</td>\n",
       "    </tr>\n",
       "    <tr>\n",
       "      <th>14940</th>\n",
       "      <td>1</td>\n",
       "      <td>Male</td>\n",
       "      <td>No</td>\n",
       "      <td>Diabetes</td>\n",
       "      <td>45</td>\n",
       "      <td>Low</td>\n",
       "      <td>139.0</td>\n",
       "      <td>1.10</td>\n",
       "      <td>334000.0</td>\n",
       "      <td>2442</td>\n",
       "      <td>78</td>\n",
       "      <td>13.2</td>\n",
       "      <td>178</td>\n",
       "      <td>86</td>\n",
       "    </tr>\n",
       "    <tr>\n",
       "      <th>14950</th>\n",
       "      <td>0</td>\n",
       "      <td>Male</td>\n",
       "      <td>Yes</td>\n",
       "      <td>Normal</td>\n",
       "      <td>69</td>\n",
       "      <td>Low</td>\n",
       "      <td>135.0</td>\n",
       "      <td>1.00</td>\n",
       "      <td>105000.0</td>\n",
       "      <td>1419</td>\n",
       "      <td>48</td>\n",
       "      <td>14.6</td>\n",
       "      <td>140</td>\n",
       "      <td>50</td>\n",
       "    </tr>\n",
       "    <tr>\n",
       "      <th>14976</th>\n",
       "      <td>0</td>\n",
       "      <td>Male</td>\n",
       "      <td>Yes</td>\n",
       "      <td>Normal</td>\n",
       "      <td>53</td>\n",
       "      <td>Normal-High</td>\n",
       "      <td>138.0</td>\n",
       "      <td>0.70</td>\n",
       "      <td>249000.0</td>\n",
       "      <td>1808</td>\n",
       "      <td>173</td>\n",
       "      <td>11.6</td>\n",
       "      <td>169</td>\n",
       "      <td>84</td>\n",
       "    </tr>\n",
       "  </tbody>\n",
       "</table>\n",
       "<p>1483 rows × 14 columns</p>\n",
       "</div>"
      ],
      "text/plain": [
       "       Survive  Gender Smoke      Diabetes  Age Ejection Fraction  Sodium  \\\n",
       "3            0    Male    No        Normal   60               Low   136.0   \n",
       "5            1    Male    No        Normal   55               Low   138.0   \n",
       "24           1    Male   Yes        Normal   85               Low   132.0   \n",
       "25           0    Male    No      Diabetes   60               Low   137.0   \n",
       "27           0    Male   Yes        Normal   45               Low   140.0   \n",
       "...        ...     ...   ...           ...  ...               ...     ...   \n",
       "14925        0  Female    No        Normal   55               Low   139.0   \n",
       "14932        0    Male    No  Pre-diabetes   60               Low   137.0   \n",
       "14940        1    Male    No      Diabetes   45               Low   139.0   \n",
       "14950        0    Male   Yes        Normal   69               Low   135.0   \n",
       "14976        0    Male   Yes        Normal   53       Normal-High   138.0   \n",
       "\n",
       "       Creatinine  Pletelets  Creatinine phosphokinase  Blood Pressure  \\\n",
       "3            0.90   228000.0                      2261             136   \n",
       "5            1.10   314000.0                      2017              88   \n",
       "24           1.00   243000.0                      5882              79   \n",
       "25           2.15   305000.0                      2656              76   \n",
       "27           1.40   140000.0                      2413             108   \n",
       "...           ...        ...                       ...             ...   \n",
       "14925        1.20   270000.0                      1820              95   \n",
       "14932        2.15   305000.0                      2656              78   \n",
       "14940        1.10   334000.0                      2442              78   \n",
       "14950        1.00   105000.0                      1419              48   \n",
       "14976        0.70   249000.0                      1808             173   \n",
       "\n",
       "       Hemoglobin  Height  Weight  \n",
       "3            15.3     130      48  \n",
       "5            16.5     176      58  \n",
       "24           15.2     160      84  \n",
       "25           12.8     186     128  \n",
       "27           15.3     134      22  \n",
       "...           ...     ...     ...  \n",
       "14925        15.2     140      25  \n",
       "14932        12.1     151      84  \n",
       "14940        13.2     178      86  \n",
       "14950        14.6     140      50  \n",
       "14976        11.6     169      84  \n",
       "\n",
       "[1483 rows x 14 columns]"
      ]
     },
     "metadata": {},
     "output_type": "display_data"
    },
    {
     "name": "stdout",
     "output_type": "stream",
     "text": [
      "\n",
      "Value Counts\n",
      "2413    68\n",
      "1820    64\n",
      "2656    62\n",
      "3966    60\n",
      "1419    58\n",
      "2017    58\n",
      "5209    57\n",
      "1688    56\n",
      "1896    55\n",
      "2794    55\n",
      "1876    55\n",
      "1610    53\n",
      "2695    52\n",
      "2442    51\n",
      "4540    49\n",
      "1808    48\n",
      "2281    47\n",
      "1767    47\n",
      "7861    47\n",
      "2060    46\n",
      "1846    46\n",
      "3964    46\n",
      "7702    46\n",
      "2334    46\n",
      "2261    44\n",
      "1548    44\n",
      "2522    43\n",
      "1380    41\n",
      "5882    39\n",
      "Name: Creatinine phosphokinase, dtype: int64\n",
      "\n",
      "Values < Outer Fence \n",
      "\n"
     ]
    },
    {
     "data": {
      "text/html": [
       "<div>\n",
       "<style scoped>\n",
       "    .dataframe tbody tr th:only-of-type {\n",
       "        vertical-align: middle;\n",
       "    }\n",
       "\n",
       "    .dataframe tbody tr th {\n",
       "        vertical-align: top;\n",
       "    }\n",
       "\n",
       "    .dataframe thead th {\n",
       "        text-align: right;\n",
       "    }\n",
       "</style>\n",
       "<table border=\"1\" class=\"dataframe\">\n",
       "  <thead>\n",
       "    <tr style=\"text-align: right;\">\n",
       "      <th></th>\n",
       "      <th>Survive</th>\n",
       "      <th>Gender</th>\n",
       "      <th>Smoke</th>\n",
       "      <th>Diabetes</th>\n",
       "      <th>Age</th>\n",
       "      <th>Ejection Fraction</th>\n",
       "      <th>Sodium</th>\n",
       "      <th>Creatinine</th>\n",
       "      <th>Pletelets</th>\n",
       "      <th>Creatinine phosphokinase</th>\n",
       "      <th>Blood Pressure</th>\n",
       "      <th>Hemoglobin</th>\n",
       "      <th>Height</th>\n",
       "      <th>Weight</th>\n",
       "    </tr>\n",
       "  </thead>\n",
       "  <tbody>\n",
       "  </tbody>\n",
       "</table>\n",
       "</div>"
      ],
      "text/plain": [
       "Empty DataFrame\n",
       "Columns: [Survive, Gender, Smoke, Diabetes, Age, Ejection Fraction, Sodium, Creatinine, Pletelets, Creatinine phosphokinase, Blood Pressure, Hemoglobin, Height, Weight]\n",
       "Index: []"
      ]
     },
     "metadata": {},
     "output_type": "display_data"
    },
    {
     "name": "stderr",
     "output_type": "stream",
     "text": [
      "C:\\Users\\Randy\\Venv\\aiap\\lib\\site-packages\\seaborn\\_decorators.py:36: FutureWarning: Pass the following variable as a keyword arg: x. From version 0.12, the only valid positional argument will be `data`, and passing other arguments without an explicit keyword will result in an error or misinterpretation.\n",
      "  warnings.warn(\n"
     ]
    },
    {
     "name": "stdout",
     "output_type": "stream",
     "text": [
      "\n",
      "Value Counts\n",
      "Series([], Name: Creatinine phosphokinase, dtype: int64)\n",
      "\n",
      "Describe\n",
      "count    15000.000000\n",
      "mean       580.151800\n",
      "std        955.418765\n",
      "min         23.000000\n",
      "25%        115.000000\n",
      "50%        250.000000\n",
      "75%        582.000000\n",
      "max       7861.000000\n",
      "Name: Creatinine phosphokinase, dtype: float64\n"
     ]
    },
    {
     "data": {
      "image/png": "[encoded data removed]",
      "text/plain": [
       "<Figure size 432x288 with 1 Axes>"
      ]
     },
     "metadata": {
      "needs_background": "light"
     },
     "output_type": "display_data"
    }
   ],
   "source": [
    "inspect_outliers(df, \"Creatinine phosphokinase\")"
   ]
  },
  {
   "cell_type": "markdown",
   "id": "410c099e-78e2-4331-82e9-6c52cda88c92",
   "metadata": {},
   "source": [
    "Once again, I am unable to discern any pattern and I will cap the min and max with the consistent approach."
   ]
  },
  {
   "cell_type": "code",
   "execution_count": 48,
   "id": "fcbcf80f-012a-4ac7-aada-0e93166bae0e",
   "metadata": {},
   "outputs": [
    {
     "name": "stderr",
     "output_type": "stream",
     "text": [
      "C:\\Users\\Randy\\Venv\\aiap\\lib\\site-packages\\seaborn\\_decorators.py:36: FutureWarning: Pass the following variable as a keyword arg: x. From version 0.12, the only valid positional argument will be `data`, and passing other arguments without an explicit keyword will result in an error or misinterpretation.\n",
      "  warnings.warn(\n"
     ]
    },
    {
     "data": {
      "image/png": "[encoded data removed]",
      "text/plain": [
       "<Figure size 432x288 with 1 Axes>"
      ]
     },
     "metadata": {
      "needs_background": "light"
     },
     "output_type": "display_data"
    }
   ],
   "source": [
    "bound_outliers(df, \"Creatinine phosphokinase\")"
   ]
  },
  {
   "cell_type": "markdown",
   "id": "44a5a9d0-3743-4710-b4b7-af93403fc565",
   "metadata": {},
   "source": [
    "## Blood Pressure"
   ]
  },
  {
   "cell_type": "markdown",
   "id": "fcf1cc1a-a5bc-4bfc-a8c6-3a97931f823b",
   "metadata": {},
   "source": [
    "Problem : Blood pressure is typically measured with 2 set of values but only 1 is present without specifying which"
   ]
  },
  {
   "cell_type": "code",
   "execution_count": 49,
   "id": "6ca2f10c-c40f-48e2-a91b-5cc1e67c4120",
   "metadata": {},
   "outputs": [
    {
     "data": {
      "text/plain": [
       "<AxesSubplot:>"
      ]
     },
     "execution_count": 49,
     "metadata": {},
     "output_type": "execute_result"
    },
    {
     "data": {
      "image/png": "[encoded data removed]",
      "text/plain": [
       "<Figure size 432x288 with 1 Axes>"
      ]
     },
     "metadata": {
      "needs_background": "light"
     },
     "output_type": "display_data"
    }
   ],
   "source": [
    "df[\"Blood Pressure\"].hist()"
   ]
  },
  {
   "cell_type": "code",
   "execution_count": 50,
   "id": "a522944f-b053-4d48-89f2-265b6c356525",
   "metadata": {},
   "outputs": [
    {
     "name": "stderr",
     "output_type": "stream",
     "text": [
      "C:\\Users\\Randy\\Venv\\aiap\\lib\\site-packages\\seaborn\\_decorators.py:36: FutureWarning: Pass the following variable as a keyword arg: x. From version 0.12, the only valid positional argument will be `data`, and passing other arguments without an explicit keyword will result in an error or misinterpretation.\n",
      "  warnings.warn(\n"
     ]
    },
    {
     "data": {
      "text/plain": [
       "<AxesSubplot:xlabel='Blood Pressure'>"
      ]
     },
     "execution_count": 50,
     "metadata": {},
     "output_type": "execute_result"
    },
    {
     "data": {
      "image/png": "[encoded data removed]",
      "text/plain": [
       "<Figure size 432x288 with 1 Axes>"
      ]
     },
     "metadata": {
      "needs_background": "light"
     },
     "output_type": "display_data"
    }
   ],
   "source": [
    "sns.boxplot(df[\"Blood Pressure\"])"
   ]
  },
  {
   "cell_type": "markdown",
   "id": "2737ac0e-51cd-4c14-8470-3dab58b42f18",
   "metadata": {},
   "source": [
    "As I do not have medical knowledge and I am unable to identify if the BP is actually measuring diastolic or systolic pressure, I will assume it is actually measuring one of them and the measurements are done consistently. "
   ]
  },
  {
   "cell_type": "markdown",
   "id": "353ac80e-b007-443f-ae0a-339b9c07fc2a",
   "metadata": {},
   "source": [
    "## Hemoglobin"
   ]
  },
  {
   "cell_type": "markdown",
   "id": "1c8c4eb7-d5b8-4feb-81ae-dc3b02f4e75a",
   "metadata": {},
   "source": [
    "Hemoglobin appears to be in range"
   ]
  },
  {
   "cell_type": "code",
   "execution_count": 51,
   "id": "e0a492f0-6af2-410a-9ca7-d4791a1b6dda",
   "metadata": {},
   "outputs": [
    {
     "name": "stderr",
     "output_type": "stream",
     "text": [
      "C:\\Users\\Randy\\Venv\\aiap\\lib\\site-packages\\seaborn\\_decorators.py:36: FutureWarning: Pass the following variable as a keyword arg: x. From version 0.12, the only valid positional argument will be `data`, and passing other arguments without an explicit keyword will result in an error or misinterpretation.\n",
      "  warnings.warn(\n"
     ]
    },
    {
     "data": {
      "text/plain": [
       "<AxesSubplot:xlabel='Hemoglobin'>"
      ]
     },
     "execution_count": 51,
     "metadata": {},
     "output_type": "execute_result"
    },
    {
     "data": {
      "image/png": "[encoded data removed]",
      "text/plain": [
       "<Figure size 432x288 with 1 Axes>"
      ]
     },
     "metadata": {
      "needs_background": "light"
     },
     "output_type": "display_data"
    }
   ],
   "source": [
    "sns.boxplot(df.Hemoglobin)"
   ]
  },
  {
   "cell_type": "markdown",
   "id": "fb5eba5b-1037-4bd8-828e-ecd6bec447de",
   "metadata": {},
   "source": [
    "## Height and Weight"
   ]
  },
  {
   "cell_type": "markdown",
   "id": "d44f10c5-9fb0-4e23-8bda-d06cb986b473",
   "metadata": {},
   "source": [
    "I will inspect both height and weight together. "
   ]
  },
  {
   "cell_type": "code",
   "execution_count": 52,
   "id": "15dc5856-6481-4778-9f5e-0b7a628b0bff",
   "metadata": {},
   "outputs": [
    {
     "name": "stderr",
     "output_type": "stream",
     "text": [
      "C:\\Users\\Randy\\Venv\\aiap\\lib\\site-packages\\seaborn\\_decorators.py:36: FutureWarning: Pass the following variable as a keyword arg: x. From version 0.12, the only valid positional argument will be `data`, and passing other arguments without an explicit keyword will result in an error or misinterpretation.\n",
      "  warnings.warn(\n"
     ]
    },
    {
     "data": {
      "text/plain": [
       "<AxesSubplot:xlabel='Height'>"
      ]
     },
     "execution_count": 52,
     "metadata": {},
     "output_type": "execute_result"
    },
    {
     "data": {
      "image/png": "[encoded data removed]",
      "text/plain": [
       "<Figure size 432x288 with 1 Axes>"
      ]
     },
     "metadata": {
      "needs_background": "light"
     },
     "output_type": "display_data"
    }
   ],
   "source": [
    "sns.boxplot(df.Height)"
   ]
  },
  {
   "cell_type": "code",
   "execution_count": 53,
   "id": "f71216c2-17e8-44f8-886f-d687ce7c0e4d",
   "metadata": {},
   "outputs": [
    {
     "name": "stderr",
     "output_type": "stream",
     "text": [
      "C:\\Users\\Randy\\Venv\\aiap\\lib\\site-packages\\seaborn\\_decorators.py:36: FutureWarning: Pass the following variable as a keyword arg: x. From version 0.12, the only valid positional argument will be `data`, and passing other arguments without an explicit keyword will result in an error or misinterpretation.\n",
      "  warnings.warn(\n"
     ]
    },
    {
     "data": {
      "text/plain": [
       "<AxesSubplot:xlabel='Weight'>"
      ]
     },
     "execution_count": 53,
     "metadata": {},
     "output_type": "execute_result"
    },
    {
     "data": {
      "image/png": "[encoded data removed]",
      "text/plain": [
       "<Figure size 432x288 with 1 Axes>"
      ]
     },
     "metadata": {
      "needs_background": "light"
     },
     "output_type": "display_data"
    }
   ],
   "source": [
    "sns.boxplot(df.Weight)"
   ]
  },
  {
   "cell_type": "code",
   "execution_count": 54,
   "id": "c5348466-813f-46d4-b2ee-8af2b8bfd0b8",
   "metadata": {},
   "outputs": [
    {
     "data": {
      "text/html": [
       "<div>\n",
       "<style scoped>\n",
       "    .dataframe tbody tr th:only-of-type {\n",
       "        vertical-align: middle;\n",
       "    }\n",
       "\n",
       "    .dataframe tbody tr th {\n",
       "        vertical-align: top;\n",
       "    }\n",
       "\n",
       "    .dataframe thead th {\n",
       "        text-align: right;\n",
       "    }\n",
       "</style>\n",
       "<table border=\"1\" class=\"dataframe\">\n",
       "  <thead>\n",
       "    <tr style=\"text-align: right;\">\n",
       "      <th></th>\n",
       "      <th>Survive</th>\n",
       "      <th>Gender</th>\n",
       "      <th>Smoke</th>\n",
       "      <th>Diabetes</th>\n",
       "      <th>Age</th>\n",
       "      <th>Ejection Fraction</th>\n",
       "      <th>Sodium</th>\n",
       "      <th>Creatinine</th>\n",
       "      <th>Pletelets</th>\n",
       "      <th>Creatinine phosphokinase</th>\n",
       "      <th>Blood Pressure</th>\n",
       "      <th>Hemoglobin</th>\n",
       "      <th>Height</th>\n",
       "      <th>Weight</th>\n",
       "    </tr>\n",
       "  </thead>\n",
       "  <tbody>\n",
       "    <tr>\n",
       "      <th>3</th>\n",
       "      <td>0</td>\n",
       "      <td>Male</td>\n",
       "      <td>No</td>\n",
       "      <td>Normal</td>\n",
       "      <td>60</td>\n",
       "      <td>Low</td>\n",
       "      <td>136.0</td>\n",
       "      <td>0.90</td>\n",
       "      <td>228000.00</td>\n",
       "      <td>1282.5</td>\n",
       "      <td>136</td>\n",
       "      <td>15.3</td>\n",
       "      <td>130</td>\n",
       "      <td>48</td>\n",
       "    </tr>\n",
       "    <tr>\n",
       "      <th>12</th>\n",
       "      <td>0</td>\n",
       "      <td>Female</td>\n",
       "      <td>No</td>\n",
       "      <td>Normal</td>\n",
       "      <td>70</td>\n",
       "      <td>Low</td>\n",
       "      <td>141.0</td>\n",
       "      <td>0.90</td>\n",
       "      <td>358000.00</td>\n",
       "      <td>1202.0</td>\n",
       "      <td>139</td>\n",
       "      <td>16.6</td>\n",
       "      <td>132</td>\n",
       "      <td>36</td>\n",
       "    </tr>\n",
       "    <tr>\n",
       "      <th>17</th>\n",
       "      <td>1</td>\n",
       "      <td>Male</td>\n",
       "      <td>Yes</td>\n",
       "      <td>Normal</td>\n",
       "      <td>68</td>\n",
       "      <td>Low</td>\n",
       "      <td>140.0</td>\n",
       "      <td>0.90</td>\n",
       "      <td>289000.00</td>\n",
       "      <td>220.0</td>\n",
       "      <td>124</td>\n",
       "      <td>10.5</td>\n",
       "      <td>135</td>\n",
       "      <td>69</td>\n",
       "    </tr>\n",
       "    <tr>\n",
       "      <th>27</th>\n",
       "      <td>0</td>\n",
       "      <td>Male</td>\n",
       "      <td>Yes</td>\n",
       "      <td>Normal</td>\n",
       "      <td>45</td>\n",
       "      <td>Low</td>\n",
       "      <td>140.0</td>\n",
       "      <td>1.40</td>\n",
       "      <td>140000.00</td>\n",
       "      <td>1282.5</td>\n",
       "      <td>108</td>\n",
       "      <td>15.3</td>\n",
       "      <td>134</td>\n",
       "      <td>22</td>\n",
       "    </tr>\n",
       "    <tr>\n",
       "      <th>31</th>\n",
       "      <td>1</td>\n",
       "      <td>Male</td>\n",
       "      <td>No</td>\n",
       "      <td>Pre-diabetes</td>\n",
       "      <td>94</td>\n",
       "      <td>Low</td>\n",
       "      <td>134.0</td>\n",
       "      <td>1.83</td>\n",
       "      <td>263358.03</td>\n",
       "      <td>582.0</td>\n",
       "      <td>137</td>\n",
       "      <td>17.4</td>\n",
       "      <td>137</td>\n",
       "      <td>70</td>\n",
       "    </tr>\n",
       "    <tr>\n",
       "      <th>...</th>\n",
       "      <td>...</td>\n",
       "      <td>...</td>\n",
       "      <td>...</td>\n",
       "      <td>...</td>\n",
       "      <td>...</td>\n",
       "      <td>...</td>\n",
       "      <td>...</td>\n",
       "      <td>...</td>\n",
       "      <td>...</td>\n",
       "      <td>...</td>\n",
       "      <td>...</td>\n",
       "      <td>...</td>\n",
       "      <td>...</td>\n",
       "      <td>...</td>\n",
       "    </tr>\n",
       "    <tr>\n",
       "      <th>14951</th>\n",
       "      <td>0</td>\n",
       "      <td>Male</td>\n",
       "      <td>No</td>\n",
       "      <td>Diabetes</td>\n",
       "      <td>63</td>\n",
       "      <td>Low</td>\n",
       "      <td>134.0</td>\n",
       "      <td>1.30</td>\n",
       "      <td>254000.00</td>\n",
       "      <td>514.0</td>\n",
       "      <td>149</td>\n",
       "      <td>9.5</td>\n",
       "      <td>139</td>\n",
       "      <td>61</td>\n",
       "    </tr>\n",
       "    <tr>\n",
       "      <th>14952</th>\n",
       "      <td>0</td>\n",
       "      <td>Male</td>\n",
       "      <td>Yes</td>\n",
       "      <td>Normal</td>\n",
       "      <td>40</td>\n",
       "      <td>Low</td>\n",
       "      <td>136.0</td>\n",
       "      <td>1.10</td>\n",
       "      <td>255000.00</td>\n",
       "      <td>90.0</td>\n",
       "      <td>72</td>\n",
       "      <td>14.2</td>\n",
       "      <td>132</td>\n",
       "      <td>33</td>\n",
       "    </tr>\n",
       "    <tr>\n",
       "      <th>14970</th>\n",
       "      <td>0</td>\n",
       "      <td>Male</td>\n",
       "      <td>Yes</td>\n",
       "      <td>Pre-diabetes</td>\n",
       "      <td>65</td>\n",
       "      <td>Low</td>\n",
       "      <td>137.0</td>\n",
       "      <td>0.90</td>\n",
       "      <td>281000.00</td>\n",
       "      <td>198.0</td>\n",
       "      <td>171</td>\n",
       "      <td>13.9</td>\n",
       "      <td>131</td>\n",
       "      <td>44</td>\n",
       "    </tr>\n",
       "    <tr>\n",
       "      <th>14980</th>\n",
       "      <td>1</td>\n",
       "      <td>Male</td>\n",
       "      <td>Yes</td>\n",
       "      <td>Pre-diabetes</td>\n",
       "      <td>60</td>\n",
       "      <td>Normal-High</td>\n",
       "      <td>131.0</td>\n",
       "      <td>1.10</td>\n",
       "      <td>443500.00</td>\n",
       "      <td>315.0</td>\n",
       "      <td>66</td>\n",
       "      <td>10.4</td>\n",
       "      <td>131</td>\n",
       "      <td>67</td>\n",
       "    </tr>\n",
       "    <tr>\n",
       "      <th>14998</th>\n",
       "      <td>0</td>\n",
       "      <td>Male</td>\n",
       "      <td>No</td>\n",
       "      <td>Normal</td>\n",
       "      <td>77</td>\n",
       "      <td>Low</td>\n",
       "      <td>137.0</td>\n",
       "      <td>1.10</td>\n",
       "      <td>406000.00</td>\n",
       "      <td>109.0</td>\n",
       "      <td>154</td>\n",
       "      <td>11.3</td>\n",
       "      <td>130</td>\n",
       "      <td>32</td>\n",
       "    </tr>\n",
       "  </tbody>\n",
       "</table>\n",
       "<p>2543 rows × 14 columns</p>\n",
       "</div>"
      ],
      "text/plain": [
       "       Survive  Gender Smoke      Diabetes  Age Ejection Fraction  Sodium  \\\n",
       "3            0    Male    No        Normal   60               Low   136.0   \n",
       "12           0  Female    No        Normal   70               Low   141.0   \n",
       "17           1    Male   Yes        Normal   68               Low   140.0   \n",
       "27           0    Male   Yes        Normal   45               Low   140.0   \n",
       "31           1    Male    No  Pre-diabetes   94               Low   134.0   \n",
       "...        ...     ...   ...           ...  ...               ...     ...   \n",
       "14951        0    Male    No      Diabetes   63               Low   134.0   \n",
       "14952        0    Male   Yes        Normal   40               Low   136.0   \n",
       "14970        0    Male   Yes  Pre-diabetes   65               Low   137.0   \n",
       "14980        1    Male   Yes  Pre-diabetes   60       Normal-High   131.0   \n",
       "14998        0    Male    No        Normal   77               Low   137.0   \n",
       "\n",
       "       Creatinine  Pletelets  Creatinine phosphokinase  Blood Pressure  \\\n",
       "3            0.90  228000.00                    1282.5             136   \n",
       "12           0.90  358000.00                    1202.0             139   \n",
       "17           0.90  289000.00                     220.0             124   \n",
       "27           1.40  140000.00                    1282.5             108   \n",
       "31           1.83  263358.03                     582.0             137   \n",
       "...           ...        ...                       ...             ...   \n",
       "14951        1.30  254000.00                     514.0             149   \n",
       "14952        1.10  255000.00                      90.0              72   \n",
       "14970        0.90  281000.00                     198.0             171   \n",
       "14980        1.10  443500.00                     315.0              66   \n",
       "14998        1.10  406000.00                     109.0             154   \n",
       "\n",
       "       Hemoglobin  Height  Weight  \n",
       "3            15.3     130      48  \n",
       "12           16.6     132      36  \n",
       "17           10.5     135      69  \n",
       "27           15.3     134      22  \n",
       "31           17.4     137      70  \n",
       "...           ...     ...     ...  \n",
       "14951         9.5     139      61  \n",
       "14952        14.2     132      33  \n",
       "14970        13.9     131      44  \n",
       "14980        10.4     131      67  \n",
       "14998        11.3     130      32  \n",
       "\n",
       "[2543 rows x 14 columns]"
      ]
     },
     "execution_count": 54,
     "metadata": {},
     "output_type": "execute_result"
    }
   ],
   "source": [
    "df[df.Height < 140]"
   ]
  },
  {
   "cell_type": "code",
   "execution_count": 55,
   "id": "9215b12b-b0c1-4892-8180-8fb2e52211ad",
   "metadata": {},
   "outputs": [
    {
     "data": {
      "text/html": [
       "<div>\n",
       "<style scoped>\n",
       "    .dataframe tbody tr th:only-of-type {\n",
       "        vertical-align: middle;\n",
       "    }\n",
       "\n",
       "    .dataframe tbody tr th {\n",
       "        vertical-align: top;\n",
       "    }\n",
       "\n",
       "    .dataframe thead th {\n",
       "        text-align: right;\n",
       "    }\n",
       "</style>\n",
       "<table border=\"1\" class=\"dataframe\">\n",
       "  <thead>\n",
       "    <tr style=\"text-align: right;\">\n",
       "      <th></th>\n",
       "      <th>Survive</th>\n",
       "      <th>Gender</th>\n",
       "      <th>Smoke</th>\n",
       "      <th>Diabetes</th>\n",
       "      <th>Age</th>\n",
       "      <th>Ejection Fraction</th>\n",
       "      <th>Sodium</th>\n",
       "      <th>Creatinine</th>\n",
       "      <th>Pletelets</th>\n",
       "      <th>Creatinine phosphokinase</th>\n",
       "      <th>Blood Pressure</th>\n",
       "      <th>Hemoglobin</th>\n",
       "      <th>Height</th>\n",
       "      <th>Weight</th>\n",
       "    </tr>\n",
       "  </thead>\n",
       "  <tbody>\n",
       "    <tr>\n",
       "      <th>12</th>\n",
       "      <td>0</td>\n",
       "      <td>Female</td>\n",
       "      <td>No</td>\n",
       "      <td>Normal</td>\n",
       "      <td>70</td>\n",
       "      <td>Low</td>\n",
       "      <td>141.0</td>\n",
       "      <td>0.9</td>\n",
       "      <td>358000.0</td>\n",
       "      <td>1202.0</td>\n",
       "      <td>139</td>\n",
       "      <td>16.6</td>\n",
       "      <td>132</td>\n",
       "      <td>36</td>\n",
       "    </tr>\n",
       "    <tr>\n",
       "      <th>14</th>\n",
       "      <td>0</td>\n",
       "      <td>Male</td>\n",
       "      <td>No</td>\n",
       "      <td>Normal</td>\n",
       "      <td>40</td>\n",
       "      <td>Low</td>\n",
       "      <td>137.0</td>\n",
       "      <td>0.9</td>\n",
       "      <td>255000.0</td>\n",
       "      <td>129.0</td>\n",
       "      <td>82</td>\n",
       "      <td>9.1</td>\n",
       "      <td>140</td>\n",
       "      <td>37</td>\n",
       "    </tr>\n",
       "    <tr>\n",
       "      <th>20</th>\n",
       "      <td>0</td>\n",
       "      <td>Male</td>\n",
       "      <td>No</td>\n",
       "      <td>Normal</td>\n",
       "      <td>42</td>\n",
       "      <td>Low</td>\n",
       "      <td>140.0</td>\n",
       "      <td>0.7</td>\n",
       "      <td>189000.0</td>\n",
       "      <td>64.0</td>\n",
       "      <td>109</td>\n",
       "      <td>13.2</td>\n",
       "      <td>155</td>\n",
       "      <td>37</td>\n",
       "    </tr>\n",
       "    <tr>\n",
       "      <th>27</th>\n",
       "      <td>0</td>\n",
       "      <td>Male</td>\n",
       "      <td>Yes</td>\n",
       "      <td>Normal</td>\n",
       "      <td>45</td>\n",
       "      <td>Low</td>\n",
       "      <td>140.0</td>\n",
       "      <td>1.4</td>\n",
       "      <td>140000.0</td>\n",
       "      <td>1282.5</td>\n",
       "      <td>108</td>\n",
       "      <td>15.3</td>\n",
       "      <td>134</td>\n",
       "      <td>22</td>\n",
       "    </tr>\n",
       "    <tr>\n",
       "      <th>38</th>\n",
       "      <td>0</td>\n",
       "      <td>Male</td>\n",
       "      <td>No</td>\n",
       "      <td>Normal</td>\n",
       "      <td>77</td>\n",
       "      <td>Low</td>\n",
       "      <td>137.0</td>\n",
       "      <td>1.1</td>\n",
       "      <td>406000.0</td>\n",
       "      <td>109.0</td>\n",
       "      <td>130</td>\n",
       "      <td>11.7</td>\n",
       "      <td>143</td>\n",
       "      <td>39</td>\n",
       "    </tr>\n",
       "    <tr>\n",
       "      <th>...</th>\n",
       "      <td>...</td>\n",
       "      <td>...</td>\n",
       "      <td>...</td>\n",
       "      <td>...</td>\n",
       "      <td>...</td>\n",
       "      <td>...</td>\n",
       "      <td>...</td>\n",
       "      <td>...</td>\n",
       "      <td>...</td>\n",
       "      <td>...</td>\n",
       "      <td>...</td>\n",
       "      <td>...</td>\n",
       "      <td>...</td>\n",
       "      <td>...</td>\n",
       "    </tr>\n",
       "    <tr>\n",
       "      <th>14952</th>\n",
       "      <td>0</td>\n",
       "      <td>Male</td>\n",
       "      <td>Yes</td>\n",
       "      <td>Normal</td>\n",
       "      <td>40</td>\n",
       "      <td>Low</td>\n",
       "      <td>136.0</td>\n",
       "      <td>1.1</td>\n",
       "      <td>255000.0</td>\n",
       "      <td>90.0</td>\n",
       "      <td>72</td>\n",
       "      <td>14.2</td>\n",
       "      <td>132</td>\n",
       "      <td>33</td>\n",
       "    </tr>\n",
       "    <tr>\n",
       "      <th>14955</th>\n",
       "      <td>0</td>\n",
       "      <td>Male</td>\n",
       "      <td>Yes</td>\n",
       "      <td>Pre-diabetes</td>\n",
       "      <td>63</td>\n",
       "      <td>Low</td>\n",
       "      <td>136.0</td>\n",
       "      <td>0.9</td>\n",
       "      <td>179000.0</td>\n",
       "      <td>103.0</td>\n",
       "      <td>113</td>\n",
       "      <td>11.5</td>\n",
       "      <td>150</td>\n",
       "      <td>29</td>\n",
       "    </tr>\n",
       "    <tr>\n",
       "      <th>14962</th>\n",
       "      <td>0</td>\n",
       "      <td>Male</td>\n",
       "      <td>No</td>\n",
       "      <td>Pre-diabetes</td>\n",
       "      <td>40</td>\n",
       "      <td>Low</td>\n",
       "      <td>132.0</td>\n",
       "      <td>1.0</td>\n",
       "      <td>222000.0</td>\n",
       "      <td>582.0</td>\n",
       "      <td>43</td>\n",
       "      <td>15.2</td>\n",
       "      <td>154</td>\n",
       "      <td>37</td>\n",
       "    </tr>\n",
       "    <tr>\n",
       "      <th>14983</th>\n",
       "      <td>0</td>\n",
       "      <td>Male</td>\n",
       "      <td>No</td>\n",
       "      <td>Normal</td>\n",
       "      <td>42</td>\n",
       "      <td>Low</td>\n",
       "      <td>140.0</td>\n",
       "      <td>0.7</td>\n",
       "      <td>189000.0</td>\n",
       "      <td>64.0</td>\n",
       "      <td>104</td>\n",
       "      <td>16.5</td>\n",
       "      <td>148</td>\n",
       "      <td>34</td>\n",
       "    </tr>\n",
       "    <tr>\n",
       "      <th>14998</th>\n",
       "      <td>0</td>\n",
       "      <td>Male</td>\n",
       "      <td>No</td>\n",
       "      <td>Normal</td>\n",
       "      <td>77</td>\n",
       "      <td>Low</td>\n",
       "      <td>137.0</td>\n",
       "      <td>1.1</td>\n",
       "      <td>406000.0</td>\n",
       "      <td>109.0</td>\n",
       "      <td>154</td>\n",
       "      <td>11.3</td>\n",
       "      <td>130</td>\n",
       "      <td>32</td>\n",
       "    </tr>\n",
       "  </tbody>\n",
       "</table>\n",
       "<p>1844 rows × 14 columns</p>\n",
       "</div>"
      ],
      "text/plain": [
       "       Survive  Gender Smoke      Diabetes  Age Ejection Fraction  Sodium  \\\n",
       "12           0  Female    No        Normal   70               Low   141.0   \n",
       "14           0    Male    No        Normal   40               Low   137.0   \n",
       "20           0    Male    No        Normal   42               Low   140.0   \n",
       "27           0    Male   Yes        Normal   45               Low   140.0   \n",
       "38           0    Male    No        Normal   77               Low   137.0   \n",
       "...        ...     ...   ...           ...  ...               ...     ...   \n",
       "14952        0    Male   Yes        Normal   40               Low   136.0   \n",
       "14955        0    Male   Yes  Pre-diabetes   63               Low   136.0   \n",
       "14962        0    Male    No  Pre-diabetes   40               Low   132.0   \n",
       "14983        0    Male    No        Normal   42               Low   140.0   \n",
       "14998        0    Male    No        Normal   77               Low   137.0   \n",
       "\n",
       "       Creatinine  Pletelets  Creatinine phosphokinase  Blood Pressure  \\\n",
       "12            0.9   358000.0                    1202.0             139   \n",
       "14            0.9   255000.0                     129.0              82   \n",
       "20            0.7   189000.0                      64.0             109   \n",
       "27            1.4   140000.0                    1282.5             108   \n",
       "38            1.1   406000.0                     109.0             130   \n",
       "...           ...        ...                       ...             ...   \n",
       "14952         1.1   255000.0                      90.0              72   \n",
       "14955         0.9   179000.0                     103.0             113   \n",
       "14962         1.0   222000.0                     582.0              43   \n",
       "14983         0.7   189000.0                      64.0             104   \n",
       "14998         1.1   406000.0                     109.0             154   \n",
       "\n",
       "       Hemoglobin  Height  Weight  \n",
       "12           16.6     132      36  \n",
       "14            9.1     140      37  \n",
       "20           13.2     155      37  \n",
       "27           15.3     134      22  \n",
       "38           11.7     143      39  \n",
       "...           ...     ...     ...  \n",
       "14952        14.2     132      33  \n",
       "14955        11.5     150      29  \n",
       "14962        15.2     154      37  \n",
       "14983        16.5     148      34  \n",
       "14998        11.3     130      32  \n",
       "\n",
       "[1844 rows x 14 columns]"
      ]
     },
     "execution_count": 55,
     "metadata": {},
     "output_type": "execute_result"
    }
   ],
   "source": [
    "df[df.Weight < 40]"
   ]
  },
  {
   "cell_type": "code",
   "execution_count": 56,
   "id": "87df2bb7-2563-4caf-8722-c77ae6e1d7a5",
   "metadata": {},
   "outputs": [
    {
     "data": {
      "text/html": [
       "<div>\n",
       "<style scoped>\n",
       "    .dataframe tbody tr th:only-of-type {\n",
       "        vertical-align: middle;\n",
       "    }\n",
       "\n",
       "    .dataframe tbody tr th {\n",
       "        vertical-align: top;\n",
       "    }\n",
       "\n",
       "    .dataframe thead th {\n",
       "        text-align: right;\n",
       "    }\n",
       "</style>\n",
       "<table border=\"1\" class=\"dataframe\">\n",
       "  <thead>\n",
       "    <tr style=\"text-align: right;\">\n",
       "      <th></th>\n",
       "      <th>Survive</th>\n",
       "      <th>Gender</th>\n",
       "      <th>Smoke</th>\n",
       "      <th>Diabetes</th>\n",
       "      <th>Age</th>\n",
       "      <th>Ejection Fraction</th>\n",
       "      <th>Sodium</th>\n",
       "      <th>Creatinine</th>\n",
       "      <th>Pletelets</th>\n",
       "      <th>Creatinine phosphokinase</th>\n",
       "      <th>Blood Pressure</th>\n",
       "      <th>Hemoglobin</th>\n",
       "      <th>Height</th>\n",
       "      <th>Weight</th>\n",
       "    </tr>\n",
       "  </thead>\n",
       "  <tbody>\n",
       "    <tr>\n",
       "      <th>27</th>\n",
       "      <td>0</td>\n",
       "      <td>Male</td>\n",
       "      <td>Yes</td>\n",
       "      <td>Normal</td>\n",
       "      <td>45</td>\n",
       "      <td>Low</td>\n",
       "      <td>140.0</td>\n",
       "      <td>1.4</td>\n",
       "      <td>140000.0</td>\n",
       "      <td>1282.5</td>\n",
       "      <td>108</td>\n",
       "      <td>15.3</td>\n",
       "      <td>134</td>\n",
       "      <td>22</td>\n",
       "    </tr>\n",
       "  </tbody>\n",
       "</table>\n",
       "</div>"
      ],
      "text/plain": [
       "   Survive Gender Smoke Diabetes Age Ejection Fraction Sodium Creatinine  \\\n",
       "27       0   Male   Yes   Normal  45               Low  140.0        1.4   \n",
       "\n",
       "   Pletelets Creatinine phosphokinase Blood Pressure Hemoglobin Height Weight  \n",
       "27  140000.0                   1282.5            108       15.3    134     22  "
      ]
     },
     "execution_count": 56,
     "metadata": {},
     "output_type": "execute_result"
    }
   ],
   "source": [
    "pd.DataFrame(df.iloc[27]).T"
   ]
  },
  {
   "cell_type": "markdown",
   "id": "92aa3d9b-670b-41d2-8971-a9bbc3e7212e",
   "metadata": {},
   "source": [
    "Some values appear to be suspect like weight around 20kg and height around 130cm. However I will assume that the values are correct and inspect BMI instead."
   ]
  },
  {
   "cell_type": "markdown",
   "id": "c16685ab-b4c4-4993-88e5-ce69cc589da6",
   "metadata": {
    "tags": []
   },
   "source": [
    "# Feature Engineering"
   ]
  },
  {
   "cell_type": "markdown",
   "id": "0ac37bf7-1fab-4a04-aef9-0350994e5854",
   "metadata": {},
   "source": [
    "Without any domain knowledge, I am unable to come up with any specific features except for BMI."
   ]
  },
  {
   "cell_type": "markdown",
   "id": "0571a523-4164-4aee-aa22-ab94747e448f",
   "metadata": {
    "tags": []
   },
   "source": [
    "## BMI"
   ]
  },
  {
   "cell_type": "markdown",
   "id": "94024a4b-cabf-40a1-be94-90da579afe1e",
   "metadata": {},
   "source": [
    "As mentioned,seeing how in medical usage they are usually inspected as BMI instead of individually, I will introduce new feature BMI. I will see if the values are odd"
   ]
  },
  {
   "cell_type": "markdown",
   "id": "14ba13fa-9008-47cd-a3f8-ffc53577d32a",
   "metadata": {},
   "source": [
    "Formula for BMI is [weight (kg) / height (cm) / height (cm)] x 10,000"
   ]
  },
  {
   "cell_type": "code",
   "execution_count": 57,
   "id": "d5545495-ba35-4149-a136-9feadc827ead",
   "metadata": {},
   "outputs": [],
   "source": [
    "df[\"BMI\"] = (df.Weight / df.Height / df.Height) * 10000"
   ]
  },
  {
   "cell_type": "markdown",
   "id": "0c1574d5-d966-442b-b1fc-5c321a2e7d6f",
   "metadata": {},
   "source": [
    "Normal range for BMI is 18.5 to 24.9"
   ]
  },
  {
   "cell_type": "code",
   "execution_count": 58,
   "id": "112e3a7f-0a69-46d5-a2ac-48f45d80d39b",
   "metadata": {},
   "outputs": [
    {
     "name": "stderr",
     "output_type": "stream",
     "text": [
      "C:\\Users\\Randy\\Venv\\aiap\\lib\\site-packages\\seaborn\\_decorators.py:36: FutureWarning: Pass the following variable as a keyword arg: x. From version 0.12, the only valid positional argument will be `data`, and passing other arguments without an explicit keyword will result in an error or misinterpretation.\n",
      "  warnings.warn(\n"
     ]
    },
    {
     "data": {
      "text/plain": [
       "<AxesSubplot:xlabel='BMI'>"
      ]
     },
     "execution_count": 58,
     "metadata": {},
     "output_type": "execute_result"
    },
    {
     "data": {
      "image/png": "[encoded data removed]",
      "text/plain": [
       "<Figure size 432x288 with 1 Axes>"
      ]
     },
     "metadata": {
      "needs_background": "light"
     },
     "output_type": "display_data"
    }
   ],
   "source": [
    "sns.boxplot(df.BMI)"
   ]
  },
  {
   "cell_type": "code",
   "execution_count": 59,
   "id": "78bfb0e8-ce72-45b6-ab0e-4688d19c567f",
   "metadata": {},
   "outputs": [
    {
     "data": {
      "text/plain": [
       "<AxesSubplot:>"
      ]
     },
     "execution_count": 59,
     "metadata": {},
     "output_type": "execute_result"
    },
    {
     "data": {
      "image/png": "[encoded data removed]",
      "text/plain": [
       "<Figure size 432x288 with 1 Axes>"
      ]
     },
     "metadata": {
      "needs_background": "light"
     },
     "output_type": "display_data"
    }
   ],
   "source": [
    "df.BMI.hist()"
   ]
  },
  {
   "cell_type": "code",
   "execution_count": 60,
   "id": "47cbf77e-1e29-4bd6-8faa-e982ee4ccba0",
   "metadata": {},
   "outputs": [
    {
     "data": {
      "text/plain": [
       "count    15000.000000\n",
       "mean        26.939831\n",
       "std          7.734126\n",
       "min         11.242604\n",
       "25%         19.675167\n",
       "50%         28.493704\n",
       "75%         32.713499\n",
       "max         39.795918\n",
       "Name: BMI, dtype: float64"
      ]
     },
     "execution_count": 60,
     "metadata": {},
     "output_type": "execute_result"
    }
   ],
   "source": [
    "df.BMI.describe()"
   ]
  },
  {
   "cell_type": "markdown",
   "id": "c44eded0-c570-4a98-9905-00ef09e29651",
   "metadata": {},
   "source": [
    "This appears more to be in order"
   ]
  },
  {
   "cell_type": "markdown",
   "id": "51aa06da-4025-4bc4-b14e-eaef135bb618",
   "metadata": {
    "tags": []
   },
   "source": [
    "# Feature Selection"
   ]
  },
  {
   "cell_type": "code",
   "execution_count": 61,
   "id": "2aacd4f2-ec7f-4fae-9618-2f56a893c94f",
   "metadata": {},
   "outputs": [
    {
     "data": {
      "text/plain": [
       "<AxesSubplot:>"
      ]
     },
     "execution_count": 61,
     "metadata": {},
     "output_type": "execute_result"
    },
    {
     "data": {
      "image/png": "[encoded data removed]",
      "text/plain": [
       "<Figure size 1080x1080 with 2 Axes>"
      ]
     },
     "metadata": {
      "needs_background": "light"
     },
     "output_type": "display_data"
    }
   ],
   "source": [
    "fig = plt.figure(figsize=(15, 15))\n",
    "mask = np.triu(df.corr())\n",
    "sns.heatmap(df.corr(), annot=True, fmt=\".2f\", mask=mask)"
   ]
  },
  {
   "cell_type": "markdown",
   "id": "cdb2648b-4d53-41c6-8da8-a231d84d6087",
   "metadata": {},
   "source": [
    "If any pair of features correlate strongly with each other, it is possible to remove them since both are providing more or less the same information. We see that the features do not correlate with each other highly. "
   ]
  },
  {
   "cell_type": "markdown",
   "id": "bce6ddac-1c18-43ab-9faa-b1437b2c7d61",
   "metadata": {
    "tags": []
   },
   "source": [
    "# Pipeline"
   ]
  },
  {
   "cell_type": "code",
   "execution_count": 62,
   "id": "94520b6e-ba93-4b92-aedf-15942be21c91",
   "metadata": {},
   "outputs": [],
   "source": [
    "from sklearn.pipeline import Pipeline\n",
    "from sklearn.model_selection import train_test_split"
   ]
  },
  {
   "cell_type": "markdown",
   "id": "d57c3477-dff5-41de-9bdf-82ae0fbf9f57",
   "metadata": {},
   "source": [
    "<b>All changes that was done</b>\n",
    "\n",
    "| Feature | Transformation |\n",
    "| --- | ---|\n",
    "| Target | replaced No and Yes to 0 and 1 , convert to int|\n",
    "| Smoke | replaced NO to no, YES to Yes|\n",
    "| Age | flipped sign if negative|\n",
    "|Ejection | Made categories consistent, merged normal and high together|\n",
    "| BMI | Created from weight and height|\n",
    "\n",
    "We will perform the following for all numerical features:  Sodium, Creatinine, Pletelets, CK,Blood Pressure, Hemoglobin, Height , Weight\n",
    "\n",
    "Numerical features\n",
    "- Bound all outliers\n",
    "- impute with median if missing\n",
    "\n"
   ]
  },
  {
   "cell_type": "code",
   "execution_count": 63,
   "id": "0566952b-f30b-4716-86d0-8eb0673932f2",
   "metadata": {},
   "outputs": [],
   "source": [
    "TARGET = [\"Survive\"]\n",
    "\n",
    "CAT_FEATURES = [\"Gender\", \"Smoke\", \"Diabetes\", \"Ejection Fraction\"]\n",
    "\n",
    "ORI_NUM_FEATURES = [\n",
    "    \"Sodium\",\n",
    "    \"Creatinine\",\n",
    "    \"Pletelets\",\n",
    "    \"Creatinine phosphokinase\",\n",
    "    \"Blood Pressure\",\n",
    "    \"Hemoglobin\",\n",
    "    \"Height\",\n",
    "    \"Weight\",\n",
    "]\n",
    "TOTAL_NUM_FEATURES = [\n",
    "    \"Sodium\",\n",
    "    \"Creatinine\",\n",
    "    \"Pletelets\",\n",
    "    \"Creatinine phosphokinase\",\n",
    "    \"Blood Pressure\",\n",
    "    \"Hemoglobin\",\n",
    "    \"Height\",\n",
    "    \"Weight\",\n",
    "    \"BMI\",\n",
    "]\n",
    "\n",
    "TOTAL_FEATURES = CAT_FEATURES + TOTAL_NUM_FEATURES\n",
    "TOTAL_FEATURES_W_TARGET = TOTAL_FEATURES + TARGET"
   ]
  },
  {
   "cell_type": "code",
   "execution_count": 64,
   "id": "c2abb31f-01ae-4949-94ea-811961a8b32b",
   "metadata": {},
   "outputs": [],
   "source": [
    "from sklearn.compose import ColumnTransformer\n",
    "from sklearn.preprocessing import StandardScaler, OneHotEncoder"
   ]
  },
  {
   "cell_type": "code",
   "execution_count": 65,
   "id": "216b66ff-b0e8-4483-8ef7-7bed0dc1d34d",
   "metadata": {},
   "outputs": [],
   "source": [
    "transform_pipe = ColumnTransformer(\n",
    "    [\n",
    "        (\"ss\", StandardScaler(), TOTAL_NUM_FEATURES),\n",
    "        (\"ohe\", OneHotEncoder(drop=\"first\"), CAT_FEATURES),\n",
    "    ]\n",
    ")"
   ]
  },
  {
   "cell_type": "markdown",
   "id": "a6616ce3-afe3-4cdd-a531-fb5276f19eb1",
   "metadata": {},
   "source": [
    "We will need to scale the numerical features as some algorithims will work better with scaled features. It can allow faster convergents with smaller numbers since its really the magnitude between the observations that we want to capture.\n",
    "\n",
    "As machine learning is unable to operate with strings, we will need to encode them into integers. Unless there is reason to do so, I tend to one hot encode because there is no ordinal value in the values themselves.\n",
    "\n",
    "Column Transformer allows me to transform with selected columns"
   ]
  },
  {
   "cell_type": "code",
   "execution_count": 66,
   "id": "15bd9e2a-9963-48b7-9eda-53e8386a5a93",
   "metadata": {},
   "outputs": [],
   "source": [
    "y = df.pop(\"Survive\")\n",
    "X = df"
   ]
  },
  {
   "cell_type": "markdown",
   "id": "c436460f-d0d8-4a1d-9587-af8fade82836",
   "metadata": {},
   "source": [
    "Splitting the dataset into the dependent (y) and the indepedent variables (X)."
   ]
  },
  {
   "cell_type": "code",
   "execution_count": 67,
   "id": "62d38aa0-849e-4170-98d2-1ec6fcab1098",
   "metadata": {},
   "outputs": [],
   "source": [
    "X_train, X_temp, y_train, y_temp = train_test_split(\n",
    "    X, y, test_size=VAL_RATIO, random_state=RANDOM_SEED\n",
    ")\n",
    "X_val, X_test, y_val, y_test = train_test_split(\n",
    "    X_temp, y_temp, test_size=TEST_RATIO, random_state=RANDOM_SEED\n",
    ")"
   ]
  },
  {
   "cell_type": "markdown",
   "id": "1fe1faf2-7822-4eaa-a54d-a91e7b2926fc",
   "metadata": {},
   "source": [
    "I split them into training, validation and test sets. Training set is for training, validation set is for comparing models and testing set is for final evaluation of the shortlisted model."
   ]
  },
  {
   "cell_type": "code",
   "execution_count": 68,
   "id": "9eba34e6-a679-4e78-bfc5-d12beec1859c",
   "metadata": {},
   "outputs": [
    {
     "name": "stdout",
     "output_type": "stream",
     "text": [
      "Shape of X_train is (12000, 14)\n",
      "Shape of X_val is (1500, 14)\n",
      "Shape of X_test is (1500, 14)\n",
      "Shape of y_train is (12000,)\n",
      "Shape of y_val is (1500,)\n",
      "Shape of y_test is (1500,)\n"
     ]
    }
   ],
   "source": [
    "print(f\"Shape of X_train is {X_train.shape}\")\n",
    "print(f\"Shape of X_val is {X_val.shape}\")\n",
    "print(f\"Shape of X_test is {X_test.shape}\")\n",
    "print(f\"Shape of y_train is {y_train.shape}\")\n",
    "print(f\"Shape of y_val is {y_val.shape}\")\n",
    "print(f\"Shape of y_test is {y_test.shape}\")"
   ]
  },
  {
   "cell_type": "markdown",
   "id": "ba5c3605-fe90-4152-b006-784a292568a1",
   "metadata": {},
   "source": [
    "Checking the shape of the splits.."
   ]
  },
  {
   "cell_type": "markdown",
   "id": "2e7ff880-f655-4bbe-8ff8-28d5c03ab9c0",
   "metadata": {
    "tags": []
   },
   "source": [
    "# Modelling"
   ]
  },
  {
   "cell_type": "markdown",
   "id": "211f2944-6bf6-4aea-b74a-37a5f931f016",
   "metadata": {},
   "source": [
    "The models used to train were chosen based on how complex the models are, whether they are ensemble models or not and where it is instance or model based.\n",
    "\n",
    "As this is a classification problem, scores like recall, precision, accuracy, F1 score and the ROC AUC score are relevant"
   ]
  },
  {
   "cell_type": "code",
   "execution_count": 69,
   "id": "bbc29ac5-a0a0-481b-8540-5986a2550bbf",
   "metadata": {},
   "outputs": [],
   "source": [
    "# Models\n",
    "from lightgbm import LGBMClassifier\n",
    "from sklearn.ensemble import RandomForestClassifier\n",
    "from sklearn.svm import SVC\n",
    "from sklearn.neighbors import KNeighborsClassifier\n",
    "from sklearn.linear_model import LogisticRegression\n",
    "\n",
    "# Metrics\n",
    "from sklearn.metrics import classification_report, roc_auc_score\n",
    "from sklearn.model_selection import cross_validate\n",
    "import time"
   ]
  },
  {
   "cell_type": "code",
   "execution_count": 70,
   "id": "362c3a0f-18a2-42b1-bb6b-ccb42569158c",
   "metadata": {},
   "outputs": [],
   "source": [
    "lgbm = LGBMClassifier(random_state=RANDOM_SEED)\n",
    "rfc = RandomForestClassifier(random_state=RANDOM_SEED)\n",
    "svc = SVC(random_state=RANDOM_SEED)\n",
    "knn = KNeighborsClassifier()\n",
    "logreg = LogisticRegression()"
   ]
  },
  {
   "cell_type": "code",
   "execution_count": 71,
   "id": "022b152c-4544-4302-9da6-dee8aa7ef5c6",
   "metadata": {},
   "outputs": [],
   "source": [
    "# Merging the transform pipeline from above with an estimator at the end\n",
    "survive_pipe_lgbm = Pipeline([(\"transform\", transform_pipe), (\"lgbm\", lgbm)])\n",
    "survive_pipe_rfc = Pipeline([(\"transform\", transform_pipe), (\"rfc\", rfc)])\n",
    "survive_pipe_svc = Pipeline([(\"transform\", transform_pipe), (\"svc\", svc)])\n",
    "survive_pipe_knn = Pipeline([(\"transform\", transform_pipe), (\"knn\", knn)])\n",
    "survive_pipe_logreg = Pipeline([(\"transform\", transform_pipe), (\"logreg\", logreg)])"
   ]
  },
  {
   "cell_type": "code",
   "execution_count": 72,
   "id": "99dfc2ef-952d-4823-ace2-8c4856d6b807",
   "metadata": {},
   "outputs": [],
   "source": [
    "# Setting up a dictionary so I can make a comparison in one call later\n",
    "pipeline_dict = {\n",
    "    survive_pipe_rfc: \"rfc\",\n",
    "    survive_pipe_svc: \"svc\",\n",
    "    survive_pipe_lgbm: \"lgbm\",\n",
    "    survive_pipe_knn: \"knn\",\n",
    "    survive_pipe_logreg: \"logreg\",\n",
    "}"
   ]
  },
  {
   "cell_type": "code",
   "execution_count": 73,
   "id": "dc0fc0c5-cdd7-4ebe-a7c7-5c7b3db0335a",
   "metadata": {},
   "outputs": [],
   "source": [
    "def compare_models(pipeline_dict):\n",
    "    \"\"\"\n",
    "    Plots the relevant metrics of the models contained in pipeline_dict\n",
    "    \n",
    "    :params:pipeline_dict (dict): Dictionary of pipelines with key as pipeline and value as the model name\n",
    "    :returns: None\n",
    "    \"\"\"\n",
    "    for pipe, model_name in pipeline_dict.items():\n",
    "        now = time.time()\n",
    "\n",
    "        pipe.fit(X_train, y_train)\n",
    "        y_pred = pipe.predict(X_val)\n",
    "\n",
    "        model_cv_score = cross_validate(\n",
    "            pipe,\n",
    "            X_train,\n",
    "            y_train,\n",
    "            cv=CV,\n",
    "            n_jobs=-1,\n",
    "            return_train_score=True,\n",
    "            scoring=\"accuracy\",\n",
    "        )\n",
    "\n",
    "        print(\"\")\n",
    "        print(\"\\n\" + str(\"*\" * 50))\n",
    "        print(\"Model is \", model_name)\n",
    "        print(\"*\" * 50)\n",
    "\n",
    "        print(f\"Classifcation report :\\n{classification_report(y_val, y_pred)}\")\n",
    "        print(f'Average CV train acc score : \\n {model_cv_score[\"train_score\"].mean()} ')\n",
    "        print(f'Average CV test acc score : \\n {model_cv_score[\"test_score\"].mean()} ')\n",
    "        print(f\"ROC AUC score :\\n {roc_auc_score(y_val, y_pred)}\")\n",
    "        then = time.time()\n",
    "        diff = then - now\n",
    "        print(f\"Seconds taken to run results is {diff}\")"
   ]
  },
  {
   "cell_type": "code",
   "execution_count": 74,
   "id": "1ce891c0-c7d4-4806-89ad-97cccc7672b5",
   "metadata": {},
   "outputs": [
    {
     "name": "stdout",
     "output_type": "stream",
     "text": [
      "\n",
      "\n",
      "**************************************************\n",
      "Model is  rfc\n",
      "**************************************************\n",
      "Classifcation report :\n",
      "              precision    recall  f1-score   support\n",
      "\n",
      "           0       1.00      1.00      1.00       996\n",
      "           1       1.00      1.00      1.00       504\n",
      "\n",
      "    accuracy                           1.00      1500\n",
      "   macro avg       1.00      1.00      1.00      1500\n",
      "weighted avg       1.00      1.00      1.00      1500\n",
      "\n",
      "Average CV train acc score : \n",
      " 1.0 \n",
      "Average CV test acc score : \n",
      " 0.9999166666666668 \n",
      "ROC AUC score :\n",
      " 1.0\n",
      "Seconds taken to run results is 3.816547393798828\n",
      "\n",
      "\n",
      "**************************************************\n",
      "Model is  svc\n",
      "**************************************************\n",
      "Classifcation report :\n",
      "              precision    recall  f1-score   support\n",
      "\n",
      "           0       0.95      0.98      0.96       996\n",
      "           1       0.96      0.89      0.92       504\n",
      "\n",
      "    accuracy                           0.95      1500\n",
      "   macro avg       0.95      0.94      0.94      1500\n",
      "weighted avg       0.95      0.95      0.95      1500\n",
      "\n",
      "Average CV train acc score : \n",
      " 0.9658333333333333 \n",
      "Average CV test acc score : \n",
      " 0.96225 \n",
      "ROC AUC score :\n",
      " 0.9368904188181296\n",
      "Seconds taken to run results is 9.980440378189087\n",
      "\n",
      "\n",
      "**************************************************\n",
      "Model is  lgbm\n",
      "**************************************************\n",
      "Classifcation report :\n",
      "              precision    recall  f1-score   support\n",
      "\n",
      "           0       1.00      1.00      1.00       996\n",
      "           1       1.00      1.00      1.00       504\n",
      "\n",
      "    accuracy                           1.00      1500\n",
      "   macro avg       1.00      1.00      1.00      1500\n",
      "weighted avg       1.00      1.00      1.00      1500\n",
      "\n",
      "Average CV train acc score : \n",
      " 1.0 \n",
      "Average CV test acc score : \n",
      " 0.99975 \n",
      "ROC AUC score :\n",
      " 1.0\n",
      "Seconds taken to run results is 1.7888829708099365\n",
      "\n",
      "\n",
      "**************************************************\n",
      "Model is  knn\n",
      "**************************************************\n",
      "Classifcation report :\n",
      "              precision    recall  f1-score   support\n",
      "\n",
      "           0       1.00      1.00      1.00       996\n",
      "           1       0.99      0.99      0.99       504\n",
      "\n",
      "    accuracy                           1.00      1500\n",
      "   macro avg       1.00      1.00      1.00      1500\n",
      "weighted avg       1.00      1.00      1.00      1500\n",
      "\n",
      "Average CV train acc score : \n",
      " 0.9981666666666668 \n",
      "Average CV test acc score : \n",
      " 0.9955833333333335 \n",
      "ROC AUC score :\n",
      " 0.9955177854274239\n",
      "Seconds taken to run results is 1.6667649745941162\n",
      "\n",
      "\n",
      "**************************************************\n",
      "Model is  logreg\n",
      "**************************************************\n",
      "Classifcation report :\n",
      "              precision    recall  f1-score   support\n",
      "\n",
      "           0       0.84      0.89      0.86       996\n",
      "           1       0.76      0.66      0.70       504\n",
      "\n",
      "    accuracy                           0.81      1500\n",
      "   macro avg       0.80      0.77      0.78      1500\n",
      "weighted avg       0.81      0.81      0.81      1500\n",
      "\n",
      "Average CV train acc score : \n",
      " 0.8323333333333334 \n",
      "Average CV test acc score : \n",
      " 0.8323333333333333 \n",
      "ROC AUC score :\n",
      " 0.7746581564352648\n",
      "Seconds taken to run results is 0.3350043296813965\n"
     ]
    }
   ],
   "source": [
    "compare_models(pipeline_dict)"
   ]
  },
  {
   "cell_type": "markdown",
   "id": "35ea5c28-8f94-470d-8598-512ad90835d2",
   "metadata": {},
   "source": [
    "Time is used as another metric to compare the models. I need the train score to be returned from cross validation so that I can determine if the model is overfitting on the training data. We see some slight overfitting but thats fine."
   ]
  },
  {
   "cell_type": "markdown",
   "id": "cba08a7b-a70a-4c25-bfc7-f93bf3afaf88",
   "metadata": {},
   "source": [
    "I trained the training set on all of the classifiers and used the validation set to shortlist some models. Clearly the ensemble models like random forest and light gbm has beaten the rest of them with models like knn and svc not doing too badly with the linear model - logreg performing the worst.\n",
    "\n",
    "This is great news as I do not need to do hyperparameter tunning."
   ]
  },
  {
   "cell_type": "code",
   "execution_count": 75,
   "id": "4fe1b097-e55c-40e2-99b7-82d543d79e54",
   "metadata": {},
   "outputs": [],
   "source": [
    "shortlist_dict =  {\n",
    "    survive_pipe_rfc: \"rfc\",\n",
    "    survive_pipe_lgbm: \"lgbm\",\n",
    "}"
   ]
  },
  {
   "cell_type": "code",
   "execution_count": 76,
   "id": "d731c542-e7b0-45d3-ac72-369178fe79ec",
   "metadata": {},
   "outputs": [
    {
     "name": "stdout",
     "output_type": "stream",
     "text": [
      "\n",
      "**************************************************\n",
      "Model is  rfc\n",
      "**************************************************\n",
      "Classifcation report :\n",
      "              precision    recall  f1-score   support\n",
      "\n",
      "           0       1.00      1.00      1.00      1010\n",
      "           1       1.00      1.00      1.00       490\n",
      "\n",
      "    accuracy                           1.00      1500\n",
      "   macro avg       1.00      1.00      1.00      1500\n",
      "weighted avg       1.00      1.00      1.00      1500\n",
      "\n",
      "ROC AUC score :\n",
      " 1.0\n",
      "Time taken to run results is 1.019745111465454\n",
      "\n",
      "**************************************************\n",
      "Model is  lgbm\n",
      "**************************************************\n",
      "Classifcation report :\n",
      "              precision    recall  f1-score   support\n",
      "\n",
      "           0       1.00      1.00      1.00      1010\n",
      "           1       1.00      1.00      1.00       490\n",
      "\n",
      "    accuracy                           1.00      1500\n",
      "   macro avg       1.00      1.00      1.00      1500\n",
      "weighted avg       1.00      1.00      1.00      1500\n",
      "\n",
      "ROC AUC score :\n",
      " 1.0\n",
      "Time taken to run results is 0.25\n"
     ]
    }
   ],
   "source": [
    "for pipe, model_name in shortlist_dict.items():\n",
    "    now = time.time()\n",
    "    pipe.fit(X_train, y_train)\n",
    "    y_pred = pipe.predict(X_test)\n",
    "\n",
    "    print(\"\\n\" + str(\"*\" * 50))\n",
    "    print(\"Model is \", model_name)\n",
    "    print(\"*\" * 50)\n",
    "\n",
    "    print(f\"Classifcation report :\\n{classification_report(y_test, y_pred)}\")\n",
    "    print(f\"ROC AUC score :\\n {roc_auc_score(y_test, y_pred)}\")\n",
    "    then = time.time()\n",
    "    diff = then - now\n",
    "    print(f\"Time taken to run results is {diff}\")"
   ]
  },
  {
   "cell_type": "markdown",
   "id": "52aeb2a7-0b6f-4ba3-b540-4b0efb9b0980",
   "metadata": {},
   "source": [
    "At this point either one is fine but I chose Random Forest in the end because there was some issue implementing lgbm in the pipeline later."
   ]
  },
  {
   "cell_type": "markdown",
   "id": "295e370a-3801-48ba-9821-5b8bf3d22d85",
   "metadata": {
    "tags": []
   },
   "source": [
    "# Second iteration"
   ]
  },
  {
   "cell_type": "markdown",
   "id": "7fdca29b-ee38-40e3-987d-e665a80f0431",
   "metadata": {},
   "source": [
    "We can look at the feature importance to see which feature had a higher weightage than the rest. We can then use these features to determine a better model if possible."
   ]
  },
  {
   "cell_type": "code",
   "execution_count": 77,
   "id": "fa3fe965-68cf-461e-b67f-e30dc0fcf048",
   "metadata": {},
   "outputs": [
    {
     "data": {
      "text/plain": [
       "1.0"
      ]
     },
     "execution_count": 77,
     "metadata": {},
     "output_type": "execute_result"
    }
   ],
   "source": [
    "rfc.feature_importances_.sum()"
   ]
  },
  {
   "cell_type": "code",
   "execution_count": 78,
   "id": "673335c2-b8d1-43fb-a3b9-70ec61ca0c2c",
   "metadata": {},
   "outputs": [],
   "source": [
    "def show_feature_importance(model, X_train,name):\n",
    "    \"\"\"\n",
    "    Plots the feature importance from the model against the column names\n",
    "    \n",
    "    :param: model : the model which was trained on the data\n",
    "    :param: name : name of plot\n",
    "    :param: X_train : X_train that was used to to extract the cols\n",
    "    \n",
    "    returns: None\n",
    "    \"\"\"\n",
    "    important_features = pd.Series(data=model.feature_importances_, index=X_train.columns)\n",
    "    important_features.sort_values(ascending=False, inplace=True)\n",
    "    important_features.plot(kind=\"bar\", title = name, ylabel = 'Importance')"
   ]
  },
  {
   "cell_type": "code",
   "execution_count": 79,
   "id": "1992b64c-49fa-419a-9f4a-c0240720a7e8",
   "metadata": {},
   "outputs": [
    {
     "data": {
      "image/png": "[encoded data removed]",
      "text/plain": [
       "<Figure size 432x288 with 1 Axes>"
      ]
     },
     "metadata": {
      "needs_background": "light"
     },
     "output_type": "display_data"
    }
   ],
   "source": [
    "show_feature_importance(rfc, X_train, 'Random Forest')"
   ]
  },
  {
   "cell_type": "markdown",
   "id": "9280c9c6-824d-45f4-952f-45442a447478",
   "metadata": {},
   "source": [
    "This shows that there are 5 features that contribute the most to the prediction."
   ]
  },
  {
   "cell_type": "code",
   "execution_count": 80,
   "id": "a18c8d74-fde0-46dc-b4b1-f0436cdf8d94",
   "metadata": {},
   "outputs": [
    {
     "data": {
      "image/png": "[encoded data removed]",
      "text/plain": [
       "<Figure size 432x288 with 1 Axes>"
      ]
     },
     "metadata": {
      "needs_background": "light"
     },
     "output_type": "display_data"
    }
   ],
   "source": [
    "show_feature_importance(lgbm,X_train, 'Light GBM')"
   ]
  },
  {
   "cell_type": "markdown",
   "id": "8d1f30b5-cece-441c-b6f6-131b53321f72",
   "metadata": {},
   "source": [
    "This is echoed by another ensemble model that showed the 5 most important features. Turns out our created feature of BMI was not that great after all."
   ]
  },
  {
   "cell_type": "code",
   "execution_count": 81,
   "id": "e5ed3c79-e963-470c-8a80-5ac361eb637b",
   "metadata": {},
   "outputs": [
    {
     "data": {
      "text/plain": [
       "['Gender',\n",
       " 'Smoke',\n",
       " 'Diabetes',\n",
       " 'Age',\n",
       " 'Ejection Fraction',\n",
       " 'Sodium',\n",
       " 'Creatinine',\n",
       " 'Pletelets',\n",
       " 'Creatinine phosphokinase',\n",
       " 'Blood Pressure',\n",
       " 'Hemoglobin',\n",
       " 'Height',\n",
       " 'Weight',\n",
       " 'BMI']"
      ]
     },
     "execution_count": 81,
     "metadata": {},
     "output_type": "execute_result"
    }
   ],
   "source": [
    "X_train.columns.to_list()"
   ]
  },
  {
   "cell_type": "markdown",
   "id": "6d631c46-4f63-40b9-83d4-110c0752ba73",
   "metadata": {},
   "source": [
    "Lets see if we are able to have a model that will come out with identical results with about half of the original features."
   ]
  },
  {
   "cell_type": "code",
   "execution_count": 82,
   "id": "8792fdbf-47c6-420a-a073-ce997e9c6a5b",
   "metadata": {},
   "outputs": [],
   "source": [
    "SELECTED_FEATURES = ['Creatinine phosphokinase', 'Smoke','Gender','Diabetes','Age']"
   ]
  },
  {
   "cell_type": "code",
   "execution_count": 83,
   "id": "c640a202-bfda-4f84-94e2-6544f69bd6c5",
   "metadata": {},
   "outputs": [],
   "source": [
    "transform_pipe_2 = ColumnTransformer(\n",
    "    [\n",
    "        (\"ss\", StandardScaler(), ['Age']),\n",
    "        (\"ohe\", OneHotEncoder(drop=\"first\"), ['Creatinine phosphokinase', 'Smoke','Gender','Diabetes']),\n",
    "    ]\n",
    ")"
   ]
  },
  {
   "cell_type": "code",
   "execution_count": 84,
   "id": "1d4f014b-3d65-419d-8c8f-aa735720f5a0",
   "metadata": {},
   "outputs": [],
   "source": [
    "# Merging the transform pipeline from above with an estimator at the end\n",
    "survive_pipe_lgbm_2 = Pipeline([(\"transform\", transform_pipe_2), (\"lgbm\", lgbm)])\n",
    "survive_pipe_rfc_2 = Pipeline([(\"transform\", transform_pipe_2), (\"rfc\", rfc)])\n",
    "survive_pipe_svc_2 = Pipeline([(\"transform\", transform_pipe_2), (\"svc\", svc)])\n",
    "survive_pipe_knn_2 = Pipeline([(\"transform\", transform_pipe_2), (\"knn\", knn)])\n",
    "survive_pipe_logreg_2 = Pipeline([(\"transform\", transform_pipe_2), (\"logreg\", logreg)])"
   ]
  },
  {
   "cell_type": "code",
   "execution_count": 85,
   "id": "4373b0dc-65dc-4404-8897-5369a7c6fc16",
   "metadata": {},
   "outputs": [],
   "source": [
    "# Setting up a dictionary so I can make a comparison in one call later\n",
    "pipeline_dict2 = {\n",
    "    survive_pipe_rfc_2: \"rfc\",\n",
    "    survive_pipe_svc_2: \"svc\",\n",
    "    survive_pipe_lgbm_2: \"lgbm\",\n",
    "    survive_pipe_knn_2: \"knn\",\n",
    "    survive_pipe_logreg_2: \"logreg\",\n",
    "}"
   ]
  },
  {
   "cell_type": "markdown",
   "id": "ca07569a-7c8b-4609-b898-d00ea29a8955",
   "metadata": {},
   "source": [
    "Same transformation but with lesser features...."
   ]
  },
  {
   "cell_type": "code",
   "execution_count": 86,
   "id": "d5bab166-1a90-4e6b-886e-f93716ed5455",
   "metadata": {},
   "outputs": [
    {
     "name": "stdout",
     "output_type": "stream",
     "text": [
      "\n",
      "\n",
      "**************************************************\n",
      "Model is  rfc\n",
      "**************************************************\n",
      "Classifcation report :\n",
      "              precision    recall  f1-score   support\n",
      "\n",
      "           0       0.99      0.98      0.98       996\n",
      "           1       0.96      0.98      0.97       504\n",
      "\n",
      "    accuracy                           0.98      1500\n",
      "   macro avg       0.98      0.98      0.98      1500\n",
      "weighted avg       0.98      0.98      0.98      1500\n",
      "\n",
      "Average CV train acc score : \n",
      " 0.976125 \n",
      "Average CV test acc score : \n",
      " 0.9736666666666667 \n",
      "ROC AUC score :\n",
      " 0.9805292598967298\n",
      "Seconds taken to run results is 3.1638002395629883\n",
      "\n",
      "\n",
      "**************************************************\n",
      "Model is  svc\n",
      "**************************************************\n",
      "Classifcation report :\n",
      "              precision    recall  f1-score   support\n",
      "\n",
      "           0       0.95      0.96      0.96       996\n",
      "           1       0.92      0.90      0.91       504\n",
      "\n",
      "    accuracy                           0.94      1500\n",
      "   macro avg       0.94      0.93      0.93      1500\n",
      "weighted avg       0.94      0.94      0.94      1500\n",
      "\n",
      "Average CV train acc score : \n",
      " 0.9432916666666668 \n",
      "Average CV test acc score : \n",
      " 0.9398333333333333 \n",
      "ROC AUC score :\n",
      " 0.9328026391279403\n",
      "Seconds taken to run results is 3.3164165019989014\n",
      "\n",
      "\n",
      "**************************************************\n",
      "Model is  lgbm\n",
      "**************************************************\n",
      "Classifcation report :\n",
      "              precision    recall  f1-score   support\n",
      "\n",
      "           0       0.99      0.97      0.98       996\n",
      "           1       0.95      0.98      0.97       504\n",
      "\n",
      "    accuracy                           0.98      1500\n",
      "   macro avg       0.97      0.98      0.97      1500\n",
      "weighted avg       0.98      0.98      0.98      1500\n",
      "\n",
      "Average CV train acc score : \n",
      " 0.9750833333333334 \n",
      "Average CV test acc score : \n",
      " 0.9725833333333334 \n",
      "ROC AUC score :\n",
      " 0.9785092751960222\n",
      "Seconds taken to run results is 0.919001579284668\n",
      "\n",
      "\n",
      "**************************************************\n",
      "Model is  knn\n",
      "**************************************************\n",
      "Classifcation report :\n",
      "              precision    recall  f1-score   support\n",
      "\n",
      "           0       0.98      0.98      0.98       996\n",
      "           1       0.96      0.96      0.96       504\n",
      "\n",
      "    accuracy                           0.97      1500\n",
      "   macro avg       0.97      0.97      0.97      1500\n",
      "weighted avg       0.97      0.97      0.97      1500\n",
      "\n",
      "Average CV train acc score : \n",
      " 0.9722291666666667 \n",
      "Average CV test acc score : \n",
      " 0.9709166666666667 \n",
      "ROC AUC score :\n",
      " 0.9716006884681583\n",
      "Seconds taken to run results is 14.10213565826416\n"
     ]
    },
    {
     "name": "stderr",
     "output_type": "stream",
     "text": [
      "C:\\Users\\Randy\\Venv\\aiap\\lib\\site-packages\\sklearn\\linear_model\\_logistic.py:814: ConvergenceWarning: lbfgs failed to converge (status=1):\n",
      "STOP: TOTAL NO. of ITERATIONS REACHED LIMIT.\n",
      "\n",
      "Increase the number of iterations (max_iter) or scale the data as shown in:\n",
      "    https://scikit-learn.org/stable/modules/preprocessing.html\n",
      "Please also refer to the documentation for alternative solver options:\n",
      "    https://scikit-learn.org/stable/modules/linear_model.html#logistic-regression\n",
      "  n_iter_i = _check_optimize_result(\n"
     ]
    },
    {
     "name": "stdout",
     "output_type": "stream",
     "text": [
      "\n",
      "\n",
      "**************************************************\n",
      "Model is  logreg\n",
      "**************************************************\n",
      "Classifcation report :\n",
      "              precision    recall  f1-score   support\n",
      "\n",
      "           0       0.86      0.96      0.91       996\n",
      "           1       0.89      0.69      0.78       504\n",
      "\n",
      "    accuracy                           0.87      1500\n",
      "   macro avg       0.87      0.82      0.84      1500\n",
      "weighted avg       0.87      0.87      0.86      1500\n",
      "\n",
      "Average CV train acc score : \n",
      " 0.87675 \n",
      "Average CV test acc score : \n",
      " 0.8744166666666666 \n",
      "ROC AUC score :\n",
      " 0.8241418053165042\n",
      "Seconds taken to run results is 0.5380070209503174\n"
     ]
    }
   ],
   "source": [
    "compare_models(pipeline_dict2)"
   ]
  },
  {
   "cell_type": "markdown",
   "id": "6136a163-4f64-4a60-b590-feb9d0889d0c",
   "metadata": {},
   "source": [
    "I shortlist the ensemble methods again. Let me try to use hyperparameter tunning to acheive better results."
   ]
  },
  {
   "cell_type": "markdown",
   "id": "59f004e3-44d8-4ed7-951f-ac91f1dc3606",
   "metadata": {},
   "source": [
    "## Hyperparamter Tunning"
   ]
  },
  {
   "cell_type": "code",
   "execution_count": 87,
   "id": "8766a45f-b527-4c68-ab44-55eca1645ffd",
   "metadata": {},
   "outputs": [],
   "source": [
    "from sklearn.model_selection import GridSearchCV"
   ]
  },
  {
   "cell_type": "code",
   "execution_count": 88,
   "id": "df9aa7a5-b98b-45b9-81a3-73164165f73b",
   "metadata": {},
   "outputs": [],
   "source": [
    "# Merging the transform pipeline from above with an estimator at the end\n",
    "survive_pipe_lgbm_2 = Pipeline([(\"transform\", transform_pipe_2), (\"lgbm\", lgbm)])\n",
    "survive_pipe_rfc_2 = Pipeline([(\"transform\", transform_pipe_2), (\"rfc\", rfc)])\n",
    "survive_pipe_svc_2 = Pipeline([(\"transform\", transform_pipe_2), (\"svc\", svc)])\n",
    "survive_pipe_knn_2 = Pipeline([(\"transform\", transform_pipe_2), (\"knn\", knn)])\n",
    "survive_pipe_logreg_2 = Pipeline([(\"transform\", transform_pipe_2), (\"logreg\", logreg)])"
   ]
  },
  {
   "cell_type": "code",
   "execution_count": 89,
   "id": "35aba9de-f698-463c-bb7d-d3fa0da438d2",
   "metadata": {},
   "outputs": [],
   "source": [
    "params_rfc = {'rfc__n_estimators': range(50,250,50),\n",
    "             'rfc__random_state': [RANDOM_SEED]}\n",
    "params_lgbm = {'lgbm__random_state': [RANDOM_SEED],\n",
    "              'lgbm__n_estimators': range(250,550,50)}\n",
    "pipeline_short = {\n",
    "    survive_pipe_rfc_2: \"rfc\",\n",
    "    survive_pipe_lgbm_2: \"lgbm\" \n",
    "}\n",
    "params_dict = {'rfc' : params_rfc,\n",
    "              'lgbm': params_lgbm}"
   ]
  },
  {
   "cell_type": "markdown",
   "id": "fa51ae80-a30d-40d6-ac04-e475e66fc9b8",
   "metadata": {},
   "source": [
    "There is not much to tune except to increase the number of estimators as I want to increase the complexity of the models."
   ]
  },
  {
   "cell_type": "code",
   "execution_count": 90,
   "id": "d9003321-792a-46aa-919a-57fa3a792263",
   "metadata": {},
   "outputs": [
    {
     "name": "stdout",
     "output_type": "stream",
     "text": [
      "\n",
      "\n",
      "**************************************************\n",
      "Model is  rfc\n",
      "**************************************************\n",
      "Classifcation report :\n",
      "              precision    recall  f1-score   support\n",
      "\n",
      "           0       0.99      0.98      0.98       996\n",
      "           1       0.96      0.98      0.97       504\n",
      "\n",
      "    accuracy                           0.98      1500\n",
      "   macro avg       0.98      0.98      0.98      1500\n",
      "weighted avg       0.98      0.98      0.98      1500\n",
      "\n",
      "Average CV train acc score : \n",
      " 0.976125 \n",
      "Average CV test acc score : \n",
      " 0.9736458333333333 \n",
      "Best Params : \n",
      " {'rfc__n_estimators': 100, 'rfc__random_state': 42}\n",
      "ROC AUC score :\n",
      " 0.9805292598967298\n",
      "Seconds taken to run results is 7.043081521987915\n",
      "\n",
      "\n",
      "**************************************************\n",
      "Model is  lgbm\n",
      "**************************************************\n",
      "Classifcation report :\n",
      "              precision    recall  f1-score   support\n",
      "\n",
      "           0       0.99      0.98      0.98       996\n",
      "           1       0.96      0.98      0.97       504\n",
      "\n",
      "    accuracy                           0.98      1500\n",
      "   macro avg       0.98      0.98      0.98      1500\n",
      "weighted avg       0.98      0.98      0.98      1500\n",
      "\n",
      "Average CV train acc score : \n",
      " 0.976125 \n",
      "Average CV test acc score : \n",
      " 0.9735277777777777 \n",
      "Best Params : \n",
      " {'lgbm__n_estimators': 350, 'lgbm__random_state': 42}\n",
      "ROC AUC score :\n",
      " 0.9805292598967298\n",
      "Seconds taken to run results is 6.414395332336426\n"
     ]
    }
   ],
   "source": [
    "for pipe,model_name in pipeline_short.items():\n",
    "    now = time.time()\n",
    "    \n",
    "    params = params_dict.get(model_name)\n",
    "    \n",
    "    gs = GridSearchCV(pipe, params,\n",
    "        cv=CV,\n",
    "        n_jobs=-1,\n",
    "        return_train_score=True,\n",
    "        scoring=\"accuracy\",\n",
    "    )\n",
    "    \n",
    "    gs.fit(X_train, y_train)\n",
    "    y_pred = gs.predict(X_val)\n",
    "\n",
    "    print(\"\")\n",
    "    print(\"\\n\" + str(\"*\" * 50))\n",
    "    print(\"Model is \", model_name)\n",
    "    print(\"*\" * 50)\n",
    "\n",
    "    print(f\"Classifcation report :\\n{classification_report(y_val, y_pred)}\")\n",
    "    print(f'Average CV train acc score : \\n {gs.cv_results_[\"mean_train_score\"].mean()} ')\n",
    "    print(f'Average CV test acc score : \\n {gs.cv_results_[\"mean_test_score\"].mean()} ')\n",
    "    print(F'Best Params : \\n {gs.best_params_}' )\n",
    "    print(f\"ROC AUC score :\\n {roc_auc_score(y_val, y_pred)}\")\n",
    "    then = time.time()\n",
    "    diff = then - now\n",
    "    print(f\"Seconds taken to run results is {diff}\")"
   ]
  },
  {
   "cell_type": "markdown",
   "id": "27cbb180-781a-4460-a957-198bbecce041",
   "metadata": {},
   "source": [
    "While the shortlisted models are able to work on a dataset with fewer features to realise very comparable results to another dataset with almost twice the number of features, the small amount of recall or accuracy that is missing could mean a big difference if this model where to be deployed in real life. I guess depending on the business requirements this may be acceptable, however I would choose to use the full set of features for a small percentage increase as the result of a false negative could be disastrous.\n",
    "\n",
    "Another way to approach this is also to encompass more features to keep increasing the accuracy. Either lgbm or rfc is fine, but I will pick rfc because I have issue deploying the lgbm."
   ]
  },
  {
   "cell_type": "markdown",
   "id": "fd2eb5bb-439d-47a4-9b72-d8b1f222f3eb",
   "metadata": {
    "tags": []
   },
   "source": [
    "# Miscellanous"
   ]
  },
  {
   "cell_type": "markdown",
   "id": "9994ce3e-53c0-4b2f-9113-750ef3f286ff",
   "metadata": {},
   "source": [
    "Taking a sample of the data for testing"
   ]
  },
  {
   "cell_type": "code",
   "execution_count": 91,
   "id": "ad6529db-e522-488b-a32e-21adee029d53",
   "metadata": {},
   "outputs": [
    {
     "data": {
      "text/plain": [
       "array([[<AxesSubplot:title={'center':'Age'}>,\n",
       "        <AxesSubplot:title={'center':'Sodium'}>,\n",
       "        <AxesSubplot:title={'center':'Creatinine'}>],\n",
       "       [<AxesSubplot:title={'center':'Pletelets'}>,\n",
       "        <AxesSubplot:title={'center':'Creatinine phosphokinase'}>,\n",
       "        <AxesSubplot:title={'center':'Blood Pressure'}>],\n",
       "       [<AxesSubplot:title={'center':'Hemoglobin'}>,\n",
       "        <AxesSubplot:title={'center':'Height'}>,\n",
       "        <AxesSubplot:title={'center':'Weight'}>],\n",
       "       [<AxesSubplot:title={'center':'BMI'}>, <AxesSubplot:>,\n",
       "        <AxesSubplot:>]], dtype=object)"
      ]
     },
     "execution_count": 91,
     "metadata": {},
     "output_type": "execute_result"
    },
    {
     "data": {
      "image/png": "[encoded data removed]",
      "text/plain": [
       "<Figure size 1440x1440 with 12 Axes>"
      ]
     },
     "metadata": {
      "needs_background": "light"
     },
     "output_type": "display_data"
    }
   ],
   "source": [
    "df[:1000].hist(figsize=(20,20))"
   ]
  },
  {
   "cell_type": "markdown",
   "id": "636eb93f-eb2d-451d-9e0b-2b06cad33ad4",
   "metadata": {},
   "source": [
    "First 1K worth of data appears to have similar distribution to the original dataset which we will take for testing purposes"
   ]
  },
  {
   "cell_type": "code",
   "execution_count": 92,
   "id": "5cdbc801-d801-4176-bd99-531e5046954f",
   "metadata": {},
   "outputs": [],
   "source": [
    "df[:1000].to_csv('sample_df.csv')"
   ]
  }
 ],
 "metadata": {
  "kernelspec": {
   "display_name": "Python 3 (ipykernel)",
   "language": "python",
   "name": "python3"
  },
  "language_info": {
   "codemirror_mode": {
    "name": "ipython",
    "version": 3
   },
   "file_extension": ".py",
   "mimetype": "text/x-python",
   "name": "python",
   "nbconvert_exporter": "python",
   "pygments_lexer": "ipython3",
   "version": "3.10.0"
  }
 },
 "nbformat": 4,
 "nbformat_minor": 5
}

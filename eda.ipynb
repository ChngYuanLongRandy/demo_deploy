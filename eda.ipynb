{
 "cells": [
  {
   "cell_type": "markdown",
   "id": "af5233db-9edd-4002-8767-c8ac4d205af2",
   "metadata": {},
   "source": [
    "# Objective"
   ]
  },
  {
   "cell_type": "markdown",
   "id": "0c70dd30-92c4-4de0-9a71-51af307f8f83",
   "metadata": {},
   "source": [
    "Our task is to predict survival of patients suffering from coronary artery disease(s) from the dataset given."
   ]
  },
  {
   "cell_type": "markdown",
   "id": "ede8c788-f2e6-4e81-bfe1-c1e89681a24e",
   "metadata": {},
   "source": [
    "I will explore the dataset to check\n",
    "- Features and the Target\n",
    "- Distribution of the data\n",
    "- Null/missing data (explicit or implicit)"
   ]
  },
  {
   "cell_type": "markdown",
   "id": "da00f6b3-a7a5-432b-afd1-ee17b40d3742",
   "metadata": {},
   "source": [
    "Having a good sense of the data given I will do\n",
    "- feature engineering\n",
    "- feature selection\n",
    "\n",
    ",based on what I understand about the data and construct pipelines"
   ]
  },
  {
   "cell_type": "markdown",
   "id": "372a6a44-f36b-4026-a97a-c0e58f072080",
   "metadata": {},
   "source": [
    "Lastly I will \n",
    "- come up with preliminary models \n",
    "- shortlist 3 models against validation data\n",
    "- hyper parameter tunning for shortlisted models"
   ]
  },
  {
   "cell_type": "markdown",
   "id": "609b133b-7991-44c1-9fd8-5a87c0b7760e",
   "metadata": {},
   "source": [
    "Out of the 3 I will choose 1 model to be deployed in production"
   ]
  },
  {
   "cell_type": "markdown",
   "id": "2b1fa754-4368-4220-a02c-5fcd616d8021",
   "metadata": {},
   "source": [
    "# Imports"
   ]
  },
  {
   "cell_type": "code",
   "execution_count": 1,
   "id": "b68a2aad-138d-49bb-b6cf-c98f3adf8124",
   "metadata": {},
   "outputs": [],
   "source": [
    "import sqlite3 as sq3\n",
    "import numpy as np\n",
    "import pandas as pd\n",
    "import matplotlib.pyplot as plt\n",
    "import seaborn as sns\n",
    "\n",
    "from sklearn.model_selection import train_test_split\n",
    "\n",
    "RANDOM_SEED = 42\n",
    "CV = 5\n",
    "TEST_RATIO = 0.5\n",
    "VAL_RATIO = 0.2"
   ]
  },
  {
   "cell_type": "code",
   "execution_count": 2,
   "id": "325bc4cb-d0e9-4c32-9c7e-e68b959a412d",
   "metadata": {},
   "outputs": [],
   "source": [
    "DB_PATH = 'Data/survive.db'\n",
    "con = sq3.Connection(DB_PATH)\n",
    "query = '''SELECT * FROM SURVIVE'''\n",
    "df = pd.read_sql(query, con)"
   ]
  },
  {
   "cell_type": "markdown",
   "id": "15d0c496-dee5-4b6d-b4d1-8223af79caad",
   "metadata": {},
   "source": [
    "# EDA"
   ]
  },
  {
   "cell_type": "markdown",
   "id": "9ff161d5-2c80-486c-b8d8-d86b5d6ac7a5",
   "metadata": {},
   "source": [
    "| Feature | Description | Expected Value Type | Expected Example | \n",
    "| --- | --- | --- | --- |\n",
    "|ID|\tUnique ID for each patient| (int) | 1245 |\n",
    "|Survive\t| Whether Patient Survives, 0= No, 1=Yes| (int/boolean) | 0,1,Yes,No |\n",
    "| Diabetes | Diabetes condition of patient | (int/boolean) | yes, No| \n",
    "|Gender\t|Gender\t|  (int/boolean) | 0,1,M,F |\n",
    "|Smoke\t|Smoker\t| (int/boolean) | 0,1,Yes,No |\n",
    "|Age\t|Age of patient\t| (int) | 32 | \n",
    "|Ejection Fraction\t| Strength of heart\t| (float) | 0.5 to 0.75, bounded[0,1] |  \n",
    "|Sodium\t|level of sodium in blood serum (mg/dL)\t| (int) | 135-145 millimoles per litre (mmol/L) | \n",
    "|Creatinine\t|level of Creatinine in blood serum (md/dL)\t|  (int) | For adult men, 0.74 to 1.35 mg/dL , For adult women, 0.59 to 1.04 mg/dL |\n",
    "|Pletelets\t|Number of platelets in the blood serum (kilo-platelets/mL)\t| (int) | 150K to 450K platelets per microliter of blood |\n",
    "|Creatinine Phosphokinase|\tlevel of the enzyme in the blood (mcg/L)| (int) |  10 to 120 micrograms per liter (mcg/L)\n",
    "|Blood Pressure | level of blood pressure(mmHG) | (int) | systolic pressure of less than 120 and a diastolic pressure of less than 80 |\n",
    "|Hemoglobin| level of hemoglobin in blood (g/dL) | (float) | For men, 13.5 to 17.5 grams per deciliter. For women, 12.0 to 15.5 grams per deciliter|\n",
    "|Height| height of patient (cm)| (float) | 166cm |\n",
    "|Weight| weight of patient (kg) | (float) | 58kg |\n",
    "|Favourite Color | Patient's Favourite Color | (str) | blue | "
   ]
  },
  {
   "cell_type": "markdown",
   "id": "91c46939-040c-4f75-8a62-d00cc49f4290",
   "metadata": {},
   "source": [
    "Some research was needed to form some expected values and types of the features I am going to look at. This is important because some values can be implicit without some domain knowledge. As much as I can, I will need to be able to detect them and impute them as best as I can. Expected value / sensible range for features like Creatinine and other medical terms can be found in google. However as the information gathered from the internet are for normal range of values whereas the dataset consist of data from patients, the range of values can differ.\n",
    "\n",
    "Blood pressure should be given as two set of numbers one as systolic pressure and another as diastolic pressure."
   ]
  },
  {
   "cell_type": "code",
   "execution_count": 3,
   "id": "efa0cecd-0c06-40bb-8658-a7bec0103e1c",
   "metadata": {},
   "outputs": [],
   "source": [
    "# making copy of dataframe just in case\n",
    "df_ori = df.copy()"
   ]
  },
  {
   "cell_type": "markdown",
   "id": "70b620b5-2dc9-41e3-a853-0d879895e4e5",
   "metadata": {},
   "source": [
    "Certain features like ID and favourite color has no bearing on the outcome of the patient's survivability so these will be dropped immediately."
   ]
  },
  {
   "cell_type": "code",
   "execution_count": 4,
   "id": "0bd03314-3f22-4845-b7cf-0216842308e1",
   "metadata": {},
   "outputs": [],
   "source": [
    "df.drop(columns=['ID', 'Favorite color'], inplace = True)"
   ]
  },
  {
   "cell_type": "code",
   "execution_count": 5,
   "id": "da80c34a-9ac9-4638-bc58-23ff57f6e3fa",
   "metadata": {},
   "outputs": [
    {
     "name": "stdout",
     "output_type": "stream",
     "text": [
      "<class 'pandas.core.frame.DataFrame'>\n",
      "RangeIndex: 15000 entries, 0 to 14999\n",
      "Data columns (total 14 columns):\n",
      " #   Column                    Non-Null Count  Dtype  \n",
      "---  ------                    --------------  -----  \n",
      " 0   Survive                   15000 non-null  object \n",
      " 1   Gender                    15000 non-null  object \n",
      " 2   Smoke                     15000 non-null  object \n",
      " 3   Diabetes                  15000 non-null  object \n",
      " 4   Age                       15000 non-null  int64  \n",
      " 5   Ejection Fraction         15000 non-null  object \n",
      " 6   Sodium                    15000 non-null  int64  \n",
      " 7   Creatinine                14501 non-null  float64\n",
      " 8   Pletelets                 15000 non-null  float64\n",
      " 9   Creatinine phosphokinase  15000 non-null  int64  \n",
      " 10  Blood Pressure            15000 non-null  int64  \n",
      " 11  Hemoglobin                15000 non-null  float64\n",
      " 12  Height                    15000 non-null  int64  \n",
      " 13  Weight                    15000 non-null  int64  \n",
      "dtypes: float64(3), int64(6), object(5)\n",
      "memory usage: 1.6+ MB\n"
     ]
    }
   ],
   "source": [
    "# Checking the dtype of features\n",
    "df.info()"
   ]
  },
  {
   "cell_type": "markdown",
   "id": "9c9c635b-1b6a-4e25-ad74-b9f5ef904d26",
   "metadata": {},
   "source": [
    "Survive is the target, we have a bunch of features that are strings, some are integers and a couple of floats.\n",
    "\n",
    "One unexpected feature is diabetes because it was not in the original list of features we are expecting. "
   ]
  },
  {
   "cell_type": "code",
   "execution_count": 6,
   "id": "4e5446a7-6e8c-4aef-8e9c-46e77e4bde89",
   "metadata": {},
   "outputs": [
    {
     "data": {
      "text/html": [
       "<div>\n",
       "<style scoped>\n",
       "    .dataframe tbody tr th:only-of-type {\n",
       "        vertical-align: middle;\n",
       "    }\n",
       "\n",
       "    .dataframe tbody tr th {\n",
       "        vertical-align: top;\n",
       "    }\n",
       "\n",
       "    .dataframe thead th {\n",
       "        text-align: right;\n",
       "    }\n",
       "</style>\n",
       "<table border=\"1\" class=\"dataframe\">\n",
       "  <thead>\n",
       "    <tr style=\"text-align: right;\">\n",
       "      <th></th>\n",
       "      <th>count</th>\n",
       "      <th>mean</th>\n",
       "      <th>std</th>\n",
       "      <th>min</th>\n",
       "      <th>25%</th>\n",
       "      <th>50%</th>\n",
       "      <th>75%</th>\n",
       "      <th>max</th>\n",
       "    </tr>\n",
       "  </thead>\n",
       "  <tbody>\n",
       "    <tr>\n",
       "      <th>Age</th>\n",
       "      <td>15000.0</td>\n",
       "      <td>57.428467</td>\n",
       "      <td>23.411173</td>\n",
       "      <td>-95.0</td>\n",
       "      <td>50.0</td>\n",
       "      <td>60.0</td>\n",
       "      <td>70.0</td>\n",
       "      <td>95.0</td>\n",
       "    </tr>\n",
       "    <tr>\n",
       "      <th>Sodium</th>\n",
       "      <td>15000.0</td>\n",
       "      <td>136.604267</td>\n",
       "      <td>4.364890</td>\n",
       "      <td>113.0</td>\n",
       "      <td>134.0</td>\n",
       "      <td>137.0</td>\n",
       "      <td>140.0</td>\n",
       "      <td>148.0</td>\n",
       "    </tr>\n",
       "    <tr>\n",
       "      <th>Creatinine</th>\n",
       "      <td>14501.0</td>\n",
       "      <td>1.410195</td>\n",
       "      <td>1.044535</td>\n",
       "      <td>0.5</td>\n",
       "      <td>0.9</td>\n",
       "      <td>1.1</td>\n",
       "      <td>1.4</td>\n",
       "      <td>9.4</td>\n",
       "    </tr>\n",
       "    <tr>\n",
       "      <th>Pletelets</th>\n",
       "      <td>15000.0</td>\n",
       "      <td>263096.016490</td>\n",
       "      <td>98056.330340</td>\n",
       "      <td>25100.0</td>\n",
       "      <td>211000.0</td>\n",
       "      <td>262000.0</td>\n",
       "      <td>304000.0</td>\n",
       "      <td>850000.0</td>\n",
       "    </tr>\n",
       "    <tr>\n",
       "      <th>Creatinine phosphokinase</th>\n",
       "      <td>15000.0</td>\n",
       "      <td>580.151800</td>\n",
       "      <td>955.418765</td>\n",
       "      <td>23.0</td>\n",
       "      <td>115.0</td>\n",
       "      <td>250.0</td>\n",
       "      <td>582.0</td>\n",
       "      <td>7861.0</td>\n",
       "    </tr>\n",
       "    <tr>\n",
       "      <th>Blood Pressure</th>\n",
       "      <td>15000.0</td>\n",
       "      <td>103.676667</td>\n",
       "      <td>39.700138</td>\n",
       "      <td>40.0</td>\n",
       "      <td>70.0</td>\n",
       "      <td>100.0</td>\n",
       "      <td>137.0</td>\n",
       "      <td>179.0</td>\n",
       "    </tr>\n",
       "    <tr>\n",
       "      <th>Hemoglobin</th>\n",
       "      <td>15000.0</td>\n",
       "      <td>12.910667</td>\n",
       "      <td>2.500152</td>\n",
       "      <td>9.0</td>\n",
       "      <td>10.7</td>\n",
       "      <td>12.7</td>\n",
       "      <td>15.1</td>\n",
       "      <td>17.5</td>\n",
       "    </tr>\n",
       "    <tr>\n",
       "      <th>Height</th>\n",
       "      <td>15000.0</td>\n",
       "      <td>159.475200</td>\n",
       "      <td>17.344439</td>\n",
       "      <td>130.0</td>\n",
       "      <td>144.0</td>\n",
       "      <td>160.0</td>\n",
       "      <td>174.0</td>\n",
       "      <td>189.0</td>\n",
       "    </tr>\n",
       "    <tr>\n",
       "      <th>Weight</th>\n",
       "      <td>15000.0</td>\n",
       "      <td>69.340467</td>\n",
       "      <td>25.298287</td>\n",
       "      <td>19.0</td>\n",
       "      <td>50.0</td>\n",
       "      <td>66.0</td>\n",
       "      <td>87.0</td>\n",
       "      <td>141.0</td>\n",
       "    </tr>\n",
       "  </tbody>\n",
       "</table>\n",
       "</div>"
      ],
      "text/plain": [
       "                            count           mean           std      min  \\\n",
       "Age                       15000.0      57.428467     23.411173    -95.0   \n",
       "Sodium                    15000.0     136.604267      4.364890    113.0   \n",
       "Creatinine                14501.0       1.410195      1.044535      0.5   \n",
       "Pletelets                 15000.0  263096.016490  98056.330340  25100.0   \n",
       "Creatinine phosphokinase  15000.0     580.151800    955.418765     23.0   \n",
       "Blood Pressure            15000.0     103.676667     39.700138     40.0   \n",
       "Hemoglobin                15000.0      12.910667      2.500152      9.0   \n",
       "Height                    15000.0     159.475200     17.344439    130.0   \n",
       "Weight                    15000.0      69.340467     25.298287     19.0   \n",
       "\n",
       "                               25%       50%       75%       max  \n",
       "Age                           50.0      60.0      70.0      95.0  \n",
       "Sodium                       134.0     137.0     140.0     148.0  \n",
       "Creatinine                     0.9       1.1       1.4       9.4  \n",
       "Pletelets                 211000.0  262000.0  304000.0  850000.0  \n",
       "Creatinine phosphokinase     115.0     250.0     582.0    7861.0  \n",
       "Blood Pressure                70.0     100.0     137.0     179.0  \n",
       "Hemoglobin                    10.7      12.7      15.1      17.5  \n",
       "Height                       144.0     160.0     174.0     189.0  \n",
       "Weight                        50.0      66.0      87.0     141.0  "
      ]
     },
     "execution_count": 6,
     "metadata": {},
     "output_type": "execute_result"
    }
   ],
   "source": [
    "df.describe().T"
   ]
  },
  {
   "cell_type": "markdown",
   "id": "dd3ba552-1d9f-4864-a3ca-b4d5ddc2e750",
   "metadata": {},
   "source": [
    "Some values already seem suspect like the height and weight. We will look at the distributions later"
   ]
  },
  {
   "cell_type": "code",
   "execution_count": 7,
   "id": "2d981b07-39ea-4988-a357-ca43463264fd",
   "metadata": {},
   "outputs": [
    {
     "data": {
      "text/html": [
       "<div>\n",
       "<style scoped>\n",
       "    .dataframe tbody tr th:only-of-type {\n",
       "        vertical-align: middle;\n",
       "    }\n",
       "\n",
       "    .dataframe tbody tr th {\n",
       "        vertical-align: top;\n",
       "    }\n",
       "\n",
       "    .dataframe thead th {\n",
       "        text-align: right;\n",
       "    }\n",
       "</style>\n",
       "<table border=\"1\" class=\"dataframe\">\n",
       "  <thead>\n",
       "    <tr style=\"text-align: right;\">\n",
       "      <th></th>\n",
       "      <th>count</th>\n",
       "      <th>unique</th>\n",
       "      <th>top</th>\n",
       "      <th>freq</th>\n",
       "    </tr>\n",
       "  </thead>\n",
       "  <tbody>\n",
       "    <tr>\n",
       "      <th>Survive</th>\n",
       "      <td>15000</td>\n",
       "      <td>4</td>\n",
       "      <td>0</td>\n",
       "      <td>9581</td>\n",
       "    </tr>\n",
       "    <tr>\n",
       "      <th>Gender</th>\n",
       "      <td>15000</td>\n",
       "      <td>2</td>\n",
       "      <td>Male</td>\n",
       "      <td>9757</td>\n",
       "    </tr>\n",
       "    <tr>\n",
       "      <th>Smoke</th>\n",
       "      <td>15000</td>\n",
       "      <td>4</td>\n",
       "      <td>No</td>\n",
       "      <td>9710</td>\n",
       "    </tr>\n",
       "    <tr>\n",
       "      <th>Diabetes</th>\n",
       "      <td>15000</td>\n",
       "      <td>3</td>\n",
       "      <td>Normal</td>\n",
       "      <td>8789</td>\n",
       "    </tr>\n",
       "    <tr>\n",
       "      <th>Ejection Fraction</th>\n",
       "      <td>15000</td>\n",
       "      <td>5</td>\n",
       "      <td>Low</td>\n",
       "      <td>12734</td>\n",
       "    </tr>\n",
       "  </tbody>\n",
       "</table>\n",
       "</div>"
      ],
      "text/plain": [
       "                   count unique     top   freq\n",
       "Survive            15000      4       0   9581\n",
       "Gender             15000      2    Male   9757\n",
       "Smoke              15000      4      No   9710\n",
       "Diabetes           15000      3  Normal   8789\n",
       "Ejection Fraction  15000      5     Low  12734"
      ]
     },
     "execution_count": 7,
     "metadata": {},
     "output_type": "execute_result"
    }
   ],
   "source": [
    "df.select_dtypes(include ='object').describe().T"
   ]
  },
  {
   "cell_type": "markdown",
   "id": "c855befb-80a4-46ce-9ae6-063682adb656",
   "metadata": {},
   "source": [
    "Survive is our target variable and it has 4 unique values. Smoke has similar quality. Ejection fraction was expected as a float but was given as a categorical.\n",
    "\n",
    "We will need to inspect them further"
   ]
  },
  {
   "cell_type": "code",
   "execution_count": 8,
   "id": "0875f371-5ea7-4860-b62b-119edbbe97cf",
   "metadata": {
    "tags": []
   },
   "outputs": [
    {
     "data": {
      "text/html": [
       "<div>\n",
       "<style scoped>\n",
       "    .dataframe tbody tr th:only-of-type {\n",
       "        vertical-align: middle;\n",
       "    }\n",
       "\n",
       "    .dataframe tbody tr th {\n",
       "        vertical-align: top;\n",
       "    }\n",
       "\n",
       "    .dataframe thead th {\n",
       "        text-align: right;\n",
       "    }\n",
       "</style>\n",
       "<table border=\"1\" class=\"dataframe\">\n",
       "  <thead>\n",
       "    <tr style=\"text-align: right;\">\n",
       "      <th></th>\n",
       "      <th>Survive</th>\n",
       "      <th>Gender</th>\n",
       "      <th>Smoke</th>\n",
       "      <th>Diabetes</th>\n",
       "      <th>Age</th>\n",
       "      <th>Ejection Fraction</th>\n",
       "      <th>Sodium</th>\n",
       "      <th>Creatinine</th>\n",
       "      <th>Pletelets</th>\n",
       "      <th>Creatinine phosphokinase</th>\n",
       "      <th>Blood Pressure</th>\n",
       "      <th>Hemoglobin</th>\n",
       "      <th>Height</th>\n",
       "      <th>Weight</th>\n",
       "    </tr>\n",
       "  </thead>\n",
       "  <tbody>\n",
       "    <tr>\n",
       "      <th>0</th>\n",
       "      <td>0</td>\n",
       "      <td>Male</td>\n",
       "      <td>Yes</td>\n",
       "      <td>Normal</td>\n",
       "      <td>50</td>\n",
       "      <td>Low</td>\n",
       "      <td>141</td>\n",
       "      <td>0.70</td>\n",
       "      <td>266000.0</td>\n",
       "      <td>185</td>\n",
       "      <td>105</td>\n",
       "      <td>12.3</td>\n",
       "      <td>180</td>\n",
       "      <td>93</td>\n",
       "    </tr>\n",
       "    <tr>\n",
       "      <th>1</th>\n",
       "      <td>1</td>\n",
       "      <td>Male</td>\n",
       "      <td>No</td>\n",
       "      <td>Normal</td>\n",
       "      <td>75</td>\n",
       "      <td>Low</td>\n",
       "      <td>134</td>\n",
       "      <td>2.50</td>\n",
       "      <td>224000.0</td>\n",
       "      <td>99</td>\n",
       "      <td>162</td>\n",
       "      <td>13.0</td>\n",
       "      <td>140</td>\n",
       "      <td>47</td>\n",
       "    </tr>\n",
       "    <tr>\n",
       "      <th>2</th>\n",
       "      <td>1</td>\n",
       "      <td>Female</td>\n",
       "      <td>No</td>\n",
       "      <td>Pre-diabetes</td>\n",
       "      <td>80</td>\n",
       "      <td>Low</td>\n",
       "      <td>135</td>\n",
       "      <td>1.30</td>\n",
       "      <td>192000.0</td>\n",
       "      <td>776</td>\n",
       "      <td>179</td>\n",
       "      <td>12.4</td>\n",
       "      <td>150</td>\n",
       "      <td>61</td>\n",
       "    </tr>\n",
       "    <tr>\n",
       "      <th>3</th>\n",
       "      <td>0</td>\n",
       "      <td>Male</td>\n",
       "      <td>No</td>\n",
       "      <td>Normal</td>\n",
       "      <td>-60</td>\n",
       "      <td>Low</td>\n",
       "      <td>136</td>\n",
       "      <td>0.90</td>\n",
       "      <td>228000.0</td>\n",
       "      <td>2261</td>\n",
       "      <td>136</td>\n",
       "      <td>15.3</td>\n",
       "      <td>130</td>\n",
       "      <td>48</td>\n",
       "    </tr>\n",
       "    <tr>\n",
       "      <th>4</th>\n",
       "      <td>0</td>\n",
       "      <td>Female</td>\n",
       "      <td>No</td>\n",
       "      <td>Normal</td>\n",
       "      <td>70</td>\n",
       "      <td>Low</td>\n",
       "      <td>141</td>\n",
       "      <td>0.90</td>\n",
       "      <td>358000.0</td>\n",
       "      <td>1202</td>\n",
       "      <td>171</td>\n",
       "      <td>13.3</td>\n",
       "      <td>177</td>\n",
       "      <td>64</td>\n",
       "    </tr>\n",
       "    <tr>\n",
       "      <th>5</th>\n",
       "      <td>1</td>\n",
       "      <td>Male</td>\n",
       "      <td>No</td>\n",
       "      <td>Normal</td>\n",
       "      <td>55</td>\n",
       "      <td>Low</td>\n",
       "      <td>138</td>\n",
       "      <td>1.10</td>\n",
       "      <td>314000.0</td>\n",
       "      <td>2017</td>\n",
       "      <td>88</td>\n",
       "      <td>16.5</td>\n",
       "      <td>176</td>\n",
       "      <td>58</td>\n",
       "    </tr>\n",
       "    <tr>\n",
       "      <th>6</th>\n",
       "      <td>1</td>\n",
       "      <td>Male</td>\n",
       "      <td>No</td>\n",
       "      <td>Normal</td>\n",
       "      <td>75</td>\n",
       "      <td>Low</td>\n",
       "      <td>134</td>\n",
       "      <td>2.50</td>\n",
       "      <td>224000.0</td>\n",
       "      <td>99</td>\n",
       "      <td>164</td>\n",
       "      <td>16.3</td>\n",
       "      <td>172</td>\n",
       "      <td>70</td>\n",
       "    </tr>\n",
       "    <tr>\n",
       "      <th>7</th>\n",
       "      <td>0</td>\n",
       "      <td>Female</td>\n",
       "      <td>No</td>\n",
       "      <td>Normal</td>\n",
       "      <td>65</td>\n",
       "      <td>Low</td>\n",
       "      <td>139</td>\n",
       "      <td>1.70</td>\n",
       "      <td>294000.0</td>\n",
       "      <td>326</td>\n",
       "      <td>82</td>\n",
       "      <td>14.1</td>\n",
       "      <td>167</td>\n",
       "      <td>50</td>\n",
       "    </tr>\n",
       "    <tr>\n",
       "      <th>8</th>\n",
       "      <td>No</td>\n",
       "      <td>Female</td>\n",
       "      <td>No</td>\n",
       "      <td>Pre-diabetes</td>\n",
       "      <td>60</td>\n",
       "      <td>Low</td>\n",
       "      <td>140</td>\n",
       "      <td>0.75</td>\n",
       "      <td>228000.0</td>\n",
       "      <td>96</td>\n",
       "      <td>83</td>\n",
       "      <td>15.5</td>\n",
       "      <td>176</td>\n",
       "      <td>94</td>\n",
       "    </tr>\n",
       "    <tr>\n",
       "      <th>9</th>\n",
       "      <td>1</td>\n",
       "      <td>Female</td>\n",
       "      <td>No</td>\n",
       "      <td>Normal</td>\n",
       "      <td>60</td>\n",
       "      <td>Low</td>\n",
       "      <td>127</td>\n",
       "      <td>1.70</td>\n",
       "      <td>62000.0</td>\n",
       "      <td>166</td>\n",
       "      <td>59</td>\n",
       "      <td>12.3</td>\n",
       "      <td>156</td>\n",
       "      <td>47</td>\n",
       "    </tr>\n",
       "  </tbody>\n",
       "</table>\n",
       "</div>"
      ],
      "text/plain": [
       "  Survive  Gender Smoke      Diabetes  Age Ejection Fraction  Sodium  \\\n",
       "0       0    Male   Yes        Normal   50               Low     141   \n",
       "1       1    Male    No        Normal   75               Low     134   \n",
       "2       1  Female    No  Pre-diabetes   80               Low     135   \n",
       "3       0    Male    No        Normal  -60               Low     136   \n",
       "4       0  Female    No        Normal   70               Low     141   \n",
       "5       1    Male    No        Normal   55               Low     138   \n",
       "6       1    Male    No        Normal   75               Low     134   \n",
       "7       0  Female    No        Normal   65               Low     139   \n",
       "8      No  Female    No  Pre-diabetes   60               Low     140   \n",
       "9       1  Female    No        Normal   60               Low     127   \n",
       "\n",
       "   Creatinine  Pletelets  Creatinine phosphokinase  Blood Pressure  \\\n",
       "0        0.70   266000.0                       185             105   \n",
       "1        2.50   224000.0                        99             162   \n",
       "2        1.30   192000.0                       776             179   \n",
       "3        0.90   228000.0                      2261             136   \n",
       "4        0.90   358000.0                      1202             171   \n",
       "5        1.10   314000.0                      2017              88   \n",
       "6        2.50   224000.0                        99             164   \n",
       "7        1.70   294000.0                       326              82   \n",
       "8        0.75   228000.0                        96              83   \n",
       "9        1.70    62000.0                       166              59   \n",
       "\n",
       "   Hemoglobin  Height  Weight  \n",
       "0        12.3     180      93  \n",
       "1        13.0     140      47  \n",
       "2        12.4     150      61  \n",
       "3        15.3     130      48  \n",
       "4        13.3     177      64  \n",
       "5        16.5     176      58  \n",
       "6        16.3     172      70  \n",
       "7        14.1     167      50  \n",
       "8        15.5     176      94  \n",
       "9        12.3     156      47  "
      ]
     },
     "execution_count": 8,
     "metadata": {},
     "output_type": "execute_result"
    }
   ],
   "source": [
    "df.head(10)"
   ]
  },
  {
   "cell_type": "markdown",
   "id": "51ce3d50-b040-4277-8c85-d565575f388b",
   "metadata": {},
   "source": [
    "We see age containing negative number which is invalid."
   ]
  },
  {
   "cell_type": "code",
   "execution_count": 9,
   "id": "8a807135-7b18-4519-ab3c-f558173c47b1",
   "metadata": {},
   "outputs": [
    {
     "data": {
      "text/plain": [
       "Survive                       0\n",
       "Gender                        0\n",
       "Smoke                         0\n",
       "Diabetes                      0\n",
       "Age                           0\n",
       "Ejection Fraction             0\n",
       "Sodium                        0\n",
       "Creatinine                  499\n",
       "Pletelets                     0\n",
       "Creatinine phosphokinase      0\n",
       "Blood Pressure                0\n",
       "Hemoglobin                    0\n",
       "Height                        0\n",
       "Weight                        0\n",
       "dtype: int64"
      ]
     },
     "execution_count": 9,
     "metadata": {},
     "output_type": "execute_result"
    }
   ],
   "source": [
    "df.isna().sum()"
   ]
  },
  {
   "cell_type": "markdown",
   "id": "d36bf75a-a567-40bf-9f69-8c8731033e2c",
   "metadata": {},
   "source": [
    "Only creatinine has explicit invalid/ null values"
   ]
  },
  {
   "cell_type": "code",
   "execution_count": 10,
   "id": "1086f5de-4b2b-4b83-bbdd-a4258124f0b0",
   "metadata": {},
   "outputs": [
    {
     "data": {
      "image/png": "[encoded data removed]",
      "text/plain": [
       "<Figure size 432x288 with 1 Axes>"
      ]
     },
     "metadata": {
      "needs_background": "light"
     },
     "output_type": "display_data"
    },
    {
     "data": {
      "image/png": "[encoded data removed]",
      "text/plain": [
       "<Figure size 432x288 with 1 Axes>"
      ]
     },
     "metadata": {
      "needs_background": "light"
     },
     "output_type": "display_data"
    },
    {
     "data": {
      "image/png": "[encoded data removed]",
      "text/plain": [
       "<Figure size 432x288 with 1 Axes>"
      ]
     },
     "metadata": {
      "needs_background": "light"
     },
     "output_type": "display_data"
    },
    {
     "data": {
      "image/png": "[encoded data removed]",
      "text/plain": [
       "<Figure size 432x288 with 1 Axes>"
      ]
     },
     "metadata": {
      "needs_background": "light"
     },
     "output_type": "display_data"
    },
    {
     "data": {
      "image/png": "[encoded data removed]",
      "text/plain": [
       "<Figure size 432x288 with 1 Axes>"
      ]
     },
     "metadata": {
      "needs_background": "light"
     },
     "output_type": "display_data"
    }
   ],
   "source": [
    "for col in df.select_dtypes(include='object'):\n",
    "    df[col].value_counts().plot(kind='bar')\n",
    "    df[col].value_counts()\n",
    "    plt.title(col)\n",
    "    plt.show()"
   ]
  },
  {
   "cell_type": "markdown",
   "id": "5d516fd1-9133-4090-8e2b-46bdd64524a5",
   "metadata": {},
   "source": [
    "We have a closer look at the categorical features. Our target feature is still binary, we just need to transform the string into numbers. The same can be done to smoke. Ejection fraction will also need some cleaning."
   ]
  },
  {
   "cell_type": "code",
   "execution_count": 11,
   "id": "2bef4dd8-e316-4e82-a60e-437120cd950b",
   "metadata": {},
   "outputs": [
    {
     "data": {
      "text/plain": [
       "array([[<AxesSubplot:title={'center':'Age'}>,\n",
       "        <AxesSubplot:title={'center':'Sodium'}>,\n",
       "        <AxesSubplot:title={'center':'Creatinine'}>],\n",
       "       [<AxesSubplot:title={'center':'Pletelets'}>,\n",
       "        <AxesSubplot:title={'center':'Creatinine phosphokinase'}>,\n",
       "        <AxesSubplot:title={'center':'Blood Pressure'}>],\n",
       "       [<AxesSubplot:title={'center':'Hemoglobin'}>,\n",
       "        <AxesSubplot:title={'center':'Height'}>,\n",
       "        <AxesSubplot:title={'center':'Weight'}>]], dtype=object)"
      ]
     },
     "execution_count": 11,
     "metadata": {},
     "output_type": "execute_result"
    },
    {
     "data": {
      "image/png": "[encoded data removed]",
      "text/plain": [
       "<Figure size 1440x1440 with 9 Axes>"
      ]
     },
     "metadata": {
      "needs_background": "light"
     },
     "output_type": "display_data"
    }
   ],
   "source": [
    "df.hist(figsize = (20,20))"
   ]
  },
  {
   "cell_type": "markdown",
   "id": "8fa98302-c495-4a2b-8d90-fb084c1546cd",
   "metadata": {},
   "source": [
    "We have already seen that the age has some invalid values. My assumption here is that the value is correct but the sign is flipped.\n",
    "\n",
    "Some of the features look normal/guassian but others are tail heavy.\n",
    "\n",
    "Height and BP has a uniform distribution"
   ]
  },
  {
   "cell_type": "code",
   "execution_count": 12,
   "id": "62662b82-38e9-49e1-a77e-e4836d0791d8",
   "metadata": {},
   "outputs": [
    {
     "data": {
      "text/plain": [
       "['ID',\n",
       " 'Survive',\n",
       " 'Gender',\n",
       " 'Smoke',\n",
       " 'Diabetes',\n",
       " 'Age',\n",
       " 'Ejection Fraction',\n",
       " 'Sodium',\n",
       " 'Creatinine',\n",
       " 'Pletelets',\n",
       " 'Creatinine phosphokinase',\n",
       " 'Blood Pressure',\n",
       " 'Hemoglobin',\n",
       " 'Height',\n",
       " 'Weight',\n",
       " 'Favorite color']"
      ]
     },
     "execution_count": 12,
     "metadata": {},
     "output_type": "execute_result"
    }
   ],
   "source": [
    "df_ori.columns.to_list()"
   ]
  },
  {
   "cell_type": "markdown",
   "id": "a5697bf6-1b8f-4855-a6b6-23e2152f624a",
   "metadata": {},
   "source": [
    "<b>Observations</b>:\n",
    "\n",
    "Survive\n",
    "- mixed types present : 0,1, yes , no \n",
    "\n",
    "Gender\n",
    "- seems okay\n",
    "\n",
    "Smoke\n",
    "- inconsistent case No vs NO\n",
    "\n",
    "Diabetes\n",
    "- seems okay\n",
    "\n",
    "Age\n",
    "- Some values of age appears to be invalid (min -95?), could possibly be 95 instead of 95\n",
    "- I will assume that the negative sign is a typo or some calculation error but the value is correct\n",
    "\n",
    "Ejection Fraction\n",
    "- I was expecting float but categories were given, categories are inconsistent\n",
    "\n",
    "Sodium\n",
    "- Sodium appears to be in range, with some outliers\n",
    "\n",
    "Creatinine\n",
    "- Some values of creatinine appears to be invalid (max 9.4?)\n",
    "- only feature with explicit na values\n",
    "\n",
    "Pletelets\n",
    "- Pletelets??\n",
    "\n",
    "Creatinine phosphokinase (CK)\n",
    "- CK appears to be too much. Are they in different units?\n",
    "- Some outliers\n",
    "\n",
    "Blood Pressure\n",
    "- Blood pressure is typically measured with 2 set of values but only 1 is present without specifying which\n",
    "\n",
    "Hemoglobin\n",
    "- Hemoglobin appears to be in range\n",
    "\n",
    "Height\n",
    "- Lower end of height appears to be low considering age of patients\n",
    "\n",
    "Weight\n",
    "- Some values of weight appears to be invalid (min 19kg?)"
   ]
  },
  {
   "cell_type": "markdown",
   "id": "c85c716b-5d38-43f5-97c1-05bd4e406986",
   "metadata": {},
   "source": [
    "# Cleaning up the dataset"
   ]
  },
  {
   "cell_type": "markdown",
   "id": "df66123d-2de6-4285-be2f-bad83b5a6a80",
   "metadata": {},
   "source": [
    "Based on the observations above, we will clean up the features one by one in the sequence they appear in the columns starting with the target."
   ]
  },
  {
   "cell_type": "markdown",
   "id": "2bb51fbc-52a1-4953-8ab5-c9a017ad1469",
   "metadata": {
    "tags": []
   },
   "source": [
    "## Target - Survive"
   ]
  },
  {
   "cell_type": "markdown",
   "id": "144972ae-a530-4462-9b42-3c2aa37b4f35",
   "metadata": {},
   "source": [
    "Problems\n",
    "- mixed types present : 0,1, yes , no"
   ]
  },
  {
   "cell_type": "markdown",
   "id": "d88a5135-445e-4604-b8b7-379461bfd413",
   "metadata": {},
   "source": [
    "For survive it is stated that if the patient survives: 0 = No , 1 = Yes, hence we will replace No to 0 and Yes to 1 instead of 0 to No and 1 to Yes since we will encode them to numbers anyway"
   ]
  },
  {
   "cell_type": "code",
   "execution_count": 13,
   "id": "07f55f47-b07d-4347-8198-480c4ff704f5",
   "metadata": {},
   "outputs": [
    {
     "data": {
      "text/plain": [
       "0      9581\n",
       "1      4552\n",
       "No      604\n",
       "Yes     263\n",
       "Name: Survive, dtype: int64"
      ]
     },
     "execution_count": 13,
     "metadata": {},
     "output_type": "execute_result"
    }
   ],
   "source": [
    "df.Survive.value_counts()"
   ]
  },
  {
   "cell_type": "code",
   "execution_count": 14,
   "id": "beaee161-744b-42ed-9f66-ae9255c97444",
   "metadata": {},
   "outputs": [
    {
     "data": {
      "text/plain": [
       "0      10185\n",
       "1       4552\n",
       "Yes      263\n",
       "Name: Survive, dtype: int64"
      ]
     },
     "execution_count": 14,
     "metadata": {},
     "output_type": "execute_result"
    }
   ],
   "source": [
    "df.Survive.str.replace('No','0').value_counts()"
   ]
  },
  {
   "cell_type": "code",
   "execution_count": 15,
   "id": "9baaf5a4-d370-4cdd-b32c-6026a6787cd9",
   "metadata": {},
   "outputs": [],
   "source": [
    "df.Survive = df.Survive.str.replace('No','0')"
   ]
  },
  {
   "cell_type": "code",
   "execution_count": 16,
   "id": "2b870558-4507-4f66-b48a-6acdbbafe2ad",
   "metadata": {},
   "outputs": [
    {
     "data": {
      "text/plain": [
       "0    10185\n",
       "1     4815\n",
       "Name: Survive, dtype: int64"
      ]
     },
     "execution_count": 16,
     "metadata": {},
     "output_type": "execute_result"
    }
   ],
   "source": [
    "df.Survive.str.replace('Yes','1').value_counts()"
   ]
  },
  {
   "cell_type": "code",
   "execution_count": 17,
   "id": "d2864c42-6616-430c-bbda-6f1098bf8aaf",
   "metadata": {},
   "outputs": [],
   "source": [
    "df.Survive = df.Survive.str.replace('Yes','1')"
   ]
  },
  {
   "cell_type": "code",
   "execution_count": 18,
   "id": "849fe07b-b8ef-43dd-a30b-dc4c6a4b7dbd",
   "metadata": {},
   "outputs": [
    {
     "data": {
      "text/plain": [
       "0    0.679\n",
       "1    0.321\n",
       "Name: Survive, dtype: float64"
      ]
     },
     "execution_count": 18,
     "metadata": {},
     "output_type": "execute_result"
    }
   ],
   "source": [
    "df.Survive.value_counts(normalize=True)"
   ]
  },
  {
   "cell_type": "code",
   "execution_count": 19,
   "id": "3506abbb-a389-4c0b-9c85-916b055f7e9d",
   "metadata": {},
   "outputs": [],
   "source": [
    "df.Survive = df.Survive.astype('int')"
   ]
  },
  {
   "cell_type": "markdown",
   "id": "e0505ca8-f596-4b66-8958-e1f6f873427c",
   "metadata": {},
   "source": [
    "The Dataset is not too imbalanced like 0.9 against 0.1 we may not need to down or up sample."
   ]
  },
  {
   "cell_type": "markdown",
   "id": "bb35f437-1374-48c9-8718-7f49abab3b63",
   "metadata": {
    "tags": []
   },
   "source": [
    "## Gender"
   ]
  },
  {
   "cell_type": "markdown",
   "id": "a962cea8-42cb-42ca-8830-f454bf3fdda8",
   "metadata": {},
   "source": [
    "Gender seems okay"
   ]
  },
  {
   "cell_type": "code",
   "execution_count": 20,
   "id": "52ed5f42-690a-4184-a255-3bdf138f03a6",
   "metadata": {},
   "outputs": [
    {
     "data": {
      "text/plain": [
       "Male      0.650467\n",
       "Female    0.349533\n",
       "Name: Gender, dtype: float64"
      ]
     },
     "execution_count": 20,
     "metadata": {},
     "output_type": "execute_result"
    }
   ],
   "source": [
    "df.Gender.value_counts(normalize=True)"
   ]
  },
  {
   "cell_type": "markdown",
   "id": "f01d5155-7987-4df6-8110-ce4a594435fb",
   "metadata": {
    "tags": []
   },
   "source": [
    "## Smoker"
   ]
  },
  {
   "cell_type": "markdown",
   "id": "c0324fe0-f06d-4dd6-8dc7-863413c164f9",
   "metadata": {},
   "source": [
    "Problem: inconsistent case No vs NO"
   ]
  },
  {
   "cell_type": "code",
   "execution_count": 21,
   "id": "6871c859-05e7-46a8-b66b-f5cd6e38891f",
   "metadata": {},
   "outputs": [
    {
     "data": {
      "text/plain": [
       "No     9710\n",
       "Yes    4707\n",
       "NO      399\n",
       "YES     184\n",
       "Name: Smoke, dtype: int64"
      ]
     },
     "execution_count": 21,
     "metadata": {},
     "output_type": "execute_result"
    }
   ],
   "source": [
    "df.Smoke.value_counts()"
   ]
  },
  {
   "cell_type": "code",
   "execution_count": 22,
   "id": "9f984ea9-1d43-4e50-8f32-b08d2490b555",
   "metadata": {},
   "outputs": [],
   "source": [
    "df.Smoke = df.Smoke.replace('NO','No')\n",
    "df.Smoke = df.Smoke.replace('YES','Yes')"
   ]
  },
  {
   "cell_type": "code",
   "execution_count": 23,
   "id": "2cb75ab5-d924-4767-9a14-599b04339163",
   "metadata": {},
   "outputs": [
    {
     "data": {
      "text/plain": [
       "No     0.673933\n",
       "Yes    0.326067\n",
       "Name: Smoke, dtype: float64"
      ]
     },
     "execution_count": 23,
     "metadata": {},
     "output_type": "execute_result"
    }
   ],
   "source": [
    "df.Smoke.value_counts(normalize=True)"
   ]
  },
  {
   "cell_type": "markdown",
   "id": "6b6550c2-8e33-4ad1-8164-c0f07d4b284b",
   "metadata": {
    "tags": []
   },
   "source": [
    "## Diabetes"
   ]
  },
  {
   "cell_type": "code",
   "execution_count": 24,
   "id": "eb4a976f-a5fb-44bb-ac75-0c1129c4fde6",
   "metadata": {},
   "outputs": [
    {
     "data": {
      "text/plain": [
       "Normal          0.585933\n",
       "Pre-diabetes    0.208267\n",
       "Diabetes        0.205800\n",
       "Name: Diabetes, dtype: float64"
      ]
     },
     "execution_count": 24,
     "metadata": {},
     "output_type": "execute_result"
    }
   ],
   "source": [
    "df.Diabetes.value_counts(normalize=True)"
   ]
  },
  {
   "cell_type": "markdown",
   "id": "e45e5647-194a-4c17-8381-c19568fa3701",
   "metadata": {
    "tags": []
   },
   "source": [
    "## Age\n",
    "Problem: Some values of age appears to be invalid (min -95?), could possibly be 95 instead of 95"
   ]
  },
  {
   "cell_type": "code",
   "execution_count": 25,
   "id": "12cdb329-7239-4818-8dc5-b0cc5d91dcf1",
   "metadata": {},
   "outputs": [
    {
     "data": {
      "text/html": [
       "<div>\n",
       "<style scoped>\n",
       "    .dataframe tbody tr th:only-of-type {\n",
       "        vertical-align: middle;\n",
       "    }\n",
       "\n",
       "    .dataframe tbody tr th {\n",
       "        vertical-align: top;\n",
       "    }\n",
       "\n",
       "    .dataframe thead th {\n",
       "        text-align: right;\n",
       "    }\n",
       "</style>\n",
       "<table border=\"1\" class=\"dataframe\">\n",
       "  <thead>\n",
       "    <tr style=\"text-align: right;\">\n",
       "      <th></th>\n",
       "      <th>Survive</th>\n",
       "      <th>Gender</th>\n",
       "      <th>Smoke</th>\n",
       "      <th>Diabetes</th>\n",
       "      <th>Age</th>\n",
       "      <th>Ejection Fraction</th>\n",
       "      <th>Sodium</th>\n",
       "      <th>Creatinine</th>\n",
       "      <th>Pletelets</th>\n",
       "      <th>Creatinine phosphokinase</th>\n",
       "      <th>Blood Pressure</th>\n",
       "      <th>Hemoglobin</th>\n",
       "      <th>Height</th>\n",
       "      <th>Weight</th>\n",
       "    </tr>\n",
       "  </thead>\n",
       "  <tbody>\n",
       "    <tr>\n",
       "      <th>3</th>\n",
       "      <td>0</td>\n",
       "      <td>Male</td>\n",
       "      <td>No</td>\n",
       "      <td>Normal</td>\n",
       "      <td>-60</td>\n",
       "      <td>Low</td>\n",
       "      <td>136</td>\n",
       "      <td>0.90</td>\n",
       "      <td>228000.00</td>\n",
       "      <td>2261</td>\n",
       "      <td>136</td>\n",
       "      <td>15.3</td>\n",
       "      <td>130</td>\n",
       "      <td>48</td>\n",
       "    </tr>\n",
       "    <tr>\n",
       "      <th>14</th>\n",
       "      <td>0</td>\n",
       "      <td>Male</td>\n",
       "      <td>No</td>\n",
       "      <td>Normal</td>\n",
       "      <td>-40</td>\n",
       "      <td>Low</td>\n",
       "      <td>137</td>\n",
       "      <td>0.90</td>\n",
       "      <td>255000.00</td>\n",
       "      <td>129</td>\n",
       "      <td>82</td>\n",
       "      <td>9.1</td>\n",
       "      <td>140</td>\n",
       "      <td>37</td>\n",
       "    </tr>\n",
       "    <tr>\n",
       "      <th>24</th>\n",
       "      <td>1</td>\n",
       "      <td>Male</td>\n",
       "      <td>Yes</td>\n",
       "      <td>Normal</td>\n",
       "      <td>-85</td>\n",
       "      <td>Low</td>\n",
       "      <td>132</td>\n",
       "      <td>1.00</td>\n",
       "      <td>243000.00</td>\n",
       "      <td>5882</td>\n",
       "      <td>79</td>\n",
       "      <td>15.2</td>\n",
       "      <td>160</td>\n",
       "      <td>84</td>\n",
       "    </tr>\n",
       "    <tr>\n",
       "      <th>112</th>\n",
       "      <td>1</td>\n",
       "      <td>Male</td>\n",
       "      <td>No</td>\n",
       "      <td>Normal</td>\n",
       "      <td>-45</td>\n",
       "      <td>Low</td>\n",
       "      <td>135</td>\n",
       "      <td>1.60</td>\n",
       "      <td>126000.00</td>\n",
       "      <td>582</td>\n",
       "      <td>130</td>\n",
       "      <td>12.7</td>\n",
       "      <td>177</td>\n",
       "      <td>69</td>\n",
       "    </tr>\n",
       "    <tr>\n",
       "      <th>119</th>\n",
       "      <td>0</td>\n",
       "      <td>Female</td>\n",
       "      <td>No</td>\n",
       "      <td>Diabetes</td>\n",
       "      <td>-58</td>\n",
       "      <td>Normal</td>\n",
       "      <td>137</td>\n",
       "      <td>0.80</td>\n",
       "      <td>300000.00</td>\n",
       "      <td>200</td>\n",
       "      <td>53</td>\n",
       "      <td>9.1</td>\n",
       "      <td>155</td>\n",
       "      <td>71</td>\n",
       "    </tr>\n",
       "    <tr>\n",
       "      <th>...</th>\n",
       "      <td>...</td>\n",
       "      <td>...</td>\n",
       "      <td>...</td>\n",
       "      <td>...</td>\n",
       "      <td>...</td>\n",
       "      <td>...</td>\n",
       "      <td>...</td>\n",
       "      <td>...</td>\n",
       "      <td>...</td>\n",
       "      <td>...</td>\n",
       "      <td>...</td>\n",
       "      <td>...</td>\n",
       "      <td>...</td>\n",
       "      <td>...</td>\n",
       "    </tr>\n",
       "    <tr>\n",
       "      <th>14937</th>\n",
       "      <td>1</td>\n",
       "      <td>Female</td>\n",
       "      <td>No</td>\n",
       "      <td>Normal</td>\n",
       "      <td>-86</td>\n",
       "      <td>Low</td>\n",
       "      <td>134</td>\n",
       "      <td>1.83</td>\n",
       "      <td>263358.03</td>\n",
       "      <td>582</td>\n",
       "      <td>58</td>\n",
       "      <td>12.8</td>\n",
       "      <td>137</td>\n",
       "      <td>57</td>\n",
       "    </tr>\n",
       "    <tr>\n",
       "      <th>14959</th>\n",
       "      <td>0</td>\n",
       "      <td>Male</td>\n",
       "      <td>Yes</td>\n",
       "      <td>Normal</td>\n",
       "      <td>-50</td>\n",
       "      <td>Normal</td>\n",
       "      <td>140</td>\n",
       "      <td>NaN</td>\n",
       "      <td>147000.00</td>\n",
       "      <td>582</td>\n",
       "      <td>129</td>\n",
       "      <td>14.2</td>\n",
       "      <td>143</td>\n",
       "      <td>43</td>\n",
       "    </tr>\n",
       "    <tr>\n",
       "      <th>14961</th>\n",
       "      <td>0</td>\n",
       "      <td>Female</td>\n",
       "      <td>No</td>\n",
       "      <td>Diabetes</td>\n",
       "      <td>-50</td>\n",
       "      <td>Low</td>\n",
       "      <td>134</td>\n",
       "      <td>1.00</td>\n",
       "      <td>279000.00</td>\n",
       "      <td>582</td>\n",
       "      <td>135</td>\n",
       "      <td>9.3</td>\n",
       "      <td>171</td>\n",
       "      <td>63</td>\n",
       "    </tr>\n",
       "    <tr>\n",
       "      <th>14987</th>\n",
       "      <td>0</td>\n",
       "      <td>Female</td>\n",
       "      <td>Yes</td>\n",
       "      <td>Normal</td>\n",
       "      <td>-70</td>\n",
       "      <td>Normal</td>\n",
       "      <td>140</td>\n",
       "      <td>0.80</td>\n",
       "      <td>317000.00</td>\n",
       "      <td>92</td>\n",
       "      <td>165</td>\n",
       "      <td>16.0</td>\n",
       "      <td>168</td>\n",
       "      <td>92</td>\n",
       "    </tr>\n",
       "    <tr>\n",
       "      <th>14994</th>\n",
       "      <td>1</td>\n",
       "      <td>Male</td>\n",
       "      <td>Yes</td>\n",
       "      <td>Pre-diabetes</td>\n",
       "      <td>-72</td>\n",
       "      <td>Low</td>\n",
       "      <td>136</td>\n",
       "      <td>1.30</td>\n",
       "      <td>254000.00</td>\n",
       "      <td>364</td>\n",
       "      <td>162</td>\n",
       "      <td>16.6</td>\n",
       "      <td>177</td>\n",
       "      <td>107</td>\n",
       "    </tr>\n",
       "  </tbody>\n",
       "</table>\n",
       "<p>430 rows × 14 columns</p>\n",
       "</div>"
      ],
      "text/plain": [
       "       Survive  Gender Smoke      Diabetes  Age Ejection Fraction  Sodium  \\\n",
       "3            0    Male    No        Normal  -60               Low     136   \n",
       "14           0    Male    No        Normal  -40               Low     137   \n",
       "24           1    Male   Yes        Normal  -85               Low     132   \n",
       "112          1    Male    No        Normal  -45               Low     135   \n",
       "119          0  Female    No      Diabetes  -58            Normal     137   \n",
       "...        ...     ...   ...           ...  ...               ...     ...   \n",
       "14937        1  Female    No        Normal  -86               Low     134   \n",
       "14959        0    Male   Yes        Normal  -50            Normal     140   \n",
       "14961        0  Female    No      Diabetes  -50               Low     134   \n",
       "14987        0  Female   Yes        Normal  -70            Normal     140   \n",
       "14994        1    Male   Yes  Pre-diabetes  -72               Low     136   \n",
       "\n",
       "       Creatinine  Pletelets  Creatinine phosphokinase  Blood Pressure  \\\n",
       "3            0.90  228000.00                      2261             136   \n",
       "14           0.90  255000.00                       129              82   \n",
       "24           1.00  243000.00                      5882              79   \n",
       "112          1.60  126000.00                       582             130   \n",
       "119          0.80  300000.00                       200              53   \n",
       "...           ...        ...                       ...             ...   \n",
       "14937        1.83  263358.03                       582              58   \n",
       "14959         NaN  147000.00                       582             129   \n",
       "14961        1.00  279000.00                       582             135   \n",
       "14987        0.80  317000.00                        92             165   \n",
       "14994        1.30  254000.00                       364             162   \n",
       "\n",
       "       Hemoglobin  Height  Weight  \n",
       "3            15.3     130      48  \n",
       "14            9.1     140      37  \n",
       "24           15.2     160      84  \n",
       "112          12.7     177      69  \n",
       "119           9.1     155      71  \n",
       "...           ...     ...     ...  \n",
       "14937        12.8     137      57  \n",
       "14959        14.2     143      43  \n",
       "14961         9.3     171      63  \n",
       "14987        16.0     168      92  \n",
       "14994        16.6     177     107  \n",
       "\n",
       "[430 rows x 14 columns]"
      ]
     },
     "execution_count": 25,
     "metadata": {},
     "output_type": "execute_result"
    }
   ],
   "source": [
    "df[df.Age < 0]"
   ]
  },
  {
   "cell_type": "markdown",
   "id": "b3bb939d-fa5f-44f1-871b-4e3c1343f758",
   "metadata": {},
   "source": [
    "We have 430 rows where age is negative. I think its highly likely that they age could be positive instead without changing the value, lets see if it makes sense"
   ]
  },
  {
   "cell_type": "code",
   "execution_count": 26,
   "id": "f5aa7398-9a72-4f51-9444-a5b9a899f97f",
   "metadata": {},
   "outputs": [
    {
     "data": {
      "text/html": [
       "<div>\n",
       "<style scoped>\n",
       "    .dataframe tbody tr th:only-of-type {\n",
       "        vertical-align: middle;\n",
       "    }\n",
       "\n",
       "    .dataframe tbody tr th {\n",
       "        vertical-align: top;\n",
       "    }\n",
       "\n",
       "    .dataframe thead th {\n",
       "        text-align: right;\n",
       "    }\n",
       "</style>\n",
       "<table border=\"1\" class=\"dataframe\">\n",
       "  <thead>\n",
       "    <tr style=\"text-align: right;\">\n",
       "      <th></th>\n",
       "      <th>Survive</th>\n",
       "      <th>Gender</th>\n",
       "      <th>Smoke</th>\n",
       "      <th>Diabetes</th>\n",
       "      <th>Age</th>\n",
       "      <th>Ejection Fraction</th>\n",
       "      <th>Sodium</th>\n",
       "      <th>Creatinine</th>\n",
       "      <th>Pletelets</th>\n",
       "      <th>Creatinine phosphokinase</th>\n",
       "      <th>Blood Pressure</th>\n",
       "      <th>Hemoglobin</th>\n",
       "      <th>Height</th>\n",
       "      <th>Weight</th>\n",
       "    </tr>\n",
       "  </thead>\n",
       "  <tbody>\n",
       "    <tr>\n",
       "      <th>14822</th>\n",
       "      <td>0</td>\n",
       "      <td>Male</td>\n",
       "      <td>Yes</td>\n",
       "      <td>Normal</td>\n",
       "      <td>-52</td>\n",
       "      <td>Low</td>\n",
       "      <td>140</td>\n",
       "      <td>0.9</td>\n",
       "      <td>325000.0</td>\n",
       "      <td>3966</td>\n",
       "      <td>47</td>\n",
       "      <td>12.5</td>\n",
       "      <td>177</td>\n",
       "      <td>80</td>\n",
       "    </tr>\n",
       "    <tr>\n",
       "      <th>2275</th>\n",
       "      <td>1</td>\n",
       "      <td>Female</td>\n",
       "      <td>Yes</td>\n",
       "      <td>Pre-diabetes</td>\n",
       "      <td>-50</td>\n",
       "      <td>Low</td>\n",
       "      <td>136</td>\n",
       "      <td>1.2</td>\n",
       "      <td>153000.0</td>\n",
       "      <td>124</td>\n",
       "      <td>130</td>\n",
       "      <td>17.3</td>\n",
       "      <td>189</td>\n",
       "      <td>131</td>\n",
       "    </tr>\n",
       "    <tr>\n",
       "      <th>5924</th>\n",
       "      <td>1</td>\n",
       "      <td>Male</td>\n",
       "      <td>No</td>\n",
       "      <td>Normal</td>\n",
       "      <td>-85</td>\n",
       "      <td>Low</td>\n",
       "      <td>132</td>\n",
       "      <td>3.0</td>\n",
       "      <td>360000.0</td>\n",
       "      <td>23</td>\n",
       "      <td>110</td>\n",
       "      <td>14.9</td>\n",
       "      <td>186</td>\n",
       "      <td>129</td>\n",
       "    </tr>\n",
       "    <tr>\n",
       "      <th>778</th>\n",
       "      <td>1</td>\n",
       "      <td>Male</td>\n",
       "      <td>No</td>\n",
       "      <td>Normal</td>\n",
       "      <td>-58</td>\n",
       "      <td>Low</td>\n",
       "      <td>134</td>\n",
       "      <td>5.8</td>\n",
       "      <td>153000.0</td>\n",
       "      <td>60</td>\n",
       "      <td>84</td>\n",
       "      <td>9.7</td>\n",
       "      <td>133</td>\n",
       "      <td>66</td>\n",
       "    </tr>\n",
       "    <tr>\n",
       "      <th>12956</th>\n",
       "      <td>1</td>\n",
       "      <td>Male</td>\n",
       "      <td>No</td>\n",
       "      <td>Normal</td>\n",
       "      <td>-80</td>\n",
       "      <td>Low</td>\n",
       "      <td>133</td>\n",
       "      <td>4.4</td>\n",
       "      <td>140000.0</td>\n",
       "      <td>553</td>\n",
       "      <td>143</td>\n",
       "      <td>9.1</td>\n",
       "      <td>155</td>\n",
       "      <td>86</td>\n",
       "    </tr>\n",
       "  </tbody>\n",
       "</table>\n",
       "</div>"
      ],
      "text/plain": [
       "       Survive  Gender Smoke      Diabetes  Age Ejection Fraction  Sodium  \\\n",
       "14822        0    Male   Yes        Normal  -52               Low     140   \n",
       "2275         1  Female   Yes  Pre-diabetes  -50               Low     136   \n",
       "5924         1    Male    No        Normal  -85               Low     132   \n",
       "778          1    Male    No        Normal  -58               Low     134   \n",
       "12956        1    Male    No        Normal  -80               Low     133   \n",
       "\n",
       "       Creatinine  Pletelets  Creatinine phosphokinase  Blood Pressure  \\\n",
       "14822         0.9   325000.0                      3966              47   \n",
       "2275          1.2   153000.0                       124             130   \n",
       "5924          3.0   360000.0                        23             110   \n",
       "778           5.8   153000.0                        60              84   \n",
       "12956         4.4   140000.0                       553             143   \n",
       "\n",
       "       Hemoglobin  Height  Weight  \n",
       "14822        12.5     177      80  \n",
       "2275         17.3     189     131  \n",
       "5924         14.9     186     129  \n",
       "778           9.7     133      66  \n",
       "12956         9.1     155      86  "
      ]
     },
     "execution_count": 26,
     "metadata": {},
     "output_type": "execute_result"
    }
   ],
   "source": [
    "df[df.Age<0].sample(5, random_state= RANDOM_SEED)"
   ]
  },
  {
   "cell_type": "code",
   "execution_count": 27,
   "id": "3546ad0f-2bf2-4832-ac8a-f584ffc1b821",
   "metadata": {},
   "outputs": [
    {
     "data": {
      "text/plain": [
       "<AxesSubplot:>"
      ]
     },
     "execution_count": 27,
     "metadata": {},
     "output_type": "execute_result"
    },
    {
     "data": {
      "image/png": "[encoded data removed]",
      "text/plain": [
       "<Figure size 432x288 with 1 Axes>"
      ]
     },
     "metadata": {
      "needs_background": "light"
     },
     "output_type": "display_data"
    }
   ],
   "source": [
    "df[df.Age<0].loc[:,'Age'].plot()"
   ]
  },
  {
   "cell_type": "markdown",
   "id": "1d494f3d-485e-4aff-815c-a4ad72e8d0eb",
   "metadata": {},
   "source": [
    "they appear to be within normal range of values, between 40 to 90 and not like 200 or 0. We will flip the sign"
   ]
  },
  {
   "cell_type": "code",
   "execution_count": 28,
   "id": "288d46f1-5ae3-4b3d-9867-95ffe6f26882",
   "metadata": {},
   "outputs": [],
   "source": [
    "# Flipping the sign if they are negative, else leave them be\n",
    "df.Age = np.where(df.Age<0,-df.Age, df.Age)"
   ]
  },
  {
   "cell_type": "code",
   "execution_count": 29,
   "id": "0be06709-7b5f-4e80-bd51-16cdad4439fc",
   "metadata": {},
   "outputs": [
    {
     "data": {
      "text/html": [
       "<div>\n",
       "<style scoped>\n",
       "    .dataframe tbody tr th:only-of-type {\n",
       "        vertical-align: middle;\n",
       "    }\n",
       "\n",
       "    .dataframe tbody tr th {\n",
       "        vertical-align: top;\n",
       "    }\n",
       "\n",
       "    .dataframe thead th {\n",
       "        text-align: right;\n",
       "    }\n",
       "</style>\n",
       "<table border=\"1\" class=\"dataframe\">\n",
       "  <thead>\n",
       "    <tr style=\"text-align: right;\">\n",
       "      <th></th>\n",
       "      <th>Survive</th>\n",
       "      <th>Gender</th>\n",
       "      <th>Smoke</th>\n",
       "      <th>Diabetes</th>\n",
       "      <th>Age</th>\n",
       "      <th>Ejection Fraction</th>\n",
       "      <th>Sodium</th>\n",
       "      <th>Creatinine</th>\n",
       "      <th>Pletelets</th>\n",
       "      <th>Creatinine phosphokinase</th>\n",
       "      <th>Blood Pressure</th>\n",
       "      <th>Hemoglobin</th>\n",
       "      <th>Height</th>\n",
       "      <th>Weight</th>\n",
       "    </tr>\n",
       "  </thead>\n",
       "  <tbody>\n",
       "  </tbody>\n",
       "</table>\n",
       "</div>"
      ],
      "text/plain": [
       "Empty DataFrame\n",
       "Columns: [Survive, Gender, Smoke, Diabetes, Age, Ejection Fraction, Sodium, Creatinine, Pletelets, Creatinine phosphokinase, Blood Pressure, Hemoglobin, Height, Weight]\n",
       "Index: []"
      ]
     },
     "execution_count": 29,
     "metadata": {},
     "output_type": "execute_result"
    }
   ],
   "source": [
    "# check if our code is correct, it should leave no age that are negative\n",
    "df[df.Age<0]"
   ]
  },
  {
   "cell_type": "code",
   "execution_count": 30,
   "id": "a67dceaf-dc35-4771-b2ab-5e9752c2c37b",
   "metadata": {},
   "outputs": [
    {
     "data": {
      "text/plain": [
       "<AxesSubplot:>"
      ]
     },
     "execution_count": 30,
     "metadata": {},
     "output_type": "execute_result"
    },
    {
     "data": {
      "image/png": "[encoded data removed]",
      "text/plain": [
       "<Figure size 432x288 with 1 Axes>"
      ]
     },
     "metadata": {
      "needs_background": "light"
     },
     "output_type": "display_data"
    }
   ],
   "source": [
    "# Seems okay\n",
    "df.Age.hist()"
   ]
  },
  {
   "cell_type": "markdown",
   "id": "3883ad91-818e-417c-8eb7-f4848fcd8893",
   "metadata": {
    "tags": []
   },
   "source": [
    "## Ejection Fraction\n",
    "Problem : I was expecting float but categories were given, categories are inconsistent"
   ]
  },
  {
   "cell_type": "code",
   "execution_count": 31,
   "id": "6f211fd2-ca40-4cfd-bb0a-9c8826f4f5b7",
   "metadata": {},
   "outputs": [
    {
     "data": {
      "text/plain": [
       "Low       12734\n",
       "Normal     1658\n",
       "L           482\n",
       "N            66\n",
       "High         60\n",
       "Name: Ejection Fraction, dtype: int64"
      ]
     },
     "execution_count": 31,
     "metadata": {},
     "output_type": "execute_result"
    }
   ],
   "source": [
    "df['Ejection Fraction'].value_counts()"
   ]
  },
  {
   "cell_type": "markdown",
   "id": "93338a44-7063-470b-8250-f3b6b8d0bc87",
   "metadata": {},
   "source": [
    "N should be normal, L should be L and high should remain. "
   ]
  },
  {
   "cell_type": "code",
   "execution_count": 32,
   "id": "dba8b4ba-848e-4e46-84df-c522629025f1",
   "metadata": {},
   "outputs": [],
   "source": [
    "df['Ejection Fraction'] = df['Ejection Fraction'].replace('L','Low').replace('N','Normal')"
   ]
  },
  {
   "cell_type": "code",
   "execution_count": 33,
   "id": "215de5f4-6308-4096-94fc-5d6903f4e547",
   "metadata": {},
   "outputs": [
    {
     "data": {
      "text/plain": [
       "Low       0.881067\n",
       "Normal    0.114933\n",
       "High      0.004000\n",
       "Name: Ejection Fraction, dtype: float64"
      ]
     },
     "execution_count": 33,
     "metadata": {},
     "output_type": "execute_result"
    }
   ],
   "source": [
    "df['Ejection Fraction'].value_counts(normalize= True)"
   ]
  },
  {
   "cell_type": "markdown",
   "id": "380a083c-802a-429c-8206-899cff114106",
   "metadata": {},
   "source": [
    "High has too little count (0.0044% ) to make a difference and will be merged together with Normal to become normal. To reflect this change I will rename Normal to Normal-High"
   ]
  },
  {
   "cell_type": "code",
   "execution_count": 34,
   "id": "c26deec3-5fad-4326-adb7-5478000ef31b",
   "metadata": {},
   "outputs": [],
   "source": [
    "df['Ejection Fraction'] = df['Ejection Fraction'].replace('High','Normal').replace('Normal','Normal-High')"
   ]
  },
  {
   "cell_type": "code",
   "execution_count": 35,
   "id": "9b8c418a-4d0f-48a8-95b7-4860b3e110ba",
   "metadata": {},
   "outputs": [
    {
     "data": {
      "text/plain": [
       "Low            0.881067\n",
       "Normal-High    0.118933\n",
       "Name: Ejection Fraction, dtype: float64"
      ]
     },
     "execution_count": 35,
     "metadata": {},
     "output_type": "execute_result"
    }
   ],
   "source": [
    "df['Ejection Fraction'].value_counts(normalize= True)"
   ]
  },
  {
   "cell_type": "markdown",
   "id": "05f6379f-09ad-450d-97e1-33affb656d26",
   "metadata": {
    "tags": []
   },
   "source": [
    "## Sodium\n",
    "Problem: Sodium appears to be in range, with some outliers"
   ]
  },
  {
   "cell_type": "code",
   "execution_count": 36,
   "id": "682ea0b4-a11d-41c3-9eec-6fea9f8a9d2e",
   "metadata": {},
   "outputs": [
    {
     "data": {
      "text/plain": [
       "<AxesSubplot:>"
      ]
     },
     "execution_count": 36,
     "metadata": {},
     "output_type": "execute_result"
    },
    {
     "data": {
      "image/png": "[encoded data removed]",
      "text/plain": [
       "<Figure size 720x720 with 1 Axes>"
      ]
     },
     "metadata": {
      "needs_background": "light"
     },
     "output_type": "display_data"
    }
   ],
   "source": [
    "df.Sodium.hist(figsize = (10,10))"
   ]
  },
  {
   "cell_type": "code",
   "execution_count": 37,
   "id": "d376ff37-5c63-4fa3-9535-c830d91a1f03",
   "metadata": {},
   "outputs": [
    {
     "data": {
      "text/plain": [
       "count    15000.000000\n",
       "mean       136.604267\n",
       "std          4.364890\n",
       "min        113.000000\n",
       "25%        134.000000\n",
       "50%        137.000000\n",
       "75%        140.000000\n",
       "max        148.000000\n",
       "Name: Sodium, dtype: float64"
      ]
     },
     "execution_count": 37,
     "metadata": {},
     "output_type": "execute_result"
    }
   ],
   "source": [
    "df.Sodium.describe().T"
   ]
  },
  {
   "cell_type": "code",
   "execution_count": 38,
   "id": "d915458b-99be-4cec-8900-b54060b5e664",
   "metadata": {},
   "outputs": [
    {
     "name": "stderr",
     "output_type": "stream",
     "text": [
      "C:\\Users\\Randy\\Venv\\aiap\\lib\\site-packages\\seaborn\\_decorators.py:36: FutureWarning: Pass the following variable as a keyword arg: x. From version 0.12, the only valid positional argument will be `data`, and passing other arguments without an explicit keyword will result in an error or misinterpretation.\n",
      "  warnings.warn(\n"
     ]
    },
    {
     "data": {
      "text/plain": [
       "<AxesSubplot:xlabel='Sodium'>"
      ]
     },
     "execution_count": 38,
     "metadata": {},
     "output_type": "execute_result"
    },
    {
     "data": {
      "image/png": "[encoded data removed]",
      "text/plain": [
       "<Figure size 432x288 with 1 Axes>"
      ]
     },
     "metadata": {
      "needs_background": "light"
     },
     "output_type": "display_data"
    }
   ],
   "source": [
    "sns.boxplot(df.Sodium)"
   ]
  },
  {
   "cell_type": "markdown",
   "id": "c0575350-9235-418d-8261-1d8dae4618e3",
   "metadata": {},
   "source": [
    "We have some outliers and they appear to only have 4 unqiue values. Lets eyeball them"
   ]
  },
  {
   "cell_type": "code",
   "execution_count": 39,
   "id": "ec599756-819a-4126-9dca-a4cb5df4558c",
   "metadata": {},
   "outputs": [
    {
     "data": {
      "text/html": [
       "<div>\n",
       "<style scoped>\n",
       "    .dataframe tbody tr th:only-of-type {\n",
       "        vertical-align: middle;\n",
       "    }\n",
       "\n",
       "    .dataframe tbody tr th {\n",
       "        vertical-align: top;\n",
       "    }\n",
       "\n",
       "    .dataframe thead th {\n",
       "        text-align: right;\n",
       "    }\n",
       "</style>\n",
       "<table border=\"1\" class=\"dataframe\">\n",
       "  <thead>\n",
       "    <tr style=\"text-align: right;\">\n",
       "      <th></th>\n",
       "      <th>Survive</th>\n",
       "      <th>Gender</th>\n",
       "      <th>Smoke</th>\n",
       "      <th>Diabetes</th>\n",
       "      <th>Age</th>\n",
       "      <th>Ejection Fraction</th>\n",
       "      <th>Sodium</th>\n",
       "      <th>Creatinine</th>\n",
       "      <th>Pletelets</th>\n",
       "      <th>Creatinine phosphokinase</th>\n",
       "      <th>Blood Pressure</th>\n",
       "      <th>Hemoglobin</th>\n",
       "      <th>Height</th>\n",
       "      <th>Weight</th>\n",
       "    </tr>\n",
       "  </thead>\n",
       "  <tbody>\n",
       "    <tr>\n",
       "      <th>106</th>\n",
       "      <td>1</td>\n",
       "      <td>Female</td>\n",
       "      <td>No</td>\n",
       "      <td>Diabetes</td>\n",
       "      <td>65</td>\n",
       "      <td>Low</td>\n",
       "      <td>116</td>\n",
       "      <td>2.7</td>\n",
       "      <td>327000.00</td>\n",
       "      <td>160</td>\n",
       "      <td>72</td>\n",
       "      <td>9.8</td>\n",
       "      <td>135</td>\n",
       "      <td>71</td>\n",
       "    </tr>\n",
       "    <tr>\n",
       "      <th>107</th>\n",
       "      <td>1</td>\n",
       "      <td>Female</td>\n",
       "      <td>No</td>\n",
       "      <td>Pre-diabetes</td>\n",
       "      <td>48</td>\n",
       "      <td>Low</td>\n",
       "      <td>121</td>\n",
       "      <td>1.9</td>\n",
       "      <td>87000.00</td>\n",
       "      <td>582</td>\n",
       "      <td>67</td>\n",
       "      <td>9.9</td>\n",
       "      <td>155</td>\n",
       "      <td>92</td>\n",
       "    </tr>\n",
       "    <tr>\n",
       "      <th>149</th>\n",
       "      <td>1</td>\n",
       "      <td>Female</td>\n",
       "      <td>No</td>\n",
       "      <td>Pre-diabetes</td>\n",
       "      <td>65</td>\n",
       "      <td>Low</td>\n",
       "      <td>116</td>\n",
       "      <td>2.7</td>\n",
       "      <td>327000.00</td>\n",
       "      <td>160</td>\n",
       "      <td>53</td>\n",
       "      <td>9.6</td>\n",
       "      <td>139</td>\n",
       "      <td>76</td>\n",
       "    </tr>\n",
       "    <tr>\n",
       "      <th>224</th>\n",
       "      <td>1</td>\n",
       "      <td>Female</td>\n",
       "      <td>No</td>\n",
       "      <td>Pre-diabetes</td>\n",
       "      <td>65</td>\n",
       "      <td>Low</td>\n",
       "      <td>116</td>\n",
       "      <td>2.7</td>\n",
       "      <td>327000.00</td>\n",
       "      <td>160</td>\n",
       "      <td>106</td>\n",
       "      <td>9.6</td>\n",
       "      <td>166</td>\n",
       "      <td>108</td>\n",
       "    </tr>\n",
       "    <tr>\n",
       "      <th>263</th>\n",
       "      <td>1</td>\n",
       "      <td>Female</td>\n",
       "      <td>No</td>\n",
       "      <td>Diabetes</td>\n",
       "      <td>65</td>\n",
       "      <td>Low</td>\n",
       "      <td>116</td>\n",
       "      <td>2.7</td>\n",
       "      <td>327000.00</td>\n",
       "      <td>160</td>\n",
       "      <td>54</td>\n",
       "      <td>10.9</td>\n",
       "      <td>137</td>\n",
       "      <td>74</td>\n",
       "    </tr>\n",
       "    <tr>\n",
       "      <th>...</th>\n",
       "      <td>...</td>\n",
       "      <td>...</td>\n",
       "      <td>...</td>\n",
       "      <td>...</td>\n",
       "      <td>...</td>\n",
       "      <td>...</td>\n",
       "      <td>...</td>\n",
       "      <td>...</td>\n",
       "      <td>...</td>\n",
       "      <td>...</td>\n",
       "      <td>...</td>\n",
       "      <td>...</td>\n",
       "      <td>...</td>\n",
       "      <td>...</td>\n",
       "    </tr>\n",
       "    <tr>\n",
       "      <th>14509</th>\n",
       "      <td>1</td>\n",
       "      <td>Female</td>\n",
       "      <td>No</td>\n",
       "      <td>Diabetes</td>\n",
       "      <td>65</td>\n",
       "      <td>Low</td>\n",
       "      <td>116</td>\n",
       "      <td>2.7</td>\n",
       "      <td>327000.00</td>\n",
       "      <td>160</td>\n",
       "      <td>63</td>\n",
       "      <td>9.5</td>\n",
       "      <td>149</td>\n",
       "      <td>87</td>\n",
       "    </tr>\n",
       "    <tr>\n",
       "      <th>14636</th>\n",
       "      <td>0</td>\n",
       "      <td>Male</td>\n",
       "      <td>Yes</td>\n",
       "      <td>Diabetes</td>\n",
       "      <td>60</td>\n",
       "      <td>Low</td>\n",
       "      <td>113</td>\n",
       "      <td>1.8</td>\n",
       "      <td>263358.03</td>\n",
       "      <td>1211</td>\n",
       "      <td>59</td>\n",
       "      <td>14.3</td>\n",
       "      <td>134</td>\n",
       "      <td>38</td>\n",
       "    </tr>\n",
       "    <tr>\n",
       "      <th>14637</th>\n",
       "      <td>1</td>\n",
       "      <td>Female</td>\n",
       "      <td>No</td>\n",
       "      <td>Pre-diabetes</td>\n",
       "      <td>65</td>\n",
       "      <td>Low</td>\n",
       "      <td>116</td>\n",
       "      <td>2.7</td>\n",
       "      <td>327000.00</td>\n",
       "      <td>160</td>\n",
       "      <td>109</td>\n",
       "      <td>11.5</td>\n",
       "      <td>148</td>\n",
       "      <td>86</td>\n",
       "    </tr>\n",
       "    <tr>\n",
       "      <th>14819</th>\n",
       "      <td>1</td>\n",
       "      <td>Female</td>\n",
       "      <td>No</td>\n",
       "      <td>Diabetes</td>\n",
       "      <td>48</td>\n",
       "      <td>Low</td>\n",
       "      <td>121</td>\n",
       "      <td>1.9</td>\n",
       "      <td>87000.00</td>\n",
       "      <td>582</td>\n",
       "      <td>96</td>\n",
       "      <td>11.1</td>\n",
       "      <td>168</td>\n",
       "      <td>109</td>\n",
       "    </tr>\n",
       "    <tr>\n",
       "      <th>14922</th>\n",
       "      <td>1</td>\n",
       "      <td>Female</td>\n",
       "      <td>No</td>\n",
       "      <td>Pre-diabetes</td>\n",
       "      <td>48</td>\n",
       "      <td>Low</td>\n",
       "      <td>121</td>\n",
       "      <td>1.9</td>\n",
       "      <td>87000.00</td>\n",
       "      <td>582</td>\n",
       "      <td>67</td>\n",
       "      <td>10.3</td>\n",
       "      <td>139</td>\n",
       "      <td>74</td>\n",
       "    </tr>\n",
       "  </tbody>\n",
       "</table>\n",
       "<p>185 rows × 14 columns</p>\n",
       "</div>"
      ],
      "text/plain": [
       "       Survive  Gender Smoke      Diabetes  Age Ejection Fraction  Sodium  \\\n",
       "106          1  Female    No      Diabetes   65               Low     116   \n",
       "107          1  Female    No  Pre-diabetes   48               Low     121   \n",
       "149          1  Female    No  Pre-diabetes   65               Low     116   \n",
       "224          1  Female    No  Pre-diabetes   65               Low     116   \n",
       "263          1  Female    No      Diabetes   65               Low     116   \n",
       "...        ...     ...   ...           ...  ...               ...     ...   \n",
       "14509        1  Female    No      Diabetes   65               Low     116   \n",
       "14636        0    Male   Yes      Diabetes   60               Low     113   \n",
       "14637        1  Female    No  Pre-diabetes   65               Low     116   \n",
       "14819        1  Female    No      Diabetes   48               Low     121   \n",
       "14922        1  Female    No  Pre-diabetes   48               Low     121   \n",
       "\n",
       "       Creatinine  Pletelets  Creatinine phosphokinase  Blood Pressure  \\\n",
       "106           2.7  327000.00                       160              72   \n",
       "107           1.9   87000.00                       582              67   \n",
       "149           2.7  327000.00                       160              53   \n",
       "224           2.7  327000.00                       160             106   \n",
       "263           2.7  327000.00                       160              54   \n",
       "...           ...        ...                       ...             ...   \n",
       "14509         2.7  327000.00                       160              63   \n",
       "14636         1.8  263358.03                      1211              59   \n",
       "14637         2.7  327000.00                       160             109   \n",
       "14819         1.9   87000.00                       582              96   \n",
       "14922         1.9   87000.00                       582              67   \n",
       "\n",
       "       Hemoglobin  Height  Weight  \n",
       "106           9.8     135      71  \n",
       "107           9.9     155      92  \n",
       "149           9.6     139      76  \n",
       "224           9.6     166     108  \n",
       "263          10.9     137      74  \n",
       "...           ...     ...     ...  \n",
       "14509         9.5     149      87  \n",
       "14636        14.3     134      38  \n",
       "14637        11.5     148      86  \n",
       "14819        11.1     168     109  \n",
       "14922        10.3     139      74  \n",
       "\n",
       "[185 rows x 14 columns]"
      ]
     },
     "execution_count": 39,
     "metadata": {},
     "output_type": "execute_result"
    }
   ],
   "source": [
    "df[df.Sodium< 125]"
   ]
  },
  {
   "cell_type": "code",
   "execution_count": 40,
   "id": "500a51bc-e6c5-47c5-af83-153196e7ccd2",
   "metadata": {},
   "outputs": [
    {
     "data": {
      "text/plain": [
       "121    55\n",
       "116    53\n",
       "113    41\n",
       "124    36\n",
       "Name: Sodium, dtype: int64"
      ]
     },
     "execution_count": 40,
     "metadata": {},
     "output_type": "execute_result"
    }
   ],
   "source": [
    "df[df.Sodium< 125]['Sodium'].value_counts()"
   ]
  },
  {
   "cell_type": "markdown",
   "id": "b204ce92-9b63-4b84-8e73-d92f03816c15",
   "metadata": {},
   "source": [
    "I'm not sure why the outliers occupy 4 unique values. But I am unable to discern any insights from these outliers. I will censor them and cap them at the minimum value. Let me define some helper functions to be consistent with my treatment of outliers unless I have other reasons to deviate from this."
   ]
  },
  {
   "cell_type": "code",
   "execution_count": 41,
   "id": "0df340ab-d436-4dc4-9368-c19de6c099e6",
   "metadata": {},
   "outputs": [],
   "source": [
    "def return_min_max_boxplot(df, col, min_or_max):\n",
    "    \"\"\"\n",
    "    returns upper(max) or lower(min) of the inner fence boxplot value\n",
    "    \n",
    "    args:\n",
    "    df : dataframe\n",
    "    col: the col of the dataframe\n",
    "    min_or_max : the upper(max) or lower(min) of the inner fence boxplot value\n",
    "    \n",
    "    returns: \n",
    "    (float) upper(max) or lower(min) of the inner fence boxplot value\n",
    "    \"\"\"\n",
    "    df_col_q1 = np.quantile(df[col],0.25, method = 'midpoint')\n",
    "    df_col_q3 = np.quantile(df[col],0.75, method = 'midpoint')\n",
    "    df_col_itr = df_col_q3-df_col_q1\n",
    "    df_col_min_cap = df_col_q1 - (1.5*df_col_itr)\n",
    "    df_col_max_cap = df_col_q3 + (1.5*df_col_itr)\n",
    "    if 'min' in min_or_max:\n",
    "        return df_col_min_cap\n",
    "    else : \n",
    "        return df_col_max_cap"
   ]
  },
  {
   "cell_type": "code",
   "execution_count": 42,
   "id": "5d34c629-79a7-485e-8702-7e00ed604fac",
   "metadata": {},
   "outputs": [],
   "source": [
    "def inspect_outliers(df, col):\n",
    "    \"\"\"\n",
    "    inspects the outliers of the col of the dataframe provided, \n",
    "    displaying in dataframe format of the values considered outliers \n",
    "    which are beyond the inner fence boxplot values (1.5 times the inter-\n",
    "    quartile range of either 1st quartile or 3rd quartile)\n",
    "    \n",
    "    args:\n",
    "    df : dataframe\n",
    "    col: the col of the dataframe\n",
    "    \n",
    "    returns: \n",
    "    none\n",
    "    \"\"\"\n",
    "    df_col_max = return_min_max_boxplot(df, col, 'max')\n",
    "    df_col_min = return_min_max_boxplot(df, col, 'min')\n",
    "    print('Values > Outer Fence')\n",
    "    display(df[df[col] >= df_col_max])\n",
    "    print('\\nValue Counts')\n",
    "    print(df[df[col] >= df_col_max][col].value_counts())\n",
    "    print('\\nValues < Outer Fence \\n')\n",
    "    display(df[df[col] <= df_col_min])\n",
    "    print('\\nValue Counts')\n",
    "    print(df[df[col] <= df_col_min][col].value_counts())\n",
    "    print('\\nDescribe')\n",
    "    print(df[col].describe().T)\n",
    "    sns.boxplot(df[col])"
   ]
  },
  {
   "cell_type": "code",
   "execution_count": 43,
   "id": "1372e526-2ff9-4d5e-9ff3-9d9550793fef",
   "metadata": {},
   "outputs": [],
   "source": [
    "def bound_outliers(df, col, boxplot= True):\n",
    "    \"\"\"\n",
    "    Censors outliers to within the boxplot inner fences and plots\n",
    "    the boxplot afterwards if set to true\n",
    "\n",
    "    args:\n",
    "    df : dataframe\n",
    "    col: the col of the dataframe\n",
    "    \n",
    "    returns:\n",
    "    none\n",
    "    \"\"\"\n",
    "    df_col_max = return_min_max_boxplot(df, col, 'max')\n",
    "    df_col_min = return_min_max_boxplot(df, col, 'min')\n",
    "    df[col] = np.where(df[col]>=df_col_max, df_col_max,df[col])\n",
    "    df[col] = np.where(df[col]<=df_col_min, df_col_min,df[col])\n",
    "    if boxplot:\n",
    "        sns.boxplot(df[col])"
   ]
  },
  {
   "cell_type": "code",
   "execution_count": 44,
   "id": "8e28cfe6-f844-47c3-9a35-10f6932182b9",
   "metadata": {},
   "outputs": [
    {
     "name": "stderr",
     "output_type": "stream",
     "text": [
      "C:\\Users\\Randy\\Venv\\aiap\\lib\\site-packages\\seaborn\\_decorators.py:36: FutureWarning: Pass the following variable as a keyword arg: x. From version 0.12, the only valid positional argument will be `data`, and passing other arguments without an explicit keyword will result in an error or misinterpretation.\n",
      "  warnings.warn(\n"
     ]
    },
    {
     "data": {
      "image/png": "[encoded data removed]",
      "text/plain": [
       "<Figure size 432x288 with 1 Axes>"
      ]
     },
     "metadata": {
      "needs_background": "light"
     },
     "output_type": "display_data"
    }
   ],
   "source": [
    "bound_outliers(df,'Sodium')"
   ]
  },
  {
   "cell_type": "markdown",
   "id": "bcff4990-57a5-4bd3-ab79-696bd190d56c",
   "metadata": {
    "tags": []
   },
   "source": [
    "## Creatinine"
   ]
  },
  {
   "cell_type": "markdown",
   "id": "598360ba-0511-45dd-8bd1-9c56ee5709d3",
   "metadata": {},
   "source": [
    "Problems\n",
    "- Some values of creatinine appears to be invalid (max 9.4?)\n",
    "- only feature with explicit na values"
   ]
  },
  {
   "cell_type": "code",
   "execution_count": 45,
   "id": "87e2a3b8-e70e-4be0-aa37-d31557d22597",
   "metadata": {},
   "outputs": [
    {
     "data": {
      "text/plain": [
       "499"
      ]
     },
     "execution_count": 45,
     "metadata": {},
     "output_type": "execute_result"
    }
   ],
   "source": [
    "df['Creatinine'].isna().sum()"
   ]
  },
  {
   "cell_type": "code",
   "execution_count": 46,
   "id": "0200724e-88df-4db7-857c-45ba3f1d85e1",
   "metadata": {},
   "outputs": [
    {
     "data": {
      "text/html": [
       "<div>\n",
       "<style scoped>\n",
       "    .dataframe tbody tr th:only-of-type {\n",
       "        vertical-align: middle;\n",
       "    }\n",
       "\n",
       "    .dataframe tbody tr th {\n",
       "        vertical-align: top;\n",
       "    }\n",
       "\n",
       "    .dataframe thead th {\n",
       "        text-align: right;\n",
       "    }\n",
       "</style>\n",
       "<table border=\"1\" class=\"dataframe\">\n",
       "  <thead>\n",
       "    <tr style=\"text-align: right;\">\n",
       "      <th></th>\n",
       "      <th>Survive</th>\n",
       "      <th>Gender</th>\n",
       "      <th>Smoke</th>\n",
       "      <th>Diabetes</th>\n",
       "      <th>Age</th>\n",
       "      <th>Ejection Fraction</th>\n",
       "      <th>Sodium</th>\n",
       "      <th>Creatinine</th>\n",
       "      <th>Pletelets</th>\n",
       "      <th>Creatinine phosphokinase</th>\n",
       "      <th>Blood Pressure</th>\n",
       "      <th>Hemoglobin</th>\n",
       "      <th>Height</th>\n",
       "      <th>Weight</th>\n",
       "    </tr>\n",
       "  </thead>\n",
       "  <tbody>\n",
       "    <tr>\n",
       "      <th>23</th>\n",
       "      <td>0</td>\n",
       "      <td>Male</td>\n",
       "      <td>No</td>\n",
       "      <td>Normal</td>\n",
       "      <td>85</td>\n",
       "      <td>Low</td>\n",
       "      <td>134.0</td>\n",
       "      <td>NaN</td>\n",
       "      <td>235000.0</td>\n",
       "      <td>910</td>\n",
       "      <td>41</td>\n",
       "      <td>11.8</td>\n",
       "      <td>160</td>\n",
       "      <td>71</td>\n",
       "    </tr>\n",
       "    <tr>\n",
       "      <th>42</th>\n",
       "      <td>0</td>\n",
       "      <td>Male</td>\n",
       "      <td>No</td>\n",
       "      <td>Normal</td>\n",
       "      <td>70</td>\n",
       "      <td>Low</td>\n",
       "      <td>132.0</td>\n",
       "      <td>NaN</td>\n",
       "      <td>173000.0</td>\n",
       "      <td>232</td>\n",
       "      <td>87</td>\n",
       "      <td>15.1</td>\n",
       "      <td>181</td>\n",
       "      <td>62</td>\n",
       "    </tr>\n",
       "    <tr>\n",
       "      <th>66</th>\n",
       "      <td>0</td>\n",
       "      <td>Male</td>\n",
       "      <td>No</td>\n",
       "      <td>Pre-diabetes</td>\n",
       "      <td>70</td>\n",
       "      <td>Low</td>\n",
       "      <td>137.0</td>\n",
       "      <td>NaN</td>\n",
       "      <td>241000.0</td>\n",
       "      <td>2695</td>\n",
       "      <td>77</td>\n",
       "      <td>13.9</td>\n",
       "      <td>160</td>\n",
       "      <td>39</td>\n",
       "    </tr>\n",
       "    <tr>\n",
       "      <th>187</th>\n",
       "      <td>0</td>\n",
       "      <td>Female</td>\n",
       "      <td>No</td>\n",
       "      <td>Normal</td>\n",
       "      <td>65</td>\n",
       "      <td>Low</td>\n",
       "      <td>139.0</td>\n",
       "      <td>NaN</td>\n",
       "      <td>294000.0</td>\n",
       "      <td>326</td>\n",
       "      <td>49</td>\n",
       "      <td>14.0</td>\n",
       "      <td>174</td>\n",
       "      <td>54</td>\n",
       "    </tr>\n",
       "    <tr>\n",
       "      <th>220</th>\n",
       "      <td>0</td>\n",
       "      <td>Male</td>\n",
       "      <td>No</td>\n",
       "      <td>Diabetes</td>\n",
       "      <td>55</td>\n",
       "      <td>Low</td>\n",
       "      <td>135.0</td>\n",
       "      <td>NaN</td>\n",
       "      <td>336000.0</td>\n",
       "      <td>170</td>\n",
       "      <td>90</td>\n",
       "      <td>10.0</td>\n",
       "      <td>137</td>\n",
       "      <td>28</td>\n",
       "    </tr>\n",
       "    <tr>\n",
       "      <th>...</th>\n",
       "      <td>...</td>\n",
       "      <td>...</td>\n",
       "      <td>...</td>\n",
       "      <td>...</td>\n",
       "      <td>...</td>\n",
       "      <td>...</td>\n",
       "      <td>...</td>\n",
       "      <td>...</td>\n",
       "      <td>...</td>\n",
       "      <td>...</td>\n",
       "      <td>...</td>\n",
       "      <td>...</td>\n",
       "      <td>...</td>\n",
       "      <td>...</td>\n",
       "    </tr>\n",
       "    <tr>\n",
       "      <th>14913</th>\n",
       "      <td>0</td>\n",
       "      <td>Male</td>\n",
       "      <td>Yes</td>\n",
       "      <td>Normal</td>\n",
       "      <td>69</td>\n",
       "      <td>Low</td>\n",
       "      <td>135.0</td>\n",
       "      <td>NaN</td>\n",
       "      <td>105000.0</td>\n",
       "      <td>1419</td>\n",
       "      <td>118</td>\n",
       "      <td>16.2</td>\n",
       "      <td>189</td>\n",
       "      <td>90</td>\n",
       "    </tr>\n",
       "    <tr>\n",
       "      <th>14935</th>\n",
       "      <td>0</td>\n",
       "      <td>Male</td>\n",
       "      <td>Yes</td>\n",
       "      <td>Normal</td>\n",
       "      <td>50</td>\n",
       "      <td>Low</td>\n",
       "      <td>136.0</td>\n",
       "      <td>NaN</td>\n",
       "      <td>395000.0</td>\n",
       "      <td>196</td>\n",
       "      <td>118</td>\n",
       "      <td>12.4</td>\n",
       "      <td>187</td>\n",
       "      <td>40</td>\n",
       "    </tr>\n",
       "    <tr>\n",
       "      <th>14959</th>\n",
       "      <td>0</td>\n",
       "      <td>Male</td>\n",
       "      <td>Yes</td>\n",
       "      <td>Normal</td>\n",
       "      <td>50</td>\n",
       "      <td>Normal-High</td>\n",
       "      <td>140.0</td>\n",
       "      <td>NaN</td>\n",
       "      <td>147000.0</td>\n",
       "      <td>582</td>\n",
       "      <td>129</td>\n",
       "      <td>14.2</td>\n",
       "      <td>143</td>\n",
       "      <td>43</td>\n",
       "    </tr>\n",
       "    <tr>\n",
       "      <th>14963</th>\n",
       "      <td>0</td>\n",
       "      <td>Male</td>\n",
       "      <td>Yes</td>\n",
       "      <td>Normal</td>\n",
       "      <td>53</td>\n",
       "      <td>Normal-High</td>\n",
       "      <td>133.0</td>\n",
       "      <td>NaN</td>\n",
       "      <td>220000.0</td>\n",
       "      <td>196</td>\n",
       "      <td>75</td>\n",
       "      <td>15.5</td>\n",
       "      <td>174</td>\n",
       "      <td>81</td>\n",
       "    </tr>\n",
       "    <tr>\n",
       "      <th>14969</th>\n",
       "      <td>0</td>\n",
       "      <td>Female</td>\n",
       "      <td>No</td>\n",
       "      <td>Normal</td>\n",
       "      <td>70</td>\n",
       "      <td>Normal-High</td>\n",
       "      <td>136.0</td>\n",
       "      <td>NaN</td>\n",
       "      <td>255000.0</td>\n",
       "      <td>59</td>\n",
       "      <td>93</td>\n",
       "      <td>11.5</td>\n",
       "      <td>171</td>\n",
       "      <td>92</td>\n",
       "    </tr>\n",
       "  </tbody>\n",
       "</table>\n",
       "<p>499 rows × 14 columns</p>\n",
       "</div>"
      ],
      "text/plain": [
       "       Survive  Gender Smoke      Diabetes  Age Ejection Fraction  Sodium  \\\n",
       "23           0    Male    No        Normal   85               Low   134.0   \n",
       "42           0    Male    No        Normal   70               Low   132.0   \n",
       "66           0    Male    No  Pre-diabetes   70               Low   137.0   \n",
       "187          0  Female    No        Normal   65               Low   139.0   \n",
       "220          0    Male    No      Diabetes   55               Low   135.0   \n",
       "...        ...     ...   ...           ...  ...               ...     ...   \n",
       "14913        0    Male   Yes        Normal   69               Low   135.0   \n",
       "14935        0    Male   Yes        Normal   50               Low   136.0   \n",
       "14959        0    Male   Yes        Normal   50       Normal-High   140.0   \n",
       "14963        0    Male   Yes        Normal   53       Normal-High   133.0   \n",
       "14969        0  Female    No        Normal   70       Normal-High   136.0   \n",
       "\n",
       "       Creatinine  Pletelets  Creatinine phosphokinase  Blood Pressure  \\\n",
       "23            NaN   235000.0                       910              41   \n",
       "42            NaN   173000.0                       232              87   \n",
       "66            NaN   241000.0                      2695              77   \n",
       "187           NaN   294000.0                       326              49   \n",
       "220           NaN   336000.0                       170              90   \n",
       "...           ...        ...                       ...             ...   \n",
       "14913         NaN   105000.0                      1419             118   \n",
       "14935         NaN   395000.0                       196             118   \n",
       "14959         NaN   147000.0                       582             129   \n",
       "14963         NaN   220000.0                       196              75   \n",
       "14969         NaN   255000.0                        59              93   \n",
       "\n",
       "       Hemoglobin  Height  Weight  \n",
       "23           11.8     160      71  \n",
       "42           15.1     181      62  \n",
       "66           13.9     160      39  \n",
       "187          14.0     174      54  \n",
       "220          10.0     137      28  \n",
       "...           ...     ...     ...  \n",
       "14913        16.2     189      90  \n",
       "14935        12.4     187      40  \n",
       "14959        14.2     143      43  \n",
       "14963        15.5     174      81  \n",
       "14969        11.5     171      92  \n",
       "\n",
       "[499 rows x 14 columns]"
      ]
     },
     "execution_count": 46,
     "metadata": {},
     "output_type": "execute_result"
    }
   ],
   "source": [
    "df[df['Creatinine'].isna()]"
   ]
  },
  {
   "cell_type": "markdown",
   "id": "58601113-fc8b-463e-ad78-86a8e3faa67e",
   "metadata": {},
   "source": [
    "We have 499 na values. We will imput them with median value of Creatinine as mean will be weighted unevenly by outliers"
   ]
  },
  {
   "cell_type": "code",
   "execution_count": 47,
   "id": "30fbcd10-b66e-4e24-bfa5-fe78b02843d8",
   "metadata": {},
   "outputs": [],
   "source": [
    "Creatinine_median = df['Creatinine'].median()"
   ]
  },
  {
   "cell_type": "code",
   "execution_count": 48,
   "id": "387ba240-64a6-4ad0-a4dc-c78b7e588229",
   "metadata": {},
   "outputs": [],
   "source": [
    "df['Creatinine'].fillna(Creatinine_median, inplace= True)"
   ]
  },
  {
   "cell_type": "code",
   "execution_count": 49,
   "id": "867d718e-cca5-407c-85bf-a18e6f4e1888",
   "metadata": {},
   "outputs": [
    {
     "data": {
      "text/html": [
       "<div>\n",
       "<style scoped>\n",
       "    .dataframe tbody tr th:only-of-type {\n",
       "        vertical-align: middle;\n",
       "    }\n",
       "\n",
       "    .dataframe tbody tr th {\n",
       "        vertical-align: top;\n",
       "    }\n",
       "\n",
       "    .dataframe thead th {\n",
       "        text-align: right;\n",
       "    }\n",
       "</style>\n",
       "<table border=\"1\" class=\"dataframe\">\n",
       "  <thead>\n",
       "    <tr style=\"text-align: right;\">\n",
       "      <th></th>\n",
       "      <th>Survive</th>\n",
       "      <th>Gender</th>\n",
       "      <th>Smoke</th>\n",
       "      <th>Diabetes</th>\n",
       "      <th>Age</th>\n",
       "      <th>Ejection Fraction</th>\n",
       "      <th>Sodium</th>\n",
       "      <th>Creatinine</th>\n",
       "      <th>Pletelets</th>\n",
       "      <th>Creatinine phosphokinase</th>\n",
       "      <th>Blood Pressure</th>\n",
       "      <th>Hemoglobin</th>\n",
       "      <th>Height</th>\n",
       "      <th>Weight</th>\n",
       "    </tr>\n",
       "  </thead>\n",
       "  <tbody>\n",
       "  </tbody>\n",
       "</table>\n",
       "</div>"
      ],
      "text/plain": [
       "Empty DataFrame\n",
       "Columns: [Survive, Gender, Smoke, Diabetes, Age, Ejection Fraction, Sodium, Creatinine, Pletelets, Creatinine phosphokinase, Blood Pressure, Hemoglobin, Height, Weight]\n",
       "Index: []"
      ]
     },
     "execution_count": 49,
     "metadata": {},
     "output_type": "execute_result"
    }
   ],
   "source": [
    "# checking na values\n",
    "df[df['Creatinine'].isna()]"
   ]
  },
  {
   "cell_type": "code",
   "execution_count": 50,
   "id": "dcccfb5b-d051-490d-857e-9cdf09c7d41e",
   "metadata": {},
   "outputs": [
    {
     "data": {
      "text/plain": [
       "dtype('float64')"
      ]
     },
     "execution_count": 50,
     "metadata": {},
     "output_type": "execute_result"
    }
   ],
   "source": [
    "df.Creatinine.dtype"
   ]
  },
  {
   "cell_type": "code",
   "execution_count": 51,
   "id": "6a112c92-d756-4823-8524-2b6f3b57cbe7",
   "metadata": {},
   "outputs": [
    {
     "name": "stderr",
     "output_type": "stream",
     "text": [
      "C:\\Users\\Randy\\Venv\\aiap\\lib\\site-packages\\seaborn\\distributions.py:2619: FutureWarning: `distplot` is a deprecated function and will be removed in a future version. Please adapt your code to use either `displot` (a figure-level function with similar flexibility) or `histplot` (an axes-level function for histograms).\n",
      "  warnings.warn(msg, FutureWarning)\n"
     ]
    },
    {
     "data": {
      "text/plain": [
       "<AxesSubplot:xlabel='Creatinine', ylabel='Density'>"
      ]
     },
     "execution_count": 51,
     "metadata": {},
     "output_type": "execute_result"
    },
    {
     "data": {
      "image/png": "[encoded data removed]",
      "text/plain": [
       "<Figure size 720x720 with 1 Axes>"
      ]
     },
     "metadata": {
      "needs_background": "light"
     },
     "output_type": "display_data"
    }
   ],
   "source": [
    "fig = plt.figure(figsize = (10,10))\n",
    "sns.distplot(df['Creatinine'])"
   ]
  },
  {
   "cell_type": "code",
   "execution_count": 52,
   "id": "e1a4fb0c-c957-4fe6-8ee8-cf827a22d43d",
   "metadata": {},
   "outputs": [
    {
     "name": "stdout",
     "output_type": "stream",
     "text": [
      "Values > Outer Fence\n"
     ]
    },
    {
     "data": {
      "text/html": [
       "<div>\n",
       "<style scoped>\n",
       "    .dataframe tbody tr th:only-of-type {\n",
       "        vertical-align: middle;\n",
       "    }\n",
       "\n",
       "    .dataframe tbody tr th {\n",
       "        vertical-align: top;\n",
       "    }\n",
       "\n",
       "    .dataframe thead th {\n",
       "        text-align: right;\n",
       "    }\n",
       "</style>\n",
       "<table border=\"1\" class=\"dataframe\">\n",
       "  <thead>\n",
       "    <tr style=\"text-align: right;\">\n",
       "      <th></th>\n",
       "      <th>Survive</th>\n",
       "      <th>Gender</th>\n",
       "      <th>Smoke</th>\n",
       "      <th>Diabetes</th>\n",
       "      <th>Age</th>\n",
       "      <th>Ejection Fraction</th>\n",
       "      <th>Sodium</th>\n",
       "      <th>Creatinine</th>\n",
       "      <th>Pletelets</th>\n",
       "      <th>Creatinine phosphokinase</th>\n",
       "      <th>Blood Pressure</th>\n",
       "      <th>Hemoglobin</th>\n",
       "      <th>Height</th>\n",
       "      <th>Weight</th>\n",
       "    </tr>\n",
       "  </thead>\n",
       "  <tbody>\n",
       "    <tr>\n",
       "      <th>1</th>\n",
       "      <td>1</td>\n",
       "      <td>Male</td>\n",
       "      <td>No</td>\n",
       "      <td>Normal</td>\n",
       "      <td>75</td>\n",
       "      <td>Low</td>\n",
       "      <td>134.0</td>\n",
       "      <td>2.5</td>\n",
       "      <td>224000.0</td>\n",
       "      <td>99</td>\n",
       "      <td>162</td>\n",
       "      <td>13.0</td>\n",
       "      <td>140</td>\n",
       "      <td>47</td>\n",
       "    </tr>\n",
       "    <tr>\n",
       "      <th>6</th>\n",
       "      <td>1</td>\n",
       "      <td>Male</td>\n",
       "      <td>No</td>\n",
       "      <td>Normal</td>\n",
       "      <td>75</td>\n",
       "      <td>Low</td>\n",
       "      <td>134.0</td>\n",
       "      <td>2.5</td>\n",
       "      <td>224000.0</td>\n",
       "      <td>99</td>\n",
       "      <td>164</td>\n",
       "      <td>16.3</td>\n",
       "      <td>172</td>\n",
       "      <td>70</td>\n",
       "    </tr>\n",
       "    <tr>\n",
       "      <th>25</th>\n",
       "      <td>0</td>\n",
       "      <td>Male</td>\n",
       "      <td>No</td>\n",
       "      <td>Diabetes</td>\n",
       "      <td>60</td>\n",
       "      <td>Low</td>\n",
       "      <td>137.0</td>\n",
       "      <td>2.3</td>\n",
       "      <td>305000.0</td>\n",
       "      <td>2656</td>\n",
       "      <td>76</td>\n",
       "      <td>12.8</td>\n",
       "      <td>186</td>\n",
       "      <td>128</td>\n",
       "    </tr>\n",
       "    <tr>\n",
       "      <th>54</th>\n",
       "      <td>1</td>\n",
       "      <td>Female</td>\n",
       "      <td>No</td>\n",
       "      <td>Diabetes</td>\n",
       "      <td>60</td>\n",
       "      <td>Low</td>\n",
       "      <td>132.0</td>\n",
       "      <td>2.5</td>\n",
       "      <td>196000.0</td>\n",
       "      <td>76</td>\n",
       "      <td>115</td>\n",
       "      <td>10.5</td>\n",
       "      <td>179</td>\n",
       "      <td>103</td>\n",
       "    </tr>\n",
       "    <tr>\n",
       "      <th>59</th>\n",
       "      <td>0</td>\n",
       "      <td>Male</td>\n",
       "      <td>No</td>\n",
       "      <td>Pre-diabetes</td>\n",
       "      <td>60</td>\n",
       "      <td>Low</td>\n",
       "      <td>137.0</td>\n",
       "      <td>2.3</td>\n",
       "      <td>305000.0</td>\n",
       "      <td>2656</td>\n",
       "      <td>85</td>\n",
       "      <td>14.2</td>\n",
       "      <td>175</td>\n",
       "      <td>113</td>\n",
       "    </tr>\n",
       "    <tr>\n",
       "      <th>...</th>\n",
       "      <td>...</td>\n",
       "      <td>...</td>\n",
       "      <td>...</td>\n",
       "      <td>...</td>\n",
       "      <td>...</td>\n",
       "      <td>...</td>\n",
       "      <td>...</td>\n",
       "      <td>...</td>\n",
       "      <td>...</td>\n",
       "      <td>...</td>\n",
       "      <td>...</td>\n",
       "      <td>...</td>\n",
       "      <td>...</td>\n",
       "      <td>...</td>\n",
       "    </tr>\n",
       "    <tr>\n",
       "      <th>14957</th>\n",
       "      <td>1</td>\n",
       "      <td>Female</td>\n",
       "      <td>No</td>\n",
       "      <td>Normal</td>\n",
       "      <td>72</td>\n",
       "      <td>Low</td>\n",
       "      <td>135.0</td>\n",
       "      <td>2.5</td>\n",
       "      <td>235000.0</td>\n",
       "      <td>233</td>\n",
       "      <td>150</td>\n",
       "      <td>14.6</td>\n",
       "      <td>158</td>\n",
       "      <td>71</td>\n",
       "    </tr>\n",
       "    <tr>\n",
       "      <th>14965</th>\n",
       "      <td>0</td>\n",
       "      <td>Male</td>\n",
       "      <td>No</td>\n",
       "      <td>Normal</td>\n",
       "      <td>64</td>\n",
       "      <td>Low</td>\n",
       "      <td>135.0</td>\n",
       "      <td>2.4</td>\n",
       "      <td>246000.0</td>\n",
       "      <td>143</td>\n",
       "      <td>49</td>\n",
       "      <td>14.5</td>\n",
       "      <td>187</td>\n",
       "      <td>65</td>\n",
       "    </tr>\n",
       "    <tr>\n",
       "      <th>14966</th>\n",
       "      <td>1</td>\n",
       "      <td>Male</td>\n",
       "      <td>No</td>\n",
       "      <td>Normal</td>\n",
       "      <td>75</td>\n",
       "      <td>Low</td>\n",
       "      <td>134.0</td>\n",
       "      <td>2.5</td>\n",
       "      <td>224000.0</td>\n",
       "      <td>99</td>\n",
       "      <td>128</td>\n",
       "      <td>17.2</td>\n",
       "      <td>163</td>\n",
       "      <td>63</td>\n",
       "    </tr>\n",
       "    <tr>\n",
       "      <th>14967</th>\n",
       "      <td>1</td>\n",
       "      <td>Male</td>\n",
       "      <td>No</td>\n",
       "      <td>Normal</td>\n",
       "      <td>85</td>\n",
       "      <td>Low</td>\n",
       "      <td>132.0</td>\n",
       "      <td>3.0</td>\n",
       "      <td>360000.0</td>\n",
       "      <td>23</td>\n",
       "      <td>105</td>\n",
       "      <td>14.4</td>\n",
       "      <td>162</td>\n",
       "      <td>98</td>\n",
       "    </tr>\n",
       "    <tr>\n",
       "      <th>14974</th>\n",
       "      <td>1</td>\n",
       "      <td>Male</td>\n",
       "      <td>No</td>\n",
       "      <td>Pre-diabetes</td>\n",
       "      <td>59</td>\n",
       "      <td>Low</td>\n",
       "      <td>134.0</td>\n",
       "      <td>2.4</td>\n",
       "      <td>70000.0</td>\n",
       "      <td>66</td>\n",
       "      <td>55</td>\n",
       "      <td>12.7</td>\n",
       "      <td>179</td>\n",
       "      <td>85</td>\n",
       "    </tr>\n",
       "  </tbody>\n",
       "</table>\n",
       "<p>1513 rows × 14 columns</p>\n",
       "</div>"
      ],
      "text/plain": [
       "       Survive  Gender Smoke      Diabetes  Age Ejection Fraction  Sodium  \\\n",
       "1            1    Male    No        Normal   75               Low   134.0   \n",
       "6            1    Male    No        Normal   75               Low   134.0   \n",
       "25           0    Male    No      Diabetes   60               Low   137.0   \n",
       "54           1  Female    No      Diabetes   60               Low   132.0   \n",
       "59           0    Male    No  Pre-diabetes   60               Low   137.0   \n",
       "...        ...     ...   ...           ...  ...               ...     ...   \n",
       "14957        1  Female    No        Normal   72               Low   135.0   \n",
       "14965        0    Male    No        Normal   64               Low   135.0   \n",
       "14966        1    Male    No        Normal   75               Low   134.0   \n",
       "14967        1    Male    No        Normal   85               Low   132.0   \n",
       "14974        1    Male    No  Pre-diabetes   59               Low   134.0   \n",
       "\n",
       "       Creatinine  Pletelets  Creatinine phosphokinase  Blood Pressure  \\\n",
       "1             2.5   224000.0                        99             162   \n",
       "6             2.5   224000.0                        99             164   \n",
       "25            2.3   305000.0                      2656              76   \n",
       "54            2.5   196000.0                        76             115   \n",
       "59            2.3   305000.0                      2656              85   \n",
       "...           ...        ...                       ...             ...   \n",
       "14957         2.5   235000.0                       233             150   \n",
       "14965         2.4   246000.0                       143              49   \n",
       "14966         2.5   224000.0                        99             128   \n",
       "14967         3.0   360000.0                        23             105   \n",
       "14974         2.4    70000.0                        66              55   \n",
       "\n",
       "       Hemoglobin  Height  Weight  \n",
       "1            13.0     140      47  \n",
       "6            16.3     172      70  \n",
       "25           12.8     186     128  \n",
       "54           10.5     179     103  \n",
       "59           14.2     175     113  \n",
       "...           ...     ...     ...  \n",
       "14957        14.6     158      71  \n",
       "14965        14.5     187      65  \n",
       "14966        17.2     163      63  \n",
       "14967        14.4     162      98  \n",
       "14974        12.7     179      85  \n",
       "\n",
       "[1513 rows x 14 columns]"
      ]
     },
     "metadata": {},
     "output_type": "display_data"
    },
    {
     "name": "stdout",
     "output_type": "stream",
     "text": [
      "\n",
      "Value Counts\n",
      "2.5    179\n",
      "2.3    161\n",
      "2.7    145\n",
      "2.4    108\n",
      "3.5    103\n",
      "3.0     93\n",
      "5.8     67\n",
      "2.2     65\n",
      "2.9     63\n",
      "3.2     54\n",
      "3.4     52\n",
      "3.7     52\n",
      "9.4     50\n",
      "4.0     49\n",
      "5.0     49\n",
      "6.1     49\n",
      "4.4     47\n",
      "9.0     47\n",
      "6.8     46\n",
      "3.8     34\n",
      "Name: Creatinine, dtype: int64\n",
      "\n",
      "Values < Outer Fence \n",
      "\n"
     ]
    },
    {
     "data": {
      "text/html": [
       "<div>\n",
       "<style scoped>\n",
       "    .dataframe tbody tr th:only-of-type {\n",
       "        vertical-align: middle;\n",
       "    }\n",
       "\n",
       "    .dataframe tbody tr th {\n",
       "        vertical-align: top;\n",
       "    }\n",
       "\n",
       "    .dataframe thead th {\n",
       "        text-align: right;\n",
       "    }\n",
       "</style>\n",
       "<table border=\"1\" class=\"dataframe\">\n",
       "  <thead>\n",
       "    <tr style=\"text-align: right;\">\n",
       "      <th></th>\n",
       "      <th>Survive</th>\n",
       "      <th>Gender</th>\n",
       "      <th>Smoke</th>\n",
       "      <th>Diabetes</th>\n",
       "      <th>Age</th>\n",
       "      <th>Ejection Fraction</th>\n",
       "      <th>Sodium</th>\n",
       "      <th>Creatinine</th>\n",
       "      <th>Pletelets</th>\n",
       "      <th>Creatinine phosphokinase</th>\n",
       "      <th>Blood Pressure</th>\n",
       "      <th>Hemoglobin</th>\n",
       "      <th>Height</th>\n",
       "      <th>Weight</th>\n",
       "    </tr>\n",
       "  </thead>\n",
       "  <tbody>\n",
       "  </tbody>\n",
       "</table>\n",
       "</div>"
      ],
      "text/plain": [
       "Empty DataFrame\n",
       "Columns: [Survive, Gender, Smoke, Diabetes, Age, Ejection Fraction, Sodium, Creatinine, Pletelets, Creatinine phosphokinase, Blood Pressure, Hemoglobin, Height, Weight]\n",
       "Index: []"
      ]
     },
     "metadata": {},
     "output_type": "display_data"
    },
    {
     "name": "stdout",
     "output_type": "stream",
     "text": [
      "\n",
      "Value Counts\n",
      "Series([], Name: Creatinine, dtype: int64)\n",
      "\n",
      "Describe\n",
      "count    15000.000000\n",
      "mean         1.399876\n",
      "std          1.028518\n",
      "min          0.500000\n",
      "25%          0.900000\n",
      "50%          1.100000\n",
      "75%          1.400000\n",
      "max          9.400000\n",
      "Name: Creatinine, dtype: float64\n"
     ]
    },
    {
     "name": "stderr",
     "output_type": "stream",
     "text": [
      "C:\\Users\\Randy\\Venv\\aiap\\lib\\site-packages\\seaborn\\_decorators.py:36: FutureWarning: Pass the following variable as a keyword arg: x. From version 0.12, the only valid positional argument will be `data`, and passing other arguments without an explicit keyword will result in an error or misinterpretation.\n",
      "  warnings.warn(\n"
     ]
    },
    {
     "data": {
      "image/png": "[encoded data removed]",
      "text/plain": [
       "<Figure size 432x288 with 1 Axes>"
      ]
     },
     "metadata": {
      "needs_background": "light"
     },
     "output_type": "display_data"
    }
   ],
   "source": [
    "inspect_outliers(df,'Creatinine')"
   ]
  },
  {
   "cell_type": "markdown",
   "id": "edada6e4-1819-4cdc-811b-4efebedc6405",
   "metadata": {},
   "source": [
    "We have 1.5K plus outliers"
   ]
  },
  {
   "cell_type": "markdown",
   "id": "e8a7b583-1835-4ff3-8ecd-6c8bbdb34d28",
   "metadata": {},
   "source": [
    "According to https://www.emedicinehealth.com/creatinine_blood_tests/article_em.htm, 2 and above indicate abnormal readings with 5 indicating severe kidney damage. While we can assume if most of them have a pattern of entries like 9.4 which can be typos (0.94), it does not seem to be the case here. These can be actual readings without errors. I will cap them at the maximum"
   ]
  },
  {
   "cell_type": "code",
   "execution_count": 53,
   "id": "0b6612e7-0878-4b25-9b33-6e9a367a3fbd",
   "metadata": {},
   "outputs": [
    {
     "name": "stderr",
     "output_type": "stream",
     "text": [
      "C:\\Users\\Randy\\Venv\\aiap\\lib\\site-packages\\seaborn\\_decorators.py:36: FutureWarning: Pass the following variable as a keyword arg: x. From version 0.12, the only valid positional argument will be `data`, and passing other arguments without an explicit keyword will result in an error or misinterpretation.\n",
      "  warnings.warn(\n"
     ]
    },
    {
     "data": {
      "image/png": "[encoded data removed]",
      "text/plain": [
       "<Figure size 432x288 with 1 Axes>"
      ]
     },
     "metadata": {
      "needs_background": "light"
     },
     "output_type": "display_data"
    }
   ],
   "source": [
    "bound_outliers(df,'Creatinine')"
   ]
  },
  {
   "cell_type": "markdown",
   "id": "d5aacc6f-3133-47ff-b9c9-4a744c0eed3c",
   "metadata": {
    "tags": []
   },
   "source": [
    "## Pletelets\n",
    "\n",
    "Pletelets"
   ]
  },
  {
   "cell_type": "code",
   "execution_count": 54,
   "id": "91cd79b6-57dd-4b09-96ed-584551095c8f",
   "metadata": {},
   "outputs": [
    {
     "name": "stderr",
     "output_type": "stream",
     "text": [
      "C:\\Users\\Randy\\Venv\\aiap\\lib\\site-packages\\seaborn\\distributions.py:2619: FutureWarning: `distplot` is a deprecated function and will be removed in a future version. Please adapt your code to use either `displot` (a figure-level function with similar flexibility) or `histplot` (an axes-level function for histograms).\n",
      "  warnings.warn(msg, FutureWarning)\n"
     ]
    },
    {
     "data": {
      "text/plain": [
       "<AxesSubplot:xlabel='Pletelets', ylabel='Density'>"
      ]
     },
     "execution_count": 54,
     "metadata": {},
     "output_type": "execute_result"
    },
    {
     "data": {
      "image/png": "[encoded data removed]",
      "text/plain": [
       "<Figure size 432x288 with 1 Axes>"
      ]
     },
     "metadata": {
      "needs_background": "light"
     },
     "output_type": "display_data"
    }
   ],
   "source": [
    "sns.distplot(df.Pletelets)"
   ]
  },
  {
   "cell_type": "code",
   "execution_count": 55,
   "id": "2efa2236-bc57-460f-9658-78b454d8cc38",
   "metadata": {},
   "outputs": [
    {
     "name": "stdout",
     "output_type": "stream",
     "text": [
      "Values > Outer Fence\n"
     ]
    },
    {
     "data": {
      "text/html": [
       "<div>\n",
       "<style scoped>\n",
       "    .dataframe tbody tr th:only-of-type {\n",
       "        vertical-align: middle;\n",
       "    }\n",
       "\n",
       "    .dataframe tbody tr th {\n",
       "        vertical-align: top;\n",
       "    }\n",
       "\n",
       "    .dataframe thead th {\n",
       "        text-align: right;\n",
       "    }\n",
       "</style>\n",
       "<table border=\"1\" class=\"dataframe\">\n",
       "  <thead>\n",
       "    <tr style=\"text-align: right;\">\n",
       "      <th></th>\n",
       "      <th>Survive</th>\n",
       "      <th>Gender</th>\n",
       "      <th>Smoke</th>\n",
       "      <th>Diabetes</th>\n",
       "      <th>Age</th>\n",
       "      <th>Ejection Fraction</th>\n",
       "      <th>Sodium</th>\n",
       "      <th>Creatinine</th>\n",
       "      <th>Pletelets</th>\n",
       "      <th>Creatinine phosphokinase</th>\n",
       "      <th>Blood Pressure</th>\n",
       "      <th>Hemoglobin</th>\n",
       "      <th>Height</th>\n",
       "      <th>Weight</th>\n",
       "    </tr>\n",
       "  </thead>\n",
       "  <tbody>\n",
       "    <tr>\n",
       "      <th>16</th>\n",
       "      <td>0</td>\n",
       "      <td>Female</td>\n",
       "      <td>No</td>\n",
       "      <td>Diabetes</td>\n",
       "      <td>70</td>\n",
       "      <td>Low</td>\n",
       "      <td>139.0</td>\n",
       "      <td>1.3</td>\n",
       "      <td>533000.0</td>\n",
       "      <td>81</td>\n",
       "      <td>145</td>\n",
       "      <td>16.0</td>\n",
       "      <td>157</td>\n",
       "      <td>46</td>\n",
       "    </tr>\n",
       "    <tr>\n",
       "      <th>33</th>\n",
       "      <td>0</td>\n",
       "      <td>Female</td>\n",
       "      <td>No</td>\n",
       "      <td>Diabetes</td>\n",
       "      <td>45</td>\n",
       "      <td>Low</td>\n",
       "      <td>132.0</td>\n",
       "      <td>1.0</td>\n",
       "      <td>543000.0</td>\n",
       "      <td>582</td>\n",
       "      <td>73</td>\n",
       "      <td>13.7</td>\n",
       "      <td>168</td>\n",
       "      <td>42</td>\n",
       "    </tr>\n",
       "    <tr>\n",
       "      <th>69</th>\n",
       "      <td>0</td>\n",
       "      <td>Female</td>\n",
       "      <td>No</td>\n",
       "      <td>Pre-diabetes</td>\n",
       "      <td>45</td>\n",
       "      <td>Normal-High</td>\n",
       "      <td>138.0</td>\n",
       "      <td>0.8</td>\n",
       "      <td>742000.0</td>\n",
       "      <td>2060</td>\n",
       "      <td>118</td>\n",
       "      <td>17.5</td>\n",
       "      <td>175</td>\n",
       "      <td>37</td>\n",
       "    </tr>\n",
       "    <tr>\n",
       "      <th>82</th>\n",
       "      <td>0</td>\n",
       "      <td>Male</td>\n",
       "      <td>Yes</td>\n",
       "      <td>Normal</td>\n",
       "      <td>78</td>\n",
       "      <td>Low</td>\n",
       "      <td>138.0</td>\n",
       "      <td>1.4</td>\n",
       "      <td>481000.0</td>\n",
       "      <td>224</td>\n",
       "      <td>41</td>\n",
       "      <td>15.0</td>\n",
       "      <td>133</td>\n",
       "      <td>37</td>\n",
       "    </tr>\n",
       "    <tr>\n",
       "      <th>100</th>\n",
       "      <td>1</td>\n",
       "      <td>Male</td>\n",
       "      <td>No</td>\n",
       "      <td>Normal</td>\n",
       "      <td>95</td>\n",
       "      <td>Low</td>\n",
       "      <td>132.0</td>\n",
       "      <td>2.0</td>\n",
       "      <td>461000.0</td>\n",
       "      <td>371</td>\n",
       "      <td>118</td>\n",
       "      <td>9.3</td>\n",
       "      <td>189</td>\n",
       "      <td>125</td>\n",
       "    </tr>\n",
       "    <tr>\n",
       "      <th>...</th>\n",
       "      <td>...</td>\n",
       "      <td>...</td>\n",
       "      <td>...</td>\n",
       "      <td>...</td>\n",
       "      <td>...</td>\n",
       "      <td>...</td>\n",
       "      <td>...</td>\n",
       "      <td>...</td>\n",
       "      <td>...</td>\n",
       "      <td>...</td>\n",
       "      <td>...</td>\n",
       "      <td>...</td>\n",
       "      <td>...</td>\n",
       "      <td>...</td>\n",
       "    </tr>\n",
       "    <tr>\n",
       "      <th>14903</th>\n",
       "      <td>0</td>\n",
       "      <td>Male</td>\n",
       "      <td>Yes</td>\n",
       "      <td>Normal</td>\n",
       "      <td>78</td>\n",
       "      <td>Low</td>\n",
       "      <td>138.0</td>\n",
       "      <td>1.1</td>\n",
       "      <td>481000.0</td>\n",
       "      <td>224</td>\n",
       "      <td>70</td>\n",
       "      <td>15.9</td>\n",
       "      <td>159</td>\n",
       "      <td>53</td>\n",
       "    </tr>\n",
       "    <tr>\n",
       "      <th>14909</th>\n",
       "      <td>0</td>\n",
       "      <td>Female</td>\n",
       "      <td>No</td>\n",
       "      <td>Diabetes</td>\n",
       "      <td>70</td>\n",
       "      <td>Low</td>\n",
       "      <td>139.0</td>\n",
       "      <td>1.3</td>\n",
       "      <td>533000.0</td>\n",
       "      <td>81</td>\n",
       "      <td>156</td>\n",
       "      <td>12.2</td>\n",
       "      <td>135</td>\n",
       "      <td>34</td>\n",
       "    </tr>\n",
       "    <tr>\n",
       "      <th>14917</th>\n",
       "      <td>0</td>\n",
       "      <td>Male</td>\n",
       "      <td>Yes</td>\n",
       "      <td>Normal</td>\n",
       "      <td>78</td>\n",
       "      <td>Low</td>\n",
       "      <td>138.0</td>\n",
       "      <td>1.4</td>\n",
       "      <td>481000.0</td>\n",
       "      <td>224</td>\n",
       "      <td>111</td>\n",
       "      <td>12.2</td>\n",
       "      <td>164</td>\n",
       "      <td>56</td>\n",
       "    </tr>\n",
       "    <tr>\n",
       "      <th>14977</th>\n",
       "      <td>0</td>\n",
       "      <td>Male</td>\n",
       "      <td>Yes</td>\n",
       "      <td>Normal</td>\n",
       "      <td>78</td>\n",
       "      <td>Low</td>\n",
       "      <td>138.0</td>\n",
       "      <td>1.4</td>\n",
       "      <td>481000.0</td>\n",
       "      <td>224</td>\n",
       "      <td>61</td>\n",
       "      <td>13.0</td>\n",
       "      <td>156</td>\n",
       "      <td>51</td>\n",
       "    </tr>\n",
       "    <tr>\n",
       "      <th>14980</th>\n",
       "      <td>1</td>\n",
       "      <td>Male</td>\n",
       "      <td>Yes</td>\n",
       "      <td>Pre-diabetes</td>\n",
       "      <td>60</td>\n",
       "      <td>Normal-High</td>\n",
       "      <td>131.0</td>\n",
       "      <td>1.1</td>\n",
       "      <td>454000.0</td>\n",
       "      <td>315</td>\n",
       "      <td>66</td>\n",
       "      <td>10.4</td>\n",
       "      <td>131</td>\n",
       "      <td>67</td>\n",
       "    </tr>\n",
       "  </tbody>\n",
       "</table>\n",
       "<p>694 rows × 14 columns</p>\n",
       "</div>"
      ],
      "text/plain": [
       "       Survive  Gender Smoke      Diabetes  Age Ejection Fraction  Sodium  \\\n",
       "16           0  Female    No      Diabetes   70               Low   139.0   \n",
       "33           0  Female    No      Diabetes   45               Low   132.0   \n",
       "69           0  Female    No  Pre-diabetes   45       Normal-High   138.0   \n",
       "82           0    Male   Yes        Normal   78               Low   138.0   \n",
       "100          1    Male    No        Normal   95               Low   132.0   \n",
       "...        ...     ...   ...           ...  ...               ...     ...   \n",
       "14903        0    Male   Yes        Normal   78               Low   138.0   \n",
       "14909        0  Female    No      Diabetes   70               Low   139.0   \n",
       "14917        0    Male   Yes        Normal   78               Low   138.0   \n",
       "14977        0    Male   Yes        Normal   78               Low   138.0   \n",
       "14980        1    Male   Yes  Pre-diabetes   60       Normal-High   131.0   \n",
       "\n",
       "       Creatinine  Pletelets  Creatinine phosphokinase  Blood Pressure  \\\n",
       "16            1.3   533000.0                        81             145   \n",
       "33            1.0   543000.0                       582              73   \n",
       "69            0.8   742000.0                      2060             118   \n",
       "82            1.4   481000.0                       224              41   \n",
       "100           2.0   461000.0                       371             118   \n",
       "...           ...        ...                       ...             ...   \n",
       "14903         1.1   481000.0                       224              70   \n",
       "14909         1.3   533000.0                        81             156   \n",
       "14917         1.4   481000.0                       224             111   \n",
       "14977         1.4   481000.0                       224              61   \n",
       "14980         1.1   454000.0                       315              66   \n",
       "\n",
       "       Hemoglobin  Height  Weight  \n",
       "16           16.0     157      46  \n",
       "33           13.7     168      42  \n",
       "69           17.5     175      37  \n",
       "82           15.0     133      37  \n",
       "100           9.3     189     125  \n",
       "...           ...     ...     ...  \n",
       "14903        15.9     159      53  \n",
       "14909        12.2     135      34  \n",
       "14917        12.2     164      56  \n",
       "14977        13.0     156      51  \n",
       "14980        10.4     131      67  \n",
       "\n",
       "[694 rows x 14 columns]"
      ]
     },
     "metadata": {},
     "output_type": "display_data"
    },
    {
     "name": "stdout",
     "output_type": "stream",
     "text": [
      "\n",
      "Value Counts\n",
      "451000.0    93\n",
      "543000.0    61\n",
      "481000.0    57\n",
      "621000.0    56\n",
      "850000.0    55\n",
      "507000.0    55\n",
      "454000.0    53\n",
      "497000.0    50\n",
      "504000.0    47\n",
      "742000.0    46\n",
      "448000.0    44\n",
      "533000.0    43\n",
      "461000.0    34\n",
      "Name: Pletelets, dtype: int64\n",
      "\n",
      "Values < Outer Fence \n",
      "\n"
     ]
    },
    {
     "data": {
      "text/html": [
       "<div>\n",
       "<style scoped>\n",
       "    .dataframe tbody tr th:only-of-type {\n",
       "        vertical-align: middle;\n",
       "    }\n",
       "\n",
       "    .dataframe tbody tr th {\n",
       "        vertical-align: top;\n",
       "    }\n",
       "\n",
       "    .dataframe thead th {\n",
       "        text-align: right;\n",
       "    }\n",
       "</style>\n",
       "<table border=\"1\" class=\"dataframe\">\n",
       "  <thead>\n",
       "    <tr style=\"text-align: right;\">\n",
       "      <th></th>\n",
       "      <th>Survive</th>\n",
       "      <th>Gender</th>\n",
       "      <th>Smoke</th>\n",
       "      <th>Diabetes</th>\n",
       "      <th>Age</th>\n",
       "      <th>Ejection Fraction</th>\n",
       "      <th>Sodium</th>\n",
       "      <th>Creatinine</th>\n",
       "      <th>Pletelets</th>\n",
       "      <th>Creatinine phosphokinase</th>\n",
       "      <th>Blood Pressure</th>\n",
       "      <th>Hemoglobin</th>\n",
       "      <th>Height</th>\n",
       "      <th>Weight</th>\n",
       "    </tr>\n",
       "  </thead>\n",
       "  <tbody>\n",
       "    <tr>\n",
       "      <th>9</th>\n",
       "      <td>1</td>\n",
       "      <td>Female</td>\n",
       "      <td>No</td>\n",
       "      <td>Normal</td>\n",
       "      <td>60</td>\n",
       "      <td>Low</td>\n",
       "      <td>127.0</td>\n",
       "      <td>1.70</td>\n",
       "      <td>62000.0</td>\n",
       "      <td>166</td>\n",
       "      <td>59</td>\n",
       "      <td>12.3</td>\n",
       "      <td>156</td>\n",
       "      <td>47</td>\n",
       "    </tr>\n",
       "    <tr>\n",
       "      <th>108</th>\n",
       "      <td>0</td>\n",
       "      <td>Male</td>\n",
       "      <td>No</td>\n",
       "      <td>Diabetes</td>\n",
       "      <td>70</td>\n",
       "      <td>Low</td>\n",
       "      <td>140.0</td>\n",
       "      <td>1.10</td>\n",
       "      <td>25100.0</td>\n",
       "      <td>582</td>\n",
       "      <td>116</td>\n",
       "      <td>13.3</td>\n",
       "      <td>153</td>\n",
       "      <td>36</td>\n",
       "    </tr>\n",
       "    <tr>\n",
       "      <th>145</th>\n",
       "      <td>0</td>\n",
       "      <td>Male</td>\n",
       "      <td>Yes</td>\n",
       "      <td>Normal</td>\n",
       "      <td>70</td>\n",
       "      <td>Low</td>\n",
       "      <td>136.0</td>\n",
       "      <td>2.15</td>\n",
       "      <td>51000.0</td>\n",
       "      <td>582</td>\n",
       "      <td>105</td>\n",
       "      <td>12.9</td>\n",
       "      <td>169</td>\n",
       "      <td>43</td>\n",
       "    </tr>\n",
       "    <tr>\n",
       "      <th>154</th>\n",
       "      <td>1</td>\n",
       "      <td>Female</td>\n",
       "      <td>No</td>\n",
       "      <td>Normal</td>\n",
       "      <td>60</td>\n",
       "      <td>Low</td>\n",
       "      <td>127.0</td>\n",
       "      <td>1.70</td>\n",
       "      <td>62000.0</td>\n",
       "      <td>166</td>\n",
       "      <td>119</td>\n",
       "      <td>16.3</td>\n",
       "      <td>145</td>\n",
       "      <td>41</td>\n",
       "    </tr>\n",
       "    <tr>\n",
       "      <th>252</th>\n",
       "      <td>1</td>\n",
       "      <td>Female</td>\n",
       "      <td>No</td>\n",
       "      <td>Normal</td>\n",
       "      <td>60</td>\n",
       "      <td>Low</td>\n",
       "      <td>127.0</td>\n",
       "      <td>1.70</td>\n",
       "      <td>62000.0</td>\n",
       "      <td>166</td>\n",
       "      <td>115</td>\n",
       "      <td>13.6</td>\n",
       "      <td>182</td>\n",
       "      <td>64</td>\n",
       "    </tr>\n",
       "    <tr>\n",
       "      <th>...</th>\n",
       "      <td>...</td>\n",
       "      <td>...</td>\n",
       "      <td>...</td>\n",
       "      <td>...</td>\n",
       "      <td>...</td>\n",
       "      <td>...</td>\n",
       "      <td>...</td>\n",
       "      <td>...</td>\n",
       "      <td>...</td>\n",
       "      <td>...</td>\n",
       "      <td>...</td>\n",
       "      <td>...</td>\n",
       "      <td>...</td>\n",
       "      <td>...</td>\n",
       "    </tr>\n",
       "    <tr>\n",
       "      <th>14808</th>\n",
       "      <td>0</td>\n",
       "      <td>Male</td>\n",
       "      <td>Yes</td>\n",
       "      <td>Normal</td>\n",
       "      <td>70</td>\n",
       "      <td>Low</td>\n",
       "      <td>136.0</td>\n",
       "      <td>2.15</td>\n",
       "      <td>51000.0</td>\n",
       "      <td>582</td>\n",
       "      <td>116</td>\n",
       "      <td>13.0</td>\n",
       "      <td>179</td>\n",
       "      <td>48</td>\n",
       "    </tr>\n",
       "    <tr>\n",
       "      <th>14821</th>\n",
       "      <td>1</td>\n",
       "      <td>Female</td>\n",
       "      <td>No</td>\n",
       "      <td>Normal</td>\n",
       "      <td>60</td>\n",
       "      <td>Low</td>\n",
       "      <td>127.0</td>\n",
       "      <td>1.70</td>\n",
       "      <td>62000.0</td>\n",
       "      <td>166</td>\n",
       "      <td>45</td>\n",
       "      <td>15.3</td>\n",
       "      <td>130</td>\n",
       "      <td>33</td>\n",
       "    </tr>\n",
       "    <tr>\n",
       "      <th>14853</th>\n",
       "      <td>0</td>\n",
       "      <td>Male</td>\n",
       "      <td>Yes</td>\n",
       "      <td>Normal</td>\n",
       "      <td>70</td>\n",
       "      <td>Low</td>\n",
       "      <td>136.0</td>\n",
       "      <td>2.15</td>\n",
       "      <td>51000.0</td>\n",
       "      <td>582</td>\n",
       "      <td>67</td>\n",
       "      <td>14.1</td>\n",
       "      <td>138</td>\n",
       "      <td>29</td>\n",
       "    </tr>\n",
       "    <tr>\n",
       "      <th>14876</th>\n",
       "      <td>1</td>\n",
       "      <td>Female</td>\n",
       "      <td>No</td>\n",
       "      <td>Normal</td>\n",
       "      <td>60</td>\n",
       "      <td>Low</td>\n",
       "      <td>127.0</td>\n",
       "      <td>1.70</td>\n",
       "      <td>62000.0</td>\n",
       "      <td>166</td>\n",
       "      <td>68</td>\n",
       "      <td>15.8</td>\n",
       "      <td>184</td>\n",
       "      <td>65</td>\n",
       "    </tr>\n",
       "    <tr>\n",
       "      <th>14974</th>\n",
       "      <td>1</td>\n",
       "      <td>Male</td>\n",
       "      <td>No</td>\n",
       "      <td>Pre-diabetes</td>\n",
       "      <td>59</td>\n",
       "      <td>Low</td>\n",
       "      <td>134.0</td>\n",
       "      <td>2.15</td>\n",
       "      <td>70000.0</td>\n",
       "      <td>66</td>\n",
       "      <td>55</td>\n",
       "      <td>12.7</td>\n",
       "      <td>179</td>\n",
       "      <td>85</td>\n",
       "    </tr>\n",
       "  </tbody>\n",
       "</table>\n",
       "<p>247 rows × 14 columns</p>\n",
       "</div>"
      ],
      "text/plain": [
       "       Survive  Gender Smoke      Diabetes  Age Ejection Fraction  Sodium  \\\n",
       "9            1  Female    No        Normal   60               Low   127.0   \n",
       "108          0    Male    No      Diabetes   70               Low   140.0   \n",
       "145          0    Male   Yes        Normal   70               Low   136.0   \n",
       "154          1  Female    No        Normal   60               Low   127.0   \n",
       "252          1  Female    No        Normal   60               Low   127.0   \n",
       "...        ...     ...   ...           ...  ...               ...     ...   \n",
       "14808        0    Male   Yes        Normal   70               Low   136.0   \n",
       "14821        1  Female    No        Normal   60               Low   127.0   \n",
       "14853        0    Male   Yes        Normal   70               Low   136.0   \n",
       "14876        1  Female    No        Normal   60               Low   127.0   \n",
       "14974        1    Male    No  Pre-diabetes   59               Low   134.0   \n",
       "\n",
       "       Creatinine  Pletelets  Creatinine phosphokinase  Blood Pressure  \\\n",
       "9            1.70    62000.0                       166              59   \n",
       "108          1.10    25100.0                       582             116   \n",
       "145          2.15    51000.0                       582             105   \n",
       "154          1.70    62000.0                       166             119   \n",
       "252          1.70    62000.0                       166             115   \n",
       "...           ...        ...                       ...             ...   \n",
       "14808        2.15    51000.0                       582             116   \n",
       "14821        1.70    62000.0                       166              45   \n",
       "14853        2.15    51000.0                       582              67   \n",
       "14876        1.70    62000.0                       166              68   \n",
       "14974        2.15    70000.0                        66              55   \n",
       "\n",
       "       Hemoglobin  Height  Weight  \n",
       "9            12.3     156      47  \n",
       "108          13.3     153      36  \n",
       "145          12.9     169      43  \n",
       "154          16.3     145      41  \n",
       "252          13.6     182      64  \n",
       "...           ...     ...     ...  \n",
       "14808        13.0     179      48  \n",
       "14821        15.3     130      33  \n",
       "14853        14.1     138      29  \n",
       "14876        15.8     184      65  \n",
       "14974        12.7     179      85  \n",
       "\n",
       "[247 rows x 14 columns]"
      ]
     },
     "metadata": {},
     "output_type": "display_data"
    },
    {
     "name": "stdout",
     "output_type": "stream",
     "text": [
      "\n",
      "Value Counts\n",
      "62000.0    60\n",
      "70000.0    55\n",
      "25100.0    45\n",
      "51000.0    44\n",
      "47000.0    43\n",
      "Name: Pletelets, dtype: int64\n",
      "\n",
      "Describe\n",
      "count     15000.00000\n",
      "mean     263096.01649\n",
      "std       98056.33034\n",
      "min       25100.00000\n",
      "25%      211000.00000\n",
      "50%      262000.00000\n",
      "75%      304000.00000\n",
      "max      850000.00000\n",
      "Name: Pletelets, dtype: float64\n"
     ]
    },
    {
     "name": "stderr",
     "output_type": "stream",
     "text": [
      "C:\\Users\\Randy\\Venv\\aiap\\lib\\site-packages\\seaborn\\_decorators.py:36: FutureWarning: Pass the following variable as a keyword arg: x. From version 0.12, the only valid positional argument will be `data`, and passing other arguments without an explicit keyword will result in an error or misinterpretation.\n",
      "  warnings.warn(\n"
     ]
    },
    {
     "data": {
      "image/png": "[encoded data removed]",
      "text/plain": [
       "<Figure size 432x288 with 1 Axes>"
      ]
     },
     "metadata": {
      "needs_background": "light"
     },
     "output_type": "display_data"
    }
   ],
   "source": [
    "inspect_outliers(df,'Pletelets')"
   ]
  },
  {
   "cell_type": "markdown",
   "id": "f1c7b744-eb5d-4db3-b964-93ca9c1f0f60",
   "metadata": {},
   "source": [
    "I will cap the min and max accordingly"
   ]
  },
  {
   "cell_type": "code",
   "execution_count": 56,
   "id": "c2746033-11f3-4a11-8e97-2d4c4d45d090",
   "metadata": {},
   "outputs": [
    {
     "name": "stderr",
     "output_type": "stream",
     "text": [
      "C:\\Users\\Randy\\Venv\\aiap\\lib\\site-packages\\seaborn\\_decorators.py:36: FutureWarning: Pass the following variable as a keyword arg: x. From version 0.12, the only valid positional argument will be `data`, and passing other arguments without an explicit keyword will result in an error or misinterpretation.\n",
      "  warnings.warn(\n"
     ]
    },
    {
     "data": {
      "image/png": "[encoded data removed]",
      "text/plain": [
       "<Figure size 432x288 with 1 Axes>"
      ]
     },
     "metadata": {
      "needs_background": "light"
     },
     "output_type": "display_data"
    }
   ],
   "source": [
    "bound_outliers(df,'Pletelets')"
   ]
  },
  {
   "cell_type": "markdown",
   "id": "eff732c3-8951-45ed-92b1-c1322d26eb8f",
   "metadata": {},
   "source": [
    "## Creatinine phosphokinase"
   ]
  },
  {
   "cell_type": "code",
   "execution_count": 57,
   "id": "2508b38f-837d-4018-b176-aeeea3b7b68a",
   "metadata": {},
   "outputs": [
    {
     "name": "stdout",
     "output_type": "stream",
     "text": [
      "Values > Outer Fence\n"
     ]
    },
    {
     "data": {
      "text/html": [
       "<div>\n",
       "<style scoped>\n",
       "    .dataframe tbody tr th:only-of-type {\n",
       "        vertical-align: middle;\n",
       "    }\n",
       "\n",
       "    .dataframe tbody tr th {\n",
       "        vertical-align: top;\n",
       "    }\n",
       "\n",
       "    .dataframe thead th {\n",
       "        text-align: right;\n",
       "    }\n",
       "</style>\n",
       "<table border=\"1\" class=\"dataframe\">\n",
       "  <thead>\n",
       "    <tr style=\"text-align: right;\">\n",
       "      <th></th>\n",
       "      <th>Survive</th>\n",
       "      <th>Gender</th>\n",
       "      <th>Smoke</th>\n",
       "      <th>Diabetes</th>\n",
       "      <th>Age</th>\n",
       "      <th>Ejection Fraction</th>\n",
       "      <th>Sodium</th>\n",
       "      <th>Creatinine</th>\n",
       "      <th>Pletelets</th>\n",
       "      <th>Creatinine phosphokinase</th>\n",
       "      <th>Blood Pressure</th>\n",
       "      <th>Hemoglobin</th>\n",
       "      <th>Height</th>\n",
       "      <th>Weight</th>\n",
       "    </tr>\n",
       "  </thead>\n",
       "  <tbody>\n",
       "    <tr>\n",
       "      <th>3</th>\n",
       "      <td>0</td>\n",
       "      <td>Male</td>\n",
       "      <td>No</td>\n",
       "      <td>Normal</td>\n",
       "      <td>60</td>\n",
       "      <td>Low</td>\n",
       "      <td>136.0</td>\n",
       "      <td>0.90</td>\n",
       "      <td>228000.0</td>\n",
       "      <td>2261</td>\n",
       "      <td>136</td>\n",
       "      <td>15.3</td>\n",
       "      <td>130</td>\n",
       "      <td>48</td>\n",
       "    </tr>\n",
       "    <tr>\n",
       "      <th>5</th>\n",
       "      <td>1</td>\n",
       "      <td>Male</td>\n",
       "      <td>No</td>\n",
       "      <td>Normal</td>\n",
       "      <td>55</td>\n",
       "      <td>Low</td>\n",
       "      <td>138.0</td>\n",
       "      <td>1.10</td>\n",
       "      <td>314000.0</td>\n",
       "      <td>2017</td>\n",
       "      <td>88</td>\n",
       "      <td>16.5</td>\n",
       "      <td>176</td>\n",
       "      <td>58</td>\n",
       "    </tr>\n",
       "    <tr>\n",
       "      <th>24</th>\n",
       "      <td>1</td>\n",
       "      <td>Male</td>\n",
       "      <td>Yes</td>\n",
       "      <td>Normal</td>\n",
       "      <td>85</td>\n",
       "      <td>Low</td>\n",
       "      <td>132.0</td>\n",
       "      <td>1.00</td>\n",
       "      <td>243000.0</td>\n",
       "      <td>5882</td>\n",
       "      <td>79</td>\n",
       "      <td>15.2</td>\n",
       "      <td>160</td>\n",
       "      <td>84</td>\n",
       "    </tr>\n",
       "    <tr>\n",
       "      <th>25</th>\n",
       "      <td>0</td>\n",
       "      <td>Male</td>\n",
       "      <td>No</td>\n",
       "      <td>Diabetes</td>\n",
       "      <td>60</td>\n",
       "      <td>Low</td>\n",
       "      <td>137.0</td>\n",
       "      <td>2.15</td>\n",
       "      <td>305000.0</td>\n",
       "      <td>2656</td>\n",
       "      <td>76</td>\n",
       "      <td>12.8</td>\n",
       "      <td>186</td>\n",
       "      <td>128</td>\n",
       "    </tr>\n",
       "    <tr>\n",
       "      <th>27</th>\n",
       "      <td>0</td>\n",
       "      <td>Male</td>\n",
       "      <td>Yes</td>\n",
       "      <td>Normal</td>\n",
       "      <td>45</td>\n",
       "      <td>Low</td>\n",
       "      <td>140.0</td>\n",
       "      <td>1.40</td>\n",
       "      <td>140000.0</td>\n",
       "      <td>2413</td>\n",
       "      <td>108</td>\n",
       "      <td>15.3</td>\n",
       "      <td>134</td>\n",
       "      <td>22</td>\n",
       "    </tr>\n",
       "    <tr>\n",
       "      <th>...</th>\n",
       "      <td>...</td>\n",
       "      <td>...</td>\n",
       "      <td>...</td>\n",
       "      <td>...</td>\n",
       "      <td>...</td>\n",
       "      <td>...</td>\n",
       "      <td>...</td>\n",
       "      <td>...</td>\n",
       "      <td>...</td>\n",
       "      <td>...</td>\n",
       "      <td>...</td>\n",
       "      <td>...</td>\n",
       "      <td>...</td>\n",
       "      <td>...</td>\n",
       "    </tr>\n",
       "    <tr>\n",
       "      <th>14925</th>\n",
       "      <td>0</td>\n",
       "      <td>Female</td>\n",
       "      <td>No</td>\n",
       "      <td>Normal</td>\n",
       "      <td>55</td>\n",
       "      <td>Low</td>\n",
       "      <td>139.0</td>\n",
       "      <td>1.20</td>\n",
       "      <td>270000.0</td>\n",
       "      <td>1820</td>\n",
       "      <td>95</td>\n",
       "      <td>15.2</td>\n",
       "      <td>140</td>\n",
       "      <td>25</td>\n",
       "    </tr>\n",
       "    <tr>\n",
       "      <th>14932</th>\n",
       "      <td>0</td>\n",
       "      <td>Male</td>\n",
       "      <td>No</td>\n",
       "      <td>Pre-diabetes</td>\n",
       "      <td>60</td>\n",
       "      <td>Low</td>\n",
       "      <td>137.0</td>\n",
       "      <td>2.15</td>\n",
       "      <td>305000.0</td>\n",
       "      <td>2656</td>\n",
       "      <td>78</td>\n",
       "      <td>12.1</td>\n",
       "      <td>151</td>\n",
       "      <td>84</td>\n",
       "    </tr>\n",
       "    <tr>\n",
       "      <th>14940</th>\n",
       "      <td>1</td>\n",
       "      <td>Male</td>\n",
       "      <td>No</td>\n",
       "      <td>Diabetes</td>\n",
       "      <td>45</td>\n",
       "      <td>Low</td>\n",
       "      <td>139.0</td>\n",
       "      <td>1.10</td>\n",
       "      <td>334000.0</td>\n",
       "      <td>2442</td>\n",
       "      <td>78</td>\n",
       "      <td>13.2</td>\n",
       "      <td>178</td>\n",
       "      <td>86</td>\n",
       "    </tr>\n",
       "    <tr>\n",
       "      <th>14950</th>\n",
       "      <td>0</td>\n",
       "      <td>Male</td>\n",
       "      <td>Yes</td>\n",
       "      <td>Normal</td>\n",
       "      <td>69</td>\n",
       "      <td>Low</td>\n",
       "      <td>135.0</td>\n",
       "      <td>1.00</td>\n",
       "      <td>105000.0</td>\n",
       "      <td>1419</td>\n",
       "      <td>48</td>\n",
       "      <td>14.6</td>\n",
       "      <td>140</td>\n",
       "      <td>50</td>\n",
       "    </tr>\n",
       "    <tr>\n",
       "      <th>14976</th>\n",
       "      <td>0</td>\n",
       "      <td>Male</td>\n",
       "      <td>Yes</td>\n",
       "      <td>Normal</td>\n",
       "      <td>53</td>\n",
       "      <td>Normal-High</td>\n",
       "      <td>138.0</td>\n",
       "      <td>0.70</td>\n",
       "      <td>249000.0</td>\n",
       "      <td>1808</td>\n",
       "      <td>173</td>\n",
       "      <td>11.6</td>\n",
       "      <td>169</td>\n",
       "      <td>84</td>\n",
       "    </tr>\n",
       "  </tbody>\n",
       "</table>\n",
       "<p>1483 rows × 14 columns</p>\n",
       "</div>"
      ],
      "text/plain": [
       "       Survive  Gender Smoke      Diabetes  Age Ejection Fraction  Sodium  \\\n",
       "3            0    Male    No        Normal   60               Low   136.0   \n",
       "5            1    Male    No        Normal   55               Low   138.0   \n",
       "24           1    Male   Yes        Normal   85               Low   132.0   \n",
       "25           0    Male    No      Diabetes   60               Low   137.0   \n",
       "27           0    Male   Yes        Normal   45               Low   140.0   \n",
       "...        ...     ...   ...           ...  ...               ...     ...   \n",
       "14925        0  Female    No        Normal   55               Low   139.0   \n",
       "14932        0    Male    No  Pre-diabetes   60               Low   137.0   \n",
       "14940        1    Male    No      Diabetes   45               Low   139.0   \n",
       "14950        0    Male   Yes        Normal   69               Low   135.0   \n",
       "14976        0    Male   Yes        Normal   53       Normal-High   138.0   \n",
       "\n",
       "       Creatinine  Pletelets  Creatinine phosphokinase  Blood Pressure  \\\n",
       "3            0.90   228000.0                      2261             136   \n",
       "5            1.10   314000.0                      2017              88   \n",
       "24           1.00   243000.0                      5882              79   \n",
       "25           2.15   305000.0                      2656              76   \n",
       "27           1.40   140000.0                      2413             108   \n",
       "...           ...        ...                       ...             ...   \n",
       "14925        1.20   270000.0                      1820              95   \n",
       "14932        2.15   305000.0                      2656              78   \n",
       "14940        1.10   334000.0                      2442              78   \n",
       "14950        1.00   105000.0                      1419              48   \n",
       "14976        0.70   249000.0                      1808             173   \n",
       "\n",
       "       Hemoglobin  Height  Weight  \n",
       "3            15.3     130      48  \n",
       "5            16.5     176      58  \n",
       "24           15.2     160      84  \n",
       "25           12.8     186     128  \n",
       "27           15.3     134      22  \n",
       "...           ...     ...     ...  \n",
       "14925        15.2     140      25  \n",
       "14932        12.1     151      84  \n",
       "14940        13.2     178      86  \n",
       "14950        14.6     140      50  \n",
       "14976        11.6     169      84  \n",
       "\n",
       "[1483 rows x 14 columns]"
      ]
     },
     "metadata": {},
     "output_type": "display_data"
    },
    {
     "name": "stdout",
     "output_type": "stream",
     "text": [
      "\n",
      "Value Counts\n",
      "2413    68\n",
      "1820    64\n",
      "2656    62\n",
      "3966    60\n",
      "1419    58\n",
      "2017    58\n",
      "5209    57\n",
      "1688    56\n",
      "1896    55\n",
      "2794    55\n",
      "1876    55\n",
      "1610    53\n",
      "2695    52\n",
      "2442    51\n",
      "4540    49\n",
      "1808    48\n",
      "2281    47\n",
      "1767    47\n",
      "7861    47\n",
      "2060    46\n",
      "1846    46\n",
      "3964    46\n",
      "7702    46\n",
      "2334    46\n",
      "2261    44\n",
      "1548    44\n",
      "2522    43\n",
      "1380    41\n",
      "5882    39\n",
      "Name: Creatinine phosphokinase, dtype: int64\n",
      "\n",
      "Values < Outer Fence \n",
      "\n"
     ]
    },
    {
     "data": {
      "text/html": [
       "<div>\n",
       "<style scoped>\n",
       "    .dataframe tbody tr th:only-of-type {\n",
       "        vertical-align: middle;\n",
       "    }\n",
       "\n",
       "    .dataframe tbody tr th {\n",
       "        vertical-align: top;\n",
       "    }\n",
       "\n",
       "    .dataframe thead th {\n",
       "        text-align: right;\n",
       "    }\n",
       "</style>\n",
       "<table border=\"1\" class=\"dataframe\">\n",
       "  <thead>\n",
       "    <tr style=\"text-align: right;\">\n",
       "      <th></th>\n",
       "      <th>Survive</th>\n",
       "      <th>Gender</th>\n",
       "      <th>Smoke</th>\n",
       "      <th>Diabetes</th>\n",
       "      <th>Age</th>\n",
       "      <th>Ejection Fraction</th>\n",
       "      <th>Sodium</th>\n",
       "      <th>Creatinine</th>\n",
       "      <th>Pletelets</th>\n",
       "      <th>Creatinine phosphokinase</th>\n",
       "      <th>Blood Pressure</th>\n",
       "      <th>Hemoglobin</th>\n",
       "      <th>Height</th>\n",
       "      <th>Weight</th>\n",
       "    </tr>\n",
       "  </thead>\n",
       "  <tbody>\n",
       "  </tbody>\n",
       "</table>\n",
       "</div>"
      ],
      "text/plain": [
       "Empty DataFrame\n",
       "Columns: [Survive, Gender, Smoke, Diabetes, Age, Ejection Fraction, Sodium, Creatinine, Pletelets, Creatinine phosphokinase, Blood Pressure, Hemoglobin, Height, Weight]\n",
       "Index: []"
      ]
     },
     "metadata": {},
     "output_type": "display_data"
    },
    {
     "name": "stderr",
     "output_type": "stream",
     "text": [
      "C:\\Users\\Randy\\Venv\\aiap\\lib\\site-packages\\seaborn\\_decorators.py:36: FutureWarning: Pass the following variable as a keyword arg: x. From version 0.12, the only valid positional argument will be `data`, and passing other arguments without an explicit keyword will result in an error or misinterpretation.\n",
      "  warnings.warn(\n"
     ]
    },
    {
     "name": "stdout",
     "output_type": "stream",
     "text": [
      "\n",
      "Value Counts\n",
      "Series([], Name: Creatinine phosphokinase, dtype: int64)\n",
      "\n",
      "Describe\n",
      "count    15000.000000\n",
      "mean       580.151800\n",
      "std        955.418765\n",
      "min         23.000000\n",
      "25%        115.000000\n",
      "50%        250.000000\n",
      "75%        582.000000\n",
      "max       7861.000000\n",
      "Name: Creatinine phosphokinase, dtype: float64\n"
     ]
    },
    {
     "data": {
      "image/png": "[encoded data removed]",
      "text/plain": [
       "<Figure size 432x288 with 1 Axes>"
      ]
     },
     "metadata": {
      "needs_background": "light"
     },
     "output_type": "display_data"
    }
   ],
   "source": [
    "inspect_outliers(df, 'Creatinine phosphokinase')"
   ]
  },
  {
   "cell_type": "markdown",
   "id": "4b39dfc9-f247-4fd5-a8d5-0d76dd66e8ab",
   "metadata": {},
   "source": [
    "I will cap the min and max accordingly"
   ]
  },
  {
   "cell_type": "code",
   "execution_count": 58,
   "id": "fcbcf80f-012a-4ac7-aada-0e93166bae0e",
   "metadata": {},
   "outputs": [
    {
     "name": "stderr",
     "output_type": "stream",
     "text": [
      "C:\\Users\\Randy\\Venv\\aiap\\lib\\site-packages\\seaborn\\_decorators.py:36: FutureWarning: Pass the following variable as a keyword arg: x. From version 0.12, the only valid positional argument will be `data`, and passing other arguments without an explicit keyword will result in an error or misinterpretation.\n",
      "  warnings.warn(\n"
     ]
    },
    {
     "data": {
      "image/png": "[encoded data removed]",
      "text/plain": [
       "<Figure size 432x288 with 1 Axes>"
      ]
     },
     "metadata": {
      "needs_background": "light"
     },
     "output_type": "display_data"
    }
   ],
   "source": [
    "bound_outliers(df, 'Creatinine phosphokinase')"
   ]
  },
  {
   "cell_type": "markdown",
   "id": "44a5a9d0-3743-4710-b4b7-af93403fc565",
   "metadata": {},
   "source": [
    "## Blood Pressure"
   ]
  },
  {
   "cell_type": "markdown",
   "id": "fcf1cc1a-a5bc-4bfc-a8c6-3a97931f823b",
   "metadata": {},
   "source": [
    "Problem : Blood pressure is typically measured with 2 set of values but only 1 is present without specifying which"
   ]
  },
  {
   "cell_type": "code",
   "execution_count": 59,
   "id": "6ca2f10c-c40f-48e2-a91b-5cc1e67c4120",
   "metadata": {},
   "outputs": [
    {
     "data": {
      "text/plain": [
       "<AxesSubplot:>"
      ]
     },
     "execution_count": 59,
     "metadata": {},
     "output_type": "execute_result"
    },
    {
     "data": {
      "image/png": "[encoded data removed]",
      "text/plain": [
       "<Figure size 432x288 with 1 Axes>"
      ]
     },
     "metadata": {
      "needs_background": "light"
     },
     "output_type": "display_data"
    }
   ],
   "source": [
    "df['Blood Pressure'].hist()"
   ]
  },
  {
   "cell_type": "code",
   "execution_count": 60,
   "id": "a522944f-b053-4d48-89f2-265b6c356525",
   "metadata": {},
   "outputs": [
    {
     "name": "stderr",
     "output_type": "stream",
     "text": [
      "C:\\Users\\Randy\\Venv\\aiap\\lib\\site-packages\\seaborn\\_decorators.py:36: FutureWarning: Pass the following variable as a keyword arg: x. From version 0.12, the only valid positional argument will be `data`, and passing other arguments without an explicit keyword will result in an error or misinterpretation.\n",
      "  warnings.warn(\n"
     ]
    },
    {
     "data": {
      "text/plain": [
       "<AxesSubplot:xlabel='Blood Pressure'>"
      ]
     },
     "execution_count": 60,
     "metadata": {},
     "output_type": "execute_result"
    },
    {
     "data": {
      "image/png": "[encoded data removed]",
      "text/plain": [
       "<Figure size 432x288 with 1 Axes>"
      ]
     },
     "metadata": {
      "needs_background": "light"
     },
     "output_type": "display_data"
    }
   ],
   "source": [
    "sns.boxplot(df['Blood Pressure'])"
   ]
  },
  {
   "cell_type": "markdown",
   "id": "2737ac0e-51cd-4c14-8470-3dab58b42f18",
   "metadata": {},
   "source": [
    "As I do not have medical knowledge and I am unable to identify if the BP is actually measuring diastolic or systolic pressure, I will assume it is actually measuring one of them and the measurements are done consistently. "
   ]
  },
  {
   "cell_type": "markdown",
   "id": "353ac80e-b007-443f-ae0a-339b9c07fc2a",
   "metadata": {},
   "source": [
    "## Hemoglobin"
   ]
  },
  {
   "cell_type": "markdown",
   "id": "1c8c4eb7-d5b8-4feb-81ae-dc3b02f4e75a",
   "metadata": {},
   "source": [
    "Hemoglobin appears to be in range"
   ]
  },
  {
   "cell_type": "code",
   "execution_count": 61,
   "id": "e0a492f0-6af2-410a-9ca7-d4791a1b6dda",
   "metadata": {},
   "outputs": [
    {
     "name": "stderr",
     "output_type": "stream",
     "text": [
      "C:\\Users\\Randy\\Venv\\aiap\\lib\\site-packages\\seaborn\\_decorators.py:36: FutureWarning: Pass the following variable as a keyword arg: x. From version 0.12, the only valid positional argument will be `data`, and passing other arguments without an explicit keyword will result in an error or misinterpretation.\n",
      "  warnings.warn(\n"
     ]
    },
    {
     "data": {
      "text/plain": [
       "<AxesSubplot:xlabel='Hemoglobin'>"
      ]
     },
     "execution_count": 61,
     "metadata": {},
     "output_type": "execute_result"
    },
    {
     "data": {
      "image/png": "[encoded data removed]",
      "text/plain": [
       "<Figure size 432x288 with 1 Axes>"
      ]
     },
     "metadata": {
      "needs_background": "light"
     },
     "output_type": "display_data"
    }
   ],
   "source": [
    "sns.boxplot(df.Hemoglobin)"
   ]
  },
  {
   "cell_type": "markdown",
   "id": "fb5eba5b-1037-4bd8-828e-ecd6bec447de",
   "metadata": {},
   "source": [
    "## Height and Weight"
   ]
  },
  {
   "cell_type": "markdown",
   "id": "d44f10c5-9fb0-4e23-8bda-d06cb986b473",
   "metadata": {},
   "source": [
    "I will inspect both height and weight together. "
   ]
  },
  {
   "cell_type": "code",
   "execution_count": 62,
   "id": "15dc5856-6481-4778-9f5e-0b7a628b0bff",
   "metadata": {},
   "outputs": [
    {
     "name": "stderr",
     "output_type": "stream",
     "text": [
      "C:\\Users\\Randy\\Venv\\aiap\\lib\\site-packages\\seaborn\\_decorators.py:36: FutureWarning: Pass the following variable as a keyword arg: x. From version 0.12, the only valid positional argument will be `data`, and passing other arguments without an explicit keyword will result in an error or misinterpretation.\n",
      "  warnings.warn(\n"
     ]
    },
    {
     "data": {
      "text/plain": [
       "<AxesSubplot:xlabel='Height'>"
      ]
     },
     "execution_count": 62,
     "metadata": {},
     "output_type": "execute_result"
    },
    {
     "data": {
      "image/png": "[encoded data removed]",
      "text/plain": [
       "<Figure size 432x288 with 1 Axes>"
      ]
     },
     "metadata": {
      "needs_background": "light"
     },
     "output_type": "display_data"
    }
   ],
   "source": [
    "sns.boxplot(df.Height)"
   ]
  },
  {
   "cell_type": "code",
   "execution_count": 63,
   "id": "f71216c2-17e8-44f8-886f-d687ce7c0e4d",
   "metadata": {},
   "outputs": [
    {
     "name": "stderr",
     "output_type": "stream",
     "text": [
      "C:\\Users\\Randy\\Venv\\aiap\\lib\\site-packages\\seaborn\\_decorators.py:36: FutureWarning: Pass the following variable as a keyword arg: x. From version 0.12, the only valid positional argument will be `data`, and passing other arguments without an explicit keyword will result in an error or misinterpretation.\n",
      "  warnings.warn(\n"
     ]
    },
    {
     "data": {
      "text/plain": [
       "<AxesSubplot:xlabel='Weight'>"
      ]
     },
     "execution_count": 63,
     "metadata": {},
     "output_type": "execute_result"
    },
    {
     "data": {
      "image/png": "[encoded data removed]",
      "text/plain": [
       "<Figure size 432x288 with 1 Axes>"
      ]
     },
     "metadata": {
      "needs_background": "light"
     },
     "output_type": "display_data"
    }
   ],
   "source": [
    "sns.boxplot(df.Weight)"
   ]
  },
  {
   "cell_type": "code",
   "execution_count": 64,
   "id": "c5348466-813f-46d4-b2ee-8af2b8bfd0b8",
   "metadata": {},
   "outputs": [
    {
     "data": {
      "text/html": [
       "<div>\n",
       "<style scoped>\n",
       "    .dataframe tbody tr th:only-of-type {\n",
       "        vertical-align: middle;\n",
       "    }\n",
       "\n",
       "    .dataframe tbody tr th {\n",
       "        vertical-align: top;\n",
       "    }\n",
       "\n",
       "    .dataframe thead th {\n",
       "        text-align: right;\n",
       "    }\n",
       "</style>\n",
       "<table border=\"1\" class=\"dataframe\">\n",
       "  <thead>\n",
       "    <tr style=\"text-align: right;\">\n",
       "      <th></th>\n",
       "      <th>Survive</th>\n",
       "      <th>Gender</th>\n",
       "      <th>Smoke</th>\n",
       "      <th>Diabetes</th>\n",
       "      <th>Age</th>\n",
       "      <th>Ejection Fraction</th>\n",
       "      <th>Sodium</th>\n",
       "      <th>Creatinine</th>\n",
       "      <th>Pletelets</th>\n",
       "      <th>Creatinine phosphokinase</th>\n",
       "      <th>Blood Pressure</th>\n",
       "      <th>Hemoglobin</th>\n",
       "      <th>Height</th>\n",
       "      <th>Weight</th>\n",
       "    </tr>\n",
       "  </thead>\n",
       "  <tbody>\n",
       "    <tr>\n",
       "      <th>3</th>\n",
       "      <td>0</td>\n",
       "      <td>Male</td>\n",
       "      <td>No</td>\n",
       "      <td>Normal</td>\n",
       "      <td>60</td>\n",
       "      <td>Low</td>\n",
       "      <td>136.0</td>\n",
       "      <td>0.90</td>\n",
       "      <td>228000.00</td>\n",
       "      <td>1282.5</td>\n",
       "      <td>136</td>\n",
       "      <td>15.3</td>\n",
       "      <td>130</td>\n",
       "      <td>48</td>\n",
       "    </tr>\n",
       "    <tr>\n",
       "      <th>12</th>\n",
       "      <td>0</td>\n",
       "      <td>Female</td>\n",
       "      <td>No</td>\n",
       "      <td>Normal</td>\n",
       "      <td>70</td>\n",
       "      <td>Low</td>\n",
       "      <td>141.0</td>\n",
       "      <td>0.90</td>\n",
       "      <td>358000.00</td>\n",
       "      <td>1202.0</td>\n",
       "      <td>139</td>\n",
       "      <td>16.6</td>\n",
       "      <td>132</td>\n",
       "      <td>36</td>\n",
       "    </tr>\n",
       "    <tr>\n",
       "      <th>17</th>\n",
       "      <td>1</td>\n",
       "      <td>Male</td>\n",
       "      <td>Yes</td>\n",
       "      <td>Normal</td>\n",
       "      <td>68</td>\n",
       "      <td>Low</td>\n",
       "      <td>140.0</td>\n",
       "      <td>0.90</td>\n",
       "      <td>289000.00</td>\n",
       "      <td>220.0</td>\n",
       "      <td>124</td>\n",
       "      <td>10.5</td>\n",
       "      <td>135</td>\n",
       "      <td>69</td>\n",
       "    </tr>\n",
       "    <tr>\n",
       "      <th>27</th>\n",
       "      <td>0</td>\n",
       "      <td>Male</td>\n",
       "      <td>Yes</td>\n",
       "      <td>Normal</td>\n",
       "      <td>45</td>\n",
       "      <td>Low</td>\n",
       "      <td>140.0</td>\n",
       "      <td>1.40</td>\n",
       "      <td>140000.00</td>\n",
       "      <td>1282.5</td>\n",
       "      <td>108</td>\n",
       "      <td>15.3</td>\n",
       "      <td>134</td>\n",
       "      <td>22</td>\n",
       "    </tr>\n",
       "    <tr>\n",
       "      <th>31</th>\n",
       "      <td>1</td>\n",
       "      <td>Male</td>\n",
       "      <td>No</td>\n",
       "      <td>Pre-diabetes</td>\n",
       "      <td>94</td>\n",
       "      <td>Low</td>\n",
       "      <td>134.0</td>\n",
       "      <td>1.83</td>\n",
       "      <td>263358.03</td>\n",
       "      <td>582.0</td>\n",
       "      <td>137</td>\n",
       "      <td>17.4</td>\n",
       "      <td>137</td>\n",
       "      <td>70</td>\n",
       "    </tr>\n",
       "    <tr>\n",
       "      <th>...</th>\n",
       "      <td>...</td>\n",
       "      <td>...</td>\n",
       "      <td>...</td>\n",
       "      <td>...</td>\n",
       "      <td>...</td>\n",
       "      <td>...</td>\n",
       "      <td>...</td>\n",
       "      <td>...</td>\n",
       "      <td>...</td>\n",
       "      <td>...</td>\n",
       "      <td>...</td>\n",
       "      <td>...</td>\n",
       "      <td>...</td>\n",
       "      <td>...</td>\n",
       "    </tr>\n",
       "    <tr>\n",
       "      <th>14951</th>\n",
       "      <td>0</td>\n",
       "      <td>Male</td>\n",
       "      <td>No</td>\n",
       "      <td>Diabetes</td>\n",
       "      <td>63</td>\n",
       "      <td>Low</td>\n",
       "      <td>134.0</td>\n",
       "      <td>1.30</td>\n",
       "      <td>254000.00</td>\n",
       "      <td>514.0</td>\n",
       "      <td>149</td>\n",
       "      <td>9.5</td>\n",
       "      <td>139</td>\n",
       "      <td>61</td>\n",
       "    </tr>\n",
       "    <tr>\n",
       "      <th>14952</th>\n",
       "      <td>0</td>\n",
       "      <td>Male</td>\n",
       "      <td>Yes</td>\n",
       "      <td>Normal</td>\n",
       "      <td>40</td>\n",
       "      <td>Low</td>\n",
       "      <td>136.0</td>\n",
       "      <td>1.10</td>\n",
       "      <td>255000.00</td>\n",
       "      <td>90.0</td>\n",
       "      <td>72</td>\n",
       "      <td>14.2</td>\n",
       "      <td>132</td>\n",
       "      <td>33</td>\n",
       "    </tr>\n",
       "    <tr>\n",
       "      <th>14970</th>\n",
       "      <td>0</td>\n",
       "      <td>Male</td>\n",
       "      <td>Yes</td>\n",
       "      <td>Pre-diabetes</td>\n",
       "      <td>65</td>\n",
       "      <td>Low</td>\n",
       "      <td>137.0</td>\n",
       "      <td>0.90</td>\n",
       "      <td>281000.00</td>\n",
       "      <td>198.0</td>\n",
       "      <td>171</td>\n",
       "      <td>13.9</td>\n",
       "      <td>131</td>\n",
       "      <td>44</td>\n",
       "    </tr>\n",
       "    <tr>\n",
       "      <th>14980</th>\n",
       "      <td>1</td>\n",
       "      <td>Male</td>\n",
       "      <td>Yes</td>\n",
       "      <td>Pre-diabetes</td>\n",
       "      <td>60</td>\n",
       "      <td>Normal-High</td>\n",
       "      <td>131.0</td>\n",
       "      <td>1.10</td>\n",
       "      <td>443500.00</td>\n",
       "      <td>315.0</td>\n",
       "      <td>66</td>\n",
       "      <td>10.4</td>\n",
       "      <td>131</td>\n",
       "      <td>67</td>\n",
       "    </tr>\n",
       "    <tr>\n",
       "      <th>14998</th>\n",
       "      <td>0</td>\n",
       "      <td>Male</td>\n",
       "      <td>No</td>\n",
       "      <td>Normal</td>\n",
       "      <td>77</td>\n",
       "      <td>Low</td>\n",
       "      <td>137.0</td>\n",
       "      <td>1.10</td>\n",
       "      <td>406000.00</td>\n",
       "      <td>109.0</td>\n",
       "      <td>154</td>\n",
       "      <td>11.3</td>\n",
       "      <td>130</td>\n",
       "      <td>32</td>\n",
       "    </tr>\n",
       "  </tbody>\n",
       "</table>\n",
       "<p>2543 rows × 14 columns</p>\n",
       "</div>"
      ],
      "text/plain": [
       "       Survive  Gender Smoke      Diabetes  Age Ejection Fraction  Sodium  \\\n",
       "3            0    Male    No        Normal   60               Low   136.0   \n",
       "12           0  Female    No        Normal   70               Low   141.0   \n",
       "17           1    Male   Yes        Normal   68               Low   140.0   \n",
       "27           0    Male   Yes        Normal   45               Low   140.0   \n",
       "31           1    Male    No  Pre-diabetes   94               Low   134.0   \n",
       "...        ...     ...   ...           ...  ...               ...     ...   \n",
       "14951        0    Male    No      Diabetes   63               Low   134.0   \n",
       "14952        0    Male   Yes        Normal   40               Low   136.0   \n",
       "14970        0    Male   Yes  Pre-diabetes   65               Low   137.0   \n",
       "14980        1    Male   Yes  Pre-diabetes   60       Normal-High   131.0   \n",
       "14998        0    Male    No        Normal   77               Low   137.0   \n",
       "\n",
       "       Creatinine  Pletelets  Creatinine phosphokinase  Blood Pressure  \\\n",
       "3            0.90  228000.00                    1282.5             136   \n",
       "12           0.90  358000.00                    1202.0             139   \n",
       "17           0.90  289000.00                     220.0             124   \n",
       "27           1.40  140000.00                    1282.5             108   \n",
       "31           1.83  263358.03                     582.0             137   \n",
       "...           ...        ...                       ...             ...   \n",
       "14951        1.30  254000.00                     514.0             149   \n",
       "14952        1.10  255000.00                      90.0              72   \n",
       "14970        0.90  281000.00                     198.0             171   \n",
       "14980        1.10  443500.00                     315.0              66   \n",
       "14998        1.10  406000.00                     109.0             154   \n",
       "\n",
       "       Hemoglobin  Height  Weight  \n",
       "3            15.3     130      48  \n",
       "12           16.6     132      36  \n",
       "17           10.5     135      69  \n",
       "27           15.3     134      22  \n",
       "31           17.4     137      70  \n",
       "...           ...     ...     ...  \n",
       "14951         9.5     139      61  \n",
       "14952        14.2     132      33  \n",
       "14970        13.9     131      44  \n",
       "14980        10.4     131      67  \n",
       "14998        11.3     130      32  \n",
       "\n",
       "[2543 rows x 14 columns]"
      ]
     },
     "execution_count": 64,
     "metadata": {},
     "output_type": "execute_result"
    }
   ],
   "source": [
    "df[df.Height<140]"
   ]
  },
  {
   "cell_type": "code",
   "execution_count": 65,
   "id": "9215b12b-b0c1-4892-8180-8fb2e52211ad",
   "metadata": {},
   "outputs": [
    {
     "data": {
      "text/html": [
       "<div>\n",
       "<style scoped>\n",
       "    .dataframe tbody tr th:only-of-type {\n",
       "        vertical-align: middle;\n",
       "    }\n",
       "\n",
       "    .dataframe tbody tr th {\n",
       "        vertical-align: top;\n",
       "    }\n",
       "\n",
       "    .dataframe thead th {\n",
       "        text-align: right;\n",
       "    }\n",
       "</style>\n",
       "<table border=\"1\" class=\"dataframe\">\n",
       "  <thead>\n",
       "    <tr style=\"text-align: right;\">\n",
       "      <th></th>\n",
       "      <th>Survive</th>\n",
       "      <th>Gender</th>\n",
       "      <th>Smoke</th>\n",
       "      <th>Diabetes</th>\n",
       "      <th>Age</th>\n",
       "      <th>Ejection Fraction</th>\n",
       "      <th>Sodium</th>\n",
       "      <th>Creatinine</th>\n",
       "      <th>Pletelets</th>\n",
       "      <th>Creatinine phosphokinase</th>\n",
       "      <th>Blood Pressure</th>\n",
       "      <th>Hemoglobin</th>\n",
       "      <th>Height</th>\n",
       "      <th>Weight</th>\n",
       "    </tr>\n",
       "  </thead>\n",
       "  <tbody>\n",
       "    <tr>\n",
       "      <th>12</th>\n",
       "      <td>0</td>\n",
       "      <td>Female</td>\n",
       "      <td>No</td>\n",
       "      <td>Normal</td>\n",
       "      <td>70</td>\n",
       "      <td>Low</td>\n",
       "      <td>141.0</td>\n",
       "      <td>0.9</td>\n",
       "      <td>358000.0</td>\n",
       "      <td>1202.0</td>\n",
       "      <td>139</td>\n",
       "      <td>16.6</td>\n",
       "      <td>132</td>\n",
       "      <td>36</td>\n",
       "    </tr>\n",
       "    <tr>\n",
       "      <th>14</th>\n",
       "      <td>0</td>\n",
       "      <td>Male</td>\n",
       "      <td>No</td>\n",
       "      <td>Normal</td>\n",
       "      <td>40</td>\n",
       "      <td>Low</td>\n",
       "      <td>137.0</td>\n",
       "      <td>0.9</td>\n",
       "      <td>255000.0</td>\n",
       "      <td>129.0</td>\n",
       "      <td>82</td>\n",
       "      <td>9.1</td>\n",
       "      <td>140</td>\n",
       "      <td>37</td>\n",
       "    </tr>\n",
       "    <tr>\n",
       "      <th>20</th>\n",
       "      <td>0</td>\n",
       "      <td>Male</td>\n",
       "      <td>No</td>\n",
       "      <td>Normal</td>\n",
       "      <td>42</td>\n",
       "      <td>Low</td>\n",
       "      <td>140.0</td>\n",
       "      <td>0.7</td>\n",
       "      <td>189000.0</td>\n",
       "      <td>64.0</td>\n",
       "      <td>109</td>\n",
       "      <td>13.2</td>\n",
       "      <td>155</td>\n",
       "      <td>37</td>\n",
       "    </tr>\n",
       "    <tr>\n",
       "      <th>27</th>\n",
       "      <td>0</td>\n",
       "      <td>Male</td>\n",
       "      <td>Yes</td>\n",
       "      <td>Normal</td>\n",
       "      <td>45</td>\n",
       "      <td>Low</td>\n",
       "      <td>140.0</td>\n",
       "      <td>1.4</td>\n",
       "      <td>140000.0</td>\n",
       "      <td>1282.5</td>\n",
       "      <td>108</td>\n",
       "      <td>15.3</td>\n",
       "      <td>134</td>\n",
       "      <td>22</td>\n",
       "    </tr>\n",
       "    <tr>\n",
       "      <th>38</th>\n",
       "      <td>0</td>\n",
       "      <td>Male</td>\n",
       "      <td>No</td>\n",
       "      <td>Normal</td>\n",
       "      <td>77</td>\n",
       "      <td>Low</td>\n",
       "      <td>137.0</td>\n",
       "      <td>1.1</td>\n",
       "      <td>406000.0</td>\n",
       "      <td>109.0</td>\n",
       "      <td>130</td>\n",
       "      <td>11.7</td>\n",
       "      <td>143</td>\n",
       "      <td>39</td>\n",
       "    </tr>\n",
       "    <tr>\n",
       "      <th>...</th>\n",
       "      <td>...</td>\n",
       "      <td>...</td>\n",
       "      <td>...</td>\n",
       "      <td>...</td>\n",
       "      <td>...</td>\n",
       "      <td>...</td>\n",
       "      <td>...</td>\n",
       "      <td>...</td>\n",
       "      <td>...</td>\n",
       "      <td>...</td>\n",
       "      <td>...</td>\n",
       "      <td>...</td>\n",
       "      <td>...</td>\n",
       "      <td>...</td>\n",
       "    </tr>\n",
       "    <tr>\n",
       "      <th>14952</th>\n",
       "      <td>0</td>\n",
       "      <td>Male</td>\n",
       "      <td>Yes</td>\n",
       "      <td>Normal</td>\n",
       "      <td>40</td>\n",
       "      <td>Low</td>\n",
       "      <td>136.0</td>\n",
       "      <td>1.1</td>\n",
       "      <td>255000.0</td>\n",
       "      <td>90.0</td>\n",
       "      <td>72</td>\n",
       "      <td>14.2</td>\n",
       "      <td>132</td>\n",
       "      <td>33</td>\n",
       "    </tr>\n",
       "    <tr>\n",
       "      <th>14955</th>\n",
       "      <td>0</td>\n",
       "      <td>Male</td>\n",
       "      <td>Yes</td>\n",
       "      <td>Pre-diabetes</td>\n",
       "      <td>63</td>\n",
       "      <td>Low</td>\n",
       "      <td>136.0</td>\n",
       "      <td>0.9</td>\n",
       "      <td>179000.0</td>\n",
       "      <td>103.0</td>\n",
       "      <td>113</td>\n",
       "      <td>11.5</td>\n",
       "      <td>150</td>\n",
       "      <td>29</td>\n",
       "    </tr>\n",
       "    <tr>\n",
       "      <th>14962</th>\n",
       "      <td>0</td>\n",
       "      <td>Male</td>\n",
       "      <td>No</td>\n",
       "      <td>Pre-diabetes</td>\n",
       "      <td>40</td>\n",
       "      <td>Low</td>\n",
       "      <td>132.0</td>\n",
       "      <td>1.0</td>\n",
       "      <td>222000.0</td>\n",
       "      <td>582.0</td>\n",
       "      <td>43</td>\n",
       "      <td>15.2</td>\n",
       "      <td>154</td>\n",
       "      <td>37</td>\n",
       "    </tr>\n",
       "    <tr>\n",
       "      <th>14983</th>\n",
       "      <td>0</td>\n",
       "      <td>Male</td>\n",
       "      <td>No</td>\n",
       "      <td>Normal</td>\n",
       "      <td>42</td>\n",
       "      <td>Low</td>\n",
       "      <td>140.0</td>\n",
       "      <td>0.7</td>\n",
       "      <td>189000.0</td>\n",
       "      <td>64.0</td>\n",
       "      <td>104</td>\n",
       "      <td>16.5</td>\n",
       "      <td>148</td>\n",
       "      <td>34</td>\n",
       "    </tr>\n",
       "    <tr>\n",
       "      <th>14998</th>\n",
       "      <td>0</td>\n",
       "      <td>Male</td>\n",
       "      <td>No</td>\n",
       "      <td>Normal</td>\n",
       "      <td>77</td>\n",
       "      <td>Low</td>\n",
       "      <td>137.0</td>\n",
       "      <td>1.1</td>\n",
       "      <td>406000.0</td>\n",
       "      <td>109.0</td>\n",
       "      <td>154</td>\n",
       "      <td>11.3</td>\n",
       "      <td>130</td>\n",
       "      <td>32</td>\n",
       "    </tr>\n",
       "  </tbody>\n",
       "</table>\n",
       "<p>1844 rows × 14 columns</p>\n",
       "</div>"
      ],
      "text/plain": [
       "       Survive  Gender Smoke      Diabetes  Age Ejection Fraction  Sodium  \\\n",
       "12           0  Female    No        Normal   70               Low   141.0   \n",
       "14           0    Male    No        Normal   40               Low   137.0   \n",
       "20           0    Male    No        Normal   42               Low   140.0   \n",
       "27           0    Male   Yes        Normal   45               Low   140.0   \n",
       "38           0    Male    No        Normal   77               Low   137.0   \n",
       "...        ...     ...   ...           ...  ...               ...     ...   \n",
       "14952        0    Male   Yes        Normal   40               Low   136.0   \n",
       "14955        0    Male   Yes  Pre-diabetes   63               Low   136.0   \n",
       "14962        0    Male    No  Pre-diabetes   40               Low   132.0   \n",
       "14983        0    Male    No        Normal   42               Low   140.0   \n",
       "14998        0    Male    No        Normal   77               Low   137.0   \n",
       "\n",
       "       Creatinine  Pletelets  Creatinine phosphokinase  Blood Pressure  \\\n",
       "12            0.9   358000.0                    1202.0             139   \n",
       "14            0.9   255000.0                     129.0              82   \n",
       "20            0.7   189000.0                      64.0             109   \n",
       "27            1.4   140000.0                    1282.5             108   \n",
       "38            1.1   406000.0                     109.0             130   \n",
       "...           ...        ...                       ...             ...   \n",
       "14952         1.1   255000.0                      90.0              72   \n",
       "14955         0.9   179000.0                     103.0             113   \n",
       "14962         1.0   222000.0                     582.0              43   \n",
       "14983         0.7   189000.0                      64.0             104   \n",
       "14998         1.1   406000.0                     109.0             154   \n",
       "\n",
       "       Hemoglobin  Height  Weight  \n",
       "12           16.6     132      36  \n",
       "14            9.1     140      37  \n",
       "20           13.2     155      37  \n",
       "27           15.3     134      22  \n",
       "38           11.7     143      39  \n",
       "...           ...     ...     ...  \n",
       "14952        14.2     132      33  \n",
       "14955        11.5     150      29  \n",
       "14962        15.2     154      37  \n",
       "14983        16.5     148      34  \n",
       "14998        11.3     130      32  \n",
       "\n",
       "[1844 rows x 14 columns]"
      ]
     },
     "execution_count": 65,
     "metadata": {},
     "output_type": "execute_result"
    }
   ],
   "source": [
    "df[df.Weight<40]"
   ]
  },
  {
   "cell_type": "markdown",
   "id": "92aa3d9b-670b-41d2-8971-a9bbc3e7212e",
   "metadata": {},
   "source": [
    "Some values appear to be suspect like weight around 20kg and height around 130cm. However I will also assume that the values are correct and inspect BMI instead"
   ]
  },
  {
   "cell_type": "markdown",
   "id": "c16685ab-b4c4-4993-88e5-ce69cc589da6",
   "metadata": {},
   "source": [
    "# Feature Engineering"
   ]
  },
  {
   "cell_type": "markdown",
   "id": "0ac37bf7-1fab-4a04-aef9-0350994e5854",
   "metadata": {},
   "source": [
    "Without any domain knowledge, I am unable to come up with any specific features except for BMI. I will however use polynominal transformation to see if there are any hidden interaction and selection features from there"
   ]
  },
  {
   "cell_type": "markdown",
   "id": "0571a523-4164-4aee-aa22-ab94747e448f",
   "metadata": {
    "tags": []
   },
   "source": [
    "## BMI"
   ]
  },
  {
   "cell_type": "markdown",
   "id": "94024a4b-cabf-40a1-be94-90da579afe1e",
   "metadata": {},
   "source": [
    "As mentioned,seeing how in medical usage they are usually inspected as BMI instead of individually, I will introduce new feature BMI. I will see if the values are odd"
   ]
  },
  {
   "cell_type": "markdown",
   "id": "14ba13fa-9008-47cd-a3f8-ffc53577d32a",
   "metadata": {},
   "source": [
    "Formula for BMI is [weight (kg) / height (cm) / height (cm)] x 10,000"
   ]
  },
  {
   "cell_type": "code",
   "execution_count": 66,
   "id": "d5545495-ba35-4149-a136-9feadc827ead",
   "metadata": {},
   "outputs": [],
   "source": [
    "df['BMI'] = (df.Weight/ df.Height/ df.Height) *10000"
   ]
  },
  {
   "cell_type": "markdown",
   "id": "0c1574d5-d966-442b-b1fc-5c321a2e7d6f",
   "metadata": {},
   "source": [
    "Normal range for BMI is 18.5 to 24.9"
   ]
  },
  {
   "cell_type": "code",
   "execution_count": 67,
   "id": "112e3a7f-0a69-46d5-a2ac-48f45d80d39b",
   "metadata": {},
   "outputs": [
    {
     "name": "stderr",
     "output_type": "stream",
     "text": [
      "C:\\Users\\Randy\\Venv\\aiap\\lib\\site-packages\\seaborn\\_decorators.py:36: FutureWarning: Pass the following variable as a keyword arg: x. From version 0.12, the only valid positional argument will be `data`, and passing other arguments without an explicit keyword will result in an error or misinterpretation.\n",
      "  warnings.warn(\n"
     ]
    },
    {
     "data": {
      "text/plain": [
       "<AxesSubplot:xlabel='BMI'>"
      ]
     },
     "execution_count": 67,
     "metadata": {},
     "output_type": "execute_result"
    },
    {
     "data": {
      "image/png": "[encoded data removed]",
      "text/plain": [
       "<Figure size 432x288 with 1 Axes>"
      ]
     },
     "metadata": {
      "needs_background": "light"
     },
     "output_type": "display_data"
    }
   ],
   "source": [
    "sns.boxplot(df.BMI)"
   ]
  },
  {
   "cell_type": "code",
   "execution_count": 68,
   "id": "78bfb0e8-ce72-45b6-ab0e-4688d19c567f",
   "metadata": {},
   "outputs": [
    {
     "data": {
      "text/plain": [
       "<AxesSubplot:>"
      ]
     },
     "execution_count": 68,
     "metadata": {},
     "output_type": "execute_result"
    },
    {
     "data": {
      "image/png": "[encoded data removed]",
      "text/plain": [
       "<Figure size 432x288 with 1 Axes>"
      ]
     },
     "metadata": {
      "needs_background": "light"
     },
     "output_type": "display_data"
    }
   ],
   "source": [
    "df.BMI.hist()"
   ]
  },
  {
   "cell_type": "code",
   "execution_count": 69,
   "id": "47cbf77e-1e29-4bd6-8faa-e982ee4ccba0",
   "metadata": {},
   "outputs": [
    {
     "data": {
      "text/plain": [
       "count    15000.000000\n",
       "mean        26.939831\n",
       "std          7.734126\n",
       "min         11.242604\n",
       "25%         19.675167\n",
       "50%         28.493704\n",
       "75%         32.713499\n",
       "max         39.795918\n",
       "Name: BMI, dtype: float64"
      ]
     },
     "execution_count": 69,
     "metadata": {},
     "output_type": "execute_result"
    }
   ],
   "source": [
    "df.BMI.describe()"
   ]
  },
  {
   "cell_type": "markdown",
   "id": "c44eded0-c570-4a98-9905-00ef09e29651",
   "metadata": {},
   "source": [
    "This appears more to be in order"
   ]
  },
  {
   "cell_type": "markdown",
   "id": "c47dd8a3-3624-4dec-9724-a86e628554e9",
   "metadata": {},
   "source": [
    "## Polynominal transformation"
   ]
  },
  {
   "cell_type": "code",
   "execution_count": 70,
   "id": "dc7b1f09-fdb9-4ffc-be0d-2392604aa542",
   "metadata": {},
   "outputs": [],
   "source": [
    "from sklearn.preprocessing import PolynomialFeatures "
   ]
  },
  {
   "cell_type": "code",
   "execution_count": 71,
   "id": "659c48e8-c9c2-4c6f-8627-881db303f3f2",
   "metadata": {},
   "outputs": [],
   "source": [
    "# Using default degree 2 only as I do not want to introduce too many features\n",
    "poly_transform = PolynomialFeatures(include_bias=False)\n",
    "\n",
    "target = df['Survive']\n",
    "num_cols = df.select_dtypes(include=['int','float'])\n",
    "num_cols = num_cols.drop(columns='Survive')\n",
    "cat_cols = df.select_dtypes(exclude=['int','float'])"
   ]
  },
  {
   "cell_type": "code",
   "execution_count": 72,
   "id": "a5d2618f-ac27-4145-a2f8-763b373e8141",
   "metadata": {},
   "outputs": [],
   "source": [
    "num_cols_poly_transform = poly_transform.fit_transform(num_cols)"
   ]
  },
  {
   "cell_type": "code",
   "execution_count": 73,
   "id": "2a42757a-3daa-4adc-95e6-327f45f7f0ac",
   "metadata": {},
   "outputs": [],
   "source": [
    "num_cols_poly_transform_colnames = poly_transform.get_feature_names_out()"
   ]
  },
  {
   "cell_type": "code",
   "execution_count": 74,
   "id": "3cdf900a-ac62-4c65-97eb-d685f35b12b4",
   "metadata": {},
   "outputs": [
    {
     "data": {
      "text/plain": [
       "65"
      ]
     },
     "execution_count": 74,
     "metadata": {},
     "output_type": "execute_result"
    }
   ],
   "source": [
    "len(num_cols_poly_transform_colnames)"
   ]
  },
  {
   "cell_type": "code",
   "execution_count": 75,
   "id": "78480b8d-2c3a-4e35-90d9-97421e8f6d21",
   "metadata": {},
   "outputs": [
    {
     "data": {
      "text/plain": [
       "65"
      ]
     },
     "execution_count": 75,
     "metadata": {},
     "output_type": "execute_result"
    }
   ],
   "source": [
    "len(num_cols_poly_transform[0])"
   ]
  },
  {
   "cell_type": "code",
   "execution_count": 76,
   "id": "b0584626-e4cd-433c-8bd7-3f0577056c78",
   "metadata": {},
   "outputs": [
    {
     "data": {
      "text/html": [
       "<div>\n",
       "<style scoped>\n",
       "    .dataframe tbody tr th:only-of-type {\n",
       "        vertical-align: middle;\n",
       "    }\n",
       "\n",
       "    .dataframe tbody tr th {\n",
       "        vertical-align: top;\n",
       "    }\n",
       "\n",
       "    .dataframe thead th {\n",
       "        text-align: right;\n",
       "    }\n",
       "</style>\n",
       "<table border=\"1\" class=\"dataframe\">\n",
       "  <thead>\n",
       "    <tr style=\"text-align: right;\">\n",
       "      <th></th>\n",
       "      <th>Age</th>\n",
       "      <th>Sodium</th>\n",
       "      <th>Creatinine</th>\n",
       "      <th>Pletelets</th>\n",
       "      <th>Creatinine phosphokinase</th>\n",
       "      <th>Blood Pressure</th>\n",
       "      <th>Hemoglobin</th>\n",
       "      <th>Height</th>\n",
       "      <th>Weight</th>\n",
       "      <th>BMI</th>\n",
       "      <th>...</th>\n",
       "      <th>Hemoglobin^2</th>\n",
       "      <th>Hemoglobin Height</th>\n",
       "      <th>Hemoglobin Weight</th>\n",
       "      <th>Hemoglobin BMI</th>\n",
       "      <th>Height^2</th>\n",
       "      <th>Height Weight</th>\n",
       "      <th>Height BMI</th>\n",
       "      <th>Weight^2</th>\n",
       "      <th>Weight BMI</th>\n",
       "      <th>BMI^2</th>\n",
       "    </tr>\n",
       "  </thead>\n",
       "  <tbody>\n",
       "    <tr>\n",
       "      <th>0</th>\n",
       "      <td>50.0</td>\n",
       "      <td>141.0</td>\n",
       "      <td>0.70</td>\n",
       "      <td>266000.0</td>\n",
       "      <td>185.0</td>\n",
       "      <td>105.0</td>\n",
       "      <td>12.3</td>\n",
       "      <td>180.0</td>\n",
       "      <td>93.0</td>\n",
       "      <td>28.703704</td>\n",
       "      <td>...</td>\n",
       "      <td>151.29</td>\n",
       "      <td>2214.0</td>\n",
       "      <td>1143.9</td>\n",
       "      <td>353.055556</td>\n",
       "      <td>32400.0</td>\n",
       "      <td>16740.0</td>\n",
       "      <td>5166.666667</td>\n",
       "      <td>8649.0</td>\n",
       "      <td>2669.444444</td>\n",
       "      <td>823.902606</td>\n",
       "    </tr>\n",
       "    <tr>\n",
       "      <th>1</th>\n",
       "      <td>75.0</td>\n",
       "      <td>134.0</td>\n",
       "      <td>2.15</td>\n",
       "      <td>224000.0</td>\n",
       "      <td>99.0</td>\n",
       "      <td>162.0</td>\n",
       "      <td>13.0</td>\n",
       "      <td>140.0</td>\n",
       "      <td>47.0</td>\n",
       "      <td>23.979592</td>\n",
       "      <td>...</td>\n",
       "      <td>169.00</td>\n",
       "      <td>1820.0</td>\n",
       "      <td>611.0</td>\n",
       "      <td>311.734694</td>\n",
       "      <td>19600.0</td>\n",
       "      <td>6580.0</td>\n",
       "      <td>3357.142857</td>\n",
       "      <td>2209.0</td>\n",
       "      <td>1127.040816</td>\n",
       "      <td>575.020825</td>\n",
       "    </tr>\n",
       "    <tr>\n",
       "      <th>2</th>\n",
       "      <td>80.0</td>\n",
       "      <td>135.0</td>\n",
       "      <td>1.30</td>\n",
       "      <td>192000.0</td>\n",
       "      <td>776.0</td>\n",
       "      <td>179.0</td>\n",
       "      <td>12.4</td>\n",
       "      <td>150.0</td>\n",
       "      <td>61.0</td>\n",
       "      <td>27.111111</td>\n",
       "      <td>...</td>\n",
       "      <td>153.76</td>\n",
       "      <td>1860.0</td>\n",
       "      <td>756.4</td>\n",
       "      <td>336.177778</td>\n",
       "      <td>22500.0</td>\n",
       "      <td>9150.0</td>\n",
       "      <td>4066.666667</td>\n",
       "      <td>3721.0</td>\n",
       "      <td>1653.777778</td>\n",
       "      <td>735.012346</td>\n",
       "    </tr>\n",
       "    <tr>\n",
       "      <th>3</th>\n",
       "      <td>60.0</td>\n",
       "      <td>136.0</td>\n",
       "      <td>0.90</td>\n",
       "      <td>228000.0</td>\n",
       "      <td>1282.5</td>\n",
       "      <td>136.0</td>\n",
       "      <td>15.3</td>\n",
       "      <td>130.0</td>\n",
       "      <td>48.0</td>\n",
       "      <td>28.402367</td>\n",
       "      <td>...</td>\n",
       "      <td>234.09</td>\n",
       "      <td>1989.0</td>\n",
       "      <td>734.4</td>\n",
       "      <td>434.556213</td>\n",
       "      <td>16900.0</td>\n",
       "      <td>6240.0</td>\n",
       "      <td>3692.307692</td>\n",
       "      <td>2304.0</td>\n",
       "      <td>1363.313609</td>\n",
       "      <td>806.694443</td>\n",
       "    </tr>\n",
       "    <tr>\n",
       "      <th>4</th>\n",
       "      <td>70.0</td>\n",
       "      <td>141.0</td>\n",
       "      <td>0.90</td>\n",
       "      <td>358000.0</td>\n",
       "      <td>1202.0</td>\n",
       "      <td>171.0</td>\n",
       "      <td>13.3</td>\n",
       "      <td>177.0</td>\n",
       "      <td>64.0</td>\n",
       "      <td>20.428357</td>\n",
       "      <td>...</td>\n",
       "      <td>176.89</td>\n",
       "      <td>2354.1</td>\n",
       "      <td>851.2</td>\n",
       "      <td>271.697150</td>\n",
       "      <td>31329.0</td>\n",
       "      <td>11328.0</td>\n",
       "      <td>3615.819209</td>\n",
       "      <td>4096.0</td>\n",
       "      <td>1307.414855</td>\n",
       "      <td>417.317774</td>\n",
       "    </tr>\n",
       "    <tr>\n",
       "      <th>...</th>\n",
       "      <td>...</td>\n",
       "      <td>...</td>\n",
       "      <td>...</td>\n",
       "      <td>...</td>\n",
       "      <td>...</td>\n",
       "      <td>...</td>\n",
       "      <td>...</td>\n",
       "      <td>...</td>\n",
       "      <td>...</td>\n",
       "      <td>...</td>\n",
       "      <td>...</td>\n",
       "      <td>...</td>\n",
       "      <td>...</td>\n",
       "      <td>...</td>\n",
       "      <td>...</td>\n",
       "      <td>...</td>\n",
       "      <td>...</td>\n",
       "      <td>...</td>\n",
       "      <td>...</td>\n",
       "      <td>...</td>\n",
       "      <td>...</td>\n",
       "    </tr>\n",
       "    <tr>\n",
       "      <th>14995</th>\n",
       "      <td>50.0</td>\n",
       "      <td>140.0</td>\n",
       "      <td>0.90</td>\n",
       "      <td>362000.0</td>\n",
       "      <td>298.0</td>\n",
       "      <td>109.0</td>\n",
       "      <td>11.8</td>\n",
       "      <td>178.0</td>\n",
       "      <td>51.0</td>\n",
       "      <td>16.096452</td>\n",
       "      <td>...</td>\n",
       "      <td>139.24</td>\n",
       "      <td>2100.4</td>\n",
       "      <td>601.8</td>\n",
       "      <td>189.938139</td>\n",
       "      <td>31684.0</td>\n",
       "      <td>9078.0</td>\n",
       "      <td>2865.168539</td>\n",
       "      <td>2601.0</td>\n",
       "      <td>820.919076</td>\n",
       "      <td>259.095782</td>\n",
       "    </tr>\n",
       "    <tr>\n",
       "      <th>14996</th>\n",
       "      <td>62.0</td>\n",
       "      <td>140.0</td>\n",
       "      <td>0.90</td>\n",
       "      <td>253000.0</td>\n",
       "      <td>231.0</td>\n",
       "      <td>141.0</td>\n",
       "      <td>14.6</td>\n",
       "      <td>171.0</td>\n",
       "      <td>114.0</td>\n",
       "      <td>38.986355</td>\n",
       "      <td>...</td>\n",
       "      <td>213.16</td>\n",
       "      <td>2496.6</td>\n",
       "      <td>1664.4</td>\n",
       "      <td>569.200780</td>\n",
       "      <td>29241.0</td>\n",
       "      <td>19494.0</td>\n",
       "      <td>6666.666667</td>\n",
       "      <td>12996.0</td>\n",
       "      <td>4444.444444</td>\n",
       "      <td>1519.935859</td>\n",
       "    </tr>\n",
       "    <tr>\n",
       "      <th>14997</th>\n",
       "      <td>61.0</td>\n",
       "      <td>141.0</td>\n",
       "      <td>0.90</td>\n",
       "      <td>229000.0</td>\n",
       "      <td>84.0</td>\n",
       "      <td>173.0</td>\n",
       "      <td>9.2</td>\n",
       "      <td>156.0</td>\n",
       "      <td>71.0</td>\n",
       "      <td>29.174885</td>\n",
       "      <td>...</td>\n",
       "      <td>84.64</td>\n",
       "      <td>1435.2</td>\n",
       "      <td>653.2</td>\n",
       "      <td>268.408941</td>\n",
       "      <td>24336.0</td>\n",
       "      <td>11076.0</td>\n",
       "      <td>4551.282051</td>\n",
       "      <td>5041.0</td>\n",
       "      <td>2071.416831</td>\n",
       "      <td>851.173912</td>\n",
       "    </tr>\n",
       "    <tr>\n",
       "      <th>14998</th>\n",
       "      <td>77.0</td>\n",
       "      <td>137.0</td>\n",
       "      <td>1.10</td>\n",
       "      <td>406000.0</td>\n",
       "      <td>109.0</td>\n",
       "      <td>154.0</td>\n",
       "      <td>11.3</td>\n",
       "      <td>130.0</td>\n",
       "      <td>32.0</td>\n",
       "      <td>18.934911</td>\n",
       "      <td>...</td>\n",
       "      <td>127.69</td>\n",
       "      <td>1469.0</td>\n",
       "      <td>361.6</td>\n",
       "      <td>213.964497</td>\n",
       "      <td>16900.0</td>\n",
       "      <td>4160.0</td>\n",
       "      <td>2461.538462</td>\n",
       "      <td>1024.0</td>\n",
       "      <td>605.917160</td>\n",
       "      <td>358.530864</td>\n",
       "    </tr>\n",
       "    <tr>\n",
       "      <th>14999</th>\n",
       "      <td>45.0</td>\n",
       "      <td>135.0</td>\n",
       "      <td>1.60</td>\n",
       "      <td>126000.0</td>\n",
       "      <td>582.0</td>\n",
       "      <td>143.0</td>\n",
       "      <td>16.8</td>\n",
       "      <td>147.0</td>\n",
       "      <td>48.0</td>\n",
       "      <td>22.212967</td>\n",
       "      <td>...</td>\n",
       "      <td>282.24</td>\n",
       "      <td>2469.6</td>\n",
       "      <td>806.4</td>\n",
       "      <td>373.177843</td>\n",
       "      <td>21609.0</td>\n",
       "      <td>7056.0</td>\n",
       "      <td>3265.306122</td>\n",
       "      <td>2304.0</td>\n",
       "      <td>1066.222407</td>\n",
       "      <td>493.415895</td>\n",
       "    </tr>\n",
       "  </tbody>\n",
       "</table>\n",
       "<p>15000 rows × 65 columns</p>\n",
       "</div>"
      ],
      "text/plain": [
       "        Age  Sodium  Creatinine  Pletelets  Creatinine phosphokinase  \\\n",
       "0      50.0   141.0        0.70   266000.0                     185.0   \n",
       "1      75.0   134.0        2.15   224000.0                      99.0   \n",
       "2      80.0   135.0        1.30   192000.0                     776.0   \n",
       "3      60.0   136.0        0.90   228000.0                    1282.5   \n",
       "4      70.0   141.0        0.90   358000.0                    1202.0   \n",
       "...     ...     ...         ...        ...                       ...   \n",
       "14995  50.0   140.0        0.90   362000.0                     298.0   \n",
       "14996  62.0   140.0        0.90   253000.0                     231.0   \n",
       "14997  61.0   141.0        0.90   229000.0                      84.0   \n",
       "14998  77.0   137.0        1.10   406000.0                     109.0   \n",
       "14999  45.0   135.0        1.60   126000.0                     582.0   \n",
       "\n",
       "       Blood Pressure  Hemoglobin  Height  Weight        BMI  ...  \\\n",
       "0               105.0        12.3   180.0    93.0  28.703704  ...   \n",
       "1               162.0        13.0   140.0    47.0  23.979592  ...   \n",
       "2               179.0        12.4   150.0    61.0  27.111111  ...   \n",
       "3               136.0        15.3   130.0    48.0  28.402367  ...   \n",
       "4               171.0        13.3   177.0    64.0  20.428357  ...   \n",
       "...               ...         ...     ...     ...        ...  ...   \n",
       "14995           109.0        11.8   178.0    51.0  16.096452  ...   \n",
       "14996           141.0        14.6   171.0   114.0  38.986355  ...   \n",
       "14997           173.0         9.2   156.0    71.0  29.174885  ...   \n",
       "14998           154.0        11.3   130.0    32.0  18.934911  ...   \n",
       "14999           143.0        16.8   147.0    48.0  22.212967  ...   \n",
       "\n",
       "       Hemoglobin^2  Hemoglobin Height  Hemoglobin Weight  Hemoglobin BMI  \\\n",
       "0            151.29             2214.0             1143.9      353.055556   \n",
       "1            169.00             1820.0              611.0      311.734694   \n",
       "2            153.76             1860.0              756.4      336.177778   \n",
       "3            234.09             1989.0              734.4      434.556213   \n",
       "4            176.89             2354.1              851.2      271.697150   \n",
       "...             ...                ...                ...             ...   \n",
       "14995        139.24             2100.4              601.8      189.938139   \n",
       "14996        213.16             2496.6             1664.4      569.200780   \n",
       "14997         84.64             1435.2              653.2      268.408941   \n",
       "14998        127.69             1469.0              361.6      213.964497   \n",
       "14999        282.24             2469.6              806.4      373.177843   \n",
       "\n",
       "       Height^2  Height Weight   Height BMI  Weight^2   Weight BMI  \\\n",
       "0       32400.0        16740.0  5166.666667    8649.0  2669.444444   \n",
       "1       19600.0         6580.0  3357.142857    2209.0  1127.040816   \n",
       "2       22500.0         9150.0  4066.666667    3721.0  1653.777778   \n",
       "3       16900.0         6240.0  3692.307692    2304.0  1363.313609   \n",
       "4       31329.0        11328.0  3615.819209    4096.0  1307.414855   \n",
       "...         ...            ...          ...       ...          ...   \n",
       "14995   31684.0         9078.0  2865.168539    2601.0   820.919076   \n",
       "14996   29241.0        19494.0  6666.666667   12996.0  4444.444444   \n",
       "14997   24336.0        11076.0  4551.282051    5041.0  2071.416831   \n",
       "14998   16900.0         4160.0  2461.538462    1024.0   605.917160   \n",
       "14999   21609.0         7056.0  3265.306122    2304.0  1066.222407   \n",
       "\n",
       "             BMI^2  \n",
       "0       823.902606  \n",
       "1       575.020825  \n",
       "2       735.012346  \n",
       "3       806.694443  \n",
       "4       417.317774  \n",
       "...            ...  \n",
       "14995   259.095782  \n",
       "14996  1519.935859  \n",
       "14997   851.173912  \n",
       "14998   358.530864  \n",
       "14999   493.415895  \n",
       "\n",
       "[15000 rows x 65 columns]"
      ]
     },
     "execution_count": 76,
     "metadata": {},
     "output_type": "execute_result"
    }
   ],
   "source": [
    "pd.DataFrame(num_cols_poly_transform, columns=num_cols_poly_transform_colnames)"
   ]
  },
  {
   "cell_type": "code",
   "execution_count": 77,
   "id": "e7c3f143-30fa-4078-9eb1-e7843d3b37a7",
   "metadata": {},
   "outputs": [],
   "source": [
    "num_cols_poly = pd.DataFrame(num_cols_poly_transform, columns=num_cols_poly_transform_colnames)"
   ]
  },
  {
   "cell_type": "markdown",
   "id": "51aa06da-4025-4bc4-b14e-eaef135bb618",
   "metadata": {},
   "source": [
    "# Feature Selection"
   ]
  },
  {
   "cell_type": "markdown",
   "id": "5c8171dc-162d-4124-87c6-edc4c1d72544",
   "metadata": {},
   "source": [
    "lets encode the cat cols (where applicable to see correlation to target) to check correlation to target"
   ]
  },
  {
   "cell_type": "code",
   "execution_count": 78,
   "id": "df1d0d7f-97b4-42c4-aa02-ab4b41aac415",
   "metadata": {},
   "outputs": [],
   "source": [
    "from sklearn.preprocessing import LabelEncoder"
   ]
  },
  {
   "cell_type": "code",
   "execution_count": 79,
   "id": "9c4ec8d5-a4ea-41c7-8019-e30b20e24fbf",
   "metadata": {},
   "outputs": [
    {
     "data": {
      "text/plain": [
       "['Gender', 'Smoke', 'Diabetes', 'Ejection Fraction']"
      ]
     },
     "execution_count": 79,
     "metadata": {},
     "output_type": "execute_result"
    }
   ],
   "source": [
    "cat_cols.columns.to_list()"
   ]
  },
  {
   "cell_type": "code",
   "execution_count": 80,
   "id": "7444437b-f0b2-4e03-9bdf-fdb0533c6aae",
   "metadata": {},
   "outputs": [],
   "source": [
    "le_gender = LabelEncoder()\n",
    "le_smoke = LabelEncoder()\n",
    "le_diatetes = LabelEncoder()\n",
    "le_eject = LabelEncoder()"
   ]
  },
  {
   "cell_type": "code",
   "execution_count": 81,
   "id": "26fb4c6c-72f6-4420-9957-fad0aefc94a5",
   "metadata": {},
   "outputs": [],
   "source": [
    "df_temp = df.copy()\n",
    "df_temp['Gender'] = le_gender.fit_transform(df_temp['Gender'])\n",
    "df_temp['Smoke'] = le_smoke.fit_transform(df_temp['Smoke'])\n",
    "df_temp['Diabetes'] = le_diatetes.fit_transform(df_temp['Diabetes'])\n",
    "df_temp['Ejection Fraction'] = le_eject.fit_transform(df_temp['Ejection Fraction'])"
   ]
  },
  {
   "cell_type": "code",
   "execution_count": 82,
   "id": "f086845a-f6ef-4a44-9257-228ac17a7718",
   "metadata": {},
   "outputs": [
    {
     "data": {
      "text/html": [
       "<div>\n",
       "<style scoped>\n",
       "    .dataframe tbody tr th:only-of-type {\n",
       "        vertical-align: middle;\n",
       "    }\n",
       "\n",
       "    .dataframe tbody tr th {\n",
       "        vertical-align: top;\n",
       "    }\n",
       "\n",
       "    .dataframe thead th {\n",
       "        text-align: right;\n",
       "    }\n",
       "</style>\n",
       "<table border=\"1\" class=\"dataframe\">\n",
       "  <thead>\n",
       "    <tr style=\"text-align: right;\">\n",
       "      <th></th>\n",
       "      <th>Survive</th>\n",
       "      <th>Gender</th>\n",
       "      <th>Smoke</th>\n",
       "      <th>Diabetes</th>\n",
       "      <th>Age</th>\n",
       "      <th>Ejection Fraction</th>\n",
       "      <th>Sodium</th>\n",
       "      <th>Creatinine</th>\n",
       "      <th>Pletelets</th>\n",
       "      <th>Creatinine phosphokinase</th>\n",
       "      <th>Blood Pressure</th>\n",
       "      <th>Hemoglobin</th>\n",
       "      <th>Height</th>\n",
       "      <th>Weight</th>\n",
       "      <th>BMI</th>\n",
       "    </tr>\n",
       "  </thead>\n",
       "  <tbody>\n",
       "    <tr>\n",
       "      <th>0</th>\n",
       "      <td>0</td>\n",
       "      <td>1</td>\n",
       "      <td>1</td>\n",
       "      <td>1</td>\n",
       "      <td>50</td>\n",
       "      <td>0</td>\n",
       "      <td>141.0</td>\n",
       "      <td>0.70</td>\n",
       "      <td>266000.0</td>\n",
       "      <td>185.0</td>\n",
       "      <td>105</td>\n",
       "      <td>12.3</td>\n",
       "      <td>180</td>\n",
       "      <td>93</td>\n",
       "      <td>28.703704</td>\n",
       "    </tr>\n",
       "    <tr>\n",
       "      <th>1</th>\n",
       "      <td>1</td>\n",
       "      <td>1</td>\n",
       "      <td>0</td>\n",
       "      <td>1</td>\n",
       "      <td>75</td>\n",
       "      <td>0</td>\n",
       "      <td>134.0</td>\n",
       "      <td>2.15</td>\n",
       "      <td>224000.0</td>\n",
       "      <td>99.0</td>\n",
       "      <td>162</td>\n",
       "      <td>13.0</td>\n",
       "      <td>140</td>\n",
       "      <td>47</td>\n",
       "      <td>23.979592</td>\n",
       "    </tr>\n",
       "    <tr>\n",
       "      <th>2</th>\n",
       "      <td>1</td>\n",
       "      <td>0</td>\n",
       "      <td>0</td>\n",
       "      <td>2</td>\n",
       "      <td>80</td>\n",
       "      <td>0</td>\n",
       "      <td>135.0</td>\n",
       "      <td>1.30</td>\n",
       "      <td>192000.0</td>\n",
       "      <td>776.0</td>\n",
       "      <td>179</td>\n",
       "      <td>12.4</td>\n",
       "      <td>150</td>\n",
       "      <td>61</td>\n",
       "      <td>27.111111</td>\n",
       "    </tr>\n",
       "    <tr>\n",
       "      <th>3</th>\n",
       "      <td>0</td>\n",
       "      <td>1</td>\n",
       "      <td>0</td>\n",
       "      <td>1</td>\n",
       "      <td>60</td>\n",
       "      <td>0</td>\n",
       "      <td>136.0</td>\n",
       "      <td>0.90</td>\n",
       "      <td>228000.0</td>\n",
       "      <td>1282.5</td>\n",
       "      <td>136</td>\n",
       "      <td>15.3</td>\n",
       "      <td>130</td>\n",
       "      <td>48</td>\n",
       "      <td>28.402367</td>\n",
       "    </tr>\n",
       "    <tr>\n",
       "      <th>4</th>\n",
       "      <td>0</td>\n",
       "      <td>0</td>\n",
       "      <td>0</td>\n",
       "      <td>1</td>\n",
       "      <td>70</td>\n",
       "      <td>0</td>\n",
       "      <td>141.0</td>\n",
       "      <td>0.90</td>\n",
       "      <td>358000.0</td>\n",
       "      <td>1202.0</td>\n",
       "      <td>171</td>\n",
       "      <td>13.3</td>\n",
       "      <td>177</td>\n",
       "      <td>64</td>\n",
       "      <td>20.428357</td>\n",
       "    </tr>\n",
       "    <tr>\n",
       "      <th>...</th>\n",
       "      <td>...</td>\n",
       "      <td>...</td>\n",
       "      <td>...</td>\n",
       "      <td>...</td>\n",
       "      <td>...</td>\n",
       "      <td>...</td>\n",
       "      <td>...</td>\n",
       "      <td>...</td>\n",
       "      <td>...</td>\n",
       "      <td>...</td>\n",
       "      <td>...</td>\n",
       "      <td>...</td>\n",
       "      <td>...</td>\n",
       "      <td>...</td>\n",
       "      <td>...</td>\n",
       "    </tr>\n",
       "    <tr>\n",
       "      <th>14995</th>\n",
       "      <td>0</td>\n",
       "      <td>1</td>\n",
       "      <td>1</td>\n",
       "      <td>1</td>\n",
       "      <td>50</td>\n",
       "      <td>0</td>\n",
       "      <td>140.0</td>\n",
       "      <td>0.90</td>\n",
       "      <td>362000.0</td>\n",
       "      <td>298.0</td>\n",
       "      <td>109</td>\n",
       "      <td>11.8</td>\n",
       "      <td>178</td>\n",
       "      <td>51</td>\n",
       "      <td>16.096452</td>\n",
       "    </tr>\n",
       "    <tr>\n",
       "      <th>14996</th>\n",
       "      <td>1</td>\n",
       "      <td>1</td>\n",
       "      <td>1</td>\n",
       "      <td>1</td>\n",
       "      <td>62</td>\n",
       "      <td>0</td>\n",
       "      <td>140.0</td>\n",
       "      <td>0.90</td>\n",
       "      <td>253000.0</td>\n",
       "      <td>231.0</td>\n",
       "      <td>141</td>\n",
       "      <td>14.6</td>\n",
       "      <td>171</td>\n",
       "      <td>114</td>\n",
       "      <td>38.986355</td>\n",
       "    </tr>\n",
       "    <tr>\n",
       "      <th>14997</th>\n",
       "      <td>0</td>\n",
       "      <td>0</td>\n",
       "      <td>0</td>\n",
       "      <td>1</td>\n",
       "      <td>61</td>\n",
       "      <td>0</td>\n",
       "      <td>141.0</td>\n",
       "      <td>0.90</td>\n",
       "      <td>229000.0</td>\n",
       "      <td>84.0</td>\n",
       "      <td>173</td>\n",
       "      <td>9.2</td>\n",
       "      <td>156</td>\n",
       "      <td>71</td>\n",
       "      <td>29.174885</td>\n",
       "    </tr>\n",
       "    <tr>\n",
       "      <th>14998</th>\n",
       "      <td>0</td>\n",
       "      <td>1</td>\n",
       "      <td>0</td>\n",
       "      <td>1</td>\n",
       "      <td>77</td>\n",
       "      <td>0</td>\n",
       "      <td>137.0</td>\n",
       "      <td>1.10</td>\n",
       "      <td>406000.0</td>\n",
       "      <td>109.0</td>\n",
       "      <td>154</td>\n",
       "      <td>11.3</td>\n",
       "      <td>130</td>\n",
       "      <td>32</td>\n",
       "      <td>18.934911</td>\n",
       "    </tr>\n",
       "    <tr>\n",
       "      <th>14999</th>\n",
       "      <td>1</td>\n",
       "      <td>1</td>\n",
       "      <td>0</td>\n",
       "      <td>1</td>\n",
       "      <td>45</td>\n",
       "      <td>0</td>\n",
       "      <td>135.0</td>\n",
       "      <td>1.60</td>\n",
       "      <td>126000.0</td>\n",
       "      <td>582.0</td>\n",
       "      <td>143</td>\n",
       "      <td>16.8</td>\n",
       "      <td>147</td>\n",
       "      <td>48</td>\n",
       "      <td>22.212967</td>\n",
       "    </tr>\n",
       "  </tbody>\n",
       "</table>\n",
       "<p>15000 rows × 15 columns</p>\n",
       "</div>"
      ],
      "text/plain": [
       "       Survive  Gender  Smoke  Diabetes  Age  Ejection Fraction  Sodium  \\\n",
       "0            0       1      1         1   50                  0   141.0   \n",
       "1            1       1      0         1   75                  0   134.0   \n",
       "2            1       0      0         2   80                  0   135.0   \n",
       "3            0       1      0         1   60                  0   136.0   \n",
       "4            0       0      0         1   70                  0   141.0   \n",
       "...        ...     ...    ...       ...  ...                ...     ...   \n",
       "14995        0       1      1         1   50                  0   140.0   \n",
       "14996        1       1      1         1   62                  0   140.0   \n",
       "14997        0       0      0         1   61                  0   141.0   \n",
       "14998        0       1      0         1   77                  0   137.0   \n",
       "14999        1       1      0         1   45                  0   135.0   \n",
       "\n",
       "       Creatinine  Pletelets  Creatinine phosphokinase  Blood Pressure  \\\n",
       "0            0.70   266000.0                     185.0             105   \n",
       "1            2.15   224000.0                      99.0             162   \n",
       "2            1.30   192000.0                     776.0             179   \n",
       "3            0.90   228000.0                    1282.5             136   \n",
       "4            0.90   358000.0                    1202.0             171   \n",
       "...           ...        ...                       ...             ...   \n",
       "14995        0.90   362000.0                     298.0             109   \n",
       "14996        0.90   253000.0                     231.0             141   \n",
       "14997        0.90   229000.0                      84.0             173   \n",
       "14998        1.10   406000.0                     109.0             154   \n",
       "14999        1.60   126000.0                     582.0             143   \n",
       "\n",
       "       Hemoglobin  Height  Weight        BMI  \n",
       "0            12.3     180      93  28.703704  \n",
       "1            13.0     140      47  23.979592  \n",
       "2            12.4     150      61  27.111111  \n",
       "3            15.3     130      48  28.402367  \n",
       "4            13.3     177      64  20.428357  \n",
       "...           ...     ...     ...        ...  \n",
       "14995        11.8     178      51  16.096452  \n",
       "14996        14.6     171     114  38.986355  \n",
       "14997         9.2     156      71  29.174885  \n",
       "14998        11.3     130      32  18.934911  \n",
       "14999        16.8     147      48  22.212967  \n",
       "\n",
       "[15000 rows x 15 columns]"
      ]
     },
     "execution_count": 82,
     "metadata": {},
     "output_type": "execute_result"
    }
   ],
   "source": [
    "df_temp"
   ]
  },
  {
   "cell_type": "code",
   "execution_count": 83,
   "id": "2aacd4f2-ec7f-4fae-9618-2f56a893c94f",
   "metadata": {},
   "outputs": [
    {
     "data": {
      "text/plain": [
       "<AxesSubplot:>"
      ]
     },
     "execution_count": 83,
     "metadata": {},
     "output_type": "execute_result"
    },
    {
     "data": {
      "image/png": "[encoded data removed]",
      "text/plain": [
       "<Figure size 1080x1080 with 2 Axes>"
      ]
     },
     "metadata": {
      "needs_background": "light"
     },
     "output_type": "display_data"
    }
   ],
   "source": [
    "fig = plt.figure(figsize = (15,15))\n",
    "mask = np.triu(df_temp.corr())\n",
    "sns.heatmap(df_temp.corr(), annot=True, fmt='.2f', mask=mask)"
   ]
  },
  {
   "cell_type": "code",
   "execution_count": 84,
   "id": "ab3a9981-7bf5-4621-ba63-8270081e8ebd",
   "metadata": {},
   "outputs": [],
   "source": [
    "df_transformed = num_cols_poly.join(cat_cols).join(target)"
   ]
  },
  {
   "cell_type": "code",
   "execution_count": 85,
   "id": "2b77e013-b382-4c2c-90d1-f0f984998957",
   "metadata": {},
   "outputs": [
    {
     "data": {
      "text/plain": [
       "Index(['Age', 'Sodium', 'Creatinine', 'Pletelets', 'Creatinine phosphokinase',\n",
       "       'Blood Pressure', 'Hemoglobin', 'Height', 'Weight', 'BMI', 'Age^2',\n",
       "       'Age Sodium', 'Age Creatinine', 'Age Pletelets',\n",
       "       'Age Creatinine phosphokinase', 'Age Blood Pressure', 'Age Hemoglobin',\n",
       "       'Age Height', 'Age Weight', 'Age BMI', 'Sodium^2', 'Sodium Creatinine',\n",
       "       'Sodium Pletelets', 'Sodium Creatinine phosphokinase',\n",
       "       'Sodium Blood Pressure', 'Sodium Hemoglobin', 'Sodium Height',\n",
       "       'Sodium Weight', 'Sodium BMI', 'Creatinine^2', 'Creatinine Pletelets',\n",
       "       'Creatinine Creatinine phosphokinase', 'Creatinine Blood Pressure',\n",
       "       'Creatinine Hemoglobin', 'Creatinine Height', 'Creatinine Weight',\n",
       "       'Creatinine BMI', 'Pletelets^2', 'Pletelets Creatinine phosphokinase',\n",
       "       'Pletelets Blood Pressure', 'Pletelets Hemoglobin', 'Pletelets Height',\n",
       "       'Pletelets Weight', 'Pletelets BMI', 'Creatinine phosphokinase^2',\n",
       "       'Creatinine phosphokinase Blood Pressure',\n",
       "       'Creatinine phosphokinase Hemoglobin',\n",
       "       'Creatinine phosphokinase Height', 'Creatinine phosphokinase Weight',\n",
       "       'Creatinine phosphokinase BMI', 'Blood Pressure^2',\n",
       "       'Blood Pressure Hemoglobin', 'Blood Pressure Height',\n",
       "       'Blood Pressure Weight', 'Blood Pressure BMI', 'Hemoglobin^2',\n",
       "       'Hemoglobin Height', 'Hemoglobin Weight', 'Hemoglobin BMI', 'Height^2',\n",
       "       'Height Weight', 'Height BMI', 'Weight^2', 'Weight BMI', 'BMI^2',\n",
       "       'Survive'],\n",
       "      dtype='object')"
      ]
     },
     "execution_count": 85,
     "metadata": {},
     "output_type": "execute_result"
    }
   ],
   "source": [
    "df_transformed.corr().columns"
   ]
  },
  {
   "cell_type": "code",
   "execution_count": 86,
   "id": "8e29fc95-348d-4eeb-81cb-082dd73e7f96",
   "metadata": {},
   "outputs": [
    {
     "data": {
      "text/plain": [
       "<AxesSubplot:>"
      ]
     },
     "execution_count": 86,
     "metadata": {},
     "output_type": "execute_result"
    },
    {
     "data": {
      "image/png": "[encoded data removed]",
      "text/plain": [
       "<Figure size 432x288 with 2 Axes>"
      ]
     },
     "metadata": {
      "needs_background": "light"
     },
     "output_type": "display_data"
    }
   ],
   "source": [
    "#fig = plt.figure(figsize = (10,10))\n",
    "sns.heatmap(df_transformed.corr()[['Survive']].sort_values('Survive').head(15), annot=True, fmt='.2f')"
   ]
  },
  {
   "cell_type": "code",
   "execution_count": 87,
   "id": "88d2e39b-99ba-4d4e-a798-e613acc6faef",
   "metadata": {},
   "outputs": [
    {
     "data": {
      "text/plain": [
       "<AxesSubplot:>"
      ]
     },
     "execution_count": 87,
     "metadata": {},
     "output_type": "execute_result"
    },
    {
     "data": {
      "image/png": "[encoded data removed]",
      "text/plain": [
       "<Figure size 432x288 with 2 Axes>"
      ]
     },
     "metadata": {
      "needs_background": "light"
     },
     "output_type": "display_data"
    }
   ],
   "source": [
    "#fig = plt.figure(figsize = (10,10))\n",
    "sns.heatmap(df_transformed.corr()[['Survive']].sort_values('Survive').tail(15), annot=True, fmt='.2f')"
   ]
  },
  {
   "cell_type": "markdown",
   "id": "98b98dc2-f8be-4251-b097-70c435cbda43",
   "metadata": {},
   "source": [
    "Looks like most of the features and interactions do not correlate highly with the target feature. We will just keep BMI and drop the rest."
   ]
  },
  {
   "cell_type": "code",
   "execution_count": 88,
   "id": "a6d2d448-3a57-4eea-befb-9aaa38925287",
   "metadata": {},
   "outputs": [
    {
     "data": {
      "text/plain": [
       "array([[<AxesSubplot:title={'center':'Survive'}>,\n",
       "        <AxesSubplot:title={'center':'Age'}>,\n",
       "        <AxesSubplot:title={'center':'Sodium'}>],\n",
       "       [<AxesSubplot:title={'center':'Creatinine'}>,\n",
       "        <AxesSubplot:title={'center':'Pletelets'}>,\n",
       "        <AxesSubplot:title={'center':'Creatinine phosphokinase'}>],\n",
       "       [<AxesSubplot:title={'center':'Blood Pressure'}>,\n",
       "        <AxesSubplot:title={'center':'Hemoglobin'}>,\n",
       "        <AxesSubplot:title={'center':'Height'}>],\n",
       "       [<AxesSubplot:title={'center':'Weight'}>,\n",
       "        <AxesSubplot:title={'center':'BMI'}>, <AxesSubplot:>]],\n",
       "      dtype=object)"
      ]
     },
     "execution_count": 88,
     "metadata": {},
     "output_type": "execute_result"
    },
    {
     "data": {
      "image/png": "[encoded data removed]",
      "text/plain": [
       "<Figure size 720x720 with 12 Axes>"
      ]
     },
     "metadata": {
      "needs_background": "light"
     },
     "output_type": "display_data"
    }
   ],
   "source": [
    "df.hist(figsize=(10,10))"
   ]
  },
  {
   "cell_type": "markdown",
   "id": "bce6ddac-1c18-43ab-9faa-b1437b2c7d61",
   "metadata": {
    "tags": []
   },
   "source": [
    "# Pipeline"
   ]
  },
  {
   "cell_type": "code",
   "execution_count": 89,
   "id": "94520b6e-ba93-4b92-aedf-15942be21c91",
   "metadata": {},
   "outputs": [],
   "source": [
    "from sklearn.pipeline import Pipeline\n",
    "from sklearn.model_selection import train_test_split"
   ]
  },
  {
   "cell_type": "markdown",
   "id": "d57c3477-dff5-41de-9bdf-82ae0fbf9f57",
   "metadata": {},
   "source": [
    "<b>All changes that was done</b>\n",
    "\n",
    "Target:\n",
    "- replaced No and Yes to 0 and 1\n",
    "- convert to int\n",
    "\n",
    "Smoke\n",
    "- replaced NO to no, YES to Yes\n",
    "    \n",
    "Age\n",
    "- flipped sign if negative\n",
    "    \n",
    "Ejection\n",
    "- replaced L to Low, N to normal\n",
    "- replaced High to Normal \n",
    "- Replace all normal to normal-high\n",
    "\n",
    "Numerical features : Sodium, Creatinine, Pletelets, CK,Blood Pressure, Hemoglobin, Height , Weight\n",
    "\n",
    "Numerical features\n",
    "- Bound all outliers\n",
    "- impute with median if missing\n",
    "\n",
    "New col:\n",
    "- BMI"
   ]
  },
  {
   "cell_type": "code",
   "execution_count": 90,
   "id": "0566952b-f30b-4716-86d0-8eb0673932f2",
   "metadata": {},
   "outputs": [],
   "source": [
    "TARGET = ['Survive']\n",
    "\n",
    "CAT_FEATURES = ['Gender','Smoke','Diabetes','Ejection Fraction']\n",
    "\n",
    "ORI_NUM_FEATURES = ['Sodium', 'Creatinine', 'Pletelets', 'Creatinine phosphokinase','Blood Pressure', 'Hemoglobin', 'Height' , 'Weight']\n",
    "TOTAL_NUM_FEATURES = ['Sodium', 'Creatinine', 'Pletelets', 'Creatinine phosphokinase','Blood Pressure', 'Hemoglobin', 'Height' , 'Weight', 'BMI']\n",
    "\n",
    "TOTAL_FEATURES = CAT_FEATURES + TOTAL_NUM_FEATURES\n",
    "TOTAL_FEATURES_W_TARGET = TOTAL_FEATURES + TARGET"
   ]
  },
  {
   "cell_type": "code",
   "execution_count": 91,
   "id": "c2abb31f-01ae-4949-94ea-811961a8b32b",
   "metadata": {},
   "outputs": [],
   "source": [
    "from sklearn.base import BaseEstimator, TransformerMixin\n",
    "from sklearn.compose import ColumnTransformer\n",
    "from sklearn.preprocessing import StandardScaler, OneHotEncoder"
   ]
  },
  {
   "cell_type": "code",
   "execution_count": 92,
   "id": "216b66ff-b0e8-4483-8ef7-7bed0dc1d34d",
   "metadata": {},
   "outputs": [],
   "source": [
    "transform_pipe = ColumnTransformer([\n",
    "    ('ss',StandardScaler(),TOTAL_NUM_FEATURES),\n",
    "    ('ohe',OneHotEncoder(drop='first'),CAT_FEATURES)\n",
    "])"
   ]
  },
  {
   "cell_type": "code",
   "execution_count": 93,
   "id": "15bd9e2a-9963-48b7-9eda-53e8386a5a93",
   "metadata": {},
   "outputs": [],
   "source": [
    "y = df.pop('Survive')\n",
    "X = df"
   ]
  },
  {
   "cell_type": "code",
   "execution_count": 94,
   "id": "3ff38537-d195-451e-8604-c25d08ac92c6",
   "metadata": {},
   "outputs": [
    {
     "data": {
      "text/plain": [
       "0        0\n",
       "1        1\n",
       "2        1\n",
       "3        0\n",
       "4        0\n",
       "        ..\n",
       "14995    0\n",
       "14996    1\n",
       "14997    0\n",
       "14998    0\n",
       "14999    1\n",
       "Name: Survive, Length: 15000, dtype: int32"
      ]
     },
     "execution_count": 94,
     "metadata": {},
     "output_type": "execute_result"
    }
   ],
   "source": [
    "y"
   ]
  },
  {
   "cell_type": "code",
   "execution_count": 95,
   "id": "53886fff-c449-41db-9cdd-415264a471c4",
   "metadata": {},
   "outputs": [
    {
     "data": {
      "text/html": [
       "<div>\n",
       "<style scoped>\n",
       "    .dataframe tbody tr th:only-of-type {\n",
       "        vertical-align: middle;\n",
       "    }\n",
       "\n",
       "    .dataframe tbody tr th {\n",
       "        vertical-align: top;\n",
       "    }\n",
       "\n",
       "    .dataframe thead th {\n",
       "        text-align: right;\n",
       "    }\n",
       "</style>\n",
       "<table border=\"1\" class=\"dataframe\">\n",
       "  <thead>\n",
       "    <tr style=\"text-align: right;\">\n",
       "      <th></th>\n",
       "      <th>Gender</th>\n",
       "      <th>Smoke</th>\n",
       "      <th>Diabetes</th>\n",
       "      <th>Age</th>\n",
       "      <th>Ejection Fraction</th>\n",
       "      <th>Sodium</th>\n",
       "      <th>Creatinine</th>\n",
       "      <th>Pletelets</th>\n",
       "      <th>Creatinine phosphokinase</th>\n",
       "      <th>Blood Pressure</th>\n",
       "      <th>Hemoglobin</th>\n",
       "      <th>Height</th>\n",
       "      <th>Weight</th>\n",
       "      <th>BMI</th>\n",
       "    </tr>\n",
       "  </thead>\n",
       "  <tbody>\n",
       "    <tr>\n",
       "      <th>0</th>\n",
       "      <td>Male</td>\n",
       "      <td>Yes</td>\n",
       "      <td>Normal</td>\n",
       "      <td>50</td>\n",
       "      <td>Low</td>\n",
       "      <td>141.0</td>\n",
       "      <td>0.70</td>\n",
       "      <td>266000.0</td>\n",
       "      <td>185.0</td>\n",
       "      <td>105</td>\n",
       "      <td>12.3</td>\n",
       "      <td>180</td>\n",
       "      <td>93</td>\n",
       "      <td>28.703704</td>\n",
       "    </tr>\n",
       "    <tr>\n",
       "      <th>1</th>\n",
       "      <td>Male</td>\n",
       "      <td>No</td>\n",
       "      <td>Normal</td>\n",
       "      <td>75</td>\n",
       "      <td>Low</td>\n",
       "      <td>134.0</td>\n",
       "      <td>2.15</td>\n",
       "      <td>224000.0</td>\n",
       "      <td>99.0</td>\n",
       "      <td>162</td>\n",
       "      <td>13.0</td>\n",
       "      <td>140</td>\n",
       "      <td>47</td>\n",
       "      <td>23.979592</td>\n",
       "    </tr>\n",
       "    <tr>\n",
       "      <th>2</th>\n",
       "      <td>Female</td>\n",
       "      <td>No</td>\n",
       "      <td>Pre-diabetes</td>\n",
       "      <td>80</td>\n",
       "      <td>Low</td>\n",
       "      <td>135.0</td>\n",
       "      <td>1.30</td>\n",
       "      <td>192000.0</td>\n",
       "      <td>776.0</td>\n",
       "      <td>179</td>\n",
       "      <td>12.4</td>\n",
       "      <td>150</td>\n",
       "      <td>61</td>\n",
       "      <td>27.111111</td>\n",
       "    </tr>\n",
       "    <tr>\n",
       "      <th>3</th>\n",
       "      <td>Male</td>\n",
       "      <td>No</td>\n",
       "      <td>Normal</td>\n",
       "      <td>60</td>\n",
       "      <td>Low</td>\n",
       "      <td>136.0</td>\n",
       "      <td>0.90</td>\n",
       "      <td>228000.0</td>\n",
       "      <td>1282.5</td>\n",
       "      <td>136</td>\n",
       "      <td>15.3</td>\n",
       "      <td>130</td>\n",
       "      <td>48</td>\n",
       "      <td>28.402367</td>\n",
       "    </tr>\n",
       "    <tr>\n",
       "      <th>4</th>\n",
       "      <td>Female</td>\n",
       "      <td>No</td>\n",
       "      <td>Normal</td>\n",
       "      <td>70</td>\n",
       "      <td>Low</td>\n",
       "      <td>141.0</td>\n",
       "      <td>0.90</td>\n",
       "      <td>358000.0</td>\n",
       "      <td>1202.0</td>\n",
       "      <td>171</td>\n",
       "      <td>13.3</td>\n",
       "      <td>177</td>\n",
       "      <td>64</td>\n",
       "      <td>20.428357</td>\n",
       "    </tr>\n",
       "    <tr>\n",
       "      <th>...</th>\n",
       "      <td>...</td>\n",
       "      <td>...</td>\n",
       "      <td>...</td>\n",
       "      <td>...</td>\n",
       "      <td>...</td>\n",
       "      <td>...</td>\n",
       "      <td>...</td>\n",
       "      <td>...</td>\n",
       "      <td>...</td>\n",
       "      <td>...</td>\n",
       "      <td>...</td>\n",
       "      <td>...</td>\n",
       "      <td>...</td>\n",
       "      <td>...</td>\n",
       "    </tr>\n",
       "    <tr>\n",
       "      <th>14995</th>\n",
       "      <td>Male</td>\n",
       "      <td>Yes</td>\n",
       "      <td>Normal</td>\n",
       "      <td>50</td>\n",
       "      <td>Low</td>\n",
       "      <td>140.0</td>\n",
       "      <td>0.90</td>\n",
       "      <td>362000.0</td>\n",
       "      <td>298.0</td>\n",
       "      <td>109</td>\n",
       "      <td>11.8</td>\n",
       "      <td>178</td>\n",
       "      <td>51</td>\n",
       "      <td>16.096452</td>\n",
       "    </tr>\n",
       "    <tr>\n",
       "      <th>14996</th>\n",
       "      <td>Male</td>\n",
       "      <td>Yes</td>\n",
       "      <td>Normal</td>\n",
       "      <td>62</td>\n",
       "      <td>Low</td>\n",
       "      <td>140.0</td>\n",
       "      <td>0.90</td>\n",
       "      <td>253000.0</td>\n",
       "      <td>231.0</td>\n",
       "      <td>141</td>\n",
       "      <td>14.6</td>\n",
       "      <td>171</td>\n",
       "      <td>114</td>\n",
       "      <td>38.986355</td>\n",
       "    </tr>\n",
       "    <tr>\n",
       "      <th>14997</th>\n",
       "      <td>Female</td>\n",
       "      <td>No</td>\n",
       "      <td>Normal</td>\n",
       "      <td>61</td>\n",
       "      <td>Low</td>\n",
       "      <td>141.0</td>\n",
       "      <td>0.90</td>\n",
       "      <td>229000.0</td>\n",
       "      <td>84.0</td>\n",
       "      <td>173</td>\n",
       "      <td>9.2</td>\n",
       "      <td>156</td>\n",
       "      <td>71</td>\n",
       "      <td>29.174885</td>\n",
       "    </tr>\n",
       "    <tr>\n",
       "      <th>14998</th>\n",
       "      <td>Male</td>\n",
       "      <td>No</td>\n",
       "      <td>Normal</td>\n",
       "      <td>77</td>\n",
       "      <td>Low</td>\n",
       "      <td>137.0</td>\n",
       "      <td>1.10</td>\n",
       "      <td>406000.0</td>\n",
       "      <td>109.0</td>\n",
       "      <td>154</td>\n",
       "      <td>11.3</td>\n",
       "      <td>130</td>\n",
       "      <td>32</td>\n",
       "      <td>18.934911</td>\n",
       "    </tr>\n",
       "    <tr>\n",
       "      <th>14999</th>\n",
       "      <td>Male</td>\n",
       "      <td>No</td>\n",
       "      <td>Normal</td>\n",
       "      <td>45</td>\n",
       "      <td>Low</td>\n",
       "      <td>135.0</td>\n",
       "      <td>1.60</td>\n",
       "      <td>126000.0</td>\n",
       "      <td>582.0</td>\n",
       "      <td>143</td>\n",
       "      <td>16.8</td>\n",
       "      <td>147</td>\n",
       "      <td>48</td>\n",
       "      <td>22.212967</td>\n",
       "    </tr>\n",
       "  </tbody>\n",
       "</table>\n",
       "<p>15000 rows × 14 columns</p>\n",
       "</div>"
      ],
      "text/plain": [
       "       Gender Smoke      Diabetes  Age Ejection Fraction  Sodium  Creatinine  \\\n",
       "0        Male   Yes        Normal   50               Low   141.0        0.70   \n",
       "1        Male    No        Normal   75               Low   134.0        2.15   \n",
       "2      Female    No  Pre-diabetes   80               Low   135.0        1.30   \n",
       "3        Male    No        Normal   60               Low   136.0        0.90   \n",
       "4      Female    No        Normal   70               Low   141.0        0.90   \n",
       "...       ...   ...           ...  ...               ...     ...         ...   \n",
       "14995    Male   Yes        Normal   50               Low   140.0        0.90   \n",
       "14996    Male   Yes        Normal   62               Low   140.0        0.90   \n",
       "14997  Female    No        Normal   61               Low   141.0        0.90   \n",
       "14998    Male    No        Normal   77               Low   137.0        1.10   \n",
       "14999    Male    No        Normal   45               Low   135.0        1.60   \n",
       "\n",
       "       Pletelets  Creatinine phosphokinase  Blood Pressure  Hemoglobin  \\\n",
       "0       266000.0                     185.0             105        12.3   \n",
       "1       224000.0                      99.0             162        13.0   \n",
       "2       192000.0                     776.0             179        12.4   \n",
       "3       228000.0                    1282.5             136        15.3   \n",
       "4       358000.0                    1202.0             171        13.3   \n",
       "...          ...                       ...             ...         ...   \n",
       "14995   362000.0                     298.0             109        11.8   \n",
       "14996   253000.0                     231.0             141        14.6   \n",
       "14997   229000.0                      84.0             173         9.2   \n",
       "14998   406000.0                     109.0             154        11.3   \n",
       "14999   126000.0                     582.0             143        16.8   \n",
       "\n",
       "       Height  Weight        BMI  \n",
       "0         180      93  28.703704  \n",
       "1         140      47  23.979592  \n",
       "2         150      61  27.111111  \n",
       "3         130      48  28.402367  \n",
       "4         177      64  20.428357  \n",
       "...       ...     ...        ...  \n",
       "14995     178      51  16.096452  \n",
       "14996     171     114  38.986355  \n",
       "14997     156      71  29.174885  \n",
       "14998     130      32  18.934911  \n",
       "14999     147      48  22.212967  \n",
       "\n",
       "[15000 rows x 14 columns]"
      ]
     },
     "execution_count": 95,
     "metadata": {},
     "output_type": "execute_result"
    }
   ],
   "source": [
    "X"
   ]
  },
  {
   "cell_type": "code",
   "execution_count": 96,
   "id": "62d38aa0-849e-4170-98d2-1ec6fcab1098",
   "metadata": {},
   "outputs": [],
   "source": [
    "X_train, X_temp, y_train, y_temp = train_test_split(X,y, test_size=VAL_RATIO, random_state=RANDOM_SEED)\n",
    "X_val, X_test, y_val, y_test = train_test_split(X_temp,y_temp, test_size=TEST_RATIO, random_state=RANDOM_SEED)"
   ]
  },
  {
   "cell_type": "code",
   "execution_count": 97,
   "id": "9eba34e6-a679-4e78-bfc5-d12beec1859c",
   "metadata": {},
   "outputs": [
    {
     "name": "stdout",
     "output_type": "stream",
     "text": [
      "Shape of X_train is (12000, 14)\n",
      "Shape of X_val is (1500, 14)\n",
      "Shape of X_test is (1500, 14)\n",
      "Shape of y_train is (12000,)\n",
      "Shape of y_val is (1500,)\n",
      "Shape of y_test is (1500,)\n"
     ]
    }
   ],
   "source": [
    "print(f'Shape of X_train is {X_train.shape}')\n",
    "print(f'Shape of X_val is {X_val.shape}')\n",
    "print(f'Shape of X_test is {X_test.shape}')\n",
    "print(f'Shape of y_train is {y_train.shape}')\n",
    "print(f'Shape of y_val is {y_val.shape}')\n",
    "print(f'Shape of y_test is {y_test.shape}')"
   ]
  },
  {
   "cell_type": "code",
   "execution_count": 98,
   "id": "237fa04f-1672-4ac1-bc0c-490a03b09f23",
   "metadata": {},
   "outputs": [
    {
     "data": {
      "text/plain": [
       "['Gender',\n",
       " 'Smoke',\n",
       " 'Diabetes',\n",
       " 'Age',\n",
       " 'Ejection Fraction',\n",
       " 'Sodium',\n",
       " 'Creatinine',\n",
       " 'Pletelets',\n",
       " 'Creatinine phosphokinase',\n",
       " 'Blood Pressure',\n",
       " 'Hemoglobin',\n",
       " 'Height',\n",
       " 'Weight',\n",
       " 'BMI']"
      ]
     },
     "execution_count": 98,
     "metadata": {},
     "output_type": "execute_result"
    }
   ],
   "source": [
    "X_train.columns.to_list()"
   ]
  },
  {
   "cell_type": "code",
   "execution_count": 99,
   "id": "8a350009-2190-4986-9222-df1298f2505c",
   "metadata": {},
   "outputs": [],
   "source": [
    "# X_train = transform_pipe.fit_transform(X_train)\n",
    "# X_test = transform_pipe.transform(X_test)"
   ]
  },
  {
   "cell_type": "markdown",
   "id": "2e7ff880-f655-4bbe-8ff8-28d5c03ab9c0",
   "metadata": {
    "tags": []
   },
   "source": [
    "# Modelling"
   ]
  },
  {
   "cell_type": "code",
   "execution_count": 100,
   "id": "bbc29ac5-a0a0-481b-8540-5986a2550bbf",
   "metadata": {},
   "outputs": [],
   "source": [
    "from lightgbm import LGBMClassifier\n",
    "from sklearn.ensemble import RandomForestClassifier\n",
    "from sklearn.svm import SVC\n",
    "from sklearn.neighbors import KNeighborsClassifier\n",
    "from sklearn.linear_model import LogisticRegression\n",
    "\n",
    "from sklearn.metrics import classification_report, roc_auc_score\n",
    "from sklearn.model_selection import cross_val_score, cross_validate"
   ]
  },
  {
   "cell_type": "code",
   "execution_count": 101,
   "id": "362c3a0f-18a2-42b1-bb6b-ccb42569158c",
   "metadata": {},
   "outputs": [],
   "source": [
    "lgbm = LGBMClassifier(random_state=RANDOM_SEED)\n",
    "rfc = RandomForestClassifier(random_state=RANDOM_SEED)\n",
    "svc = SVC(random_state=RANDOM_SEED)\n",
    "knn = KNeighborsClassifier()\n",
    "logreg = LogisticRegression()"
   ]
  },
  {
   "cell_type": "code",
   "execution_count": 102,
   "id": "022b152c-4544-4302-9da6-dee8aa7ef5c6",
   "metadata": {},
   "outputs": [],
   "source": [
    "survive_pipe_lgbm = Pipeline([\n",
    "    ('transform',transform_pipe),\n",
    "    ('lgbm',lgbm)\n",
    "])\n",
    "survive_pipe_rfc = Pipeline([\n",
    "    ('transform',transform_pipe),\n",
    "    ('rfc',rfc)\n",
    "])\n",
    "survive_pipe_svc = Pipeline([\n",
    "    ('transform',transform_pipe),\n",
    "    ('svc',svc)\n",
    "])\n",
    "survive_pipe_knn = Pipeline([\n",
    "    ('transform',transform_pipe),\n",
    "    ('knn',knn)\n",
    "])\n",
    "survive_pipe_logreg = Pipeline([\n",
    "    ('transform',transform_pipe),\n",
    "    ('logreg',logreg)\n",
    "])"
   ]
  },
  {
   "cell_type": "code",
   "execution_count": 103,
   "id": "99dfc2ef-952d-4823-ace2-8c4856d6b807",
   "metadata": {},
   "outputs": [],
   "source": [
    "pipeline_dict = {survive_pipe_rfc : 'rfc', survive_pipe_svc : 'svc', survive_pipe_lgbm: 'lgbm', survive_pipe_knn : 'knn', survive_pipe_logreg: 'logreg'}"
   ]
  },
  {
   "cell_type": "code",
   "execution_count": 104,
   "id": "1a9defb5-22e2-4f10-92b7-94a68009bf26",
   "metadata": {},
   "outputs": [],
   "source": [
    "model_list = list(pipeline_dict.values())"
   ]
  },
  {
   "cell_type": "code",
   "execution_count": 105,
   "id": "70441ab2-6405-40bf-bc55-8a2f161cd50c",
   "metadata": {},
   "outputs": [],
   "source": [
    "import time"
   ]
  },
  {
   "cell_type": "code",
   "execution_count": 106,
   "id": "11d4cff4-a6b4-4514-9dc2-09737680e51e",
   "metadata": {},
   "outputs": [],
   "source": [
    "now = time.time()"
   ]
  },
  {
   "cell_type": "code",
   "execution_count": 107,
   "id": "2f9b4e0e-b547-4a3b-a8cb-cc755416beec",
   "metadata": {},
   "outputs": [],
   "source": [
    "then = time.time()"
   ]
  },
  {
   "cell_type": "code",
   "execution_count": 108,
   "id": "24f0c0f2-fe39-4d3c-8296-4f7e75e28d9e",
   "metadata": {},
   "outputs": [
    {
     "name": "stdout",
     "output_type": "stream",
     "text": [
      "0.016000986099243164\n"
     ]
    }
   ],
   "source": [
    "diff = then - now\n",
    "print(diff)"
   ]
  },
  {
   "cell_type": "code",
   "execution_count": 109,
   "id": "8df4d532-e5a7-4473-84c4-afdf6f184498",
   "metadata": {},
   "outputs": [
    {
     "name": "stdout",
     "output_type": "stream",
     "text": [
      "\n",
      "\n",
      "**************************************************\n",
      "Model is  rfc\n",
      "**************************************************\n",
      "Classifcation report :\n",
      "              precision    recall  f1-score   support\n",
      "\n",
      "           0       1.00      1.00      1.00       996\n",
      "           1       1.00      1.00      1.00       504\n",
      "\n",
      "    accuracy                           1.00      1500\n",
      "   macro avg       1.00      1.00      1.00      1500\n",
      "weighted avg       1.00      1.00      1.00      1500\n",
      "\n",
      "Average CV train acc score : \n",
      " 1.0 \n",
      "Average CV test acc score : \n",
      " 0.9999 \n",
      "ROC AUC score :\n",
      " 1.0\n",
      "Time taken to run results is 3.8289942741394043\n",
      "\n",
      "\n",
      "**************************************************\n",
      "Model is  svc\n",
      "**************************************************\n",
      "Classifcation report :\n",
      "              precision    recall  f1-score   support\n",
      "\n",
      "           0       0.95      0.98      0.96       996\n",
      "           1       0.96      0.89      0.92       504\n",
      "\n",
      "    accuracy                           0.95      1500\n",
      "   macro avg       0.95      0.94      0.94      1500\n",
      "weighted avg       0.95      0.95      0.95      1500\n",
      "\n",
      "Average CV train acc score : \n",
      " 0.9616250000000001 \n",
      "Average CV test acc score : \n",
      " 0.9575999999999999 \n",
      "ROC AUC score :\n",
      " 0.9368904188181296\n",
      "Time taken to run results is 7.887003421783447\n",
      "\n",
      "\n",
      "**************************************************\n",
      "Model is  lgbm\n",
      "**************************************************\n",
      "Classifcation report :\n",
      "              precision    recall  f1-score   support\n",
      "\n",
      "           0       1.00      1.00      1.00       996\n",
      "           1       1.00      1.00      1.00       504\n",
      "\n",
      "    accuracy                           1.00      1500\n",
      "   macro avg       1.00      1.00      1.00      1500\n",
      "weighted avg       1.00      1.00      1.00      1500\n",
      "\n",
      "Average CV train acc score : \n",
      " 1.0 \n",
      "Average CV test acc score : \n",
      " 0.9998000000000001 \n",
      "ROC AUC score :\n",
      " 1.0\n",
      "Time taken to run results is 1.7390093803405762\n",
      "\n",
      "\n",
      "**************************************************\n",
      "Model is  knn\n",
      "**************************************************\n",
      "Classifcation report :\n",
      "              precision    recall  f1-score   support\n",
      "\n",
      "           0       1.00      1.00      1.00       996\n",
      "           1       0.99      0.99      0.99       504\n",
      "\n",
      "    accuracy                           1.00      1500\n",
      "   macro avg       1.00      1.00      1.00      1500\n",
      "weighted avg       1.00      1.00      1.00      1500\n",
      "\n",
      "Average CV train acc score : \n",
      " 0.997325 \n",
      "Average CV test acc score : \n",
      " 0.9932000000000001 \n",
      "ROC AUC score :\n",
      " 0.9955177854274239\n",
      "Time taken to run results is 1.398000717163086\n",
      "\n",
      "\n",
      "**************************************************\n",
      "Model is  logreg\n",
      "**************************************************\n",
      "Classifcation report :\n",
      "              precision    recall  f1-score   support\n",
      "\n",
      "           0       0.84      0.89      0.86       996\n",
      "           1       0.76      0.66      0.70       504\n",
      "\n",
      "    accuracy                           0.81      1500\n",
      "   macro avg       0.80      0.77      0.78      1500\n",
      "weighted avg       0.81      0.81      0.81      1500\n",
      "\n",
      "Average CV train acc score : \n",
      " 0.835075 \n",
      "Average CV test acc score : \n",
      " 0.8339000000000001 \n",
      "ROC AUC score :\n",
      " 0.7746581564352648\n",
      "Time taken to run results is 0.2622251510620117\n"
     ]
    }
   ],
   "source": [
    "for pipe, model_name in pipeline_dict.items():\n",
    "    now = time.time()\n",
    "    training_samples = 10000\n",
    "    \n",
    "    pipe.fit(X_train, y_train)\n",
    "    y_pred = pipe.predict(X_val)\n",
    "    \n",
    "    model_cv_score = cross_validate(pipe,X_train[:training_samples], y_train[:training_samples], \n",
    "                                    cv=CV, \n",
    "                                    n_jobs = -1,\n",
    "                                    return_train_score=True, \n",
    "                                    scoring='accuracy')\n",
    "    \n",
    "    print('')\n",
    "    print('\\n'+ str('*'*50))\n",
    "    print('Model is ', model_name)\n",
    "    print('*'*50)\n",
    "    \n",
    "    print(f'Classifcation report :\\n{classification_report(y_val, y_pred)}')\n",
    "    print(f'Average CV train acc score : \\n {model_cv_score[\"train_score\"].mean()} ')\n",
    "    print(f'Average CV test acc score : \\n {model_cv_score[\"test_score\"].mean()} ')\n",
    "    print(f'ROC AUC score :\\n {roc_auc_score(y_val, y_pred)}')    \n",
    "    then = time.time()\n",
    "    diff = then - now\n",
    "    print(f'Time taken to run results is {diff}')\n",
    "    #plot_results(mse_train,model_cv_rmse, name)"
   ]
  },
  {
   "cell_type": "code",
   "execution_count": 110,
   "id": "d731c542-e7b0-45d3-ac72-369178fe79ec",
   "metadata": {},
   "outputs": [
    {
     "name": "stdout",
     "output_type": "stream",
     "text": [
      "\n",
      "**************************************************\n",
      "Model is  rfc\n",
      "**************************************************\n",
      "Classifcation report :\n",
      "              precision    recall  f1-score   support\n",
      "\n",
      "           0       1.00      1.00      1.00      1010\n",
      "           1       1.00      1.00      1.00       490\n",
      "\n",
      "    accuracy                           1.00      1500\n",
      "   macro avg       1.00      1.00      1.00      1500\n",
      "weighted avg       1.00      1.00      1.00      1500\n",
      "\n",
      "ROC AUC score :\n",
      " 1.0\n",
      "Time taken to run results is 1.0080111026763916\n",
      "\n",
      "**************************************************\n",
      "Model is  svc\n",
      "**************************************************\n",
      "Classifcation report :\n",
      "              precision    recall  f1-score   support\n",
      "\n",
      "           0       0.97      0.99      0.98      1010\n",
      "           1       0.97      0.93      0.95       490\n",
      "\n",
      "    accuracy                           0.97      1500\n",
      "   macro avg       0.97      0.96      0.96      1500\n",
      "weighted avg       0.97      0.97      0.97      1500\n",
      "\n",
      "ROC AUC score :\n",
      " 0.9598908870478884\n",
      "Time taken to run results is 2.490000009536743\n",
      "\n",
      "**************************************************\n",
      "Model is  lgbm\n",
      "**************************************************\n",
      "Classifcation report :\n",
      "              precision    recall  f1-score   support\n",
      "\n",
      "           0       1.00      1.00      1.00      1010\n",
      "           1       1.00      1.00      1.00       490\n",
      "\n",
      "    accuracy                           1.00      1500\n",
      "   macro avg       1.00      1.00      1.00      1500\n",
      "weighted avg       1.00      1.00      1.00      1500\n",
      "\n",
      "ROC AUC score :\n",
      " 1.0\n",
      "Time taken to run results is 0.27898526191711426\n",
      "\n",
      "**************************************************\n",
      "Model is  knn\n",
      "**************************************************\n",
      "Classifcation report :\n",
      "              precision    recall  f1-score   support\n",
      "\n",
      "           0       1.00      1.00      1.00      1010\n",
      "           1       0.99      1.00      1.00       490\n",
      "\n",
      "    accuracy                           1.00      1500\n",
      "   macro avg       1.00      1.00      1.00      1500\n",
      "weighted avg       1.00      1.00      1.00      1500\n",
      "\n",
      "ROC AUC score :\n",
      " 0.9974944433218831\n",
      "Time taken to run results is 0.27301502227783203\n",
      "\n",
      "**************************************************\n",
      "Model is  logreg\n",
      "**************************************************\n",
      "Classifcation report :\n",
      "              precision    recall  f1-score   support\n",
      "\n",
      "           0       0.86      0.92      0.89      1010\n",
      "           1       0.81      0.68      0.74       490\n",
      "\n",
      "    accuracy                           0.84      1500\n",
      "   macro avg       0.83      0.80      0.81      1500\n",
      "weighted avg       0.84      0.84      0.84      1500\n",
      "\n",
      "ROC AUC score :\n",
      " 0.801151747827844\n",
      "Time taken to run results is 0.07899999618530273\n"
     ]
    }
   ],
   "source": [
    "for pipe, model_name in pipeline_dict.items():\n",
    "    now = time.time()    \n",
    "    pipe.fit(X_train, y_train)\n",
    "    y_pred = pipe.predict(X_test)\n",
    "        \n",
    "    print('\\n'+ str('*'*50))\n",
    "    print('Model is ', model_name)\n",
    "    print('*'*50)\n",
    "    \n",
    "    print(f'Classifcation report :\\n{classification_report(y_test, y_pred)}')\n",
    "    print(f'ROC AUC score :\\n {roc_auc_score(y_test, y_pred)}')    \n",
    "    then = time.time()\n",
    "    diff = then - now\n",
    "    print(f'Time taken to run results is {diff}')"
   ]
  },
  {
   "cell_type": "markdown",
   "id": "c2679d53-97af-4b15-b453-27ccc39a802b",
   "metadata": {},
   "source": [
    "# Delete"
   ]
  },
  {
   "cell_type": "code",
   "execution_count": 111,
   "id": "943718cf-58fe-428c-a4c7-6a5a5b6442d9",
   "metadata": {},
   "outputs": [
    {
     "name": "stdout",
     "output_type": "stream",
     "text": [
      "C:\\Users\\Randy\\GitHub\\AIAP\n"
     ]
    }
   ],
   "source": [
    "import os\n",
    "print(os.getcwd())\n",
    "pickle_path = os.path.join(os.getcwd(),'src','model','pipeline.pkl')"
   ]
  },
  {
   "cell_type": "code",
   "execution_count": 112,
   "id": "5566ada1-cfbf-43fe-821d-ae478880a3a2",
   "metadata": {},
   "outputs": [
    {
     "data": {
      "text/html": [
       "<div>\n",
       "<style scoped>\n",
       "    .dataframe tbody tr th:only-of-type {\n",
       "        vertical-align: middle;\n",
       "    }\n",
       "\n",
       "    .dataframe tbody tr th {\n",
       "        vertical-align: top;\n",
       "    }\n",
       "\n",
       "    .dataframe thead th {\n",
       "        text-align: right;\n",
       "    }\n",
       "</style>\n",
       "<table border=\"1\" class=\"dataframe\">\n",
       "  <thead>\n",
       "    <tr style=\"text-align: right;\">\n",
       "      <th></th>\n",
       "      <th>Gender</th>\n",
       "      <th>Smoke</th>\n",
       "      <th>Diabetes</th>\n",
       "      <th>Age</th>\n",
       "      <th>Ejection Fraction</th>\n",
       "      <th>Sodium</th>\n",
       "      <th>Creatinine</th>\n",
       "      <th>Pletelets</th>\n",
       "      <th>Creatinine phosphokinase</th>\n",
       "      <th>Blood Pressure</th>\n",
       "      <th>Hemoglobin</th>\n",
       "      <th>Height</th>\n",
       "      <th>Weight</th>\n",
       "      <th>BMI</th>\n",
       "    </tr>\n",
       "  </thead>\n",
       "  <tbody>\n",
       "    <tr>\n",
       "      <th>9839</th>\n",
       "      <td>Male</td>\n",
       "      <td>No</td>\n",
       "      <td>Pre-diabetes</td>\n",
       "      <td>60</td>\n",
       "      <td>Low</td>\n",
       "      <td>140.0</td>\n",
       "      <td>1.7</td>\n",
       "      <td>194000.00</td>\n",
       "      <td>231.0</td>\n",
       "      <td>114</td>\n",
       "      <td>9.3</td>\n",
       "      <td>130</td>\n",
       "      <td>47</td>\n",
       "      <td>27.810651</td>\n",
       "    </tr>\n",
       "    <tr>\n",
       "      <th>9680</th>\n",
       "      <td>Female</td>\n",
       "      <td>Yes</td>\n",
       "      <td>Normal</td>\n",
       "      <td>72</td>\n",
       "      <td>Low</td>\n",
       "      <td>138.0</td>\n",
       "      <td>1.7</td>\n",
       "      <td>443500.00</td>\n",
       "      <td>328.0</td>\n",
       "      <td>148</td>\n",
       "      <td>11.7</td>\n",
       "      <td>182</td>\n",
       "      <td>103</td>\n",
       "      <td>31.095278</td>\n",
       "    </tr>\n",
       "    <tr>\n",
       "      <th>7093</th>\n",
       "      <td>Male</td>\n",
       "      <td>Yes</td>\n",
       "      <td>Pre-diabetes</td>\n",
       "      <td>44</td>\n",
       "      <td>Low</td>\n",
       "      <td>130.0</td>\n",
       "      <td>1.6</td>\n",
       "      <td>263358.03</td>\n",
       "      <td>582.0</td>\n",
       "      <td>168</td>\n",
       "      <td>13.8</td>\n",
       "      <td>179</td>\n",
       "      <td>50</td>\n",
       "      <td>15.605006</td>\n",
       "    </tr>\n",
       "    <tr>\n",
       "      <th>11293</th>\n",
       "      <td>Female</td>\n",
       "      <td>No</td>\n",
       "      <td>Normal</td>\n",
       "      <td>62</td>\n",
       "      <td>Low</td>\n",
       "      <td>133.0</td>\n",
       "      <td>0.7</td>\n",
       "      <td>283000.00</td>\n",
       "      <td>655.0</td>\n",
       "      <td>54</td>\n",
       "      <td>11.7</td>\n",
       "      <td>172</td>\n",
       "      <td>49</td>\n",
       "      <td>16.563007</td>\n",
       "    </tr>\n",
       "    <tr>\n",
       "      <th>820</th>\n",
       "      <td>Female</td>\n",
       "      <td>No</td>\n",
       "      <td>Pre-diabetes</td>\n",
       "      <td>50</td>\n",
       "      <td>Low</td>\n",
       "      <td>142.0</td>\n",
       "      <td>0.9</td>\n",
       "      <td>75000.00</td>\n",
       "      <td>1282.5</td>\n",
       "      <td>89</td>\n",
       "      <td>11.4</td>\n",
       "      <td>151</td>\n",
       "      <td>62</td>\n",
       "      <td>27.191790</td>\n",
       "    </tr>\n",
       "    <tr>\n",
       "      <th>...</th>\n",
       "      <td>...</td>\n",
       "      <td>...</td>\n",
       "      <td>...</td>\n",
       "      <td>...</td>\n",
       "      <td>...</td>\n",
       "      <td>...</td>\n",
       "      <td>...</td>\n",
       "      <td>...</td>\n",
       "      <td>...</td>\n",
       "      <td>...</td>\n",
       "      <td>...</td>\n",
       "      <td>...</td>\n",
       "      <td>...</td>\n",
       "      <td>...</td>\n",
       "    </tr>\n",
       "    <tr>\n",
       "      <th>5191</th>\n",
       "      <td>Female</td>\n",
       "      <td>No</td>\n",
       "      <td>Normal</td>\n",
       "      <td>70</td>\n",
       "      <td>Low</td>\n",
       "      <td>136.0</td>\n",
       "      <td>1.7</td>\n",
       "      <td>293000.00</td>\n",
       "      <td>69.0</td>\n",
       "      <td>85</td>\n",
       "      <td>12.8</td>\n",
       "      <td>165</td>\n",
       "      <td>88</td>\n",
       "      <td>32.323232</td>\n",
       "    </tr>\n",
       "    <tr>\n",
       "      <th>13418</th>\n",
       "      <td>Female</td>\n",
       "      <td>No</td>\n",
       "      <td>Pre-diabetes</td>\n",
       "      <td>60</td>\n",
       "      <td>Low</td>\n",
       "      <td>144.0</td>\n",
       "      <td>2.1</td>\n",
       "      <td>365000.00</td>\n",
       "      <td>1282.5</td>\n",
       "      <td>66</td>\n",
       "      <td>16.3</td>\n",
       "      <td>151</td>\n",
       "      <td>52</td>\n",
       "      <td>22.806017</td>\n",
       "    </tr>\n",
       "    <tr>\n",
       "      <th>5390</th>\n",
       "      <td>Male</td>\n",
       "      <td>No</td>\n",
       "      <td>Normal</td>\n",
       "      <td>51</td>\n",
       "      <td>Low</td>\n",
       "      <td>140.0</td>\n",
       "      <td>0.7</td>\n",
       "      <td>406000.00</td>\n",
       "      <td>78.0</td>\n",
       "      <td>45</td>\n",
       "      <td>14.7</td>\n",
       "      <td>147</td>\n",
       "      <td>69</td>\n",
       "      <td>31.931140</td>\n",
       "    </tr>\n",
       "    <tr>\n",
       "      <th>860</th>\n",
       "      <td>Male</td>\n",
       "      <td>No</td>\n",
       "      <td>Normal</td>\n",
       "      <td>63</td>\n",
       "      <td>Low</td>\n",
       "      <td>137.0</td>\n",
       "      <td>0.7</td>\n",
       "      <td>73000.00</td>\n",
       "      <td>1282.5</td>\n",
       "      <td>72</td>\n",
       "      <td>10.5</td>\n",
       "      <td>138</td>\n",
       "      <td>41</td>\n",
       "      <td>21.529091</td>\n",
       "    </tr>\n",
       "    <tr>\n",
       "      <th>7270</th>\n",
       "      <td>Female</td>\n",
       "      <td>No</td>\n",
       "      <td>Normal</td>\n",
       "      <td>65</td>\n",
       "      <td>Normal-High</td>\n",
       "      <td>138.0</td>\n",
       "      <td>1.5</td>\n",
       "      <td>263358.03</td>\n",
       "      <td>157.0</td>\n",
       "      <td>49</td>\n",
       "      <td>12.6</td>\n",
       "      <td>184</td>\n",
       "      <td>132</td>\n",
       "      <td>38.988658</td>\n",
       "    </tr>\n",
       "  </tbody>\n",
       "</table>\n",
       "<p>12000 rows × 14 columns</p>\n",
       "</div>"
      ],
      "text/plain": [
       "       Gender Smoke      Diabetes  Age Ejection Fraction  Sodium  Creatinine  \\\n",
       "9839     Male    No  Pre-diabetes   60               Low   140.0         1.7   \n",
       "9680   Female   Yes        Normal   72               Low   138.0         1.7   \n",
       "7093     Male   Yes  Pre-diabetes   44               Low   130.0         1.6   \n",
       "11293  Female    No        Normal   62               Low   133.0         0.7   \n",
       "820    Female    No  Pre-diabetes   50               Low   142.0         0.9   \n",
       "...       ...   ...           ...  ...               ...     ...         ...   \n",
       "5191   Female    No        Normal   70               Low   136.0         1.7   \n",
       "13418  Female    No  Pre-diabetes   60               Low   144.0         2.1   \n",
       "5390     Male    No        Normal   51               Low   140.0         0.7   \n",
       "860      Male    No        Normal   63               Low   137.0         0.7   \n",
       "7270   Female    No        Normal   65       Normal-High   138.0         1.5   \n",
       "\n",
       "       Pletelets  Creatinine phosphokinase  Blood Pressure  Hemoglobin  \\\n",
       "9839   194000.00                     231.0             114         9.3   \n",
       "9680   443500.00                     328.0             148        11.7   \n",
       "7093   263358.03                     582.0             168        13.8   \n",
       "11293  283000.00                     655.0              54        11.7   \n",
       "820     75000.00                    1282.5              89        11.4   \n",
       "...          ...                       ...             ...         ...   \n",
       "5191   293000.00                      69.0              85        12.8   \n",
       "13418  365000.00                    1282.5              66        16.3   \n",
       "5390   406000.00                      78.0              45        14.7   \n",
       "860     73000.00                    1282.5              72        10.5   \n",
       "7270   263358.03                     157.0              49        12.6   \n",
       "\n",
       "       Height  Weight        BMI  \n",
       "9839      130      47  27.810651  \n",
       "9680      182     103  31.095278  \n",
       "7093      179      50  15.605006  \n",
       "11293     172      49  16.563007  \n",
       "820       151      62  27.191790  \n",
       "...       ...     ...        ...  \n",
       "5191      165      88  32.323232  \n",
       "13418     151      52  22.806017  \n",
       "5390      147      69  31.931140  \n",
       "860       138      41  21.529091  \n",
       "7270      184     132  38.988658  \n",
       "\n",
       "[12000 rows x 14 columns]"
      ]
     },
     "execution_count": 112,
     "metadata": {},
     "output_type": "execute_result"
    }
   ],
   "source": [
    "X_train"
   ]
  },
  {
   "cell_type": "code",
   "execution_count": 113,
   "id": "8ec955c6-8c3b-482e-a3d9-16c7188b1b50",
   "metadata": {},
   "outputs": [
    {
     "data": {
      "text/plain": [
       "array([0, 1, 0, ..., 0, 0, 1])"
      ]
     },
     "execution_count": 113,
     "metadata": {},
     "output_type": "execute_result"
    }
   ],
   "source": [
    "import joblib\n",
    "model = joblib.load(pickle_path)\n",
    "model.predict(X_train)"
   ]
  },
  {
   "cell_type": "code",
   "execution_count": 114,
   "id": "bc797397-00d7-4e18-b0f9-b219b259f17d",
   "metadata": {},
   "outputs": [],
   "source": [
    "################################################################################################################################################"
   ]
  },
  {
   "cell_type": "code",
   "execution_count": 115,
   "id": "e75ec577-671e-4f91-8d74-fcb195514757",
   "metadata": {},
   "outputs": [],
   "source": [
    "df = df_ori.copy()"
   ]
  },
  {
   "cell_type": "code",
   "execution_count": 116,
   "id": "f34cf8db-83a6-4d7a-90e6-6644d3d52402",
   "metadata": {},
   "outputs": [
    {
     "data": {
      "text/plain": [
       "ID                            0\n",
       "Survive                       0\n",
       "Gender                        0\n",
       "Smoke                         0\n",
       "Diabetes                      0\n",
       "Age                           0\n",
       "Ejection Fraction             0\n",
       "Sodium                        0\n",
       "Creatinine                  499\n",
       "Pletelets                     0\n",
       "Creatinine phosphokinase      0\n",
       "Blood Pressure                0\n",
       "Hemoglobin                    0\n",
       "Height                        0\n",
       "Weight                        0\n",
       "Favorite color                0\n",
       "dtype: int64"
      ]
     },
     "execution_count": 116,
     "metadata": {},
     "output_type": "execute_result"
    }
   ],
   "source": [
    "df.isna().sum()"
   ]
  },
  {
   "cell_type": "code",
   "execution_count": 117,
   "id": "e286fca6-61e6-407b-9000-c641dad0685b",
   "metadata": {},
   "outputs": [],
   "source": [
    "from sklearn.impute import SimpleImputer\n",
    "imputer_median = SimpleImputer(strategy='median')"
   ]
  },
  {
   "cell_type": "code",
   "execution_count": 118,
   "id": "6f9cea42-9907-4384-913d-f5419ebde57e",
   "metadata": {},
   "outputs": [],
   "source": [
    "creatinine_array = np.array(df.Creatinine).reshape(-1,1)"
   ]
  },
  {
   "cell_type": "code",
   "execution_count": 119,
   "id": "2256f2a4-41b2-422b-ab14-eaad630add6e",
   "metadata": {},
   "outputs": [],
   "source": [
    "creatinine_array_processed = imputer_median.fit_transform(np.array(df.Creatinine).reshape(-1,1))"
   ]
  },
  {
   "cell_type": "code",
   "execution_count": 120,
   "id": "b7ba7608-945a-4bdd-b627-b10c74381a16",
   "metadata": {},
   "outputs": [
    {
     "data": {
      "text/plain": [
       "0    0\n",
       "dtype: int64"
      ]
     },
     "execution_count": 120,
     "metadata": {},
     "output_type": "execute_result"
    }
   ],
   "source": [
    "pd.DataFrame(creatinine_array_processed).isna().sum()"
   ]
  },
  {
   "cell_type": "code",
   "execution_count": 121,
   "id": "f22ccd1a-5e4d-4be7-a3ec-b91b7d6b8a78",
   "metadata": {},
   "outputs": [],
   "source": [
    "_list = [\"Male\",\"Yes\",\n",
    "  \"Normal\",\n",
    "  21,\n",
    "  \"Low\",\n",
    "  120,\n",
    "  0.2,\n",
    "  266000,\n",
    "  100,\n",
    "  105,\n",
    "  16.3,\n",
    "  185,\n",
    "  80,\n",
    "  23.374726077428782\n",
    "]"
   ]
  },
  {
   "cell_type": "code",
   "execution_count": 122,
   "id": "0bd12b17-4f2e-4bcf-8fe9-809ee3a16ce1",
   "metadata": {},
   "outputs": [
    {
     "data": {
      "text/plain": [
       "['Male',\n",
       " 'Yes',\n",
       " 'Normal',\n",
       " 21,\n",
       " 'Low',\n",
       " 120,\n",
       " 0.2,\n",
       " 266000,\n",
       " 100,\n",
       " 105,\n",
       " 16.3,\n",
       " 185,\n",
       " 80,\n",
       " 23.374726077428782]"
      ]
     },
     "execution_count": 122,
     "metadata": {},
     "output_type": "execute_result"
    }
   ],
   "source": [
    "_list"
   ]
  },
  {
   "cell_type": "code",
   "execution_count": 123,
   "id": "f6dba187-c210-41a1-9449-d021a78afd89",
   "metadata": {},
   "outputs": [],
   "source": [
    "features = ['Gender','Smoke','Diabetes','Age','Ejection Fraction','Sodium','Creatinine','Pletelets','Creatinine phosphokinase','Blood Pressure','Hemoglobin','Height','Weight','BMI']"
   ]
  },
  {
   "cell_type": "code",
   "execution_count": 124,
   "id": "b46c6252-ea10-4805-91c2-5c4b9711b6d2",
   "metadata": {},
   "outputs": [
    {
     "data": {
      "text/plain": [
       "14"
      ]
     },
     "execution_count": 124,
     "metadata": {},
     "output_type": "execute_result"
    }
   ],
   "source": [
    "len(features)"
   ]
  },
  {
   "cell_type": "code",
   "execution_count": 125,
   "id": "c6011ced-e095-4424-8b67-d5736fc45f4d",
   "metadata": {},
   "outputs": [
    {
     "data": {
      "text/plain": [
       "array([['Male', 'Yes', 'Normal', '21', 'Low', '120', '0.2', '266000',\n",
       "        '100', '105', '16.3', '185', '80', '23.374726077428782']],\n",
       "      dtype='<U32')"
      ]
     },
     "execution_count": 125,
     "metadata": {},
     "output_type": "execute_result"
    }
   ],
   "source": [
    "np.array(_list).reshape(1,-1)"
   ]
  },
  {
   "cell_type": "code",
   "execution_count": 126,
   "id": "5e48a198-fb06-4283-a01a-5d5b56fa45ce",
   "metadata": {},
   "outputs": [],
   "source": [
    "list_transform = np.array(_list).reshape(1,-1)"
   ]
  },
  {
   "cell_type": "code",
   "execution_count": 127,
   "id": "de19ef69-11fe-4ba4-baf9-b53c06081cd1",
   "metadata": {},
   "outputs": [],
   "source": [
    "TOTAL_NUM_FEATURES = ['Age','Sodium','Creatinine','Pletelets','Creatinine phosphokinase','Blood Pressure','Hemoglobin','Height','Weight','BMI']"
   ]
  },
  {
   "cell_type": "code",
   "execution_count": 128,
   "id": "d3d5e505-eb38-4683-b7d3-970a52867957",
   "metadata": {},
   "outputs": [
    {
     "data": {
      "text/plain": [
       "['Gender',\n",
       " 'Smoke',\n",
       " 'Diabetes',\n",
       " 'Ejection Fraction',\n",
       " 'Sodium',\n",
       " 'Creatinine',\n",
       " 'Pletelets',\n",
       " 'Creatinine phosphokinase',\n",
       " 'Blood Pressure',\n",
       " 'Hemoglobin',\n",
       " 'Height',\n",
       " 'Weight',\n",
       " 'BMI']"
      ]
     },
     "execution_count": 128,
     "metadata": {},
     "output_type": "execute_result"
    }
   ],
   "source": [
    "TOTAL_FEATURES"
   ]
  },
  {
   "cell_type": "code",
   "execution_count": 129,
   "id": "10b1bf00-bd6d-4d39-8e6a-938669008e66",
   "metadata": {},
   "outputs": [],
   "source": [
    "feature_dict = {k:v for k,v in zip(range(len(features)),\n",
    "                                  features)}"
   ]
  },
  {
   "cell_type": "code",
   "execution_count": 130,
   "id": "69d33723-ec88-4abf-8bcc-c7680b68aafd",
   "metadata": {},
   "outputs": [
    {
     "data": {
      "text/plain": [
       "13"
      ]
     },
     "execution_count": 130,
     "metadata": {},
     "output_type": "execute_result"
    }
   ],
   "source": [
    "len(TOTAL_FEATURES)"
   ]
  },
  {
   "cell_type": "code",
   "execution_count": 131,
   "id": "98dbe532-4ff6-46a5-bd58-dde7a80008c5",
   "metadata": {},
   "outputs": [
    {
     "data": {
      "text/html": [
       "<div>\n",
       "<style scoped>\n",
       "    .dataframe tbody tr th:only-of-type {\n",
       "        vertical-align: middle;\n",
       "    }\n",
       "\n",
       "    .dataframe tbody tr th {\n",
       "        vertical-align: top;\n",
       "    }\n",
       "\n",
       "    .dataframe thead th {\n",
       "        text-align: right;\n",
       "    }\n",
       "</style>\n",
       "<table border=\"1\" class=\"dataframe\">\n",
       "  <thead>\n",
       "    <tr style=\"text-align: right;\">\n",
       "      <th></th>\n",
       "      <th>Gender</th>\n",
       "      <th>Smoke</th>\n",
       "      <th>Diabetes</th>\n",
       "      <th>Age</th>\n",
       "      <th>Ejection Fraction</th>\n",
       "      <th>Sodium</th>\n",
       "      <th>Creatinine</th>\n",
       "      <th>Pletelets</th>\n",
       "      <th>Creatinine phosphokinase</th>\n",
       "      <th>Blood Pressure</th>\n",
       "      <th>Hemoglobin</th>\n",
       "      <th>Height</th>\n",
       "      <th>Weight</th>\n",
       "      <th>BMI</th>\n",
       "    </tr>\n",
       "  </thead>\n",
       "  <tbody>\n",
       "    <tr>\n",
       "      <th>0</th>\n",
       "      <td>Male</td>\n",
       "      <td>Yes</td>\n",
       "      <td>Normal</td>\n",
       "      <td>21</td>\n",
       "      <td>Low</td>\n",
       "      <td>120</td>\n",
       "      <td>0.2</td>\n",
       "      <td>266000</td>\n",
       "      <td>100</td>\n",
       "      <td>105</td>\n",
       "      <td>16.3</td>\n",
       "      <td>185</td>\n",
       "      <td>80</td>\n",
       "      <td>23.374726077428782</td>\n",
       "    </tr>\n",
       "  </tbody>\n",
       "</table>\n",
       "</div>"
      ],
      "text/plain": [
       "  Gender Smoke Diabetes Age Ejection Fraction Sodium Creatinine Pletelets  \\\n",
       "0   Male   Yes   Normal  21               Low    120        0.2    266000   \n",
       "\n",
       "  Creatinine phosphokinase Blood Pressure Hemoglobin Height Weight  \\\n",
       "0                      100            105       16.3    185     80   \n",
       "\n",
       "                  BMI  \n",
       "0  23.374726077428782  "
      ]
     },
     "execution_count": 131,
     "metadata": {},
     "output_type": "execute_result"
    }
   ],
   "source": [
    "pd.DataFrame(list_transform).rename(columns=feature_dict)"
   ]
  },
  {
   "cell_type": "code",
   "execution_count": 132,
   "id": "80c8787b-c478-4087-bdbc-309d23471686",
   "metadata": {},
   "outputs": [],
   "source": [
    "poly_creatinine = PolynomialFeatures(include_bias=False, interaction_only=True)\n"
   ]
  },
  {
   "cell_type": "code",
   "execution_count": 133,
   "id": "84922a64-a4a6-4b94-a775-217d07867ae4",
   "metadata": {},
   "outputs": [
    {
     "data": {
      "text/plain": [
       "Index(['Age', 'Sodium', 'Creatinine', 'Pletelets', 'Creatinine phosphokinase',\n",
       "       'Blood Pressure', 'Hemoglobin', 'Height', 'Weight', 'BMI', 'Age^2',\n",
       "       'Age Sodium', 'Age Creatinine', 'Age Pletelets',\n",
       "       'Age Creatinine phosphokinase', 'Age Blood Pressure', 'Age Hemoglobin',\n",
       "       'Age Height', 'Age Weight', 'Age BMI', 'Sodium^2', 'Sodium Creatinine',\n",
       "       'Sodium Pletelets', 'Sodium Creatinine phosphokinase',\n",
       "       'Sodium Blood Pressure', 'Sodium Hemoglobin', 'Sodium Height',\n",
       "       'Sodium Weight', 'Sodium BMI', 'Creatinine^2', 'Creatinine Pletelets',\n",
       "       'Creatinine Creatinine phosphokinase', 'Creatinine Blood Pressure',\n",
       "       'Creatinine Hemoglobin', 'Creatinine Height', 'Creatinine Weight',\n",
       "       'Creatinine BMI', 'Pletelets^2', 'Pletelets Creatinine phosphokinase',\n",
       "       'Pletelets Blood Pressure', 'Pletelets Hemoglobin', 'Pletelets Height',\n",
       "       'Pletelets Weight', 'Pletelets BMI', 'Creatinine phosphokinase^2',\n",
       "       'Creatinine phosphokinase Blood Pressure',\n",
       "       'Creatinine phosphokinase Hemoglobin',\n",
       "       'Creatinine phosphokinase Height', 'Creatinine phosphokinase Weight',\n",
       "       'Creatinine phosphokinase BMI', 'Blood Pressure^2',\n",
       "       'Blood Pressure Hemoglobin', 'Blood Pressure Height',\n",
       "       'Blood Pressure Weight', 'Blood Pressure BMI', 'Hemoglobin^2',\n",
       "       'Hemoglobin Height', 'Hemoglobin Weight', 'Hemoglobin BMI', 'Height^2',\n",
       "       'Height Weight', 'Height BMI', 'Weight^2', 'Weight BMI', 'BMI^2',\n",
       "       'Gender', 'Smoke', 'Diabetes', 'Ejection Fraction', 'Survive'],\n",
       "      dtype='object')"
      ]
     },
     "execution_count": 133,
     "metadata": {},
     "output_type": "execute_result"
    }
   ],
   "source": [
    "df_transformed.columns"
   ]
  },
  {
   "cell_type": "code",
   "execution_count": 134,
   "id": "1223d41f-e912-4fcc-90ee-a0dd5be50b63",
   "metadata": {},
   "outputs": [],
   "source": [
    "without_creatinine = [col for col in df_transformed.columns.to_list() if 'Creatinine' not in col]"
   ]
  },
  {
   "cell_type": "code",
   "execution_count": 135,
   "id": "91ddeece-896a-41c8-91e3-6c3445e0ca09",
   "metadata": {},
   "outputs": [],
   "source": [
    "without_creatinine = [col for col in without_creatinine if col not in num_cols.columns.to_list() and col not in cat_cols.columns.to_list() and 'Survive' not in col]"
   ]
  },
  {
   "cell_type": "code",
   "execution_count": 136,
   "id": "47c1d87e-c59a-41c3-92f6-4de31d2a8c4b",
   "metadata": {},
   "outputs": [],
   "source": [
    "df_final = df_transformed.drop(columns=(without_creatinine))"
   ]
  },
  {
   "cell_type": "code",
   "execution_count": 137,
   "id": "84fe0e99-5e94-4b15-b8c4-4a6fbafae183",
   "metadata": {},
   "outputs": [
    {
     "data": {
      "text/plain": [
       "['Age',\n",
       " 'Sodium',\n",
       " 'Creatinine',\n",
       " 'Pletelets',\n",
       " 'Creatinine phosphokinase',\n",
       " 'Blood Pressure',\n",
       " 'Hemoglobin',\n",
       " 'Height',\n",
       " 'Weight',\n",
       " 'BMI',\n",
       " 'Age Creatinine',\n",
       " 'Age Creatinine phosphokinase',\n",
       " 'Sodium Creatinine',\n",
       " 'Sodium Creatinine phosphokinase',\n",
       " 'Creatinine^2',\n",
       " 'Creatinine Pletelets',\n",
       " 'Creatinine Creatinine phosphokinase',\n",
       " 'Creatinine Blood Pressure',\n",
       " 'Creatinine Hemoglobin',\n",
       " 'Creatinine Height',\n",
       " 'Creatinine Weight',\n",
       " 'Creatinine BMI',\n",
       " 'Pletelets Creatinine phosphokinase',\n",
       " 'Creatinine phosphokinase^2',\n",
       " 'Creatinine phosphokinase Blood Pressure',\n",
       " 'Creatinine phosphokinase Hemoglobin',\n",
       " 'Creatinine phosphokinase Height',\n",
       " 'Creatinine phosphokinase Weight',\n",
       " 'Creatinine phosphokinase BMI',\n",
       " 'Gender',\n",
       " 'Smoke',\n",
       " 'Diabetes',\n",
       " 'Ejection Fraction',\n",
       " 'Survive']"
      ]
     },
     "execution_count": 137,
     "metadata": {},
     "output_type": "execute_result"
    }
   ],
   "source": [
    "df_final.columns.to_list()"
   ]
  },
  {
   "cell_type": "code",
   "execution_count": 138,
   "id": "bbc8341c-74dd-4b6b-8fb9-ac485fa4fbab",
   "metadata": {},
   "outputs": [],
   "source": [
    "df_final = df_final.drop(columns=['Age Creatinine phosphokinase','Sodium Creatinine phosphokinase','Pletelets Creatinine phosphokinase','Creatinine phosphokinase^2',\n",
    "               'Creatinine phosphokinase Blood Pressure','Creatinine phosphokinase Hemoglobin','Creatinine phosphokinase Height','Creatinine phosphokinase Weight',\n",
    "              'Creatinine phosphokinase BMI'])"
   ]
  },
  {
   "cell_type": "code",
   "execution_count": 139,
   "id": "caceaa5e-48d3-43b4-a77b-39c904bf4685",
   "metadata": {},
   "outputs": [
    {
     "data": {
      "text/plain": [
       "array([[<AxesSubplot:title={'center':'Age'}>,\n",
       "        <AxesSubplot:title={'center':'Sodium'}>,\n",
       "        <AxesSubplot:title={'center':'Creatinine'}>,\n",
       "        <AxesSubplot:title={'center':'Pletelets'}>,\n",
       "        <AxesSubplot:title={'center':'Creatinine phosphokinase'}>],\n",
       "       [<AxesSubplot:title={'center':'Blood Pressure'}>,\n",
       "        <AxesSubplot:title={'center':'Hemoglobin'}>,\n",
       "        <AxesSubplot:title={'center':'Height'}>,\n",
       "        <AxesSubplot:title={'center':'Weight'}>,\n",
       "        <AxesSubplot:title={'center':'BMI'}>],\n",
       "       [<AxesSubplot:title={'center':'Age Creatinine'}>,\n",
       "        <AxesSubplot:title={'center':'Sodium Creatinine'}>,\n",
       "        <AxesSubplot:title={'center':'Creatinine^2'}>,\n",
       "        <AxesSubplot:title={'center':'Creatinine Pletelets'}>,\n",
       "        <AxesSubplot:title={'center':'Creatinine Creatinine phosphokinase'}>],\n",
       "       [<AxesSubplot:title={'center':'Creatinine Blood Pressure'}>,\n",
       "        <AxesSubplot:title={'center':'Creatinine Hemoglobin'}>,\n",
       "        <AxesSubplot:title={'center':'Creatinine Height'}>,\n",
       "        <AxesSubplot:title={'center':'Creatinine Weight'}>,\n",
       "        <AxesSubplot:title={'center':'Creatinine BMI'}>],\n",
       "       [<AxesSubplot:title={'center':'Survive'}>, <AxesSubplot:>,\n",
       "        <AxesSubplot:>, <AxesSubplot:>, <AxesSubplot:>]], dtype=object)"
      ]
     },
     "execution_count": 139,
     "metadata": {},
     "output_type": "execute_result"
    },
    {
     "data": {
      "image/png": "[encoded data removed]",
      "text/plain": [
       "<Figure size 1440x1440 with 25 Axes>"
      ]
     },
     "metadata": {
      "needs_background": "light"
     },
     "output_type": "display_data"
    }
   ],
   "source": [
    "df_final.hist(figsize=(20,20))"
   ]
  },
  {
   "cell_type": "code",
   "execution_count": 140,
   "id": "9536f605-9d18-4b46-b92d-983820041ebb",
   "metadata": {},
   "outputs": [],
   "source": [
    "class ConvertToConsistentCat(BaseEstimator, TransformerMixin):\n",
    "    def __init__(self, items=None):\n",
    "        if items is None: items = []\n",
    "        self.l = items\n",
    "    def fit(self, X , y=None):\n",
    "        # does not fit\n",
    "        return self\n",
    "    def transform(self, X):\n",
    "        #X = X.copy()\n",
    "        temp_cols = X.columns.to_list()\n",
    "        temp_cols.append('healthy')\n",
    "        new_cols = {k:v for k,v in zip(range(len(temp_cols)),temp_cols)}\n",
    "        healthy = X.apply(lambda row: determine_healthy(row), axis=1)\n",
    "        combined_df = pd.DataFrame(np.c_[X, healthy]).rename(columns=new_cols)\n",
    "        return combined_df"
   ]
  },
  {
   "cell_type": "code",
   "execution_count": 141,
   "id": "929519c2-966e-4a67-8fa0-b9402b007f56",
   "metadata": {},
   "outputs": [],
   "source": [
    "def bound_outliers(df, col, boxplot= True):\n",
    "    \"\"\"\n",
    "    Censors outliers to within the boxplot inner fences and plots\n",
    "    the boxplot afterwards if set to true\n",
    "\n",
    "    args:\n",
    "    df : dataframe\n",
    "    col: the col of the dataframe\n",
    "    \n",
    "    returns:\n",
    "    none\n",
    "    \"\"\"\n",
    "    df_col_max = return_min_max_boxplot(df, col, 'max')\n",
    "    df_col_min = return_min_max_boxplot(df, col, 'min')\n",
    "    df[col] = np.where(df[col]>=df_col_max, df_col_max,df[col])\n",
    "    df[col] = np.where(df[col]<=df_col_min, df_col_min,df[col])\n",
    "    if boxplot:\n",
    "        sns.boxplot(df[col])"
   ]
  },
  {
   "cell_type": "code",
   "execution_count": 142,
   "id": "8e31ee1e-b079-4e1a-a8b6-bfaccad41422",
   "metadata": {},
   "outputs": [],
   "source": [
    "class BoundOutliers(BaseEstimator, TransformerMixin):\n",
    "    def __init__(self, items=None):\n",
    "        if items is None: items = []\n",
    "        self.l = items\n",
    "    def fit(self, X , y=None):\n",
    "        # does not fit\n",
    "        return self\n",
    "    def transform(self, X):\n",
    "        #X = X.copy()\n",
    "        temp_cols = X.columns.to_list()\n",
    "        temp_cols.append('healthy')\n",
    "        new_cols = {k:v for k,v in zip(range(len(temp_cols)),temp_cols)}\n",
    "        healthy = X.apply(lambda row: determine_healthy(row), axis=1)\n",
    "        combined_df = pd.DataFrame(np.c_[X, healthy]).rename(columns=new_cols)\n",
    "        return combined_df"
   ]
  },
  {
   "cell_type": "code",
   "execution_count": 143,
   "id": "dacb1c37-4b60-4c52-aa25-b306fd543f94",
   "metadata": {},
   "outputs": [],
   "source": [
    "class FlipNegativeSign(BaseEstimator, TransformerMixin):\n",
    "    def __init__(self, items=None):\n",
    "        if items is None: items = []\n",
    "        self.l = items\n",
    "    def fit(self, X , y=None):\n",
    "        return self\n",
    "    def transform(self, X):\n",
    "        #X = X.copy()\n",
    "        temp_cols = X.columns.to_list()\n",
    "        temp_cols.append('healthy')\n",
    "        new_cols = {k:v for k,v in zip(range(len(temp_cols)),temp_cols)}\n",
    "        healthy = X.apply(lambda row: determine_healthy(row), axis=1)\n",
    "        combined_df = pd.DataFrame(np.c_[X, healthy]).rename(columns=new_cols)\n",
    "        return combined_df"
   ]
  },
  {
   "cell_type": "code",
   "execution_count": 144,
   "id": "dcab6e21-a090-43d0-a940-0a7a2d93ced7",
   "metadata": {},
   "outputs": [],
   "source": [
    "# df.Survive = df.Survive.str.replace('No','0')\n",
    "# df.Survive = df.Survive.str.replace('Yes','1')\n",
    "# df.Survive = df.Survive.astype('int')\n",
    "\n",
    "# df.Smoke = df.Smoke.replace('NO','No')\n",
    "# df.Smoke = df.Smoke.replace('YES','Yes')\n",
    "\n",
    "# df.Age = np.where(df.Age<0,-df.Age, df.Age)\n",
    "\n",
    "# df['Ejection Fraction'] = df['Ejection Fraction'].replace('L','Low').replace('N','Normal')\n",
    "# df['Ejection Fraction'] = df['Ejection Fraction'].replace('High','Normal').replace('Normal','Normal-High')\n",
    "\n",
    "# Sodium, Creatinine, Pletelets, CK,Blood Pressure, Hemoglobin, Height , Weight,\n",
    "\n",
    "# New Col: BMI"
   ]
  }
 ],
 "metadata": {
  "kernelspec": {
   "display_name": "Python 3 (ipykernel)",
   "language": "python",
   "name": "python3"
  },
  "language_info": {
   "codemirror_mode": {
    "name": "ipython",
    "version": 3
   },
   "file_extension": ".py",
   "mimetype": "text/x-python",
   "name": "python",
   "nbconvert_exporter": "python",
   "pygments_lexer": "ipython3",
   "version": "3.10.0"
  }
 },
 "nbformat": 4,
 "nbformat_minor": 5
}
